{
 "cells": [
  {
   "cell_type": "markdown",
   "id": "344ed916-bc00-4348-9a1c-1c91cec306c4",
   "metadata": {},
   "source": [
    "# Intro REST-Apis und Networking\n",
    "\n",
    "## Networking\n",
    "Kommunikation zwischen Computern (Clients) und anderen Geräten (Server) über ein Netzwerk.\n",
    "- Surfen im Internet\n",
    "- E-Mail Verkehr\n",
    "- Streamen von Videos\n",
    "\n",
    "## REST (Representational State Transfer)\n",
    "- Architekturstil für Netzwerksysteme, welches HTTP (Hyperter Transfer Protocoll) nutzt.\n",
    "- wird hauptsächlich im Bereich Webdevelopment benützt\n",
    "- beschreibt die Prinzipien und die Funktionsweise dieser Architektur\n",
    "\n",
    "### 'RE' in REST\n",
    "- Ressourcen (mainly Daten) werden in einer bestimmten Form dargestellt (JSON, XML, HTML)\n",
    "- Beispiel eines JSON Dokuments\n",
    "```json\n",
    "{\n",
    "    \"name\": \"Alice\",\n",
    "    \"age\": 30,\n",
    "    \"email\": \"alice@example.com\"\n",
    "}\n",
    "```\n",
    "\n",
    "### 'S' in REST\n",
    "- steht für 'State' oder 'Stateless'\n",
    "- Bei der Kommunikation zwischen Client und dem Server wird der Server keine Informationen über den Zustand des Clients speichern\n",
    "- Eine Anfrage des Clients muss daher immer alle Informationen enthalten , welcher der Server zur Bearbeitung der Anfrage benötigt\n",
    "\n",
    "### 'T' in REST\n",
    "- Transfer\n",
    "- Bezieht sich auf die Art wie die Daten zwischen Client und Server übertragen werden\n",
    "- Typischerweise geschieht dies über das HTTP-Protokoll\n",
    "\n",
    "## Grundsätze der REST-Architektur\n",
    "1. Ressourcenbasierte Architektur:\n",
    "   - Daten werden als Ressourcen betrachtet und sind durch eindeutige URLs identifizierbar\n",
    "   - `https://example.com/api/users` -> repräsentiert alle User\n",
    "   - `https://example.com/api/users/1`-> respräsentiert einen User, welcher die ID 1 hat\n",
    "2. Zustandslosigkeit (Stateless):\n",
    "   - Server speichert keinen Zustand zwischen den Anfragen\n",
    "   - daher muss jede Anfrage alle nötigen Informationen enthalten\n",
    "3. Einheitliche Schnittstelle (Uniform Interface):\n",
    "   - einheitliches Kommunikationssystem um auf die Ressourcen zuzugreifen\n",
    "   - verwendet hauptsächlich standardisierte HTTP-Methoden wie 'GET', 'POST', 'PUT', 'DELETE'\n",
    "4. Cachefähigkeit (Cacheable):\n",
    "   - Antworten werden zwischengespeichert um die Serverlast zu reduzieren\n",
    "5. Client-Server-Architektur:\n",
    "   - Es gibt einen Client (z.B. der Internet-Browser), welcher für die Benutzeroberfläche zuständig ist, bzw. die Ressourcen konsumiert\n",
    "   - Es gibt einen Server, welcher die Ressourcen zur Verfügung stellt\n",
    "6. Layered System:\n",
    "   - Die Architektur kann in mehrere Schichten (Layers) unterteilt werden, welche unabhänig voneinander entfernt oder hinzugefügt werden\n",
    "     "
   ]
  },
  {
   "cell_type": "markdown",
   "id": "e1351f75-df70-43ae-b9a4-20d9d250d930",
   "metadata": {},
   "source": [
    "## Socket\n",
    "- Endpunkt (Endpoint) für die Kommunikation zwischen zwei Geräten in einem Netzwerk (Client-Server-Model)\n",
    "- Ermöglicht das Senden und Empfangen von Daten über ein Netzwerk\n",
    "\n",
    "## Domains\n",
    "- benutzerfreundlicher Name, der auf eine IP-Adresse verweist\n",
    "- Beispiel: google.com oder pythoninstitute.org\n",
    "\n",
    "## IP-Adressen\n",
    "- eine eindeutige Kennung eines Gerätes in einem Netzwerk\n",
    "- IPv4: Besteht aus vier durch Punkte getrennte Zahlen, z.B.: `192.168.0.1`, `127.0.0.1`\n",
    "- IPv6: Besteht aus acht durch Doppelpunkte getrennte Hexadezimalzahlen, z.B.: `2001:0db8:85a3:0000:0000:8a2e:0370:7334`\n",
    "| Merkmal                  | IPv4                            | IPv6                                      |\n",
    "|--------------------------|----------------------------------|------------------------------------------|\n",
    "| **Adresslänge**          | 32 Bit                         | 128 Bit                                  |\n",
    "| **Adressformat**         | Dezimal (z. B. 192.0.2.1)      | Hexadezimal (z. B. 2001:0db8::1)         |\n",
    "| **Adressanzahl**         | ~4,3 Milliarden                | ~340 Sextillionen                        |\n",
    "| **NAT erforderlich?**    | Ja                             | Nein                                     |\n",
    "| **Sicherheitsfunktionen**| Optional (z. B. IPSec)         | Eingebaut (z. B. IPSec)                  |\n",
    "| **Automatische Konfiguration** | Unterstützt (z. B. DHCP)    | Unterstützt (z. B. Stateless Autoconfiguration) |\n",
    "| **Routingeffizienz**     | Weniger effizient              | Effizient durch vereinfachte Header      |\n",
    "\n",
    "## Ports\n",
    "- ist eine Nummer, die einen bestimmten Dienst auf einem Gerät (Server) identifiziert\n",
    "- Port 80 für HTTP und Port 443 für HTTPS Anfragen; E-Mail empfangen und versenden haben auch jeweils verschieden Port Nummern\n",
    "\n",
    "## Protokolle\n",
    "- eine Reihe von Regeln für die Kommunikation zischen Geräten\n",
    "\n",
    "1. TCP (Transmission Control Protocol): Verbindungsorientiert:\n",
    "   - Stellt sicher, dass Daten korrekt und in der richtigen Reihenfolge übertragen werden.\n",
    "   - Anwendungsbeispiel: Videokonferenzen oder Dateiübertragungen, bei denen keine Daten verloren gehen dürfen.\n",
    "2. UDP (User Datagram Protocol): Verbindungslos:\n",
    "   - Daten werden ohne Garantie der Zustellung oder Reihenfolge gesendet.\n",
    "   - Anwendungsbeispiel: Online-Spiele oder Live-Streaming, bei denen Geschwindigkeit wichtiger ist als Zuverlässigkeit."
   ]
  },
  {
   "cell_type": "markdown",
   "id": "c7001171-8920-4c4b-b91b-1a4954b7ff16",
   "metadata": {},
   "source": [
    "## Sockets in Python\n",
    "\n",
    "Netzwerksockets bieten eine Low-Level-Kontrolle über die Netzwerkkommunikation. Im Gegensatz zum requests-Modul oder Frameworks wie Django und Flask, die abstrahierte Schnittstellen bereitstellen, arbeiten wir bei Sockets direkt mit Verbindungen, Datenpaketen und Protokollen."
   ]
  },
  {
   "cell_type": "code",
   "execution_count": 1,
   "id": "c0cfacc1-c955-41ab-8a88-057e8c1e5252",
   "metadata": {},
   "outputs": [],
   "source": [
    "# socket modul importieren\n",
    "import socket"
   ]
  },
  {
   "cell_type": "code",
   "execution_count": 3,
   "id": "57f8b420-623e-4dd3-b421-e986aeecfa71",
   "metadata": {},
   "outputs": [],
   "source": [
    "# Erstellen eines IPv4 Stream-Socket\n",
    "s = socket.socket(socket.AF_INET, socket.SOCK_STREAM)"
   ]
  },
  {
   "cell_type": "markdown",
   "id": "12e883a0-345c-4c82-ac3b-0c5f1a217b22",
   "metadata": {},
   "source": [
    "- `socket.AF_INET`: Steht für \"Address Family Internet\" und gibt an, dass wir IPv4 verwenden (IPv6 wäre AF_INET6)\n",
    "- `socket.SOCK_STREAM`: Gibt an, dass es sich um einen TCP-Stream-Socket handelt."
   ]
  },
  {
   "cell_type": "code",
   "execution_count": 4,
   "id": "8e2dc5ea-3526-4b1a-868f-0262f34bc8b9",
   "metadata": {},
   "outputs": [
    {
     "name": "stdout",
     "output_type": "stream",
     "text": [
      "Verbindung wurde hergestellt\n"
     ]
    }
   ],
   "source": [
    "# Verbindung zu Server herstellen\n",
    "s.connect((\"example.com\", 80))\n",
    "print('Verbindung wurde hergestellt')"
   ]
  },
  {
   "cell_type": "markdown",
   "id": "2c540db6-1527-463b-bac9-9f05cdb4cab7",
   "metadata": {},
   "source": [
    "- `connect((host, port))`: Verbindet unseren Socket mit der angegebenen Adresse (host) und dem Port (80 für HTTP)"
   ]
  },
  {
   "cell_type": "code",
   "execution_count": 7,
   "id": "b38492d4-163d-45b9-816c-350bf1023222",
   "metadata": {},
   "outputs": [],
   "source": [
    "# Anfrage erstellen\n",
    "request = \"GET / HTTP/1.1\\r\\nHost: example.com\\r\\n\\r\\n\""
   ]
  },
  {
   "cell_type": "markdown",
   "id": "c59d8e6b-6023-4e9d-9f4c-9291a9b2d98d",
   "metadata": {},
   "source": [
    "- Die Zeichenfolge stellt eine einfache HTTP-GET-Anfrage dar.\n",
    "- \\r\\n: \"Carriage Return\" (\\r) und \"Line Feed\" (\\n) markieren das Ende einer Zeile im HTTP-Header."
   ]
  },
  {
   "cell_type": "code",
   "execution_count": 8,
   "id": "38f5571e-0f19-4bb7-b553-103c9f2bb297",
   "metadata": {},
   "outputs": [
    {
     "data": {
      "text/plain": [
       "37"
      ]
     },
     "execution_count": 8,
     "metadata": {},
     "output_type": "execute_result"
    }
   ],
   "source": [
    "# Anfrage senden\n",
    "s.send(request.encode())"
   ]
  },
  {
   "cell_type": "markdown",
   "id": "2281ecc8-d10e-430d-a506-6cfc187f5199",
   "metadata": {},
   "source": [
    "- send(data): Sendet die Anfrage an den Server. Data muss als bits versendet werden, ergo `encode()` Methode"
   ]
  },
  {
   "cell_type": "code",
   "execution_count": 11,
   "id": "d10489c1-4c0d-46b5-97a7-f01aac7d1eb7",
   "metadata": {},
   "outputs": [
    {
     "name": "stdout",
     "output_type": "stream",
     "text": [
      "HTTP/1.0 408 Request Time-out\n",
      "Server: AkamaiGHost\n",
      "Mime-Version: 1.0\n",
      "Date: Wed, 22 Jan 2025 09:18:29 GMT\n",
      "Content-Type: text/html\n",
      "Content-Length: 314\n",
      "Expires: Wed, 22 Jan 2025 09:18:29 GMT\n",
      "\n",
      "<HTML><HEAD>\n",
      "<TITLE>Request Timeout</TITLE>\n",
      "</HEAD><BODY>\n",
      "<H1>Request Timeout</H1>\n",
      "The server timed out while waiting for the browser's request.<P>\n",
      "Reference&#32;&#35;2&#46;c6380760&#46;1737537509&#46;0\n",
      "<P>https&#58;&#47;&#47;errors&#46;edgesuite&#46;net&#47;2&#46;c6380760&#46;1737537509&#46;0</P>\n",
      "</BODY></HTML>\n",
      "\n"
     ]
    }
   ],
   "source": [
    "# Antwort des Servers empfangen\n",
    "response = s.recv(2048)\n",
    "print(response.decode())"
   ]
  },
  {
   "cell_type": "code",
   "execution_count": 12,
   "id": "b9d7876f-f1b5-422b-88fa-c3c32a9f8d10",
   "metadata": {},
   "outputs": [],
   "source": [
    "# Verbindung zum Server wieder schließen\n",
    "s.close()"
   ]
  },
  {
   "cell_type": "markdown",
   "id": "9bb4c71f-aafb-476d-a725-d1a0d2cc0a53",
   "metadata": {},
   "source": [
    "- Verbindungen belegen Ressourcen, sowohl auf dem Server wie auch auf dem Client. Mit close() werden diese wieder freigegeben"
   ]
  },
  {
   "cell_type": "code",
   "execution_count": 13,
   "id": "7632f1d5-b394-4ba2-a1c0-03c83bd63ef9",
   "metadata": {},
   "outputs": [
    {
     "name": "stdout",
     "output_type": "stream",
     "text": [
      "Verbindung hergestellt!\n",
      "HTTP/1.1 200 OK\n",
      "Content-Type: text/html\n",
      "ETag: \"84238dfc8092e5d9c0dac8ef93371a07:1736799080.121134\"\n",
      "Last-Modified: Mon, 13 Jan 2025 20:11:20 GMT\n",
      "Cache-Control: max-age=2627\n",
      "Date: Wed, 22 Jan 2025 09:43:56 GMT\n",
      "Content-Length: 1256\n",
      "Connection: keep-alive\n",
      "\n",
      "<!doctype html>\n",
      "<html>\n",
      "<head>\n",
      "    <title>Example Domain</title>\n",
      "\n",
      "    <meta charset=\"utf-8\" />\n",
      "    <meta http-equiv=\"Content-type\" content=\"text/html; charset=utf-8\" />\n",
      "    <meta name=\"viewport\" content=\"width=device-width, initial-scale=1\" />\n",
      "    <style type=\"text/css\">\n",
      "    body {\n",
      "        background-color: #f0f0f2;\n",
      "        margin: 0;\n",
      "        padding: 0;\n",
      "        font-family: -apple-system, system-ui, BlinkMacSystemFont, \"Segoe UI\", \"Open Sans\", \"Helvetica Neue\", Helvetica, Arial, sans-serif;\n",
      "        \n",
      "    }\n",
      "    div {\n",
      "        width: 600px;\n",
      "        margin: 5em auto;\n",
      "        padding: 2em;\n",
      "        background-color: #fdfdff;\n",
      "        border-radius: 0.5em;\n",
      "        box-shadow: 2px 3px 7px 2px rgba(0,0,0,0.02);\n",
      "    }\n",
      "    a:link, a:visited {\n",
      "        color: #38488f;\n",
      "        text-decoration: none;\n",
      "    }\n",
      "    @media (max-width: 700px) {\n",
      "        div {\n",
      "            margin: 0 auto;\n",
      "            width: auto;\n",
      "        }\n",
      "    }\n",
      "    </style>    \n",
      "</head>\n",
      "\n",
      "<body>\n",
      "<div>\n",
      "    <h1>Example Domain</h1>\n",
      "    <p>This domain is for use in illustrative examples in documents. You may use this\n",
      "    domain in literature without prior coordination or asking for permission.</p>\n",
      "    <p><a href=\"https://www.iana.org/domains/example\">More information...</a></p>\n",
      "</div>\n",
      "</body>\n",
      "</html>\n",
      "\n"
     ]
    }
   ],
   "source": [
    "## Kompletter Code zur Vervollständigung\n",
    "\n",
    "import socket\n",
    "\n",
    "# Socket erstellen\n",
    "s = socket.socket(socket.AF_INET, socket.SOCK_STREAM)\n",
    "\n",
    "# Verbindung herstellen\n",
    "s.connect((\"example.com\", 80))\n",
    "print(\"Verbindung hergestellt!\")\n",
    "\n",
    "# Anfrage senden\n",
    "request = \"GET / HTTP/1.1\\r\\nHost: example.com\\r\\n\\r\\n\"\n",
    "s.send(request.encode())\n",
    "\n",
    "# Antwort empfangen\n",
    "response = s.recv(2048)\n",
    "print(response.decode())\n",
    "\n",
    "# Verbindung schließen\n",
    "s.close()"
   ]
  },
  {
   "cell_type": "code",
   "execution_count": 15,
   "id": "6d8a0881-8c34-407c-afd4-0df330ce34de",
   "metadata": {},
   "outputs": [
    {
     "name": "stdout",
     "output_type": "stream",
     "text": [
      "HTTP/1.1 200 OK\n",
      "Date: Wed, 22 Jan 2025 10:00:19 GMT\n",
      "Content-Type: application/json; charset=utf-8\n",
      "Transfer-Encoding: chunked\n",
      "Connection: keep-alive\n",
      "Report-To: {\"group\":\"heroku-nel\",\"max_age\":3600,\"endpoints\":[{\"url\":\"https://nel.heroku.com/reports?ts=1735778409&sid=e11707d5-02a7-43ef-b45e-2cf4d2036f7d&s=zvTlCuvKPtrHZYEwyL%2BljTQUZNfbT7UvArDjmaOL7B0%3D\"}]}\n",
      "Reporting-Endpoints: heroku-nel=https://nel.heroku.com/reports?ts=1735778409&sid=e11707d5-02a7-43ef-b45e-2cf4d2036f7d&s=zvTlCuvKPtrHZYEwyL%2BljTQUZNfbT7UvArDjmaOL7B0%3D\n",
      "Nel: {\"report_to\":\"heroku-nel\",\"max_age\":3600,\"success_fraction\":0.005,\"failure_fraction\":0.05,\"response_headers\":[\"Via\"]}\n",
      "X-Powered-By: Express\n",
      "X-Ratelimit-Limit: 1000\n",
      "X-Ratelimit-Remaining: 999\n",
      "X-Ratelimit-Reset: 1735778441\n",
      "Vary: Origin, Accept-Encoding\n",
      "Access-Control-Allow-Credentials: true\n",
      "Cache-Control: max-age=43200\n",
      "Pragma: no-cache\n",
      "Expires: -1\n",
      "X-Content-Type-Options: nosniff\n",
      "Etag: W/\"160d-1eMSsxeJRfnVLRBmYJSbCiJZ1qQ\"\n",
      "Via: 1.1 vegur\n",
      "CF-Cache-Status: HIT\n",
      "Age: 17219\n",
      "Server: cloudflare\n",
      "CF-RAY: 905eb241dc672c7d-FRA\n",
      "alt-svc: h3=\":443\"; ma=86400\n",
      "server-timing: cfL4;desc=\"?proto=TCP&rtt=27765&min_rtt=27765&rtt_var=13882&sent=1&recv=3&lost=0&retrans=0&sent_bytes=0&recv_bytes=59&delivery_rate=0&cwnd=249&unsent_bytes=0&cid=0000000000000000&ts=0&x=0\"\n",
      "\n",
      "160d\n",
      "[\n",
      "  {\n",
      "    \"id\": 1,\n",
      "    \"name\": \"Leanne Graham\",\n",
      "    \"username\": \"Bret\",\n",
      "    \"email\"\n"
     ]
    }
   ],
   "source": [
    "# Beispiel: Abruf von JSON Daten\n",
    "\n",
    "import socket\n",
    "\n",
    "host = \"jsonplaceholder.typicode.com\"\n",
    "\n",
    "s = socket.socket(socket.AF_INET, socket.SOCK_STREAM)\n",
    "\n",
    "s.connect((host, 80))\n",
    "\n",
    "request = \"GET /users HTTP/1.1\\r\\n\"\n",
    "request += f\"Host: {host}\\r\\n\"\n",
    "request += \"\\r\\n\"\n",
    "\n",
    "s.send(request.encode())\n",
    "\n",
    "response = s.recv(1024*100)\n",
    "print(response.decode())\n",
    "\n",
    "s.close()"
   ]
  },
  {
   "cell_type": "code",
   "execution_count": 16,
   "id": "0b69f34e-8994-4f87-896d-0a2218ded294",
   "metadata": {},
   "outputs": [
    {
     "name": "stdout",
     "output_type": "stream",
     "text": [
      "HTTP/1.1 200 OK\n",
      "Date: Wed, 22 Jan 2025 10:01:58 GMT\n",
      "Content-Type: application/json; charset=utf-8\n",
      "Content-Length: 525\n",
      "Connection: keep-alive\n",
      "Report-To: {\"group\":\"heroku-nel\",\"max_age\":3600,\"endpoints\":[{\"url\":\"https://nel.heroku.com/reports?ts=1737540118&sid=e11707d5-02a7-43ef-b45e-2cf4d2036f7d&s=PXjmC3LY2NdXEO8W0foieqFXBGDpem%2F7MOsJViNFJ0I%3D\"}]}\n",
      "Reporting-Endpoints: heroku-nel=https://nel.heroku.com/reports?ts=1737540118&sid=e11707d5-02a7-43ef-b45e-2cf4d2036f7d&s=PXjmC3LY2NdXEO8W0foieqFXBGDpem%2F7MOsJViNFJ0I%3D\n",
      "Nel: {\"report_to\":\"heroku-nel\",\"max_age\":3600,\"success_fraction\":0.005,\"failure_fraction\":0.05,\"response_headers\":[\"Via\"]}\n",
      "X-Powered-By: Express\n",
      "X-Ratelimit-Limit: 1000\n",
      "X-Ratelimit-Remaining: 999\n",
      "X-Ratelimit-Reset: 1737540139\n",
      "Vary: Origin, Accept-Encoding\n",
      "Access-Control-Allow-Credentials: true\n",
      "Cache-Control: max-age=43200\n",
      "Pragma: no-cache\n",
      "Expires: -1\n",
      "X-Content-Type-Options: nosniff\n",
      "Etag: W/\"20d-8RgvpSlsXJuYWj1NkFA2Hm1U5TI\"\n",
      "Via: 1.1 vegur\n",
      "CF-Cache-Status: MISS\n",
      "Accept-Ranges: bytes\n",
      "Server: cloudflare\n",
      "CF-RAY: 905eb4ada850bb38-FRA\n",
      "alt-svc: h3=\":443\"; ma=86400\n",
      "server-timing: cfL4;desc=\"?proto=TCP&rtt=27051&min_rtt=27051&rtt_var=13525&sent=1&recv=3&lost=0&retrans=0&sent_bytes=0&recv_bytes=61&delivery_rate=0&cwnd=231&unsent_bytes=0&cid=0000000000000000&ts=0&x=0\"\n",
      "\n",
      "{\n",
      "  \"id\": 4,\n",
      "  \"name\": \"Patricia Lebsack\",\n",
      "  \"username\": \"Karianne\",\n",
      "  \"email\": \"Julia\n"
     ]
    }
   ],
   "source": [
    "# Beispiel: Abruf von JSON Daten\n",
    "\n",
    "import socket\n",
    "\n",
    "host = \"jsonplaceholder.typicode.com\"\n",
    "\n",
    "s = socket.socket(socket.AF_INET, socket.SOCK_STREAM)\n",
    "\n",
    "s.connect((host, 80))\n",
    "\n",
    "request = \"GET /users/4 HTTP/1.1\\r\\n\"\n",
    "request += f\"Host: {host}\\r\\n\"\n",
    "request += \"\\r\\n\"\n",
    "\n",
    "s.send(request.encode())\n",
    "\n",
    "response = s.recv(1024*100)\n",
    "print(response.decode())\n",
    "\n",
    "s.close()"
   ]
  },
  {
   "cell_type": "markdown",
   "id": "e7f66be9-fc66-493e-86c4-54827beb7770",
   "metadata": {},
   "source": [
    "### POST Anfrage an den Server stellen"
   ]
  },
  {
   "cell_type": "code",
   "execution_count": 22,
   "id": "a8e056b2-6e88-45f3-ae21-f4307b89a6c4",
   "metadata": {},
   "outputs": [
    {
     "name": "stdout",
     "output_type": "stream",
     "text": [
      "HTTP/1.1 200 OK\n",
      "Date: Wed, 22 Jan 2025 10:15:36 GMT\n",
      "Content-Type: application/json\n",
      "Content-Length: 400\n",
      "Connection: keep-alive\n",
      "Server: gunicorn/19.9.0\n",
      "Access-Control-Allow-Origin: *\n",
      "Access-Control-Allow-Credentials: true\n",
      "\n",
      "{\n",
      "  \"args\": {}, \n",
      "  \"data\": \"\", \n",
      "  \"files\": {}, \n",
      "  \"form\": {\n",
      "    \"name\": \"Chandler\", \n",
      "    \"sitcom\": \"Friends\"\n",
      "  }, \n",
      "  \"headers\": {\n",
      "    \"Content-Length\": \"28\", \n",
      "    \"Content-Type\": \"application/x-www-form-urlencoded\", \n",
      "    \"Host\": \"httpbin.org\", \n",
      "    \"X-Amzn-Trace-Id\": \"Root=1-6790c547-631d3be16d9b741e379d3c09\"\n",
      "  }, \n",
      "  \"json\": null, \n",
      "  \"origin\": \"95.90.247.69\", \n",
      "  \"url\": \"http://httpbin.org/post\"\n",
      "}\n",
      "\n"
     ]
    }
   ],
   "source": [
    "import socket\n",
    "\n",
    "# Socket erstellen\n",
    "s = socket.socket(socket.AF_INET, socket.SOCK_STREAM)\n",
    "\n",
    "# Verbindung herstellen\n",
    "s.connect((\"httpbin.org\", 80))\n",
    "\n",
    "# POST Request generieren\n",
    "data = \"name=Chandler&sitcom=Friends\"\n",
    "request = \"POST /post HTTP/1.1\\r\\n\"\n",
    "request += \"Host: httpbin.org\\r\\n\"\n",
    "request += \"Content-Type: application/x-www-form-urlencoded\\r\\n\"\n",
    "request += f\"Content-Length: {len(data)}\\r\\n\"\n",
    "request += \"\\r\\n\"\n",
    "request += data\n",
    "\n",
    "# request senden\n",
    "s.send(request.encode())\n",
    "\n",
    "# Antwort empfangen\n",
    "response = s.recv(4096)\n",
    "print(response.decode())\n",
    "\n",
    "# Verbindung wieder schließen\n",
    "s.close()"
   ]
  },
  {
   "cell_type": "code",
   "execution_count": 19,
   "id": "59407c1b-0832-4df7-96ed-1829d5cbf317",
   "metadata": {},
   "outputs": [
    {
     "data": {
      "text/plain": [
       "'POST /post HTTP/1.1\\r\\nHost: httpbin.org\\r\\nContent-Type: application/x-www-form-urlencoded\\r\\nContent-Length: 28\\r\\n\\r\\nname=Chandler&sitcom=Friends'"
      ]
     },
     "execution_count": 19,
     "metadata": {},
     "output_type": "execute_result"
    }
   ],
   "source": [
    "request"
   ]
  },
  {
   "cell_type": "code",
   "execution_count": 20,
   "id": "74188207-3f5a-465d-80af-7566c3270938",
   "metadata": {},
   "outputs": [
    {
     "name": "stdout",
     "output_type": "stream",
     "text": [
      "POST /post HTTP/1.1\n",
      "Host: httpbin.org\n",
      "Content-Type: application/x-www-form-urlencoded\n",
      "Content-Length: 28\n",
      "\n",
      "name=Chandler&sitcom=Friends\n"
     ]
    }
   ],
   "source": [
    "print(request)"
   ]
  },
  {
   "cell_type": "code",
   "execution_count": 25,
   "id": "2c7aea46-1774-4708-81b2-a8c131c7403b",
   "metadata": {},
   "outputs": [
    {
     "data": {
      "text/plain": [
       "str"
      ]
     },
     "execution_count": 25,
     "metadata": {},
     "output_type": "execute_result"
    }
   ],
   "source": [
    "zahl = \"dkhfd\"\n",
    "type(zahl)"
   ]
  },
  {
   "cell_type": "code",
   "execution_count": 26,
   "id": "df5a8ec4-6855-4617-bb04-3eab5fc3d277",
   "metadata": {},
   "outputs": [
    {
     "ename": "ValueError",
     "evalue": "invalid literal for int() with base 10: 'dkhfd'",
     "output_type": "error",
     "traceback": [
      "\u001b[0;31m---------------------------------------------------------------------------\u001b[0m",
      "\u001b[0;31mValueError\u001b[0m                                Traceback (most recent call last)",
      "Cell \u001b[0;32mIn[26], line 1\u001b[0m\n\u001b[0;32m----> 1\u001b[0m interger_now \u001b[38;5;241m=\u001b[39m \u001b[38;5;28;43mint\u001b[39;49m\u001b[43m(\u001b[49m\u001b[43mzahl\u001b[49m\u001b[43m)\u001b[49m\n\u001b[1;32m      2\u001b[0m \u001b[38;5;28mtype\u001b[39m(interger_now)\n",
      "\u001b[0;31mValueError\u001b[0m: invalid literal for int() with base 10: 'dkhfd'"
     ]
    }
   ],
   "source": [
    "interger_now = int(zahl)\n",
    "type(interger_now)"
   ]
  },
  {
   "cell_type": "code",
   "execution_count": 35,
   "id": "e79c9a32-e34b-4547-810d-8e2406709a22",
   "metadata": {},
   "outputs": [],
   "source": [
    "ein_json_string = '''\n",
    "{\n",
    "    \"name\": \"Alice\",\n",
    "    \"age\": 30,\n",
    "    \"email\": \"alice@example.com\"\n",
    "}\n",
    "'''"
   ]
  },
  {
   "cell_type": "code",
   "execution_count": 36,
   "id": "506f41af-2ccb-45f1-8600-ffcf52de4f76",
   "metadata": {},
   "outputs": [
    {
     "data": {
      "text/plain": [
       "str"
      ]
     },
     "execution_count": 36,
     "metadata": {},
     "output_type": "execute_result"
    }
   ],
   "source": [
    "type(ein_json_string)"
   ]
  },
  {
   "cell_type": "code",
   "execution_count": 37,
   "id": "c1389db0-feca-49fa-96db-08bbb0e86958",
   "metadata": {},
   "outputs": [],
   "source": [
    "import json\n",
    "\n",
    "now_a_dict = json.loads(ein_json_string)"
   ]
  },
  {
   "cell_type": "code",
   "execution_count": 38,
   "id": "4d0d6a2c-55b5-4d4a-bc9c-94aff0084c4c",
   "metadata": {},
   "outputs": [
    {
     "data": {
      "text/plain": [
       "{'name': 'Alice', 'age': 30, 'email': 'alice@example.com'}"
      ]
     },
     "execution_count": 38,
     "metadata": {},
     "output_type": "execute_result"
    }
   ],
   "source": [
    "now_a_dict"
   ]
  },
  {
   "cell_type": "code",
   "execution_count": 39,
   "id": "d5eaf8e8-d14d-4892-8c12-0ffe980b57fb",
   "metadata": {},
   "outputs": [
    {
     "data": {
      "text/plain": [
       "dict"
      ]
     },
     "execution_count": 39,
     "metadata": {},
     "output_type": "execute_result"
    }
   ],
   "source": [
    "type(now_a_dict)"
   ]
  },
  {
   "cell_type": "code",
   "execution_count": 40,
   "id": "77c8ac99-bb1e-42af-9223-599122e4a12a",
   "metadata": {},
   "outputs": [
    {
     "name": "stdout",
     "output_type": "stream",
     "text": [
      "HTTP/1.1 200 OK\n",
      "Date: Wed, 22 Jan 2025 10:36:06 GMT\n",
      "Content-Type: application/json\n",
      "Content-Length: 468\n",
      "Connection: close\n",
      "Server: gunicorn/19.9.0\n",
      "Access-Control-Allow-Origin: *\n",
      "Access-Control-Allow-Credentials: true\n",
      "\n",
      "{\n",
      "  \"args\": {\n",
      "    \"city\": \"London\", \n",
      "    \"hobby\": \"Tennis\", \n",
      "    \"name\": \"Ben\"\n",
      "  }, \n",
      "  \"data\": \"\", \n",
      "  \"files\": {}, \n",
      "  \"form\": {\n",
      "    \"age\": \"44\"\n",
      "  }, \n",
      "  \"headers\": {\n",
      "    \"Content-Length\": \"6\", \n",
      "    \"Content-Type\": \"application/x-www-form-urlencoded\", \n",
      "    \"Host\": \"httpbin.org\", \n",
      "    \"X-Amzn-Trace-Id\": \"Root=1-6790ca16-089b9c9f0377c2e225311493\"\n",
      "  }, \n",
      "  \"json\": null, \n",
      "  \"origin\": \"95.90.247.69\", \n",
      "  \"url\": \"http://httpbin.org/post?name=Ben&hobby=Tennis&city=London\"\n",
      "}\n",
      "\n"
     ]
    }
   ],
   "source": [
    "import socket\n",
    "\n",
    "# Server und Port definieren\n",
    "host = \"httpbin.org\"\n",
    "port = 80\n",
    "\n",
    "# Query Parameter in die URL einfügen\n",
    "url = \"/post?name=Ben&hobby=Tennis&city=London\"\n",
    "\n",
    "# POST - Daten vorbereiten\n",
    "body = \"age=44\"\n",
    "headers = (\n",
    "    f\"POST {url} HTTP/1.1\\r\\n\"\n",
    "    f\"Host: {host}\\r\\n\"\n",
    "    \"Content-Type: application/x-www-form-urlencoded\\r\\n\"\n",
    "    f\"Content-Length: {len(body)}\\r\\n\"\n",
    "    \"Connection: close\\r\\n\"  # Verbindung nach der Antwort schließen\n",
    "    \"\\r\\n\"\n",
    ")\n",
    "\n",
    "request = headers + body\n",
    "\n",
    "# Socket erstellen und mit dem verbinden\n",
    "with socket.socket(socket.AF_INET, socket.SOCK_STREAM) as s:\n",
    "    s.connect((host, port))\n",
    "    s.send(request.encode()) # Anfrage losschicken\n",
    "\n",
    "    # Antwort\n",
    "    response = b\"\"\n",
    "    while True:\n",
    "        data = s.recv(4096)\n",
    "        if not data:\n",
    "            break\n",
    "        response += data\n",
    "\n",
    "# Antwort decodieren und Anzeigen\n",
    "print(response.decode())"
   ]
  },
  {
   "cell_type": "code",
   "execution_count": null,
   "id": "ae58faa4-64f0-4f97-bc70-2c0b0e286dd2",
   "metadata": {},
   "outputs": [],
   "source": []
  }
 ],
 "metadata": {
  "kernelspec": {
   "display_name": "Python 3 (ipykernel)",
   "language": "python",
   "name": "python3"
  },
  "language_info": {
   "codemirror_mode": {
    "name": "ipython",
    "version": 3
   },
   "file_extension": ".py",
   "mimetype": "text/x-python",
   "name": "python",
   "nbconvert_exporter": "python",
   "pygments_lexer": "ipython3",
   "version": "3.12.8"
  }
 },
 "nbformat": 4,
 "nbformat_minor": 5
}
