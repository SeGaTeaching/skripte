{
 "cells": [
  {
   "cell_type": "markdown",
   "id": "6981f69f-b175-47d0-85b8-5d0e10794325",
   "metadata": {},
   "source": [
    "# JSON und CRUD Operationen\n",
    "\n",
    "## JSON (JavaScript Object Notation)\n",
    "\n",
    "### Was ist JSON?\n",
    "- JSON ist ein leichtgewichtiges Datenformat, das einfach lesbar ist und auf Key-Value-Paaren basiert.\n",
    "- Es ist textbasiert und wird häufig in Webanwendungen verwendet, um Daten zwischen Servern und Clients zu übertragen.\n",
    "- JSON wird von fast allen Programmiersprachen unterstützt, einschließlich Python, JavaScript, Java und vielen anderen.\n",
    "\n",
    "### Eigenschaften von JSON\n",
    "1. Einfacher Aufbau:\n",
    "   - JSON-Dokumente bestehen aus Key-Value-Paaren, wobei der Key ein String und der Value entweder ein String, eine Zahl, ein Array, ein Objekt, ein Boolean (true, false) oder null ist.\n",
    "\n",
    "2. Flexibilität:\n",
    "    - JSON unterstützt verschachtelte Datenstrukturen, sodass komplexe Objekte leicht modelliert werden können.\n",
    "\n",
    "3. Weit verbreitet:\n",
    "   - JSON ist der De-facto-Standard für Datenübertragung in RESTful APIs.\n",
    "\n",
    "### Einfaches JSON-Objekt\n",
    "```json\n",
    "{\n",
    "    \"name\": \"Alice\",\n",
    "    \"age\": 30,\n",
    "    \"email\": \"alice@example.com\"\n",
    "}\n",
    "```\n",
    "`name`, `age` und `email` sind Keys. Ihre jeweiligen Werte sind Strings oder Zahlen\n",
    "\n",
    "### Verschachteltes JSON-Objekt\n",
    "```json\n",
    "{\n",
    "    \"name\": \"Alice\",\n",
    "    \"age\": 30,\n",
    "    \"address\": {\n",
    "        \"street\": \"123 Main St\",\n",
    "        \"city\": \"Wonderland\",\n",
    "        \"zip\": \"12345\"\n",
    "    }\n",
    "}\n",
    "```\n",
    "Der Key `address` enthält als Value ein weiteres Objekt mit den Keys `street`, `city`, und `zip`\n",
    "\n",
    "### JSON-Array\n",
    "```json\n",
    "[\n",
    "  {\n",
    "    \"name\": \"Alice\",\n",
    "    \"age\": 30\n",
    "  },\n",
    "  {\n",
    "    \"name\": \"Bob\",\n",
    "    \"age\": 25\n",
    "  }\n",
    "]\n",
    "```\n",
    "Das gesamt JSON ist ein Array (Liste), welches zwei Objekte enthält"
   ]
  },
  {
   "cell_type": "markdown",
   "id": "e1913d88-779d-4df8-9300-c09c1abd6ddc",
   "metadata": {},
   "source": [
    "### JSON in Python\n",
    "- mit dem Modul `json`.\n",
    "- Umwandlung von einem Python-Objekt in JSON wird Serialisierung genannt\n",
    "- Umwandlung JSON in ein Python-Objekt (meistens ein Dict) wird Deserialisierung genannt."
   ]
  },
  {
   "cell_type": "markdown",
   "id": "4e61b653-4688-4ebf-b3a7-c9746a58457d",
   "metadata": {},
   "source": [
    "#### Serialisierung - Umwandlung eines Dicts in ein JSON"
   ]
  },
  {
   "cell_type": "code",
   "execution_count": 6,
   "id": "8919f233-0c4e-4229-87c2-7ad26241b6b0",
   "metadata": {},
   "outputs": [
    {
     "data": {
      "text/plain": [
       "'{\"name\": \"Eric\", \"age\": 30, \"human\": true}'"
      ]
     },
     "execution_count": 6,
     "metadata": {},
     "output_type": "execute_result"
    }
   ],
   "source": [
    "import json\n",
    "\n",
    "# Einfaches Dictionary serialisieren\n",
    "data = {'name': 'Eric', 'age': 30, 'human': True}\n",
    "json_data = json.dumps(data)\n",
    "json_data"
   ]
  },
  {
   "cell_type": "code",
   "execution_count": 12,
   "id": "e5b5829d-bb85-471b-86e3-b383f86bbbbd",
   "metadata": {},
   "outputs": [
    {
     "name": "stdout",
     "output_type": "stream",
     "text": [
      "{\n",
      "    \"user\": {\n",
      "        \"name\": \"Kelso\",\n",
      "        \"age\": 34,\n",
      "        \"hobbies\": [\n",
      "            \"reading\",\n",
      "            \"cycling\"\n",
      "        ]\n",
      "    }\n",
      "}\n"
     ]
    }
   ],
   "source": [
    "# Verschachteltes Python Objekt\n",
    "nested_data = {\n",
    "    \"user\": {\n",
    "        \"name\": \"Kelso\",\n",
    "        \"age\": 34,\n",
    "        \"hobbies\": [\"reading\", \"cycling\"]\n",
    "    }\n",
    "}\n",
    "json_data = json.dumps(nested_data, indent=4)\n",
    "print(json_data)"
   ]
  },
  {
   "cell_type": "code",
   "execution_count": 17,
   "id": "2e4f1c79-83a6-4d46-b529-f0aaee66a852",
   "metadata": {},
   "outputs": [
    {
     "name": "stdout",
     "output_type": "stream",
     "text": [
      "Dictionary: {'name': 'Hyde', 'age': 33}\n",
      "JSON: {\"name\": \"Hyde\", \"age\": 33}\n"
     ]
    }
   ],
   "source": [
    "# Serilisieren eine Instanz-Objektes einer Klasse\n",
    "class User:\n",
    "    def __init__(self, name, age):\n",
    "        self.name = name\n",
    "        self.age = age\n",
    "\n",
    "user_1 = User(\"Hyde\", 33)\n",
    "\n",
    "user_1_dict = user_1.__dict__\n",
    "print(\"Dictionary:\", user_1_dict)\n",
    "\n",
    "json_data = json.dumps(user_1_dict)\n",
    "print(\"JSON:\", json_data)"
   ]
  },
  {
   "cell_type": "code",
   "execution_count": 18,
   "id": "45d8c97f-1d7e-4c2a-8518-7132bc57ab3d",
   "metadata": {},
   "outputs": [
    {
     "name": "stdout",
     "output_type": "stream",
     "text": [
      "{\"name\": \"Donna\", \"age\": 33}\n"
     ]
    }
   ],
   "source": [
    "# Best Practice im Umgang mit Instanz-Objekten und deren Serialisierung\n",
    "class User:\n",
    "    def __init__(self, name, age):\n",
    "        self.name = name\n",
    "        self.age = age\n",
    "\n",
    "user_1 = User(\"Donna\", 33)\n",
    "\n",
    "# Eine Funktion um aus einem Instanzobjekt ein Serialisierbares Python-Dictionary zu erstellen\n",
    "def user_to_dict(obj):\n",
    "    return obj.__dict__\n",
    "    # return {\"name\": obj.name, \"age\": obj.age}\n",
    "\n",
    "json_data = json.dumps(user_1, default=user_to_dict)\n",
    "print(json_data)"
   ]
  },
  {
   "cell_type": "code",
   "execution_count": 19,
   "id": "346428e0-254f-4360-9b72-830567c661a9",
   "metadata": {},
   "outputs": [
    {
     "ename": "AttributeError",
     "evalue": "'str' object has no attribute 'keys'",
     "output_type": "error",
     "traceback": [
      "\u001b[0;31m---------------------------------------------------------------------------\u001b[0m",
      "\u001b[0;31mAttributeError\u001b[0m                            Traceback (most recent call last)",
      "Cell \u001b[0;32mIn[19], line 1\u001b[0m\n\u001b[0;32m----> 1\u001b[0m \u001b[43mjson_data\u001b[49m\u001b[38;5;241;43m.\u001b[39;49m\u001b[43mkeys\u001b[49m()\n",
      "\u001b[0;31mAttributeError\u001b[0m: 'str' object has no attribute 'keys'"
     ]
    }
   ],
   "source": [
    "json_data.keys()"
   ]
  },
  {
   "cell_type": "code",
   "execution_count": 20,
   "id": "b6927fda-d65d-4204-a5e1-bea7a7590cf6",
   "metadata": {},
   "outputs": [
    {
     "data": {
      "text/plain": [
       "str"
      ]
     },
     "execution_count": 20,
     "metadata": {},
     "output_type": "execute_result"
    }
   ],
   "source": [
    "stringy = \"5\"\n",
    "\n",
    "not_stringy_anymore = int(stringy)\n",
    "\n",
    "type(stringy)"
   ]
  },
  {
   "cell_type": "code",
   "execution_count": 21,
   "id": "69976b72-3931-4d27-aa5f-5f21dd1ac07c",
   "metadata": {},
   "outputs": [
    {
     "data": {
      "text/plain": [
       "int"
      ]
     },
     "execution_count": 21,
     "metadata": {},
     "output_type": "execute_result"
    }
   ],
   "source": [
    "type(not_stringy_anymore)"
   ]
  },
  {
   "cell_type": "code",
   "execution_count": 23,
   "id": "9a1b89eb-eacb-402b-b869-b5d6ee0a8c46",
   "metadata": {},
   "outputs": [
    {
     "name": "stdout",
     "output_type": "stream",
     "text": [
      "[\n",
      "  {\n",
      "    \"name\": \"Alice\",\n",
      "    \"age\": 30\n",
      "  },\n",
      "  {\n",
      "    \"name\": \"Bob's\",\n",
      "    \"age\": 25\n",
      "  }\n",
      "]\n"
     ]
    }
   ],
   "source": [
    "# Liste von Dictionaries umwandlen in JSON\n",
    "users = [\n",
    "    {'name': 'Alice', 'age': 30},\n",
    "    {\"name\": \"Bob's\", \"age\": 25}\n",
    "]\n",
    "json_data = json.dumps(users, indent=2)\n",
    "print(json_data)"
   ]
  },
  {
   "cell_type": "code",
   "execution_count": 25,
   "id": "c83c226a-301b-4ab5-a126-6f027cf86fb1",
   "metadata": {},
   "outputs": [
    {
     "name": "stdout",
     "output_type": "stream",
     "text": [
      "{\"name\": \"Albert Einstein\", \"Quote\": \"Albert Einstein sagte einst: \\\"Die gr\\u00f6\\u00dfte Macht im Universum ist der Zinseszins\\\"\"}\n"
     ]
    }
   ],
   "source": [
    "albert = {\n",
    "    \"name\": \"Albert Einstein\",\n",
    "    \"Quote\": 'Albert Einstein sagte einst: \"Die größte Macht im Universum ist der Zinseszins\"'\n",
    "}\n",
    "json_albert = json.dumps(albert)\n",
    "print(json_albert)"
   ]
  },
  {
   "cell_type": "markdown",
   "id": "b46ecb78-7b07-47c3-a102-4b178d25da22",
   "metadata": {},
   "source": [
    "#### Deserialisierung - Umwandlung eines JSON in ein Python Dict"
   ]
  },
  {
   "cell_type": "code",
   "execution_count": 28,
   "id": "84baa9d3-4317-4066-bac8-22fdedfaa083",
   "metadata": {},
   "outputs": [
    {
     "name": "stdout",
     "output_type": "stream",
     "text": [
      "{'user': {'name': 'Alice', 'age': 30, 'hobbies': ['reading', 'cycling']}}\n"
     ]
    },
    {
     "data": {
      "text/plain": [
       "dict_items([('user', {'name': 'Alice', 'age': 30, 'hobbies': ['reading', 'cycling']})])"
      ]
     },
     "execution_count": 28,
     "metadata": {},
     "output_type": "execute_result"
    }
   ],
   "source": [
    "json_data = '''\n",
    "{\n",
    "    \"user\": {\n",
    "        \"name\": \"Alice\",\n",
    "        \"age\": 30,\n",
    "        \"hobbies\": [\"reading\", \"cycling\"]\n",
    "    }\n",
    "}\n",
    "'''\n",
    "\n",
    "data = json.loads(json_data)\n",
    "print(data)\n",
    "data.items()"
   ]
  },
  {
   "cell_type": "markdown",
   "id": "632e6d8e-5736-49b8-981c-bb0a231f430a",
   "metadata": {},
   "source": [
    "mit `json.loads(json)` wandle ich ein textbasiertes JSON Objekt in ein Python Dictionary um!"
   ]
  },
  {
   "cell_type": "code",
   "execution_count": 29,
   "id": "958ad23f-c2ac-467c-9a09-880b44a2e897",
   "metadata": {},
   "outputs": [
    {
     "data": {
      "text/plain": [
       "[{'name': 'Alice', 'age': 30}, {'name': 'Bob', 'age': 25}]"
      ]
     },
     "execution_count": 29,
     "metadata": {},
     "output_type": "execute_result"
    }
   ],
   "source": [
    "# Liste aus JSON-Daten verarbeiten\n",
    "json_data = '[{\"name\": \"Alice\", \"age\": 30}, {\"name\": \"Bob\", \"age\": 25}]'\n",
    "data = json.loads(json_data)\n",
    "data"
   ]
  },
  {
   "cell_type": "code",
   "execution_count": 30,
   "id": "ac8c1bf1-ce38-4e93-ba6b-201c4db1d633",
   "metadata": {},
   "outputs": [
    {
     "data": {
      "text/plain": [
       "'Alice'"
      ]
     },
     "execution_count": 30,
     "metadata": {},
     "output_type": "execute_result"
    }
   ],
   "source": [
    "data[0]['name']"
   ]
  },
  {
   "cell_type": "code",
   "execution_count": 31,
   "id": "374855bd-b319-4a1f-965b-37d4a32dd0ad",
   "metadata": {},
   "outputs": [],
   "source": [
    "import requests"
   ]
  },
  {
   "cell_type": "code",
   "execution_count": 32,
   "id": "4e7bd495-33ef-4748-a358-ee0d126d85bb",
   "metadata": {},
   "outputs": [],
   "source": [
    "url = \"https://v6.exchangerate-api.com/v6/55d50301c8add778a9ca4369/latest/EUR\"\n",
    "response = requests.get(url)"
   ]
  },
  {
   "cell_type": "code",
   "execution_count": 34,
   "id": "fb8486cc-78e9-4018-b397-fd7452c03eca",
   "metadata": {},
   "outputs": [
    {
     "ename": "AttributeError",
     "evalue": "'str' object has no attribute 'keys'",
     "output_type": "error",
     "traceback": [
      "\u001b[0;31m---------------------------------------------------------------------------\u001b[0m",
      "\u001b[0;31mAttributeError\u001b[0m                            Traceback (most recent call last)",
      "Cell \u001b[0;32mIn[34], line 1\u001b[0m\n\u001b[0;32m----> 1\u001b[0m \u001b[43mresponse\u001b[49m\u001b[38;5;241;43m.\u001b[39;49m\u001b[43mtext\u001b[49m\u001b[38;5;241;43m.\u001b[39;49m\u001b[43mkeys\u001b[49m()\n",
      "\u001b[0;31mAttributeError\u001b[0m: 'str' object has no attribute 'keys'"
     ]
    }
   ],
   "source": [
    "response.text.keys()"
   ]
  },
  {
   "cell_type": "code",
   "execution_count": 41,
   "id": "3c392363-bcd0-4ae9-9a77-4c2c0caefcfa",
   "metadata": {},
   "outputs": [
    {
     "name": "stdout",
     "output_type": "stream",
     "text": [
      "<class 'dict'>\n"
     ]
    },
    {
     "data": {
      "text/plain": [
       "{'result': 'success',\n",
       " 'documentation': 'https://www.exchangerate-api.com/docs',\n",
       " 'terms_of_use': 'https://www.exchangerate-api.com/terms',\n",
       " 'time_last_update_unix': 1737417602,\n",
       " 'time_last_update_utc': 'Tue, 21 Jan 2025 00:00:02 +0000',\n",
       " 'time_next_update_unix': 1737504002,\n",
       " 'time_next_update_utc': 'Wed, 22 Jan 2025 00:00:02 +0000',\n",
       " 'base_code': 'EUR',\n",
       " 'conversion_rates': {'EUR': 1,\n",
       "  'AED': 3.8173,\n",
       "  'AFN': 75.6385,\n",
       "  'ALL': 98.3988,\n",
       "  'AMD': 411.5693,\n",
       "  'ANG': 1.8606,\n",
       "  'AOA': 963.7038,\n",
       "  'ARS': 1086.4544,\n",
       "  'AUD': 1.6606,\n",
       "  'AWG': 1.8606,\n",
       "  'AZN': 1.7531,\n",
       "  'BAM': 1.9558,\n",
       "  'BBD': 2.0788,\n",
       "  'BDT': 125.8029,\n",
       "  'BGN': 1.9558,\n",
       "  'BHD': 0.3908,\n",
       "  'BIF': 3019.0963,\n",
       "  'BMD': 1.0394,\n",
       "  'BND': 1.4106,\n",
       "  'BOB': 7.1333,\n",
       "  'BRL': 6.2756,\n",
       "  'BSD': 1.0394,\n",
       "  'BTN': 89.3974,\n",
       "  'BWP': 14.4349,\n",
       "  'BYN': 3.4497,\n",
       "  'BZD': 2.0788,\n",
       "  'CAD': 1.49,\n",
       "  'CDF': 2943.3148,\n",
       "  'CHF': 0.9438,\n",
       "  'CLP': 1038.818,\n",
       "  'CNY': 7.5602,\n",
       "  'COP': 4476.3608,\n",
       "  'CRC': 517.6666,\n",
       "  'CUP': 24.9461,\n",
       "  'CVE': 110.265,\n",
       "  'CZK': 25.2101,\n",
       "  'DJF': 184.7269,\n",
       "  'DKK': 7.4588,\n",
       "  'DOP': 63.2243,\n",
       "  'DZD': 139.8812,\n",
       "  'EGP': 51.893,\n",
       "  'ERN': 15.5913,\n",
       "  'ETB': 131.6265,\n",
       "  'FJD': 2.3961,\n",
       "  'FKP': 0.8453,\n",
       "  'FOK': 7.4607,\n",
       "  'GBP': 0.8453,\n",
       "  'GEL': 2.9329,\n",
       "  'GGP': 0.8453,\n",
       "  'GHS': 15.7094,\n",
       "  'GIP': 0.8453,\n",
       "  'GMD': 75.0923,\n",
       "  'GNF': 8919.983,\n",
       "  'GTQ': 7.9542,\n",
       "  'GYD': 215.5105,\n",
       "  'HKD': 8.084,\n",
       "  'HNL': 26.2173,\n",
       "  'HRK': 7.5345,\n",
       "  'HTG': 134.5231,\n",
       "  'HUF': 411.8743,\n",
       "  'IDR': 16947.6042,\n",
       "  'ILS': 3.7069,\n",
       "  'IMP': 0.8453,\n",
       "  'INR': 89.4022,\n",
       "  'IQD': 1352.6723,\n",
       "  'IRR': 43906.1391,\n",
       "  'ISK': 145.6416,\n",
       "  'JEP': 0.8453,\n",
       "  'JMD': 162.8374,\n",
       "  'JOD': 0.7369,\n",
       "  'JPY': 161.7395,\n",
       "  'KES': 133.8597,\n",
       "  'KGS': 90.1867,\n",
       "  'KHR': 4182.6053,\n",
       "  'KID': 1.6608,\n",
       "  'KMF': 491.9678,\n",
       "  'KRW': 1497.7876,\n",
       "  'KWD': 0.3191,\n",
       "  'KYD': 0.8662,\n",
       "  'KZT': 548.507,\n",
       "  'LAK': 22600.3648,\n",
       "  'LBP': 93028.1464,\n",
       "  'LKR': 305.7503,\n",
       "  'LRD': 195.7964,\n",
       "  'LSL': 19.3048,\n",
       "  'LYD': 5.1073,\n",
       "  'MAD': 10.3902,\n",
       "  'MDL': 19.3882,\n",
       "  'MGA': 4726.1721,\n",
       "  'MKD': 61.56,\n",
       "  'MMK': 2957.7529,\n",
       "  'MNT': 3566.2002,\n",
       "  'MOP': 8.3262,\n",
       "  'MRU': 41.1333,\n",
       "  'MUR': 48.288,\n",
       "  'MVR': 15.9028,\n",
       "  'MWK': 1805.4125,\n",
       "  'MXN': 21.3731,\n",
       "  'MYR': 4.6336,\n",
       "  'MZN': 66.2577,\n",
       "  'NAD': 19.3048,\n",
       "  'NGN': 1607.0464,\n",
       "  'NIO': 37.9227,\n",
       "  'NOK': 11.7699,\n",
       "  'NPR': 143.0358,\n",
       "  'NZD': 1.8369,\n",
       "  'OMR': 0.3997,\n",
       "  'PAB': 1.0394,\n",
       "  'PEN': 3.8757,\n",
       "  'PGK': 4.178,\n",
       "  'PHP': 60.3421,\n",
       "  'PKR': 289.4763,\n",
       "  'PLN': 4.2536,\n",
       "  'PYG': 8137.4339,\n",
       "  'QAR': 3.7835,\n",
       "  'RON': 4.9768,\n",
       "  'RSD': 117.1226,\n",
       "  'RUB': 105.3571,\n",
       "  'RWF': 1469.3036,\n",
       "  'SAR': 3.8978,\n",
       "  'SBD': 8.7923,\n",
       "  'SCR': 14.9919,\n",
       "  'SDG': 460.6928,\n",
       "  'SEK': 11.4796,\n",
       "  'SGD': 1.4107,\n",
       "  'SHP': 0.8453,\n",
       "  'SLE': 23.6164,\n",
       "  'SLL': 23617.0706,\n",
       "  'SOS': 588.663,\n",
       "  'SRD': 36.2213,\n",
       "  'SSP': 4232.0823,\n",
       "  'STN': 24.5,\n",
       "  'SYP': 13319.222,\n",
       "  'SZL': 19.3048,\n",
       "  'THB': 35.4955,\n",
       "  'TJS': 11.2849,\n",
       "  'TMT': 3.6104,\n",
       "  'TND': 3.3241,\n",
       "  'TOP': 2.4868,\n",
       "  'TRY': 36.9723,\n",
       "  'TTD': 7.3304,\n",
       "  'TVD': 1.6608,\n",
       "  'TWD': 33.8311,\n",
       "  'TZS': 2621.5119,\n",
       "  'UAH': 43.5168,\n",
       "  'UGX': 3804.0308,\n",
       "  'USD': 1.0395,\n",
       "  'UYU': 45.4056,\n",
       "  'UZS': 13347.4599,\n",
       "  'VES': 57.3155,\n",
       "  'VND': 26381.6219,\n",
       "  'VUV': 123.9839,\n",
       "  'WST': 2.9158,\n",
       "  'XAF': 655.957,\n",
       "  'XCD': 2.8064,\n",
       "  'XDR': 0.794,\n",
       "  'XOF': 655.957,\n",
       "  'XPF': 119.332,\n",
       "  'YER': 256.4789,\n",
       "  'ZAR': 19.3041,\n",
       "  'ZMW': 28.9181,\n",
       "  'ZWL': 27.0782}}"
      ]
     },
     "execution_count": 41,
     "metadata": {},
     "output_type": "execute_result"
    }
   ],
   "source": [
    "data = json.loads(response.text)\n",
    "print(type(data))\n",
    "data"
   ]
  },
  {
   "cell_type": "code",
   "execution_count": 38,
   "id": "4b34ba09-24aa-4e41-b180-34183a1b37c2",
   "metadata": {},
   "outputs": [
    {
     "data": {
      "text/plain": [
       "dict_keys(['result', 'documentation', 'terms_of_use', 'time_last_update_unix', 'time_last_update_utc', 'time_next_update_unix', 'time_next_update_utc', 'base_code', 'conversion_rates'])"
      ]
     },
     "execution_count": 38,
     "metadata": {},
     "output_type": "execute_result"
    }
   ],
   "source": [
    "data.keys()"
   ]
  },
  {
   "cell_type": "code",
   "execution_count": 39,
   "id": "b903e817-3508-4141-a726-896a314507e1",
   "metadata": {},
   "outputs": [
    {
     "data": {
      "text/plain": [
       "dict_keys(['EUR', 'AED', 'AFN', 'ALL', 'AMD', 'ANG', 'AOA', 'ARS', 'AUD', 'AWG', 'AZN', 'BAM', 'BBD', 'BDT', 'BGN', 'BHD', 'BIF', 'BMD', 'BND', 'BOB', 'BRL', 'BSD', 'BTN', 'BWP', 'BYN', 'BZD', 'CAD', 'CDF', 'CHF', 'CLP', 'CNY', 'COP', 'CRC', 'CUP', 'CVE', 'CZK', 'DJF', 'DKK', 'DOP', 'DZD', 'EGP', 'ERN', 'ETB', 'FJD', 'FKP', 'FOK', 'GBP', 'GEL', 'GGP', 'GHS', 'GIP', 'GMD', 'GNF', 'GTQ', 'GYD', 'HKD', 'HNL', 'HRK', 'HTG', 'HUF', 'IDR', 'ILS', 'IMP', 'INR', 'IQD', 'IRR', 'ISK', 'JEP', 'JMD', 'JOD', 'JPY', 'KES', 'KGS', 'KHR', 'KID', 'KMF', 'KRW', 'KWD', 'KYD', 'KZT', 'LAK', 'LBP', 'LKR', 'LRD', 'LSL', 'LYD', 'MAD', 'MDL', 'MGA', 'MKD', 'MMK', 'MNT', 'MOP', 'MRU', 'MUR', 'MVR', 'MWK', 'MXN', 'MYR', 'MZN', 'NAD', 'NGN', 'NIO', 'NOK', 'NPR', 'NZD', 'OMR', 'PAB', 'PEN', 'PGK', 'PHP', 'PKR', 'PLN', 'PYG', 'QAR', 'RON', 'RSD', 'RUB', 'RWF', 'SAR', 'SBD', 'SCR', 'SDG', 'SEK', 'SGD', 'SHP', 'SLE', 'SLL', 'SOS', 'SRD', 'SSP', 'STN', 'SYP', 'SZL', 'THB', 'TJS', 'TMT', 'TND', 'TOP', 'TRY', 'TTD', 'TVD', 'TWD', 'TZS', 'UAH', 'UGX', 'USD', 'UYU', 'UZS', 'VES', 'VND', 'VUV', 'WST', 'XAF', 'XCD', 'XDR', 'XOF', 'XPF', 'YER', 'ZAR', 'ZMW', 'ZWL'])"
      ]
     },
     "execution_count": 39,
     "metadata": {},
     "output_type": "execute_result"
    }
   ],
   "source": [
    "data[\"conversion_rates\"].keys()"
   ]
  },
  {
   "cell_type": "markdown",
   "id": "9b8b26ab-ee56-4538-a7cc-d5fdedf014af",
   "metadata": {},
   "source": [
    "## XML (Extensible Markup Language)\n",
    "\n",
    "### Was ist XML?\n",
    "- XML ist ein textbasiertes Datenformat, das Daten in einer hierarchischen Struktur organisiert.\n",
    "- Es wird häufig in älteren Systemen und für Konfigurationsdateien verwendet.\n",
    "- Im Gegensatz zu JSON ist XML weniger kompakt und schwieriger zu parsen, bietet jedoch zusätzliche Features wie benutzerdefinierte Datentypen und Validierung.\n",
    "\n",
    "### Eigenschaften von XML\n",
    "1. Hierarchische Struktur:\n",
    "    - Daten werden in Tags organisiert, die verschachtelt sein können.\n",
    "\n",
    "2. Flexibilität:\n",
    "    - XML erlaubt die Definition von benutzerdefinierten Tags.\n",
    "\n",
    "3. Selbstbeschreibend:\n",
    "    - Tags enthalten oft Informationen über die Art der Daten.\n",
    "  \n",
    "#### Einfaches XML-Dokument\n",
    "```xml\n",
    "<user>\n",
    "  <name>Alice</name>\n",
    "  <age>30</age>\n",
    "  <email>alice@example.com</email>\n",
    "</user>\n",
    "```\n",
    "`user` ist der Root-Tag, der alle andern umschließt\n",
    "\n",
    "#### Verschachteltes XML-Dokument\n",
    "```xml\n",
    "<user>\n",
    "  <name>Alice</name>\n",
    "  <age>30</age>\n",
    "  <address>\n",
    "    <street>123 Main St</street>\n",
    "    <city>Wonderland</city>\n",
    "    <zip>12345</zip>\n",
    "  </address>\n",
    "</user>\n",
    "```\n",
    "Der Tag `address` enthält weitere Tags wie `street`, `city` und `zip`.\n",
    "\n",
    "#### Ein XML-Dokument, das Attribute verwendet\n",
    "```xml\n",
    "<user name=\"Alice\" age=\"30\">\n",
    "  <email>alice@example.com</email>\n",
    "</user>\n",
    "```\n",
    "Anstelle von separaten Tags werden `name` und `age` als Attribute des `user`-Tags definiert."
   ]
  },
  {
   "cell_type": "markdown",
   "id": "8c3bfd5c-c2a9-4320-93b3-345b6c8352af",
   "metadata": {},
   "source": [
    "## XML in Python\n",
    "Python bietet das Modul xml.etree.ElementTree, um XML-Daten zu verarbeiten."
   ]
  },
  {
   "cell_type": "code",
   "execution_count": 42,
   "id": "af93e896-d5dc-4295-9ad5-5b91e9d0a428",
   "metadata": {},
   "outputs": [],
   "source": [
    "import xml.etree.ElementTree as ET"
   ]
  },
  {
   "cell_type": "code",
   "execution_count": 43,
   "id": "916537f3-917e-4520-8de6-573c88c46f2f",
   "metadata": {},
   "outputs": [
    {
     "data": {
      "text/plain": [
       "<Element 'user' at 0x104ed0b80>"
      ]
     },
     "execution_count": 43,
     "metadata": {},
     "output_type": "execute_result"
    }
   ],
   "source": [
    "# XML-Parsing -> wir wandlen ein XML in Python um\n",
    "xml_data = \"\"\"\n",
    "<user>\n",
    "  <name>Alice</name>\n",
    "  <age>30</age>\n",
    "</user>\n",
    "\"\"\"\n",
    "data = ET.fromstring(xml_data)\n",
    "data"
   ]
  },
  {
   "cell_type": "code",
   "execution_count": 44,
   "id": "021137e1-e56c-4060-b91c-e3a589fb43b5",
   "metadata": {},
   "outputs": [
    {
     "data": {
      "text/plain": [
       "xml.etree.ElementTree.Element"
      ]
     },
     "execution_count": 44,
     "metadata": {},
     "output_type": "execute_result"
    }
   ],
   "source": [
    "type(data)"
   ]
  },
  {
   "cell_type": "code",
   "execution_count": 46,
   "id": "a0870a87-bf5a-4bd1-94a4-5111ffa67ce9",
   "metadata": {},
   "outputs": [
    {
     "data": {
      "text/plain": [
       "'Alice'"
      ]
     },
     "execution_count": 46,
     "metadata": {},
     "output_type": "execute_result"
    }
   ],
   "source": [
    "data.find(\"name\").text"
   ]
  },
  {
   "cell_type": "code",
   "execution_count": 47,
   "id": "700273b3-e0d6-4bdf-9ac7-73f834221055",
   "metadata": {},
   "outputs": [
    {
     "name": "stdout",
     "output_type": "stream",
     "text": [
      "<Element 'user' at 0x104ed0b80>\n"
     ]
    }
   ],
   "source": [
    "print(data)"
   ]
  },
  {
   "cell_type": "code",
   "execution_count": 50,
   "id": "cb240527-0634-4cc1-81ef-d0ed3c6cd539",
   "metadata": {},
   "outputs": [
    {
     "name": "stdout",
     "output_type": "stream",
     "text": [
      "<Element 'name' at 0x104ed0bd0>\n",
      "<Element 'age' at 0x104ed0c20>\n"
     ]
    }
   ],
   "source": [
    "for elem in data:\n",
    "    print(elem)"
   ]
  },
  {
   "cell_type": "code",
   "execution_count": 51,
   "id": "18c19206-8fd1-4539-ae83-d761cc7c920d",
   "metadata": {},
   "outputs": [
    {
     "name": "stdout",
     "output_type": "stream",
     "text": [
      "<Element 'name' at 0x104e17970>\n",
      "<Element 'age' at 0x104e179c0>\n",
      "<Element 'address' at 0x104e17a10>\n"
     ]
    }
   ],
   "source": [
    "xml_data = '''\n",
    "<user>\n",
    "  <name>Alice</name>\n",
    "  <age>30</age>\n",
    "  <address>\n",
    "    <street>123 Main St</street>\n",
    "    <city>Wonderland</city>\n",
    "    <zip>12345</zip>\n",
    "  </address>\n",
    "</user>\n",
    "'''\n",
    "data = ET.fromstring(xml_data)\n",
    "for elem in data:\n",
    "    print(elem)"
   ]
  },
  {
   "cell_type": "code",
   "execution_count": 55,
   "id": "7be99c39-541f-45fa-a7cc-73d286afe4d8",
   "metadata": {},
   "outputs": [
    {
     "data": {
      "text/plain": [
       "'123 Main St'"
      ]
     },
     "execution_count": 55,
     "metadata": {},
     "output_type": "execute_result"
    }
   ],
   "source": [
    "data.find('address').find('street').text"
   ]
  },
  {
   "cell_type": "code",
   "execution_count": 56,
   "id": "b6eec2f6-42e5-4110-818f-81b68b529e93",
   "metadata": {},
   "outputs": [
    {
     "name": "stdout",
     "output_type": "stream",
     "text": [
      "<user><name>Alice</name><age>30</age></user>\n"
     ]
    }
   ],
   "source": [
    "# ein XML Element erstellen\n",
    "\n",
    "user = ET.Element(\"user\")\n",
    "name = ET.SubElement(user, \"name\")\n",
    "name.text = \"Alice\"\n",
    "age = ET.SubElement(user, \"age\")\n",
    "age.text = \"30\"\n",
    "\n",
    "xml_string = ET.tostring(user).decode()\n",
    "print(xml_string)"
   ]
  },
  {
   "cell_type": "markdown",
   "id": "43bca3ec-bb8b-4d5b-9ef2-fb486d170f97",
   "metadata": {},
   "source": [
    "### Vergleich von JSON und XML\n",
    "\n",
    "| Merkmal                  | JSON                             | XML                              |\n",
    "|--------------------------|----------------------------------|----------------------------------|\n",
    "| **Lesbarkeit**           | Einfach und kompakt             | Weniger kompakt                  |\n",
    "| **Datenstruktur**        | Key-Value-Paare und Arrays      | Hierarchisch mit Tags            |\n",
    "| **Unterstützung**        | Breite Unterstützung in modernen APIs | Breite Unterstützung, aber zunehmend weniger verwendet |\n",
    "| **Validierung**          | Schwach (z. B. JSON-Schema)     | Stark (z. B. DTD, XSD)           |\n",
    "| **Speicherplatzbedarf**  | Gering                          | Höher durch Tags und Syntax      |"
   ]
  },
  {
   "cell_type": "markdown",
   "id": "d94c3f30-a012-4ee1-85e0-089c6e6d1250",
   "metadata": {},
   "source": [
    "## HTTP-Methoden und CRUD-Operationen\n",
    "### Was ist CRUD\n",
    "CRUD steht für **Create, Read, Update und Delete**, die grundlegenden Operationen, die in RESTful APIs verwendet werden. Jede dieser Operationen wird durch spezifische HTTP-Methoden repräsentiert:\n",
    "\n",
    "| CRUD-Operation | HTTP-Methode | Zweck                |\n",
    "|----------------|--------------|----------------------|\n",
    "| **Create**     | POST         | Erstellen einer Ressource |\n",
    "| **Read**       | GET          | Abrufen von Ressourcen    |\n",
    "| **Update**     | PUT/PATCH    | Aktualisieren einer Ressource |\n",
    "| **Delete**     | DELETE       | Löschen einer Ressource   |"
   ]
  },
  {
   "cell_type": "markdown",
   "id": "5300926a-1c51-4d99-9e53-d89bd16bd3d5",
   "metadata": {},
   "source": [
    "### CRUD-Operationen in Python mit dem Modul `requests`"
   ]
  },
  {
   "cell_type": "markdown",
   "id": "91a516c4-010c-4b49-a38c-4827272ec39c",
   "metadata": {},
   "source": [
    "#### CRUD-Operation `Read` -> `GET`\n",
    "- ruft Daten von einer Ressource ab, ohne sie zu verändern\n",
    "```html\n",
    "GET /users HTTP/1.1\n",
    "Host: jsonplaceholder.typicode.com\n",
    "```"
   ]
  },
  {
   "cell_type": "code",
   "execution_count": 68,
   "id": "3cf670f9-719b-4a4b-86b8-2b3e606b2d67",
   "metadata": {},
   "outputs": [
    {
     "name": "stdout",
     "output_type": "stream",
     "text": [
      "Leanne Graham\n",
      "Ervin Howell\n",
      "Clementine Bauch\n",
      "Patricia Lebsack\n",
      "Chelsey Dietrich\n",
      "Mrs. Dennis Schulist\n",
      "Kurtis Weissnat\n",
      "Nicholas Runolfsdottir V\n",
      "Glenna Reichert\n",
      "Clementina DuBuque\n"
     ]
    }
   ],
   "source": [
    "import requests\n",
    "\n",
    "url = \"https://jsonplaceholder.typicode.com/users\"\n",
    "\n",
    "response = requests.get(url)\n",
    "\n",
    "response.status_code\n",
    "\n",
    "data = response.json()\n",
    "for user in data:\n",
    "    print(user[\"name\"])"
   ]
  },
  {
   "cell_type": "markdown",
   "id": "d5649a7f-97f6-49fd-a921-ae7a7b35e36a",
   "metadata": {},
   "source": [
    "Diese Anfrage rufte eine Liste aller Benutzer ab"
   ]
  },
  {
   "cell_type": "markdown",
   "id": "2c96dca7-9dd5-4ed0-b8ea-5237d02bb0b9",
   "metadata": {},
   "source": [
    "### CRUD-Operation `Create` -> `POST`\n",
    "- Sendet Daten an den Server um eine neue Ressource zu erstellen\n",
    "\n",
    "```html\n",
    "POST /users HTTP/1.1\n",
    "Host: jsonplaceholder.typicode.com\n",
    "Content-Type: application/json\n",
    "\n",
    "{\n",
    "    \"name\": \"Alice\",\n",
    "    \"age\": 30\n",
    "}\n",
    "```"
   ]
  },
  {
   "cell_type": "code",
   "execution_count": 80,
   "id": "8272a434-3dd3-48ab-a495-0c68b5fb081b",
   "metadata": {},
   "outputs": [
    {
     "name": "stdout",
     "output_type": "stream",
     "text": [
      "new item successful created\n",
      "{'name': 'Alice', 'age': 30, 'id': 11}\n"
     ]
    }
   ],
   "source": [
    "new_user = {'name': 'Alice', 'age': 30}\n",
    "just_for_fun = ['Helga', 'Frederik', 'Elisabeth']\n",
    "response = requests.post(url, json=new_user)\n",
    "if response.status_code == 201:\n",
    "    print(\"new item successful created\")\n",
    "    print(response.json())"
   ]
  },
  {
   "cell_type": "code",
   "execution_count": 76,
   "id": "1a5beca6-0229-4354-a8e3-bc382c38789b",
   "metadata": {},
   "outputs": [
    {
     "data": {
      "text/plain": [
       "'[\"Helga\", \"Frederik\", \"Elisabeth\"]'"
      ]
     },
     "execution_count": 76,
     "metadata": {},
     "output_type": "execute_result"
    }
   ],
   "source": [
    "json.dumps(just_for_fun)"
   ]
  },
  {
   "cell_type": "markdown",
   "id": "e6d88ee8-d41c-4068-b1dd-7a06a8130366",
   "metadata": {},
   "source": [
    "Diese Anfrage (Request) erstellt einen neuen Benutzer mit den angegebenen Daten"
   ]
  },
  {
   "cell_type": "markdown",
   "id": "ff53a6f3-39dc-4487-bc53-a4b1729228ab",
   "metadata": {},
   "source": [
    "#### zusätzliches POST Beispiel\n",
    "```http\n",
    "  POST /posts HTTP/1.1\n",
    "  Host: example.com\n",
    "  Content-Type: application/json\n",
    "\n",
    "  {\n",
    "    \"title\": \"Neuer Beitrag\",\n",
    "    \"body\": \"Inhalt des Beitrags\",\n",
    "    \"userId\": 1\n",
    "  }\n",
    "  ```"
   ]
  },
  {
   "cell_type": "code",
   "execution_count": 81,
   "id": "426f4861-5392-4134-a503-e8d7ea29c4c1",
   "metadata": {},
   "outputs": [
    {
     "name": "stdout",
     "output_type": "stream",
     "text": [
      "{'title': 'Neuer Beitrag', 'body': 'Inhalt des Beitrags', 'userId': 1, 'id': 101}\n"
     ]
    }
   ],
   "source": [
    "new_post = {\"title\": \"Neuer Beitrag\", \"body\": \"Inhalt des Beitrags\", \"userId\": 1}\n",
    "response = requests.post(\"https://jsonplaceholder.typicode.com/posts\", json=new_post)\n",
    "print(response.json())"
   ]
  },
  {
   "cell_type": "markdown",
   "id": "e4ed1628-e78b-4260-8543-23954b773e2a",
   "metadata": {},
   "source": [
    "### CRUD-Operation `Update` -> `PUT` oder `PATCH`\n",
    "\n",
    "```http\n",
    "PUT /users/1 HTTP/1.1\n",
    "Host: example.com\n",
    "Content-Type: application/json\n",
    "\n",
    "{\n",
    "\"name\": \"Alice Smith\",\n",
    "\"age\": 31\n",
    "}\n",
    "```\n",
    "oder\n",
    "\n",
    "```http\n",
    "PATCH /users/1 HTTP/1.1\n",
    "Host: example.com\n",
    "Content-Type: application/json\n",
    "\n",
    "{\n",
    "\"name\": \"Alice Smith\",\n",
    "\"age\": 31\n",
    "}\n",
    "```"
   ]
  },
  {
   "cell_type": "code",
   "execution_count": 88,
   "id": "3456103b-3192-4416-91cf-6c09c3f4372d",
   "metadata": {},
   "outputs": [
    {
     "data": {
      "text/plain": [
       "{'name': 'Sherlock Holmes', 'job': 'Private Detective', 'id': 2}"
      ]
     },
     "execution_count": 88,
     "metadata": {},
     "output_type": "execute_result"
    }
   ],
   "source": [
    "url = 'https://jsonplaceholder.typicode.com/users'\n",
    "update_user = {\"name\": \"Sherlock Holmes\", \"job\": \"Private Detective\"}\n",
    "response = requests.put(url + \"/2\", json=update_user)\n",
    "response.json()"
   ]
  },
  {
   "cell_type": "code",
   "execution_count": 89,
   "id": "2a2c5937-4886-4fec-b74b-dcbbac4a97cc",
   "metadata": {},
   "outputs": [
    {
     "data": {
      "text/plain": [
       "{'id': 2,\n",
       " 'name': 'Sherlock Holmes',\n",
       " 'username': 'Antonette',\n",
       " 'email': 'Shanna@melissa.tv',\n",
       " 'address': {'street': 'Victor Plains',\n",
       "  'suite': 'Suite 879',\n",
       "  'city': 'Wisokyburgh',\n",
       "  'zipcode': '90566-7771',\n",
       "  'geo': {'lat': '-43.9509', 'lng': '-34.4618'}},\n",
       " 'phone': '010-692-6593 x09125',\n",
       " 'website': 'elementary_watson.co.uk',\n",
       " 'company': {'name': 'Deckow-Crist',\n",
       "  'catchPhrase': 'Proactive didactic contingency',\n",
       "  'bs': 'synergize scalable supply-chains'},\n",
       " 'job': 'Private Detective'}"
      ]
     },
     "execution_count": 89,
     "metadata": {},
     "output_type": "execute_result"
    }
   ],
   "source": [
    "url = 'https://jsonplaceholder.typicode.com/users'\n",
    "update_user = {\"name\": \"Sherlock Holmes\", \"job\": \"Private Detective\", \"website\": \"elementary_watson.co.uk\"}\n",
    "response = requests.patch(url + \"/2\", json=update_user)\n",
    "response.json()"
   ]
  },
  {
   "cell_type": "markdown",
   "id": "69193e9d-74de-43f5-b858-fe91d3b0493d",
   "metadata": {},
   "source": [
    "`PUT` und `PATCH` aktualisieren bereits bestehende Daten, ABER mit folgenden Unterschieden:\n",
    "- `PUT`-> überschreibt Daten komplett mit neuem Inhalt\n",
    "- `PATCH`-> ergänzt Daten. d.H. wenn ein key bereits vorhanden ist, wird dessen Wert überschrieben, wenn nicht vorhanden, wird dieser neu angelegt."
   ]
  },
  {
   "cell_type": "markdown",
   "id": "f69b868a-fa18-476c-9998-1e0850639ce8",
   "metadata": {},
   "source": [
    "### CRUD-Operation `Delete` -> `DELETE`\n",
    "\n",
    "- Entfernt eine Ressource vom Server\n",
    "\n",
    "```http\n",
    "DELETE /users/1 HTTP/1.1\n",
    "Host: example.com\n",
    "```"
   ]
  },
  {
   "cell_type": "code",
   "execution_count": 91,
   "id": "008ea3b4-65b8-45d2-b4bf-bc9596a2646b",
   "metadata": {},
   "outputs": [
    {
     "data": {
      "text/plain": [
       "{}"
      ]
     },
     "execution_count": 91,
     "metadata": {},
     "output_type": "execute_result"
    }
   ],
   "source": [
    "response = requests.delete(url + \"/3\")\n",
    "response.json()"
   ]
  },
  {
   "cell_type": "markdown",
   "id": "a70bdbd4-0333-431e-a45d-e6b5ed5cfcb9",
   "metadata": {},
   "source": [
    "Diese Anfrage löscht den Benutzer mit der ID 3"
   ]
  },
  {
   "cell_type": "code",
   "execution_count": null,
   "id": "a3ab4a82-d401-45f6-bcd7-4b133b020f71",
   "metadata": {},
   "outputs": [],
   "source": []
  }
 ],
 "metadata": {
  "kernelspec": {
   "display_name": "Python 3 (ipykernel)",
   "language": "python",
   "name": "python3"
  },
  "language_info": {
   "codemirror_mode": {
    "name": "ipython",
    "version": 3
   },
   "file_extension": ".py",
   "mimetype": "text/x-python",
   "name": "python",
   "nbconvert_exporter": "python",
   "pygments_lexer": "ipython3",
   "version": "3.12.8"
  }
 },
 "nbformat": 4,
 "nbformat_minor": 5
}
