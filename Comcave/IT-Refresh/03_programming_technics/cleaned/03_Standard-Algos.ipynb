{
 "cells": [
  {
   "cell_type": "markdown",
   "id": "7b114140",
   "metadata": {},
   "source": [
    "# **3. Standardalgorithmen**\n",
    "\n",
    "## **3.1 Suchalgorithmen: Die Lineare Suche**\n",
    "\n",
    "Eines der häufigsten Probleme in der Programmierung ist es, ein bestimmtes Element in einer großen Datenmenge zu finden. Die einfachste Methode dafür ist die **Lineare Suche**.\n",
    "\n",
    "**Was ist die Lineare Suche?**\n",
    "Der Algorithmus geht eine Liste von Anfang bis Ende durch und vergleicht jedes Element einzeln mit dem gesuchten Wert. Wenn das Element gefunden wird, stoppt die Suche und gibt den Fundort (den Index) zurück. Wird das Element bis zum Ende der Liste nicht gefunden, meldet der Algorithmus einen Misserfolg. Man nennt dies auch eine \"Brute-Force\"-Methode.\n",
    "\n",
    "**Die Logik Schritt für Schritt:**\n",
    "\n",
    "1.  **Eingabe:** Eine Liste von Elementen und ein gesuchter Wert (Ziel).\n",
    "2.  **Schritt 1:** Gehe zum ersten Element der Liste.\n",
    "3.  **Schritt 2:** Vergleiche das aktuelle Element mit dem Ziel.\n",
    "4.  **Schritt 3:** Wenn sie übereinstimmen, gib den aktuellen Index zurück und beende die Suche.\n",
    "5.  **Schritt 4:** Wenn sie nicht übereinstimmen, gehe zum nächsten Element und wiederhole ab Schritt 2.\n",
    "6.  **Schritt 5:** Wenn das Ende der Liste erreicht ist, ohne das Element zu finden, gib einen speziellen Wert (z.B. -1) zurück, um anzuzeigen, dass das Element nicht in der Liste ist.\n",
    "\n",
    "**Durchgerechnetes Beispiel:**\n",
    "\n",
    "  * **Liste:** `[10, 30, 50, 20, 40]`\n",
    "  * **Ziel:** `20`\n",
    "\n",
    "<!-- end list -->\n",
    "\n",
    "1.  Vergleiche `10` mit `20`. Ungleich.\n",
    "2.  Vergleiche `30` mit `20`. Ungleich.\n",
    "3.  Vergleiche `50` mit `20`. Ungleich.\n",
    "4.  Vergleiche `20` mit `20`. **Gleich\\!**\n",
    "5.  **Ergebnis:** Gib den aktuellen Index zurück (in den meisten Sprachen `3`)."
   ]
  },
  {
   "cell_type": "code",
   "execution_count": null,
   "id": "7c1c894f",
   "metadata": {
    "vscode": {
     "languageId": "plaintext"
    }
   },
   "outputs": [],
   "source": []
  },
  {
   "cell_type": "code",
   "execution_count": null,
   "id": "af692f14",
   "metadata": {
    "vscode": {
     "languageId": "plaintext"
    }
   },
   "outputs": [],
   "source": []
  },
  {
   "cell_type": "markdown",
   "id": "5fd14aed",
   "metadata": {},
   "source": [
    "## **3.2 Sortieralgorithmen: Bubble Sort**\n",
    "\n",
    "Das Sortieren von Daten ist eine der fundamentalsten Aufgaben in der Informatik. **Bubble Sort** ist ein einfacher Sortieralgorithmus, der oft gelehrt wird, weil seine Arbeitsweise sehr anschaulich ist.\n",
    "\n",
    "**Was ist Bubble Sort?**\n",
    "Der Algorithmus durchläuft eine Liste mehrfach. In jedem Durchlauf vergleicht er jedes benachbarte Elementpaar und vertauscht die Elemente, wenn sie in der falschen Reihenfolge sind. Dadurch \"blubbern\" die größten Elemente wie Luftblasen schrittweise an das Ende der Liste. Dieser Vorgang wird wiederholt, bis in einem kompletten Durchlauf keine Vertauschungen mehr nötig sind.\n",
    "\n",
    "**Die Logik Schritt für Schritt:**\n",
    "\n",
    "1.  **Eingabe:** Eine unsortierte Liste von Zahlen.\n",
    "2.  **Äußere Schleife:** Wiederhole den gesamten Prozess, solange die Liste noch nicht sortiert ist.\n",
    "3.  **Innere Schleife:** Gehe vom ersten bis zum vorletzten Element.\n",
    "4.  **Vergleich:** Vergleiche das aktuelle Element mit seinem rechten Nachbarn.\n",
    "5.  **Tausch:** Wenn das aktuelle Element größer ist als sein Nachbar, tausche ihre Plätze.\n",
    "6.  **Optimierung:** Wenn eine komplette innere Schleife durchläuft, ohne einen einzigen Tausch durchzuführen, ist die Liste sortiert und der Algorithmus kann vorzeitig beendet werden.\n",
    "7.  **Ergebnis:** Die sortierte Liste.\n",
    "\n",
    "**Durchgerechnetes Beispiel (erster Durchlauf):**\n",
    "\n",
    "  * **Liste:** `[5, 1, 4, 2]`\n",
    "\n",
    "<!-- end list -->\n",
    "\n",
    "1.  Vergleiche `5` und `1`. Tausch\\! -\\> `[1, 5, 4, 2]`\n",
    "2.  Vergleiche `5` und `4`. Tausch\\! -\\> `[1, 4, 5, 2]`\n",
    "3.  Vergleiche `5` und `2`. Tausch\\! -\\> `[1, 4, 2, 5]`\n",
    "\n",
    "<!-- end list -->\n",
    "\n",
    "  * *Nach dem ersten Durchlauf ist das größte Element (`5`) garantiert an der richtigen Position am Ende.*"
   ]
  },
  {
   "cell_type": "code",
   "execution_count": null,
   "id": "db8a113a",
   "metadata": {
    "vscode": {
     "languageId": "plaintext"
    }
   },
   "outputs": [],
   "source": []
  },
  {
   "cell_type": "code",
   "execution_count": null,
   "id": "790e5ec6",
   "metadata": {
    "vscode": {
     "languageId": "plaintext"
    }
   },
   "outputs": [],
   "source": []
  },
  {
   "cell_type": "markdown",
   "id": "7eae6dec",
   "metadata": {},
   "source": [
    "## **3.3 Mathematische Algorithmen: Der Euklidische Algorithmus**\n",
    "\n",
    "Viele Algorithmen haben ihren Ursprung in der Mathematik. Der **Euklidische Algorithmus** ist einer der ältesten bekannten Algorithmen und dient zur Berechnung des **größten gemeinsamen Teilers (GGT)** zweier Zahlen.\n",
    "\n",
    "**Was ist der GGT und wofür ist er nützlich?**\n",
    "Der GGT ist die größte positive ganze Zahl, durch die zwei andere Zahlen ohne Rest teilbar sind. Ein praktischer Anwendungsfall ist das **Kürzen von Brüchen**. Wenn man Zähler und Nenner durch ihren GGT teilt, erhält man den vollständig gekürzten Bruch (z.B. GGT von 12 und 18 ist 6; `12/6` = 2, `18/6` = 3 -\\> Der Bruch `12/18` wird zu `2/3`).\n",
    "\n",
    "**Die Logik Schritt für Schritt (moderne Variante mit Modulo):**\n",
    "\n",
    "1.  **Eingabe:** Zwei positive ganze Zahlen, `a` und `b`.\n",
    "2.  **Schleife:** Solange `b` nicht 0 ist, wiederhole:\n",
    "3.  **Schritt 1:** Berechne den Rest `r` von `a` geteilt durch `b`.\n",
    "4.  **Schritt 2:** Setze `a` auf den alten Wert von `b`.\n",
    "5.  **Schritt 3:** Setze `b` auf den Wert des Rests `r`.\n",
    "6.  **Ergebnis:** Wenn die Schleife endet (weil `b` gleich 0 ist), ist der in `a` verbliebene Wert der GGT.\n",
    "\n",
    "**Durchgerechnetes Beispiel:**\n",
    "\n",
    "  * **a = 48**, **b = 18**\n",
    "\n",
    "<!-- end list -->\n",
    "\n",
    "1.  Schleife startet, da `b != 0`. Rest `r` von `48 % 18` ist `12`. `a` wird `18`, `b` wird `12`.\n",
    "2.  Schleife läuft, da `b != 0`. Rest `r` von `18 % 12` ist `6`. `a` wird `12`, `b` wird `6`.\n",
    "3.  Schleife läuft, da `b != 0`. Rest `r` von `12 % 6` ist `0`. `a` wird `6`, `b` wird `0`.\n",
    "4.  Schleife endet, da `b == 0`.\n",
    "5.  **Ergebnis:** Der letzte Wert von `a` ist **6**."
   ]
  },
  {
   "cell_type": "code",
   "execution_count": null,
   "id": "71dc4acd",
   "metadata": {
    "vscode": {
     "languageId": "plaintext"
    }
   },
   "outputs": [],
   "source": []
  },
  {
   "cell_type": "code",
   "execution_count": null,
   "id": "e2ba9d68",
   "metadata": {
    "vscode": {
     "languageId": "plaintext"
    }
   },
   "outputs": [],
   "source": []
  }
 ],
 "metadata": {
  "language_info": {
   "name": "python"
  }
 },
 "nbformat": 4,
 "nbformat_minor": 5
}
