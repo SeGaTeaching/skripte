{
 "cells": [
  {
   "cell_type": "markdown",
   "id": "ab76dd9f",
   "metadata": {},
   "source": [
    "# **Fehlerbehandlung & Anwendungs-Planung**\n",
    "\n",
    "## **4.1 Mit Fehlern professionell umgehen**\n",
    "\n",
    "Ein Programm zu schreiben ist ein Prozess, bei dem zwangsläufig Fehler auftreten. Ein professioneller Entwickler zeichnet sich nicht dadurch aus, keine Fehler zu machen, sondern dadurch, wie systematisch er sie findet und wie robust er seinen Code gegen sie macht.\n",
    "\n",
    "**Die drei häufigsten Fehlerarten:**\n",
    "\n",
    "1.  **Syntaxfehler:** Das sind \"Grammatikfehler\" in unserem Code. Ein Komma ist falsch gesetzt, eine Klammer fehlt. Das Programm lässt sich gar nicht erst ausführen. Der Compiler oder Interpreter bricht sofort mit einer Fehlermeldung ab.\n",
    "2.  **Laufzeitfehler (Exceptions):** Das sind \"Unfälle\", die während der Ausführung des Programms passieren. Der Code ist grammatikalisch korrekt, aber es tritt eine unerwartete Situation auf.\n",
    "      * **Beispiele:** Division durch Null (`ZeroDivisionError`), ein Zugriff auf einen Listen-Index, den es nicht gibt (`IndexError`), oder der Versuch, mit einem Text zu rechnen (`TypeError`).\n",
    "3.  **Logische Fehler:** Die gefährlichsten Fehler. Das Programm läuft ohne Absturz, liefert aber ein **falsches Ergebnis**. Ein Beispiel wäre ein Rabatt, der aufgerechnet statt abgezogen wird. Diese Fehler sind nur durch sorgfältiges Testen und Debugging zu finden.\n",
    "\n",
    "**Vertiefung Debugger: `Step Into` und der Call Stack**\n",
    "Wir kennen bereits Breakpoints und `Step Over`. Für die Analyse von Funktionen kommen zwei weitere Konzepte hinzu:\n",
    "\n",
    "  * **Step Into:** Wenn der Debugger auf einem Funktionsaufruf steht, springen wir mit `Step Into` **in den Code dieser Funktion hinein**, um ihn Zeile für Zeile zu untersuchen.\n",
    "  * **Call Stack (Aufrufstapel):** Dies ist ein Fenster im Debugger, das wie ein \"Brotkrumenpfad\" funktioniert. Es zeigt die Kette der Funktionsaufrufe an: `main()` hat `funktionA()` aufgerufen, welche `funktionB()` aufgerufen hat. So wissen wir immer genau, woher wir kommen und wohin das Programm zurückkehren wird.\n",
    "\n",
    "**Strukturierte Fehlerbehandlung: `try` und `catch`**\n",
    "Anstatt unser Programm bei einem Laufzeitfehler abstürzen zu lassen, können wir ein \"Sicherheitsnetz\" spannen. Wir können riskanten Code in einen `try`-Block packen und im dazugehörigen `except`- oder `catch`-Block einen Notfallplan definieren, falls ein Fehler auftritt.\n",
    "\n",
    "**Beispiel (Python):**\n",
    "\n",
    "```python\n",
    "try:\n",
    "  # Riskanter Code\n",
    "  zahl = int(input(\"Gib eine Zahl ein: \"))\n",
    "  ergebnis = 10 / zahl\n",
    "  print(ergebnis)\n",
    "except ZeroDivisionError:\n",
    "  # Notfallplan für Division durch Null\n",
    "  print(\"Fehler: Man kann nicht durch Null teilen!\")\n",
    "except ValueError:\n",
    "  # Notfallplan für falsche Eingabe (z.B. Text statt Zahl)\n",
    "  print(\"Fehler: Das war keine gültige Zahl!\")\n",
    "```"
   ]
  },
  {
   "cell_type": "code",
   "execution_count": null,
   "id": "27af33cc",
   "metadata": {
    "vscode": {
     "languageId": "plaintext"
    }
   },
   "outputs": [],
   "source": []
  },
  {
   "cell_type": "markdown",
   "id": "24c161e6",
   "metadata": {},
   "source": [
    "## **4.2 Praxis-Anwendung: Die ToDo-Listen-Verwaltung planen**\n",
    "\n",
    "Jetzt wenden wir unser gesamtes bisheriges Wissen an, um eine erste, kleine aber vollständige Anwendung von Grund auf zu planen.\n",
    "\n",
    "**Die Anforderungen (Was soll das Programm können?):**\n",
    "\n",
    "1.  Das Programm soll eine Liste von ToDo-Aufgaben verwalten.\n",
    "2.  Das Programm soll in einer Endlosschleife laufen, bis der Benutzer es explizit beendet.\n",
    "3.  Der Benutzer soll durch die Eingabe von Befehlen mit dem Programm interagieren.\n",
    "4.  Folgende Befehle müssen umgesetzt werden:\n",
    "      * **`neu`**: Das Programm fragt nach einer neuen Aufgabe und fügt diese der ToDo-Liste hinzu.\n",
    "      * **`liste`**: Das Programm gibt alle aktuell in der Liste gespeicherten Aufgaben aus.\n",
    "      * **`ende`**: Das Programm wird beendet.\n",
    "\n"
   ]
  },
  {
   "cell_type": "code",
   "execution_count": null,
   "id": "b26ee77d",
   "metadata": {
    "vscode": {
     "languageId": "plaintext"
    }
   },
   "outputs": [],
   "source": []
  },
  {
   "cell_type": "markdown",
   "id": "d3e33b1b",
   "metadata": {},
   "source": []
  }
 ],
 "metadata": {
  "language_info": {
   "name": "python"
  }
 },
 "nbformat": 4,
 "nbformat_minor": 5
}
