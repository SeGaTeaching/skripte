{
 "cells": [
  {
   "cell_type": "markdown",
   "id": "4cd869eb",
   "metadata": {},
   "source": [
    "# **Wiederverwertbarkeit von Code (Funktionen)**\n",
    "\n",
    "## **1.1 Warum Funktionen? Das DRY-Prinzip**\n",
    "\n",
    "In fast jedem Programm gibt es Aufgaben, die sich wiederholen. Man könnte den entsprechenden Code-Block einfach kopieren und an jeder benötigten Stelle einfügen. Doch dieser Ansatz ist extrem fehleranfällig und ineffizient – stellt euch vor, ihr entdeckt einen Fehler und müsst ihn an zehn verschiedenen Stellen korrigieren!\n",
    "\n",
    "Aus diesem Grund ist eines der wichtigsten Prinzipien in der Softwareentwicklung das **DRY-Prinzip**: **\"Don't Repeat Yourself\"** (Wiederhole dich nicht). Um Code-Wiederholungen zu vermeiden, verpacken wir wiederverwendbare Logik in **Funktionen**. Eine Funktion ist wie ein spezialisiertes Mini-Programm innerhalb unseres Hauptprogramms. Wir definieren es einmal und können es dann beliebig oft aufrufen.\n",
    "\n",
    "**Beispiel für schlechten, repetitiven Code:**\n",
    "\n",
    "```python\n",
    "# Ohne Funktion\n",
    "print(\"--- Rechnung wird erstellt ---\")\n",
    "print(\"Zwischensumme: 100€\")\n",
    "print(\"--- Bitte bezahlen ---\")\n",
    "\n",
    "print(\"--- Rechnung wird erstellt ---\")\n",
    "print(\"Zwischensumme: 250€\")\n",
    "print(\"--- Bitte bezahlen ---\")\n",
    "```\n",
    "\n",
    "## **1.2 Die Anatomie einer Funktion (Deklaration & Syntax)**\n",
    "\n",
    "Bevor wir Funktionen nutzen, müssen wir verstehen, wie sie aufgebaut sind. Eine Funktion ist wie ein Mini-Rezept und hat immer feste Bestandteile. Die genaue Schreibweise (Syntax) unterscheidet sich je nach Sprache, aber die Konzepte sind identisch.\n",
    "\n",
    "**Die Kernkomponenten:**\n",
    "\n",
    "1.  **Schlüsselwort:** Ein Wort, das der Sprache sagt: \"Achtung, jetzt kommt eine Funktionsdefinition\" (z.B. `def` in Python, `function` in JavaScript).\n",
    "2.  **Funktionsname:** Ein selbstgewählter, aussagekräftiger Name (z.B. `berechne_preis`).\n",
    "3.  **Parameterliste:** Eine (möglicherweise leere) Liste von Platzhaltern in Klammern `()`, die definieren, welche Daten die Funktion entgegennimmt.\n",
    "4.  **Funktionskörper:** Der eingerückte Code-Block, der die eigentliche Logik enthält.\n",
    "5.  **Rückgabewert:** Ein optionaler `return`-Befehl, der das Ergebnis der Funktion an den Aufrufer zurückgibt.\n",
    "\n",
    "**Syntax-Vergleich:**\n",
    "\n",
    "| Sprache | Beispiel-Deklaration |\n",
    "| :--- | :--- |\n",
    "| **Python** | `def berechne_preis(menge, einzelpreis):` |\n",
    "| **JavaScript** | `function berechnePreis(menge, einzelpreis) {` |\n",
    "| **Java** | `public static double berechnePreis(int menge, double einzelpreis) {` |\n",
    "\n",
    "Man beachte die Unterschiede: Java verlangt die explizite Angabe der Datentypen für die Parameter und den Rückgabewert (`double`), während Python und JavaScript dynamisch typisiert sind."
   ]
  },
  {
   "cell_type": "code",
   "execution_count": null,
   "id": "d5e0e1ad",
   "metadata": {
    "vscode": {
     "languageId": "plaintext"
    }
   },
   "outputs": [],
   "source": []
  },
  {
   "cell_type": "markdown",
   "id": "03830366",
   "metadata": {},
   "source": [
    "## **1.3 Funktionen mit Parametern: Daten übergeben**\n",
    "\n",
    "Eine Funktion wird erst richtig mächtig, wenn wir ihr bei jedem Aufruf unterschiedliche Daten zur Verarbeitung übergeben können. Stellt euch ein Werkzeug vor, dem ihr Material zur Bearbeitung gebt. Diese \"Daten-Eingänge\" einer Funktion nennen wir **Parameter**.\n",
    "\n",
    "  * **Parameter:** Die Variable in der Klammer bei der **Definition** der Funktion (z.B. `name`). Sie ist ein Platzhalter.\n",
    "  * **Argument:** Der konkrete Wert, den man beim **Aufruf** der Funktion übergibt (z.B. `\"Anna\"`).\n",
    "\n",
    "**Beispiel:**\n",
    "\n",
    "```python\n",
    "# 'name' ist der Parameter\n",
    "def gruss_mit_namen(name):\n",
    "  print(f\"Hallo, {name}!\")\n",
    "\n",
    "# \"Anna\" ist das Argument, das dem Parameter 'name' zugewiesen wird.\n",
    "gruss_mit_namen(\"Anna\") \n",
    "```"
   ]
  },
  {
   "cell_type": "code",
   "execution_count": null,
   "id": "93280a75",
   "metadata": {
    "vscode": {
     "languageId": "plaintext"
    }
   },
   "outputs": [],
   "source": []
  },
  {
   "cell_type": "markdown",
   "id": "63826681",
   "metadata": {},
   "source": [
    "## **1.4 Funktionen mit Rückgabewerten (`return`)**\n",
    "\n",
    "Oft soll eine Funktion nicht nur etwas tun (wie Text ausgeben), sondern uns ein berechnetes Ergebnis **zurückliefern**, mit dem wir im Hauptprogramm weiterarbeiten können. Dafür verwenden wir das Schlüsselwort `return`. Eine Funktion ohne `return` ist wie ein Lautsprecher, der das Ergebnis in den Raum ruft. Eine Funktion mit `return` ist wie ein Bote, der dir das Ergebnis auf einem Zettel übergibt, damit du es weiterverwenden kannst.\n",
    "\n",
    "Eine Funktion wird **sofort beendet**, sobald sie auf ein `return`-Statement trifft. Code nach einem `return` innerhalb desselben Logik-Blocks wird ignoriert.\n",
    "\n",
    "**Beispiel:**\n",
    "\n",
    "```python\n",
    "def addiere(zahl1, zahl2):\n",
    "  summe = zahl1 + zahl2\n",
    "  return summe\n",
    "\n",
    "# Das Ergebnis der Funktion wird in einer Variable gespeichert\n",
    "ergebnis = addiere(5, 3) \n",
    "print(ergebnis) # Gibt 8 aus\n",
    "```"
   ]
  },
  {
   "cell_type": "code",
   "execution_count": null,
   "id": "9e7ba4d5",
   "metadata": {
    "vscode": {
     "languageId": "plaintext"
    }
   },
   "outputs": [],
   "source": []
  },
  {
   "cell_type": "markdown",
   "id": "e0c64685",
   "metadata": {},
   "source": [
    "## **1.5 Parameter für Fortgeschrittene**\n",
    "\n",
    "### **1.5.1 Default-Parameter & Methoden-Überladen**\n",
    "\n",
    "Oft hat ein Parameter fast immer denselben Wert (z.B. ein Steuersatz). Um nicht bei jedem Aufruf denselben Wert übergeben zu müssen, können wir einen **Standardwert (Default-Parameter)** festlegen. Dieser wird genutzt, falls beim Aufruf kein Argument angegeben wird.\n",
    "\n",
    "In **Python** und **JavaScript** geschieht dies direkt in der Funktionssignatur:\n",
    "`def meine_funktion(param1, param2=default_wert):`\n",
    "\n",
    "In **Java** gibt es keine direkten Default-Parameter. Hier löst man das Problem elegant über das **Methoden-Überladen (Method Overloading)**. Man definiert einfach mehrere Methoden mit demselben Namen, aber unterschiedlichen Parameterlisten. Eine \"kurze\" Methode ruft intern die \"lange\" Methode mit dem Standardwert auf.\n",
    "\n",
    "### **1.5.2 Pass-by-Value vs. Pass-by-Reference (Listen als Parameter)**\n",
    "\n",
    "Wenn wir Daten an eine Funktion übergeben, gibt es zwei grundlegende Mechanismen:\n",
    "\n",
    "  * **Pass-by-Value:** Bei primitiven Datentypen (Zahlen, Booleans) wird nur eine **Kopie des Wertes** übergeben. Änderungen am Parameter innerhalb der Funktion haben keine Auswirkung auf die ursprüngliche Variable außerhalb.\n",
    "  * **Pass-by-Reference:** Bei komplexen, veränderlichen Datentypen (wie Listen, Arrays, Dictionaries) wird nicht das Objekt selbst, sondern nur seine **Speicheradresse (Referenz)** übergeben. Die Funktion arbeitet also direkt am Original. Änderungen innerhalb der Funktion sind daher **auch außerhalb sichtbar\\!**\n",
    "\n",
    "### **1.5.3 Die Falle: Veränderliche Default-Parameter in Python**\n",
    "\n",
    "Dies ist ein extrem wichtiges Konzept, das spezifisch für Python ist. Ein Default-Parameter wird **nur ein einziges Mal** erstellt – wenn die Funktion definiert wird. Verwendet man einen veränderlichen Typ (wie eine Liste) als Default, wird bei jedem Aufruf, der diesen Default nutzt, **dasselbe Listenobjekt** wiederverwendet und weiter verändert.\n",
    "\n",
    "**FALSCH in Python:** `def fuege_hinzu(element, liste=[]): ...`\n",
    "**KORREKT in Python:** `def fuege_hinzu(element, liste=None): if liste is None: liste = [] ...`\n",
    "\n",
    "Dieses Problem tritt in JavaScript so nicht auf, da dort bei jedem Aufruf ein neues leeres Array als Default erstellt wird. Java umgeht es durch das Methoden-Überladen.\n",
    "\n",
    "### **1.5.4 Funktionen als Parameter & Anonyme Funktionen (Lambdas)**\n",
    "\n",
    "In vielen modernen Sprachen sind Funktionen \"Bürger erster Klasse\". Das bedeutet, man kann eine Funktion wie eine normale Variable behandeln und sie z.B. **als Parameter an eine andere Funktion übergeben**. Dies ist ein extrem mächtiges Konzept, das z.B. für Event-Handler (Was soll passieren, wenn ein Button geklickt wird?) oder Sortierlogiken verwendet wird.\n",
    "\n",
    "Oft möchte man für diesen Zweck keine vollwertige Funktion mit `def` oder `function` definieren, weil man sie nur dieses eine Mal braucht. Hierfür gibt es **anonyme Funktionen** (auch Lambda-Funktionen oder Pfeilfunktionen genannt). Sie sind eine kompakte Kurzschreibweise für einfache, namenlose Funktionen.\n",
    "\n",
    "**Syntax-Vergleich für eine einfache Additions-Funktion:**\n",
    "\n",
    "| Sprache | Normale Funktion | Anonyme Funktion (Lambda/Pfeilfunktion) |\n",
    "| :--- | :--- | :--- |\n",
    "| **Python** | `def add(x, y): return x + y` | `lambda x, y: x + y` |\n",
    "| **JavaScript** | `function add(x, y) { return x + y; }` | `(x, y) => x + y` |\n",
    "| **Java** | *(komplexer, da Interfaces benötigt)* | `(x, y) -> x + y` |"
   ]
  },
  {
   "cell_type": "code",
   "execution_count": null,
   "id": "0ba06332",
   "metadata": {
    "vscode": {
     "languageId": "plaintext"
    }
   },
   "outputs": [],
   "source": []
  },
  {
   "cell_type": "markdown",
   "id": "88cdeb55",
   "metadata": {},
   "source": [
    "## **1.6 Gültigkeitsbereiche (Scope)**\n",
    "\n",
    "Der **Scope** einer Variable definiert, wo im Code sie sichtbar und nutzbar ist. Jede Funktion öffnet ihren eigenen, **lokalen Scope**.\n",
    "\n",
    "  * **Lokale Variablen:** Werden **innerhalb** einer Funktion deklariert und existieren nur dort. Sie werden nach Beendigung der Funktion \"entsorgt\".\n",
    "  * **Globale Variablen:** Werden auf der obersten Ebene des Skripts deklariert. Sie sind überall verfügbar.\n",
    "\n",
    "**Shadowing (Variablen-Überschattung)**\n",
    "Wenn eine lokale Variable in einer Funktion denselben Namen hat wie eine globale Variable, \"überschattet\" die lokale Variable die globale. Innerhalb der Funktion wird immer auf die lokale Variable zugegriffen. Die globale Variable bleibt davon unberührt.\n",
    "\n",
    "```python\n",
    "x = \"Ich bin global\"\n",
    "\n",
    "def scope_demo():\n",
    "  # Dieses 'x' ist eine neue, lokale Variable und überschattet die globale.\n",
    "  x = \"Ich bin lokal\"\n",
    "  print(f\"Innerhalb der Funktion: x ist '{x}'\")\n",
    "\n",
    "scope_demo()\n",
    "print(f\"Außerhalb der Funktion: x ist '{x}'\") # Gibt \"Ich bin global\" aus\n",
    "```\n",
    "\n",
    "**Wichtige Regel:** Funktionen sollten idealerweise in sich geschlossene \"Black Boxes\" sein. Der direkte Zugriff auf oder die Veränderung von globalen Variablen aus einer Funktion heraus gilt als schlechter Programmierstil, da es zu schwer nachvollziehbaren **Seiteneffekten (Side Effects)** führt."
   ]
  },
  {
   "cell_type": "code",
   "execution_count": null,
   "id": "bdc0d43b",
   "metadata": {
    "vscode": {
     "languageId": "plaintext"
    }
   },
   "outputs": [],
   "source": []
  },
  {
   "cell_type": "markdown",
   "id": "eeb7e11f",
   "metadata": {},
   "source": [
    "## **1.7 Wiederverwertbarkeit II (Rekursion)**\n",
    "\n",
    "### **1.7.1 Wiederholung: Die Iterative Lösung**\n",
    "\n",
    "Bisher haben wir Probleme, die Wiederholungen erfordern, immer **iterativ** gelöst. \"Iterativ\" bedeutet schrittweise und wiederholend, typischerweise unter Verwendung einer Schleife (`for` oder `while`).\n",
    "\n",
    "**Beispiel: Fakultätsberechnung (Iterativ)**\n",
    "Die Fakultät einer Zahl `n` (geschrieben als `n!`) ist das Produkt aller ganzen Zahlen von 1 bis `n`. Also `5! = 5 * 4 * 3 * 2 * 1 = 120`.\n",
    "\n",
    "Eine iterative Funktion zur Berechnung würde eine Schleife nutzen, um das Ergebnis schrittweise aufzubauen:\n",
    "\n",
    "```python\n",
    "# Python - Iterative Lösung\n",
    "def fakultaet_iterativ(n):\n",
    "  if n == 0:\n",
    "    return 1\n",
    "  ergebnis = 1\n",
    "  for i in range(1, n + 1):\n",
    "    ergebnis *= i\n",
    "  return ergebnis\n",
    "\n",
    "print(f\"5! (iterativ) = {fakultaet_iterativ(5)}\")\n",
    "```\n",
    "\n",
    "-----\n",
    "\n",
    "### **1.7.2 Einführung in die Rekursion: Eine neue Denkweise**\n",
    "\n",
    "Rekursion ist eine alternative Methode zur Iteration, um Wiederholungen zu lösen. Stellt euch Rekursion wie eine russische Matrjoschka-Puppe vor: Jede Puppe enthält eine etwas kleinere Version ihrer selbst, bis man bei der kleinsten, nicht mehr zu öffnenden Puppe ankommt.\n",
    "\n",
    "**Definition:** Eine **rekursive Funktion** ist eine Funktion, die sich selbst aufruft, um ein Problem zu lösen. Sie bricht das Problem in kleinere, identische Teilprobleme herunter, bis sie auf ein sehr einfaches Problem stößt, das sie direkt lösen kann.\n",
    "\n",
    "**Die zwei goldenen Regeln der Rekursion:**\n",
    "\n",
    "1.  **Der Basisfall (Base Case):** Es muss eine einfache **Abbruchbedingung** geben, die die Kette von Selbstaufrufen beendet. Dies ist die kleinste Matrjoschka-Puppe. Ohne Basisfall ruft sich die Funktion unendlich oft selbst auf und führt zum Programmabsturz (\"Stack Overflow\").\n",
    "2.  **Der rekursive Schritt (Recursive Step):** Der Teil der Funktion, in dem sie sich selbst erneut aufruft, aber mit einer Eingabe, die dem Basisfall einen Schritt näher ist. (Die Funktion öffnet die Puppe und übergibt die kleinere Puppe an ihren Klon).\n",
    "\n",
    "**Deep Dive: Der Call Stack (Aufrufstapel)**\n",
    "Wie merkt sich der Computer, wo er in den ganzen verschachtelten Aufrufen ist? Er nutzt den **Call Stack**. Stellt es euch wie einen Stapel Notizzettel vor. Jedes Mal, wenn eine Funktion aufgerufen wird, legt der Computer einen neuen Zettel mit den lokalen Variablen dieser Funktion oben auf den Stapel. Wenn eine Funktion mit `return` beendet wird, wird der oberste Zettel vom Stapel genommen und das Ergebnis an die darunterliegende Funktion weitergereicht."
   ]
  },
  {
   "cell_type": "code",
   "execution_count": null,
   "id": "bde99923",
   "metadata": {
    "vscode": {
     "languageId": "plaintext"
    }
   },
   "outputs": [],
   "source": []
  },
  {
   "cell_type": "markdown",
   "id": "953a0bea",
   "metadata": {
    "vscode": {
     "languageId": "plaintext"
    }
   },
   "source": [
    "### **1.7.3 Iteration vs. Rekursion in der Praxis**\n",
    "\n",
    "Schauen wir uns nun die rekursive Lösung für die Fakultät an. Die mathematische Definition lautet: `n! = n * (n-1)!`, mit dem Basisfall `0! = 1`. Man sieht, die Definition ist bereits von Natur aus rekursiv.\n",
    "\n",
    "**Beispiel: Fakultätsberechnung (Rekursiv)**\n",
    "\n",
    "```python\n",
    "# Python - Rekursive Lösung\n",
    "def fakultaet_rekursiv(n):\n",
    "  # 1. Basisfall: Die kleinste Puppe, die nicht mehr geöffnet werden kann.\n",
    "  if n == 0:\n",
    "    return 1\n",
    "  # 2. Rekursiver Schritt: Die Funktion ruft sich selbst mit einem kleineren Problem auf.\n",
    "  else:\n",
    "    return n * fakultaet_rekursiv(n - 1)\n",
    "\n",
    "print(f\"5! (rekursiv) = {fakultaet_rekursiv(5)}\")\n",
    "```\n",
    "\n",
    "**Vergleich: Wann nehme ich was?**\n",
    "\n",
    "| Kriterium | Iterative Lösung (Schleife) | Rekursive Lösung |\n",
    "| :--- | :--- | :--- |\n",
    "| **Lesbarkeit** | Oft länger, aber für Anfänger leichter nachzuvollziehen. | Oft kürzer und eleganter, näher an der mathematischen Definition. |\n",
    "| **Performance**| **Schneller** und **speichereffizienter**. | **Langsamer** und verbraucht mehr Speicher durch den Call Stack. |\n",
    "| **Anwendungsfälle**| Die meisten alltäglichen Wiederholungen. | Probleme, die von Natur aus rekursiv sind (z.B. Baumstrukturen durchsuchen, einige Sortieralgorithmen wie Quicksort). |"
   ]
  },
  {
   "cell_type": "markdown",
   "id": "6e4d1391",
   "metadata": {},
   "source": []
  }
 ],
 "metadata": {
  "language_info": {
   "name": "python"
  }
 },
 "nbformat": 4,
 "nbformat_minor": 5
}
