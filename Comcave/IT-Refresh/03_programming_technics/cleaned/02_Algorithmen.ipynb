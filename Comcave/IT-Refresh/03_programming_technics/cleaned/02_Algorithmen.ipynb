{
 "cells": [
  {
   "cell_type": "markdown",
   "id": "e16098b0",
   "metadata": {},
   "source": [
    "# **Was ist ein Algorithmus?**\n",
    "\n",
    "## **1.1 Herkunft & Definition**\n",
    "\n",
    "Jedes Mal, wenn wir ein Programm schreiben, erstellen wir einen **Algorithmus**. Das Konzept ist aber viel älter als der Computer selbst. Der Begriff \"Algorithmus\" ist eine Abwandlung des Namens des persischen Mathematikers **Muhammed al-Chwarizmi**, der um 825 n. Chr. ein bahnbrechendes Lehrbuch über das Rechnen verfasste.\n",
    "\n",
    "Ein Algorithmus ist im Kern nichts anderes als ein Kochrezept oder eine Bauanleitung. Er legt das **WIE** der Problemlösung fest.\n",
    "\n",
    "**Definition:** Ein Algorithmus ist eine **genau definierte Handlungsvorschrift** zur Lösung eines Problems oder einer bestimmten Art von Problemen (einer **Problemklasse**) in **endlich vielen Schritten**.\n",
    "\n",
    "Ein Algorithmus löst also nicht nur die Aufgabe \"Sortiere die Zahlen [3, 1, 2]\", sondern die Problemklasse \"Sortiere eine beliebige Liste von Zahlen\". Die konkreten Zahlen sind dabei die **Eingabeparameter**, die sortierte Liste ist die **Ausgabe**."
   ]
  },
  {
   "cell_type": "code",
   "execution_count": null,
   "id": "f020cbe1",
   "metadata": {
    "vscode": {
     "languageId": "plaintext"
    }
   },
   "outputs": [],
   "source": []
  },
  {
   "cell_type": "markdown",
   "id": "1ad85da2",
   "metadata": {},
   "source": [
    "## **1.2 Die 4 entscheidenden Eigenschaften von Algorithmen**\n",
    "\n",
    "Nicht jede Anleitung ist ein guter Algorithmus. In der Informatik muss ein Algorithmus vier entscheidende Eigenschaften erfüllen:\n",
    "\n",
    "1.  **Endlichkeit (Finiteness):** Die **Beschreibung** des Algorithmus muss eine endliche Länge haben. Ein Rezept mit unendlich vielen Schritten ist unbrauchbar.\n",
    "2.  **Termination:** Der Algorithmus muss nach endlich vielen Schritten zu einem **Ende** kommen und ein Ergebnis liefern. Eine Schleife, die unter bestimmten Umständen nie endet, verletzt dieses Prinzip.\n",
    "3.  **Determinismus:** Jeder Schritt im Algorithmus muss **eindeutig beschrieben** sein. Es darf keinen Raum für Interpretation geben. \"Eine Prise Salz\" ist eine schlechte Anweisung; \"Gib 2g Salz hinzu\" ist deterministisch. Zu jedem Zeitpunkt muss der nächste Schritt klar sein.\n",
    "4.  **Determiniertheit:** Für die gleiche Eingabe muss ein Algorithmus auch immer die **gleiche Ausgabe** liefern.\n",
    "\n",
    "Der feine Unterschied: **Determinismus** beschreibt den **Weg** (der Ablauf ist immer exakt gleich), **Determiniertheit** beschreibt das **Ziel** (das Ergebnis ist immer exakt gleich). Ein deterministischer Algorithmus ist immer auch determiniert."
   ]
  },
  {
   "cell_type": "code",
   "execution_count": null,
   "id": "2d6166da",
   "metadata": {
    "vscode": {
     "languageId": "plaintext"
    }
   },
   "outputs": [],
   "source": []
  },
  {
   "cell_type": "markdown",
   "id": "19adc42d",
   "metadata": {},
   "source": [
    "## **1.3 Effizienz: Nicht alle Wege führen gleich schnell nach Rom**\n",
    "\n",
    "Ein Algorithmus, der korrekt ist und alle Eigenschaften erfüllt, ist nicht automatisch ein *guter* Algorithmus. Eine entscheidende Frage ist die nach der **Effizienz**: Wie viele Ressourcen verbraucht unser Algorithmus?\n",
    "\n",
    "Die zwei wichtigsten Ressourcen sind:\n",
    "* **Zeit (Laufzeitkomplexität):** Wie viele Rechenschritte benötigt der Algorithmus in Abhängigkeit von der Größe der Eingabedaten?\n",
    "* **Speicher (Speicherplatzkomplexität):** Wie viel Arbeitsspeicher (RAM) benötigt der Algorithmus, um seine Aufgabe zu erfüllen?\n",
    "\n",
    "Ein Algorithmus, der für 10 Elemente eine Sekunde braucht, für 100 Elemente aber schon zwei Stunden, ist für die Praxis unbrauchbar. Die Suche nach effizienten Algorithmen ist eine der zentralen Aufgaben der Informatik."
   ]
  }
 ],
 "metadata": {
  "language_info": {
   "name": "python"
  }
 },
 "nbformat": 4,
 "nbformat_minor": 5
}
