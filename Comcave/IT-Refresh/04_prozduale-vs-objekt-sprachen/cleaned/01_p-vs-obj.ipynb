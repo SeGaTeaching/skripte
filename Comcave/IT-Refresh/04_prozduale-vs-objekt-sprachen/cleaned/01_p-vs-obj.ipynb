{
 "cells": [
  {
   "cell_type": "markdown",
   "id": "0e560ad3",
   "metadata": {},
   "source": [
    "# **Der Paradigmenwechsel (Prozedural vs. OOP)**\n",
    "\n",
    "---\n",
    "\n",
    "\n",
    "## **4.1 Das Prozedurale Paradigma (Unser bisheriger Weg)**\n",
    "\n",
    "**Definition**\n",
    "Das prozedurale Paradigma ist ein Programmierstil, der ein Programm als eine logische Abfolge von Anweisungen, Prozeduren oder Funktionsaufrufen strukturiert. Der Kern dieses Paradigmas ist die strikte Trennung von **Daten**, auf denen operiert wird, und den **Prozeduren (Funktionen)**, die diese Operationen ausführen.\n",
    "\n",
    "Man kann sich das so vorstellen: Die Daten sind passive, leblose \"Zutaten\" (wie Mehl, Zucker, Eier), die in verschiedenen Variablen gespeichert werden. Die Funktionen sind die aktiven \"Rezepte\" aus einem separaten Kochbuch, die diese Zutaten entgegennehmen, verarbeiten und ein Ergebnis produzieren.\n",
    "\n",
    "**Probleme und Grenzen des prozeduralen Ansatzes**\n",
    "Für kleine und mittlere Projekte ist dieser Ansatz einfach und effektiv. Bei großen, komplexen Anwendungen stößt er jedoch an seine Grenzen, was zu schwer wartbarem Code führt. Dieses Phänomen wird oft als **\"Softwarekrise\"** der 1970er und 80er Jahre bezeichnet, die zur Entwicklung von OOP führte.\n",
    "\n",
    "Die Hauptprobleme sind:\n",
    "1.  **Globaler Zustand (Global State):** In großen prozeduralen Programmen gibt es oft viele globale Variablen, auf die eine Vielzahl von Funktionen zugreifen und die sie verändern können. Wenn ein Fehler auftritt, ist es extrem schwierig nachzuvollziehen, welche Funktion zu welchem Zeitpunkt die Daten unerwünscht verändert hat. Man verliert den Überblick, wer für welchen Datenzustand verantwortlich ist. Dies führt zu unvorhersehbaren **Seiteneffekten (Side Effects)**.\n",
    "\n",
    "2.  **Geringe Wiederverwendbarkeit & starke Kopplung:** Eine Funktion wie `berechneGehalt(mitarbeiterDaten)` ist eng an eine ganz bestimmte Datenstruktur (`mitarbeiterDaten`) gekoppelt. Ändert sich die Struktur der Daten (z.B. ein neues Feld kommt hinzu), müssen potenziell **alle** Funktionen, die diese Daten verwenden, angepasst werden. Es ist schwierig, eine Funktion aus einem Projekt herauszulösen und in einem anderen wiederzuverwenden, weil die dazugehörigen Datenstrukturen fehlen.\n",
    "\n",
    "3.  **Schwierige Abbildung der Realität:** Die reale Welt besteht nicht aus getrennten Daten und Funktionen. Ein **Auto** *hat* eine Farbe und eine PS-Zahl (Daten) und es *kann* fahren und hupen (Funktionen). Das prozedurale Modell zwingt uns, diese Einheit künstlich zu trennen: hier die Variable `autoDaten`, dort die globale Funktion `fahre(autoDaten)`. Das ist nicht intuitiv und erschwert die Modellierung komplexer Systeme."
   ]
  },
  {
   "cell_type": "code",
   "execution_count": null,
   "id": "3bf21763",
   "metadata": {
    "vscode": {
     "languageId": "plaintext"
    }
   },
   "outputs": [],
   "source": []
  },
  {
   "cell_type": "code",
   "execution_count": null,
   "id": "33290257",
   "metadata": {
    "vscode": {
     "languageId": "plaintext"
    }
   },
   "outputs": [],
   "source": []
  },
  {
   "cell_type": "markdown",
   "id": "032e12cd",
   "metadata": {},
   "source": [
    "## **4.2 Das Objektorientierte Paradigma (Ein neuer Denkansatz)**\n",
    "\n",
    "Die **Objektorientierte Programmierung (OOP)** ist keine neue Technik, sondern ein fundamental anderer **Denkansatz (Paradigma)**. Die Kernidee von OOP ist die Überwindung der Trennung von Daten und Funktionen durch das Konzept der **Kapselung**.\n",
    "\n",
    "**Die Kernidee: Objekte**\n",
    "In der OOP bündeln wir zusammengehörige Daten und die Funktionen, die exklusiv auf diesen Daten arbeiten, in einer einzigen, logischen und abgeschlossenen Einheit. Diese Einheit nennen wir ein **Objekt**.\n",
    "\n",
    "* Die Daten eines Objekts nennt man **Attribute** (oder Eigenschaften, Member-Variablen).\n",
    "* Die Funktionen eines Objekts nennt man **Methoden**.\n",
    "\n",
    "Ein Objekt ist also ein \"intelligenter\" Datencontainer. Es verwaltet seinen eigenen Zustand (seine Attribute) und bietet nach außen hin über seine Methoden kontrollierte \"Dienstleistungen\" an. Anstatt einer globalen `fahre(auto)`-Funktion gibt es jetzt ein `auto`-Objekt mit einer `fahren()`-Methode, die man aufruft: `meinAuto.fahren()`.\n",
    "\n",
    "**Die drei Säulen der OOP**\n",
    "Das gesamte OOP-Paradigma ruht auf drei fundamentalen Säulen, die wir im nächsten Block im Detail lernen werden, hier aber schon konzeptionell verstehen müssen:\n",
    "\n",
    "1.  **Kapselung (Encapsulation):** Dies ist das bereits erwähnte Bündeln von Attributen und Methoden in einem Objekt. Ein wichtiger Teil davon ist das **Information Hiding**: Das Objekt schützt seine internen Daten vor unkontrolliertem Zugriff von außen. Man kann den Zustand eines Objekts nur über seine öffentlichen Methoden ändern. Man kann einem Auto-Objekt nicht einfach sagen \"deine Geschwindigkeit ist jetzt 500\", man muss die Methode `beschleunige()` aufrufen, die vielleicht interne Limits prüft.\n",
    "\n",
    "2.  **Vererbung (Inheritance):** Ermöglicht es, neue **Klassen** (Baupläne für Objekte) auf Basis von bestehenden Klassen zu erstellen. Eine Klasse `LKW` kann von einer allgemeinen Klasse `Fahrzeug` *erben*. Der `LKW` erhält dadurch automatisch alle Attribute (`ps`, `farbe`) und Methoden (`fahren()`, `bremsen()`) des `Fahrzeugs` und kann zusätzliche, eigene hinzufügen (z.B. `ladeflaeche_beladen()`). Dies fördert die Wiederverwendbarkeit von Code massiv.\n",
    "\n",
    "3.  **Polymorphismus (Vielgestaltigkeit):** Bedeutet, dass unterschiedliche Objekte auf dieselbe Nachricht (denselben Methodenaufruf) auf ihre eigene, spezifische Weise reagieren können. Ein Aufruf `zeichne()` könnte bei einem `Kreis`-Objekt einen Kreis und bei einem `Rechteck`-Objekt ein Rechteck auf den Bildschirm malen. Das Programm muss nicht wissen, um welches Objekt es sich genau handelt, es sendet nur die Nachricht \"zeichne dich!\".\n"
   ]
  },
  {
   "cell_type": "code",
   "execution_count": null,
   "id": "887d7417",
   "metadata": {
    "vscode": {
     "languageId": "plaintext"
    }
   },
   "outputs": [],
   "source": []
  },
  {
   "cell_type": "code",
   "execution_count": null,
   "id": "59a66144",
   "metadata": {
    "vscode": {
     "languageId": "plaintext"
    }
   },
   "outputs": [],
   "source": []
  },
  {
   "cell_type": "markdown",
   "id": "6d19c2f0",
   "metadata": {},
   "source": [
    "## **4.3 Die direkte Gegenüberstellung**\n",
    "\n",
    "| Merkmal | Prozedurales Paradigma | Objektorientiertes Paradigma (OOP) |\n",
    "| :--- | :--- | :--- |\n",
    "| **Grundidee** | Eine Liste von Anweisungen (Prozeduren) | Eine Simulation von interagierenden Objekten |\n",
    "| **Code-Struktur** | Fokus auf Funktionen und Prozeduren | Fokus auf Klassen und Objekten |\n",
    "| **Daten & Verhalten**| Strikt getrennt | Gekapselt in Objekten |\n",
    "| **Datenhandling** | Oft unkontrollierter Zugriff auf globale Daten | Kontrollierter Zugriff über Methoden (Interfaces) |\n",
    "| **Realitätsnähe** | Abstrakt, maschinennah | Intuitiver, näher an der realen Welt |\n",
    "| **Hauptvorteil** | Einfach für kleine, lineare Aufgaben | Gut für komplexe Systeme, beherrschbar & wartbar |\n",
    "| **Hauptnachteil** | Unübersichtlich bei großen Projekten (\"Spaghetti-Code\")| Mehr anfänglicher Planungsaufwand (\"Overhead\") |"
   ]
  }
 ],
 "metadata": {
  "language_info": {
   "name": "python"
  }
 },
 "nbformat": 4,
 "nbformat_minor": 5
}
