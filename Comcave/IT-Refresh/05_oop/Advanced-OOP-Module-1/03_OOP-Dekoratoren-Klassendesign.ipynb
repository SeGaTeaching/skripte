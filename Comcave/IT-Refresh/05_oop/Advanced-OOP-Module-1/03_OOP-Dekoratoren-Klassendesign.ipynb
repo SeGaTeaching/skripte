{
 "cells": [
  {
   "cell_type": "markdown",
   "id": "2ee7b174",
   "metadata": {},
   "source": [
    "# Kapitel 3: Dekoratoren & Professionelles Klassendesign\n",
    "---\n",
    "\n",
    "## **1. Das Fundament: Funktionen als \"First-Class Citizens\"**\n",
    "\n",
    "### **Was bedeutet das?**\n",
    "\n",
    "Bevor wir Dekoratoren verstehen können, müssen wir ein Kernprinzip von Python verinnerlichen: Funktionen sind Objekte erster Klasse (\"First-Class Citizens\"). Das bedeutet, sie können wie jede andere Variable (z.B. eine Zahl oder ein String) behandelt werden.\n",
    "\n",
    "* **Eigenschaft 1: Einer Variable zuweisen:** Man kann eine Funktion einer Variable zuweisen und sie dann über diese Variable aufrufen.\n",
    "* **Eigenschaft 2: Als Argument übergeben:** Man kann eine Funktion als Argument an eine andere Funktion übergeben.\n",
    "* **Eigenschaft 3: Aus einer Funktion zurückgeben:** Eine Funktion kann eine andere Funktion erzeugen und zurückgeben.\n",
    "\n",
    "---\n",
    "\n",
    "### **Isoliertes Beispiel 1: Funktion einer Variable zuweisen**\n"
   ]
  },
  {
   "cell_type": "code",
   "execution_count": 20,
   "id": "d4f041e4",
   "metadata": {},
   "outputs": [
    {
     "name": "stdout",
     "output_type": "stream",
     "text": [
      "Der Typ von 'gruss' ist: <class 'function'>\n",
      "Hallo Welt!\n"
     ]
    }
   ],
   "source": [
    "def hallo_sagen():\n",
    "    print(\"Hallo Welt!\")\n",
    "\n",
    "# Die Funktion 'hallo_sagen' wird der Variable 'gruss' zugewiesen.\n",
    "# Wichtig: Ohne Klammern! Wir weisen die Funktion selbst zu, nicht ihr Ergebnis.\n",
    "gruss = hallo_sagen\n",
    "\n",
    "print(f\"Der Typ von 'gruss' ist: {type(gruss)}\")\n",
    "\n",
    "# Jetzt können wir die Funktion über die neue Variable aufrufen\n",
    "gruss()"
   ]
  },
  {
   "cell_type": "code",
   "execution_count": null,
   "id": "215d2c21",
   "metadata": {},
   "outputs": [],
   "source": []
  },
  {
   "cell_type": "code",
   "execution_count": null,
   "id": "af4d30a3",
   "metadata": {},
   "outputs": [],
   "source": []
  },
  {
   "cell_type": "code",
   "execution_count": null,
   "id": "2630de73",
   "metadata": {},
   "outputs": [],
   "source": []
  },
  {
   "cell_type": "markdown",
   "id": "ef1f7df4",
   "metadata": {},
   "source": [
    "\n",
    "---\n",
    "\n",
    "### **Funktion als Argument übergeben**\n",
    "\n",
    "Dies ist ein sehr häufiges Muster in Python. Wir schreiben eine Funktion, die eine andere Funktion als \"Werkzeug\" entgegennimmt."
   ]
  },
  {
   "cell_type": "code",
   "execution_count": 21,
   "id": "3ebbbb7c",
   "metadata": {},
   "outputs": [
    {
     "name": "stdout",
     "output_type": "stream",
     "text": [
      "Hallo, Anna!\n",
      "Auf Wiedersehen, Ben!\n"
     ]
    }
   ],
   "source": [
    "def sag_hallo():\n",
    "    return \"Hallo\"\n",
    "\n",
    "def sag_auf_wiedersehen():\n",
    "    return \"Auf Wiedersehen\"\n",
    "\n",
    "def begruesse_person(gruss_funktion, name):\n",
    "    # Hier wird die übergebene Funktion aufgerufen\n",
    "    print(f\"{gruss_funktion()}, {name}!\")\n",
    "\n",
    "# Wir übergeben die Funktion 'sag_hallo' als Argument\n",
    "begruesse_person(sag_hallo, \"Anna\")\n",
    "\n",
    "# Wir übergeben die Funktion 'sag_auf_wiedersehen' als Argument\n",
    "begruesse_person(sag_auf_wiedersehen, \"Ben\")"
   ]
  },
  {
   "cell_type": "code",
   "execution_count": null,
   "id": "5093abaf",
   "metadata": {},
   "outputs": [],
   "source": []
  },
  {
   "cell_type": "code",
   "execution_count": null,
   "id": "95a65413",
   "metadata": {},
   "outputs": [],
   "source": []
  },
  {
   "cell_type": "code",
   "execution_count": null,
   "id": "8defd3fd",
   "metadata": {},
   "outputs": [],
   "source": []
  },
  {
   "cell_type": "markdown",
   "id": "590c3237",
   "metadata": {},
   "source": [
    "\n",
    "---\n",
    "\n",
    "### **Isoliertes Beispiel 3: Funktion zurückgeben & Closures**\n",
    "\n",
    "Dies ist der wichtigste Schritt zum Verständnis von Dekoratoren. Eine Funktion kann eine andere, in ihr definierte Funktion, zurückgeben.\n",
    "\n",
    "Die zurückgegebene innere Funktion \"erinnert\" sich an die Variablen aus der äußeren Funktion, in der sie erstellt wurde. Dieses Konzept nennt man **Closure**."
   ]
  },
  {
   "cell_type": "code",
   "execution_count": 22,
   "id": "4252f080",
   "metadata": {},
   "outputs": [
    {
     "name": "stdout",
     "output_type": "stream",
     "text": [
      "Hallo, Welt!\n",
      "Guten Tag, Python-Entwickler!\n"
     ]
    }
   ],
   "source": [
    "def erstelle_gruss_funktion(gruss_text):\n",
    "    # Diese innere Funktion wird erstellt, aber noch nicht ausgeführt.\n",
    "    # Sie hat Zugriff auf 'gruss_text' aus ihrem \"Geburtsort\".\n",
    "    def gruss_funktion(name):\n",
    "        return f\"{gruss_text}, {name}!\"\n",
    "    \n",
    "    # Die äußere Funktion gibt die innere Funktion zurück\n",
    "    return gruss_funktion\n",
    "\n",
    "# Wir erstellen zwei verschiedene \"Gruß-Funktionen\"\n",
    "sage_hallo = erstelle_gruss_funktion(\"Hallo\")\n",
    "sage_guten_tag = erstelle_gruss_funktion(\"Guten Tag\")\n",
    "\n",
    "# Obwohl 'erstelle_gruss_funktion' bereits beendet ist,\n",
    "# \"erinnern\" sich die zurückgegebenen Funktionen an ihren 'gruss_text'.\n",
    "print(sage_hallo(\"Welt\"))\n",
    "print(sage_guten_tag(\"Python-Entwickler\"))"
   ]
  },
  {
   "cell_type": "code",
   "execution_count": null,
   "id": "80f0055a",
   "metadata": {},
   "outputs": [],
   "source": []
  },
  {
   "cell_type": "code",
   "execution_count": null,
   "id": "0054c3ea",
   "metadata": {},
   "outputs": [],
   "source": []
  },
  {
   "cell_type": "code",
   "execution_count": null,
   "id": "33c9eba3",
   "metadata": {},
   "outputs": [],
   "source": []
  },
  {
   "cell_type": "markdown",
   "id": "ec55f6f6",
   "metadata": {},
   "source": [
    "---\n",
    "## **2. Dekoratoren von Grund auf entmystifizieren**\n",
    "\n",
    "### **Theorie: Das \"Warum\" – Ein wiederkehrendes Problem**\n",
    "\n",
    "Stellen Sie sich vor, Sie haben mehrere Funktionen in Ihrem Programm. Nun bekommen Sie die Aufgabe, für jede dieser Funktionen zu protokollieren, wann sie startet und wann sie endet.\n",
    "\n",
    "**Die naive Lösung:** Sie könnten den Protokoll-Code in jede einzelne Funktion hineinkopieren:"
   ]
  },
  {
   "cell_type": "code",
   "execution_count": 23,
   "id": "d729793a",
   "metadata": {},
   "outputs": [],
   "source": [
    "def funktion_eins():\n",
    "    print(\"[LOG] Funktion 'funktion_eins' startet...\")\n",
    "    # ... eigentlicher Code der Funktion ...\n",
    "    print(\"[LOG] Funktion 'funktion_eins' beendet.\")\n",
    "\n",
    "def funktion_zwei():\n",
    "    print(\"[LOG] Funktion 'funktion_zwei' startet...\")\n",
    "    # ... anderer Code ...\n",
    "    print(\"[LOG] Funktion 'funktion_zwei' beendet.\")"
   ]
  },
  {
   "cell_type": "markdown",
   "id": "bc53b224",
   "metadata": {},
   "source": [
    "Das Problem hierbei ist offensichtlich: Es verstößt massiv gegen das **DRY-Prinzip (Don't Repeat Yourself)**. Bei jeder Änderung der Logging-Logik müssten Sie alle Funktionen anpassen. Das ist fehleranfällig und ineffizient.\n",
    "\n",
    "**Die elegante Lösung:** Wir brauchen einen Weg, unsere Funktionen mit der Logging-Fähigkeit zu \"dekorieren\" oder \"einzuhüllen\", ohne ihren eigenen Code zu verändern. Genau das leisten Dekoratoren.\n",
    "\n",
    "---\n",
    "\n",
    "### **Wie Dekoratoren im Hintergrund funktionieren – Der manuelle Weg**\n",
    "\n",
    "Bevor wir die `@`-Syntax verwenden, bauen wir einen Dekorator manuell zusammen. Das ist der wichtigste Schritt, um die \"Magie\" dahinter zu verstehen. Wir nutzen hier unser Wissen von vorhin: Funktionen sind Objekte, die man wie Variablen behandeln kann.\n",
    "\n",
    "**Schritt A: Unsere ursprüngliche, saubere Funktion**\n",
    "Dies ist die Funktion, der wir eine neue Fähigkeit hinzufügen wollen."
   ]
  },
  {
   "cell_type": "code",
   "execution_count": 24,
   "id": "6db1829b",
   "metadata": {},
   "outputs": [],
   "source": [
    "def sag_hallo():\n",
    "    print(\"Hallo!\")"
   ]
  },
  {
   "cell_type": "markdown",
   "id": "a523a054",
   "metadata": {},
   "source": [
    "**Schritt B: Die Dekorator-Funktion schreiben**\n",
    "Ein Dekorator ist eine Funktion, die eine andere Funktion als Argument entgegennimmt und eine *neue*, modifizierte Funktion zurückgibt."
   ]
  },
  {
   "cell_type": "code",
   "execution_count": 25,
   "id": "fd2bce51",
   "metadata": {},
   "outputs": [],
   "source": [
    "# 'einfacher_dekorator' nimmt eine Funktion (z.B. sag_hallo) als Argument\n",
    "def einfacher_dekorator(original_funktion):\n",
    "    \n",
    "    # Im Inneren definieren wir eine neue Funktion, den \"Wrapper\".\n",
    "    # Dieser Wrapper wird am Ende unsere Originalfunktion ersetzen.\n",
    "    def wrapper():\n",
    "        print(\"--- Code, der VOR der Originalfunktion ausgeführt wird. ---\")\n",
    "        \n",
    "        # Hier rufen wir die Originalfunktion auf, die uns übergeben wurde.\n",
    "        original_funktion()\n",
    "        \n",
    "        print(\"--- Code, der NACH der Originalfunktion ausgeführt wird. ---\")\n",
    "        \n",
    "    # Der Dekorator gibt die neu erstellte Wrapper-Funktion zurück.\n",
    "    return wrapper"
   ]
  },
  {
   "cell_type": "markdown",
   "id": "649a9a56",
   "metadata": {},
   "source": [
    "**Schritt C: Den Dekorator manuell anwenden**\n",
    "Jetzt kommt der entscheidende Teil. Wir rufen den Dekorator mit unserer Originalfunktion auf und weisen das Ergebnis (die `wrapper`-Funktion) wieder der ursprünglichen Variable zu."
   ]
  },
  {
   "cell_type": "code",
   "execution_count": 26,
   "id": "118a1ce0",
   "metadata": {},
   "outputs": [
    {
     "name": "stdout",
     "output_type": "stream",
     "text": [
      "--- Code, der VOR der Originalfunktion ausgeführt wird. ---\n",
      "Hallo!\n",
      "--- Code, der NACH der Originalfunktion ausgeführt wird. ---\n"
     ]
    }
   ],
   "source": [
    "# Wir übergeben 'sag_hallo' an den Dekorator.\n",
    "# Der Dekorator gibt uns seine 'wrapper'-Funktion zurück.\n",
    "# Wir überschreiben die alte 'sag_hallo'-Funktion mit diesem neuen Wrapper.\n",
    "sag_hallo = einfacher_dekorator(sag_hallo)\n",
    "\n",
    "# Was passiert, wenn wir jetzt sag_hallo() aufrufen?\n",
    "# Wir rufen nicht mehr die ursprüngliche Funktion auf, sondern den Wrapper!\n",
    "sag_hallo()"
   ]
  },
  {
   "cell_type": "markdown",
   "id": "f5786cc1",
   "metadata": {},
   "source": [
    "**Analyse:** Wir haben die Funktionalität von `sag_hallo` geändert, ohne ihren Quellcode anzufassen. Wir haben sie in eine andere Funktion \"eingewickelt\".\n",
    "\n",
    "---\n",
    "\n",
    "### **Theorie: Die `@`-Syntax – Reiner syntaktischer Zucker**\n",
    "\n",
    "Python bietet für diesen Zuweisungsprozess (`sag_hallo = einfacher_dekorator(sag_hallo)`) eine schönere, deklarative Syntax: das `@`-Symbol.\n",
    "\n",
    "Der folgende Code ist **100% identisch** mit dem manuellen Weg von oben:"
   ]
  },
  {
   "cell_type": "code",
   "execution_count": 27,
   "id": "f6146344",
   "metadata": {},
   "outputs": [
    {
     "name": "stdout",
     "output_type": "stream",
     "text": [
      "--- Code, der VOR der Originalfunktion ausgeführt wird. ---\n",
      "Hallo mit @-Syntax!\n",
      "--- Code, der NACH der Originalfunktion ausgeführt wird. ---\n"
     ]
    }
   ],
   "source": [
    "@einfacher_dekorator\n",
    "def sag_hallo_mit_at():\n",
    "    print(\"Hallo mit @-Syntax!\")\n",
    "\n",
    "# Dieser Aufruf führt jetzt direkt den Wrapper aus.\n",
    "sag_hallo_mit_at()"
   ]
  },
  {
   "cell_type": "markdown",
   "id": "25f1defd",
   "metadata": {},
   "source": [
    "**Merksatz:** `@dekorator` über einer Funktion `func` ist nur eine Abkürzung für `func = dekorator(func)`.\n",
    "\n",
    "---\n",
    "\n",
    "### **Umgang mit Argumenten – `*args` und `**kwargs`**\n",
    "\n",
    "Unser `einfacher_dekorator` hat ein Problem: Er funktioniert nur für Funktionen, die keine Argumente haben.\n",
    "\n",
    "**Das Problem demonstriert:**\n"
   ]
  },
  {
   "cell_type": "code",
   "execution_count": 28,
   "id": "f59df78c",
   "metadata": {},
   "outputs": [],
   "source": [
    "@einfacher_dekorator\n",
    "def sag_etwas(text):\n",
    "    print(text)\n",
    "    \n",
    "# Dieser Aufruf würde einen Fehler erzeugen:\n",
    "# sag_etwas(\"Dies wird fehlschlagen\") # TypeError: wrapper() takes 0 positional arguments but 1 was given"
   ]
  },
  {
   "cell_type": "markdown",
   "id": "22a73ca2",
   "metadata": {},
   "source": [
    "Der Fehler passiert, weil unser `wrapper()` keine Argumente entgegennimmt, wir aber versuchen, `sag_etwas` mit dem Argument `\"Dies wird fehlschlagen\"` aufzurufen.\n",
    "\n",
    "**Die Lösung:** Wir müssen unseren Wrapper so gestalten, dass er eine beliebige Anzahl von Argumenten akzeptieren und diese an die Originalfunktion weiterleiten kann. Dafür sind `*args` und `**kwargs` da.\n",
    "\n",
    "* **`*args` (Arguments):** Sammelt alle **positionsbasierten Argumente** in einem **Tupel**.\n",
    "* **`**kwargs` (Keyword Arguments):** Sammelt alle **schlüsselwortbasierten Argumente** in einem **Dictionary**.\n",
    "\n",
    "Zusammen fangen sie *alle* möglichen Argumente ab, die eine Funktion haben könnte, und machen unseren Dekorator universell einsetzbar.\n",
    "\n",
    "---\n",
    "\n",
    "### **Ein universeller `@debug_info`-Dekorator**\n",
    "\n",
    "Dieser Dekorator gibt den Namen der aufgerufenen Funktion und alle ihre Argumente aus."
   ]
  },
  {
   "cell_type": "code",
   "execution_count": 29,
   "id": "c1e88d0e",
   "metadata": {},
   "outputs": [
    {
     "name": "stdout",
     "output_type": "stream",
     "text": [
      "[DEBUG] Aufruf von Funktion 'addiere'...\n",
      "        Positions-Argumente (args): (5, 3)\n",
      "        Keyword-Argumente (kwargs): {}\n",
      "[DEBUG] Funktion 'addiere' beendet. Rückgabewert: 8\n",
      "------------------------------\n",
      "[DEBUG] Aufruf von Funktion 'gruss'...\n",
      "        Positions-Argumente (args): ('Welt',)\n",
      "        Keyword-Argumente (kwargs): {'anrede': 'Guten Tag'}\n",
      "[DEBUG] Funktion 'gruss' beendet. Rückgabewert: Guten Tag, Welt!\n"
     ]
    },
    {
     "data": {
      "text/plain": [
       "'Guten Tag, Welt!'"
      ]
     },
     "execution_count": 29,
     "metadata": {},
     "output_type": "execute_result"
    }
   ],
   "source": [
    "def debug_info(func):\n",
    "    # Der Wrapper akzeptiert nun *args und **kwargs\n",
    "    def wrapper(*args, **kwargs):\n",
    "        print(f\"[DEBUG] Aufruf von Funktion '{func.__name__}'...\")\n",
    "        print(f\"        Positions-Argumente (args): {args}\")\n",
    "        print(f\"        Keyword-Argumente (kwargs): {kwargs}\")\n",
    "        \n",
    "        # Die Argumente werden an die Originalfunktion durchgereicht\n",
    "        ergebnis = func(*args, **kwargs)\n",
    "        \n",
    "        print(f\"[DEBUG] Funktion '{func.__name__}' beendet. Rückgabewert: {ergebnis}\")\n",
    "        return ergebnis\n",
    "    return wrapper\n",
    "\n",
    "@debug_info\n",
    "def addiere(a, b):\n",
    "    return a + b\n",
    "\n",
    "@debug_info\n",
    "def gruss(name, anrede=\"Hallo\"):\n",
    "    return f\"{anrede}, {name}!\"\n",
    "\n",
    "# Tests\n",
    "addiere(5, 3)\n",
    "print(\"-\" * 30)\n",
    "gruss(\"Welt\", anrede=\"Guten Tag\")"
   ]
  },
  {
   "cell_type": "markdown",
   "id": "438baf9d",
   "metadata": {},
   "source": [
    "---\n",
    "\n",
    "### **Umgang mit Rückgabewerten**\n",
    "\n",
    "Wie im `@debug_info`-Beispiel gesehen, ist es entscheidend, dass der `wrapper` den Rückgabewert der Originalfunktion `func` auffängt und selbst zurückgibt (`return ergebnis`). Andernfalls würde der Dekorator den Rückgabewert \"verschlucken\" und die dekorierte Funktion würde immer `None` zurückgeben.\n",
    "\n",
    "---"
   ]
  },
  {
   "cell_type": "code",
   "execution_count": 30,
   "id": "b0d34538",
   "metadata": {},
   "outputs": [
    {
     "name": "stdout",
     "output_type": "stream",
     "text": [
      "[Timer] Funktion 'lange_berechnung' hat 0.1804 Sekunden gedauert.\n",
      "Hallo, Welt!\n",
      "[Timer] Funktion 'gruss_mit_verzoegerung' hat 1.0031 Sekunden gedauert.\n",
      "[Timer] Funktion 'berechne_fakultaet' hat 0.0000 Sekunden gedauert.\n",
      "Das Ergebnis der Berechnung ist: 1307674368000\n"
     ]
    }
   ],
   "source": [
    "import time\n",
    "\n",
    "def timer_dekorator(func):\n",
    "    # Der Wrapper akzeptiert alle möglichen Argumente\n",
    "    def wrapper(*args, **kwargs): \n",
    "        start_zeit = time.time()\n",
    "        ergebnis = func(*args, **kwargs) # Aufruf der Originalfunktion\n",
    "        end_zeit = time.time()\n",
    "        print(f\"[Timer] Funktion '{func.__name__}' hat {end_zeit - start_zeit:.4f} Sekunden gedauert.\")\n",
    "        return ergebnis\n",
    "    return wrapper\n",
    "\n",
    "@timer_dekorator\n",
    "def lange_berechnung(n):\n",
    "    \"\"\"Eine Funktion, die eine Weile beschäftigt ist.\"\"\"\n",
    "    summe = 0\n",
    "    for i in range(n):\n",
    "        summe += i\n",
    "    return summe\n",
    "\n",
    "@timer_dekorator\n",
    "def gruss_mit_verzoegerung(name):\n",
    "    \"\"\"Eine Funktion, die kurz wartet.\"\"\"\n",
    "    print(f\"Hallo, {name}!\")\n",
    "    time.sleep(1)\n",
    "\n",
    "# Aufruf der dekorierten Funktionen\n",
    "lange_berechnung(10000000)\n",
    "gruss_mit_verzoegerung(\"Welt\")\n",
    "\n",
    "@timer_dekorator\n",
    "def berechne_fakultaet(n):\n",
    "    \"\"\"Berechnet die Fakultät einer Zahl (sehr ineffizient).\"\"\"\n",
    "    ergebnis = 1\n",
    "    for i in range(1, n + 1):\n",
    "        ergebnis *= i\n",
    "    return ergebnis\n",
    "\n",
    "fakultaet_von_15 = berechne_fakultaet(15)\n",
    "print(f\"Das Ergebnis der Berechnung ist: {fakultaet_von_15}\")"
   ]
  },
  {
   "cell_type": "markdown",
   "id": "bbd5f251",
   "metadata": {},
   "source": [
    "\n",
    "**Analyse:** Der `@timer_dekorator` hat beiden Funktionen eine Zeitmessung hinzugefügt, ohne dass wir ihren internen Code ändern mussten. `*args` und `**kwargs` im Wrapper stellen sicher, dass der Dekorator mit jeder Funktion funktioniert, egal welche Argumente sie hat.\n"
   ]
  },
  {
   "cell_type": "code",
   "execution_count": null,
   "id": "33eb040b",
   "metadata": {},
   "outputs": [],
   "source": []
  },
  {
   "cell_type": "code",
   "execution_count": null,
   "id": "040e3548",
   "metadata": {},
   "outputs": [],
   "source": []
  },
  {
   "cell_type": "code",
   "execution_count": 31,
   "id": "2b0b1aca",
   "metadata": {},
   "outputs": [],
   "source": [
    "# Übung"
   ]
  },
  {
   "cell_type": "markdown",
   "id": "29a0f83f",
   "metadata": {},
   "source": [
    "---\n",
    "\n",
    "### **Dekoratoren mit eigenen Argumenten**\n",
    "\n",
    "Was, wenn wir dem Dekorator selbst einen Parameter übergeben wollen, z.B. `@repeat(3)`?\n",
    "\n",
    "Dies erfordert eine zusätzliche Verschachtelungsebene. Es ist wie eine \"Dekorator-Fabrik\".\n",
    "\n",
    "* **Ebene 1: Die Fabrik (`repeat`):** Eine Funktion, die die Argumente des Dekorators (z.B. `n=3`) entgegennimmt. Ihre einzige Aufgabe ist es, den eigentlichen Dekorator zurückzugeben.\n",
    "* **Ebene 2: Der Dekorator (`dekorator_selbst`):** Dies ist die Funktion, die wir kennen. Sie nimmt die zu dekorierende Funktion (`func`) entgegen.\n",
    "* **Ebene 3: Der Wrapper (`wrapper`):** Dies ist die Funktion, die am Ende ausgeführt wird. Sie hat Zugriff auf die Argumente aus **beiden** äußeren Ebenen (`n` aus der Fabrik und `func` aus dem Dekorator).\n",
    "\n",
    "**Was Python tut, wenn es `@repeat(3)` sieht:**\n",
    "\n",
    "1.  Es ruft zuerst `repeat(3)` auf.\n",
    "2.  Die `repeat`-Funktion läuft und gibt die `dekorator_selbst`-Funktion zurück.\n",
    "3.  Python nimmt diesen zurückgegebenen Dekorator und wendet ihn auf die darunter stehende Funktion an, als ob dort `@dekorator_selbst` stehen würde.\n",
    "\n",
    "---\n",
    "\n",
    "### **Isoliertes Beispiel 3: Der `@repeat(n)`-Dekorator**\n",
    "\n"
   ]
  },
  {
   "cell_type": "code",
   "execution_count": 32,
   "id": "56da8d03",
   "metadata": {},
   "outputs": [
    {
     "name": "stdout",
     "output_type": "stream",
     "text": [
      "Funktion wird 3-mal wiederholt:\n",
      "-> Laserstrahl abgefeuert!\n",
      "-> Laserstrahl abgefeuert!\n",
      "-> Laserstrahl abgefeuert!\n"
     ]
    }
   ],
   "source": [
    "def repeat(n):\n",
    "    # Ebene 1: Die Fabrik, die das Argument 'n' entgegennimmt\n",
    "    def dekorator_selbst(func):\n",
    "        # Ebene 2: Der eigentliche Dekorator\n",
    "        def wrapper(*args, **kwargs):\n",
    "            # Ebene 3: Der Wrapper, der die Logik ausführt\n",
    "            print(f\"Funktion wird {n}-mal wiederholt:\")\n",
    "            for _ in range(n):\n",
    "                func(*args, **kwargs)\n",
    "        return wrapper\n",
    "    return dekorator_selbst\n",
    "\n",
    "@repeat(3)\n",
    "def feuer_laser():\n",
    "    print(\"-> Laserstrahl abgefeuert!\")\n",
    "\n",
    "# Aufruf der dekorierten Funktion\n",
    "feuer_laser()"
   ]
  },
  {
   "cell_type": "code",
   "execution_count": null,
   "id": "66174665",
   "metadata": {},
   "outputs": [],
   "source": []
  },
  {
   "cell_type": "code",
   "execution_count": null,
   "id": "927ea412",
   "metadata": {},
   "outputs": [],
   "source": []
  },
  {
   "cell_type": "markdown",
   "id": "fdf3d2db",
   "metadata": {},
   "source": [
    "---\n",
    "### **Transfer auf das Projekt: Ein `@check_energie`-Dekorator für das `Raumschiff`**\n",
    "\n",
    "Jetzt wenden wir das Gelernte auf unser Projekt an. Wir wollen einen Dekorator schreiben, der vor der Ausführung einer Methode prüft, ob das Raumschiff genug Energie hat. Dies ist ein praktisches Beispiel für einen Dekorator mit Zustand (er greift auf `self` zu)."
   ]
  },
  {
   "cell_type": "code",
   "execution_count": 33,
   "id": "5ad4c3e0",
   "metadata": {},
   "outputs": [
    {
     "name": "stdout",
     "output_type": "stream",
     "text": [
      "Schiff: Enterprise, Energie: 100\n",
      "[ENERGIE-CHECK] Ausreichend Energie (100 Einheiten) vorhanden.\n",
      "'Enterprise' aktiviert die Deflektorschilde!\n",
      "Schiff: Enterprise, Energie: 50\n",
      "[ENERGIE-CHECK] Ausreichend Energie (50 Einheiten) vorhanden.\n",
      "'Enterprise' springt auf Warp-Geschwindigkeit!\n",
      "Schiff: Enterprise, Energie: 40\n",
      "[ENERGIE-CHECK] FEHLER: Nicht genug Energie! Benötigt: 50, Vorhanden: 40.\n",
      "Schiff: Enterprise, Energie: 40\n"
     ]
    }
   ],
   "source": [
    "from functools import wraps\n",
    "\n",
    "def benoetigt_energie(energie_kosten):\n",
    "    \"\"\"Dekorator-Fabrik, die prüft, ob genug Energie vorhanden ist.\"\"\"\n",
    "    def dekorator(methode):\n",
    "        @wraps(methode) # wraps kopiert Metadaten wie den Namen der Originalfunktion\n",
    "        def wrapper(self, *args, **kwargs):\n",
    "            if self.energie_level >= energie_kosten:\n",
    "                print(f\"[ENERGIE-CHECK] Ausreichend Energie ({self.energie_level} Einheiten) vorhanden.\")\n",
    "                self.energie_level -= energie_kosten\n",
    "                return methode(self, *args, **kwargs)\n",
    "            else:\n",
    "                print(f\"[ENERGIE-CHECK] FEHLER: Nicht genug Energie! Benötigt: {energie_kosten}, Vorhanden: {self.energie_level}.\")\n",
    "                return None\n",
    "        return wrapper\n",
    "    return dekorator\n",
    "\n",
    "\n",
    "class Raumschiff:\n",
    "    def __init__(self, name, energie_level):\n",
    "        self.name = name\n",
    "        self.energie_level = energie_level\n",
    "\n",
    "    @benoetigt_energie(10)\n",
    "    def warpantrieb_aktivieren(self):\n",
    "        print(f\"'{self.name}' springt auf Warp-Geschwindigkeit!\")\n",
    "\n",
    "    @benoetigt_energie(50)\n",
    "    def schilde_hochfahren(self):\n",
    "        print(f\"'{self.name}' aktiviert die Deflektorschilde!\")\n",
    "        \n",
    "    def __str__(self):\n",
    "        return f\"Schiff: {self.name}, Energie: {self.energie_level}\"\n",
    "\n",
    "# Test\n",
    "enterprise = Raumschiff(\"Enterprise\", 100)\n",
    "print(enterprise)\n",
    "\n",
    "enterprise.schilde_hochfahren()\n",
    "print(enterprise)\n",
    "\n",
    "enterprise.warpantrieb_aktivieren()\n",
    "print(enterprise)\n",
    "\n",
    "# Dieser Aufruf wird fehlschlagen\n",
    "enterprise.schilde_hochfahren()\n",
    "print(enterprise)"
   ]
  },
  {
   "cell_type": "markdown",
   "id": "2253f2d8",
   "metadata": {},
   "source": [
    "---\n",
    "\n",
    "## **3. `@property`: Der Pythonic Weg zur Kapselung**\n",
    "\n",
    "### **Theorie: Weg von `get_...` und `set_...`**\n",
    "\n",
    "In vielen Programmiersprachen ist es üblich, für den Zugriff auf Attribute Methoden wie `get_gehalt()` und `set_gehalt(wert)` zu schreiben. Das geht in Python auch, fühlt sich aber umständlich an.\n",
    "\n",
    "**Das Problem:** Wir wollen den direkten Zugriff `obj.gehalt` beibehalten, aber trotzdem eine Logik ausführen, wenn das Attribut gelesen oder geschrieben wird (z.B. eine Validierung).\n",
    "\n",
    "**Die Lösung:** Der eingebaute **`@property`**-Dekorator. Er verwandelt eine Methode in ein \"verwaltetes Attribut\". Er ermöglicht es uns, Getter-, Setter- und Deleter-Logik zu definieren.\n",
    "\n",
    "---\n",
    "\n",
    "### **Read-Only Property**\n",
    "\n",
    "Wir definieren eine `Temperatur`-Klasse, die den Wert intern immer in Celsius speichert, aber eine bequeme, schreibgeschützte Eigenschaft zur Abfrage in Fahrenheit anbietet."
   ]
  },
  {
   "cell_type": "code",
   "execution_count": 34,
   "id": "21d1fca2",
   "metadata": {},
   "outputs": [
    {
     "name": "stdout",
     "output_type": "stream",
     "text": [
      "25°C sind 77.0°F.\n"
     ]
    }
   ],
   "source": [
    "class Temperatur:\n",
    "    def __init__(self, celsius):\n",
    "        self._celsius = celsius # \"_\"-Präfix signalisiert: \"interne Variable\"\n",
    "\n",
    "    @property\n",
    "    def fahrenheit(self):\n",
    "        # Diese Methode wird aufgerufen, wenn wir '.fahrenheit' abfragen\n",
    "        return (self._celsius * 9/5) + 32\n",
    "\n",
    "t = Temperatur(25)\n",
    "print(f\"{t._celsius}°C sind {t.fahrenheit}°F.\")\n",
    "\n",
    "# Versuch, die Fahrenheit-Eigenschaft zu schreiben -> Führt zu einem Fehler!\n",
    "# t.fahrenheit = 77 # AttributeError: can't set attribute"
   ]
  },
  {
   "cell_type": "code",
   "execution_count": null,
   "id": "f168e048",
   "metadata": {},
   "outputs": [],
   "source": []
  },
  {
   "cell_type": "code",
   "execution_count": null,
   "id": "a9d67a96",
   "metadata": {},
   "outputs": [],
   "source": []
  },
  {
   "cell_type": "code",
   "execution_count": null,
   "id": "453f684d",
   "metadata": {},
   "outputs": [],
   "source": []
  },
  {
   "cell_type": "markdown",
   "id": "e7b0d7c4",
   "metadata": {},
   "source": [
    "\n",
    "---\n",
    "\n",
    "### **Property mit Getter und Setter**\n",
    "\n",
    "Jetzt erlauben wir auch das Schreiben auf ein Attribut, aber fangen die Zuweisung mit einer Validierungslogik ab."
   ]
  },
  {
   "cell_type": "code",
   "execution_count": 35,
   "id": "14dea0c4",
   "metadata": {},
   "outputs": [
    {
     "name": "stdout",
     "output_type": "stream",
     "text": [
      "-> Getter für Gehalt wird aufgerufen...\n",
      "Bens Gehalt: 50000\n",
      "-> Setter wird versucht mit Wert 55000...\n",
      "-> Getter für Gehalt wird aufgerufen...\n",
      "Neues Gehalt: 55000\n",
      "--------------------\n",
      "-> Setter wird versucht mit Wert -1000...\n",
      "FEHLER: Gehalt kann nicht negativ sein!\n",
      "-> Getter für Gehalt wird aufgerufen...\n",
      "Gehalt nach ungültigem Versuch: 55000\n"
     ]
    }
   ],
   "source": [
    "class Mitarbeiter:\n",
    "    def __init__(self, name, gehalt):\n",
    "        self.name = name\n",
    "        self._gehalt = gehalt # Internes Attribut\n",
    "    \n",
    "    # Der Getter: Wird bei 'obj.gehalt' aufgerufen\n",
    "    @property\n",
    "    def gehalt(self):\n",
    "        print(\"-> Getter für Gehalt wird aufgerufen...\")\n",
    "        return self._gehalt\n",
    "\n",
    "    # Der Setter: Wird bei 'obj.gehalt = wert' aufgerufen\n",
    "    @gehalt.setter\n",
    "    def gehalt(self, neuer_wert):\n",
    "        print(f\"-> Setter wird versucht mit Wert {neuer_wert}...\")\n",
    "        if neuer_wert < 0:\n",
    "            print(\"FEHLER: Gehalt kann nicht negativ sein!\")\n",
    "        else:\n",
    "            self._gehalt = neuer_wert\n",
    "\n",
    "m = Mitarbeiter(\"Ben\", 50000)\n",
    "\n",
    "# Ruft den Getter auf\n",
    "print(f\"Bens Gehalt: {m.gehalt}\")\n",
    "\n",
    "# Ruft den Setter auf\n",
    "m.gehalt = 55000 \n",
    "print(f\"Neues Gehalt: {m.gehalt}\")\n",
    "\n",
    "print(\"-\" * 20)\n",
    "# Versuch einer ungültigen Zuweisung, der Setter verhindert es\n",
    "m.gehalt = -1000\n",
    "print(f\"Gehalt nach ungültigem Versuch: {m.gehalt}\")"
   ]
  },
  {
   "cell_type": "code",
   "execution_count": null,
   "id": "67012228",
   "metadata": {},
   "outputs": [],
   "source": []
  },
  {
   "cell_type": "code",
   "execution_count": null,
   "id": "b492cb28",
   "metadata": {},
   "outputs": [],
   "source": []
  },
  {
   "cell_type": "code",
   "execution_count": 36,
   "id": "11cdc8d9",
   "metadata": {},
   "outputs": [],
   "source": [
    "# Übung"
   ]
  },
  {
   "cell_type": "markdown",
   "id": "2c8a558c",
   "metadata": {},
   "source": [
    "\n",
    "---\n",
    "\n",
    "### **Transfer auf das Projekt: Kontrollierte `Raumschiff`-Attribute**\n",
    "\n",
    "Wir nutzen `@property`, um die `huelle_staerke` unseres Raumschiffs zu einem verwalteten Attribut zu machen. Es soll nicht möglich sein, die Hülle über 100% zu \"reparieren\"."
   ]
  },
  {
   "cell_type": "code",
   "execution_count": 37,
   "id": "cb94cf26",
   "metadata": {},
   "outputs": [
    {
     "name": "stdout",
     "output_type": "stream",
     "text": [
      "Aktuelle Hülle: 50%\n",
      "\n",
      "Repariere um 80 Punkte...\n",
      "Hülle kann nicht über 100% sein. Setze auf Maximum.\n",
      "Neue Hülle: 100%\n"
     ]
    }
   ],
   "source": [
    "class Raumschiff:\n",
    "    MAX_HUELLE = 100\n",
    "    \n",
    "    def __init__(self, name, huelle_staerke):\n",
    "        self.name = name\n",
    "        # Wichtig: Wir weisen hier dem privaten Attribut zu,\n",
    "        # um den Setter beim ersten Mal zu umgehen.\n",
    "        self._huelle_staerke = huelle_staerke\n",
    "\n",
    "    @property\n",
    "    def huelle_staerke(self):\n",
    "        return self._huelle_staerke\n",
    "\n",
    "    @huelle_staerke.setter\n",
    "    def huelle_staerke(self, wert):\n",
    "        if wert > self.MAX_HUELLE:\n",
    "            self._huelle_staerke = self.MAX_HUELLE\n",
    "            print(f\"Hülle kann nicht über {self.MAX_HUELLE}% sein. Setze auf Maximum.\")\n",
    "        elif wert < 0:\n",
    "            self._huelle_staerke = 0\n",
    "        else:\n",
    "            self._huelle_staerke = wert\n",
    "            \n",
    "# Testen\n",
    "enterprise = Raumschiff(\"Enterprise-D\", 50)\n",
    "print(f\"Aktuelle Hülle: {enterprise.huelle_staerke}%\")\n",
    "\n",
    "print(\"\\nRepariere um 80 Punkte...\")\n",
    "enterprise.huelle_staerke += 80 # Ruft Getter und dann Setter auf!\n",
    "print(f\"Neue Hülle: {enterprise.huelle_staerke}%\")"
   ]
  },
  {
   "cell_type": "markdown",
   "id": "1c8d3316",
   "metadata": {},
   "source": [
    "\n",
    "---\n",
    "---\n",
    "\n",
    "## **4. `@classmethod` und `@staticmethod`**\n",
    "\n",
    "### **Werkzeuge für die Klasse, nicht die Instanz**\n",
    "\n",
    "Nachdem wir Dekoratoren verstehen, können wir diese beiden wichtigen eingebauten Dekoratoren neu betrachten. Sie verändern, wie eine Methode an die Klasse oder Instanz gebunden ist.\n",
    "\n",
    "**`@classmethod`**\n",
    "* **Parameter:** Erhält als ersten Parameter automatisch die **Klasse selbst**, konventionell `cls` genannt.\n",
    "* **Zweck:** Wird verwendet, um Methoden zu erstellen, die auf der Klasse operieren, nicht auf einer spezifischen Instanz. Der häufigste Anwendungsfall sind **alternative Konstruktoren**.\n",
    "\n",
    "**`@staticmethod`**\n",
    "* **Parameter:** Erhält **keinen** automatischen ersten Parameter (weder `self` noch `cls`).\n",
    "* **Zweck:** Im Grunde eine normale Funktion, die aber im \"Namensraum\" der Klasse lebt, weil sie thematisch dorthin gehört. Sie kann weder den Zustand der Klasse (`cls`) noch den der Instanz (`self`) ändern. Man nutzt sie für **Utility-Funktionen**.\n",
    "\n",
    "---\n",
    "\n",
    "### **Eine `Datum`-Klasse**"
   ]
  },
  {
   "cell_type": "code",
   "execution_count": 38,
   "id": "4e5c564c",
   "metadata": {},
   "outputs": [
    {
     "name": "stdout",
     "output_type": "stream",
     "text": [
      "Geburtstag: 05.10.1990\n",
      "Heute ist der: 29.06.2025\n",
      "War 2024 ein Schaltjahr? True\n",
      "War 1990 ein Schaltjahr? False\n"
     ]
    }
   ],
   "source": [
    "import datetime\n",
    "\n",
    "class Datum:\n",
    "    def __init__(self, tag, monat, jahr):\n",
    "        self.tag = tag\n",
    "        self.monat = monat\n",
    "        self.jahr = jahr\n",
    "        \n",
    "    def __str__(self):\n",
    "        return f\"{self.tag:02d}.{self.monat:02d}.{self.jahr}\"\n",
    "\n",
    "    # Ein alternativer Konstruktor\n",
    "    @classmethod\n",
    "    def heute(cls):\n",
    "        # 'cls' ist hier die Klasse 'Datum'\n",
    "        heute = datetime.date.today()\n",
    "        # Ruft den normalen __init__ auf, um eine Instanz zu erstellen\n",
    "        return cls(heute.day, heute.month, heute.year)\n",
    "\n",
    "    # Eine Utility-Funktion, die keinen Zustand braucht\n",
    "    @staticmethod\n",
    "    def ist_schaltjahr(jahr):\n",
    "        return jahr % 4 == 0 and (jahr % 100 != 0 or jahr % 400 == 0)\n",
    "\n",
    "# Normaler Konstruktor\n",
    "geburtstag = Datum(5, 10, 1990)\n",
    "print(f\"Geburtstag: {geburtstag}\")\n",
    "\n",
    "# Alternativer Konstruktor via @classmethod\n",
    "heutiges_datum = Datum.heute()\n",
    "print(f\"Heute ist der: {heutiges_datum}\")\n",
    "\n",
    "# Utility-Funktion via @staticmethod\n",
    "print(f\"War 2024 ein Schaltjahr? {Datum.ist_schaltjahr(2024)}\")\n",
    "print(f\"War 1990 ein Schaltjahr? {Datum.ist_schaltjahr(1990)}\")"
   ]
  },
  {
   "cell_type": "code",
   "execution_count": null,
   "id": "94b204b7",
   "metadata": {},
   "outputs": [],
   "source": []
  },
  {
   "cell_type": "code",
   "execution_count": null,
   "id": "2fb1e4f1",
   "metadata": {},
   "outputs": [],
   "source": []
  },
  {
   "cell_type": "code",
   "execution_count": null,
   "id": "0ffe5a1f",
   "metadata": {},
   "outputs": [],
   "source": []
  },
  {
   "cell_type": "markdown",
   "id": "84722116",
   "metadata": {},
   "source": [
    "# Übung"
   ]
  },
  {
   "cell_type": "markdown",
   "id": "4d3554d2",
   "metadata": {},
   "source": [
    "\n",
    "---\n",
    "### **Transfer auf das Projekt: `Raumschiff`-Fabriken und -Validatoren**"
   ]
  },
  {
   "cell_type": "code",
   "execution_count": 39,
   "id": "4d9b3577",
   "metadata": {},
   "outputs": [
    {
     "name": "stdout",
     "output_type": "stream",
     "text": [
      "Neue Fregatte gebaut: Fregatte-Klasse 'USS-Reliant' (Hülle: 100%)\n",
      "Ist 'NCC-1701' eine gültige Kennung? False\n"
     ]
    }
   ],
   "source": [
    "class Raumschiff:\n",
    "    def __init__(self, name, klasse, huelle):\n",
    "        if not self.validiere_kennung(name):\n",
    "             raise ValueError(\"Ungültige Schiffskennung!\")\n",
    "        self.name = name\n",
    "        self.klasse = klasse\n",
    "        self.huelle = huelle\n",
    "    \n",
    "    def __str__(self):\n",
    "        return f\"{self.klasse}-Klasse '{self.name}' (Hülle: {self.huelle}%)\"\n",
    "    \n",
    "    @classmethod\n",
    "    def baue_standard_fregatte(cls, name):\n",
    "        # Ruft den normalen __init__ mit vordefinierten Werten auf\n",
    "        return cls(name, \"Fregatte\", 100)\n",
    "\n",
    "    @staticmethod\n",
    "    def validiere_kennung(kennung):\n",
    "        # Eine Utility-Funktion, die prüft, ob eine Kennung gültig ist\n",
    "        return kennung.startswith(\"USS-\") and len(kennung) > 4\n",
    "\n",
    "# Erstellen via @classmethod\n",
    "fregatte = Raumschiff.baue_standard_fregatte(\"USS-Reliant\")\n",
    "print(f\"Neue Fregatte gebaut: {fregatte}\")\n",
    "\n",
    "# Nutzen der @staticmethod\n",
    "is_valid = Raumschiff.validiere_kennung(\"NCC-1701\")\n",
    "print(f\"Ist 'NCC-1701' eine gültige Kennung? {is_valid}\")\n",
    "\n",
    "# Versuch, ein Schiff mit ungültiger Kennung zu bauen\n",
    "# ungueltiges_schiff = Raumschiff(\"Defiant\", \"Eskorte\", 120) # -> ValueError"
   ]
  },
  {
   "cell_type": "markdown",
   "id": "d4f62ad6",
   "metadata": {},
   "source": [
    "\n",
    "---\n",
    "---\n",
    "\n",
    "## **5. Tages-Challenge: Anwendung im Schüler-Projekt (`Smart Grid`)**\n",
    "\n",
    "Jetzt kombinieren wir alle heutigen Konzepte in Ihrem Projekt.\n",
    "\n",
    "**Ihre umfassende Aufgabe:**\n",
    "\n",
    "1.  **Schreiben Sie einen Dekorator:**\n",
    "    * Erstellen Sie einen Dekorator `@log_leistungsanpassung`, der vor und nach dem Aufruf einer Methode eine Log-Nachricht ausgibt.\n",
    "    * Beispiel: `\"[LOG] Leistung wird angepasst...\"` und `\"[LOG] Anpassung abgeschlossen.\"`.\n",
    "2.  **Dekorator anwenden:**\n",
    "    * Fügen Sie Ihrer `Energieerzeuger`-Klasse (oder einer der Kindklassen) eine Methode `kalibrieren()` hinzu, die nur eine Nachricht ausgibt (`\"System wird kalibriert...\"`).\n",
    "    * Wenden Sie Ihren `@log_leistungsanpassung`-Dekorator auf diese `kalibrieren()`-Methode an.\n",
    "3.  **`@property` implementieren:**\n",
    "    * Das Attribut `aktuelle_leistung` in Ihrem `Energieerzeuger` soll zu einer verwalteten Eigenschaft werden.\n",
    "    * Der **Getter** soll einfach den Wert zurückgeben.\n",
    "    * Der **Setter** soll sicherstellen, dass die `aktuelle_leistung` niemals größer als die `max_leistung` oder kleiner als 0 sein kann. Bei ungültigen Werten soll eine Warnung ausgegeben und der Wert auf den nächstgelegenen gültigen Wert (0 oder `max_leistung`) gesetzt werden.\n",
    "4.  **`@classmethod` und `@staticmethod` hinzufügen:**\n",
    "    * Fügen Sie Ihrer `Solaranlage`-Klasse eine `@classmethod` namens `erzeuge_standard_farm(name)` hinzu. Diese Methode soll eine `Solaranlage` mit vordefinierten Werten für `max_leistung` (z.B. 50 MW) und `panel_flaeche` (z.B. 20000 m²) erstellen und zurückgeben.\n",
    "    * Fügen Sie Ihrer Basisklasse `Energieerzeuger` eine `@staticmethod` namens `ist_netz_stabil(frequenz)` hinzu. Sie soll `True` zurückgeben, wenn die übergebene `frequenz` zwischen 49.8 und 50.2 Hz liegt, andernfalls `False`.\n",
    "5.  **Alles testen:**\n",
    "    * Rufen Sie Ihre dekorierte `kalibrieren()`-Methode auf.\n",
    "    * Versuchen Sie, die `aktuelle_leistung` auf einen gültigen und einen ungültigen Wert zu setzen.\n",
    "    * Erstellen Sie eine neue Farm mit Ihrer `@classmethod`.\n",
    "    * Testen Sie die Netzstabilität mit Ihrer `@staticmethod`.\n",
    "```\n"
   ]
  },
  {
   "cell_type": "markdown",
   "id": "81c4743f",
   "metadata": {},
   "source": [
    "\n",
    "---\n",
    "---\n",
    "\n",
    "## **Inhalt für die Übungsdateien von Tag 4**\n",
    "\n",
    "---\n",
    "### **Inhalt für `Uebung_4_Block_1.ipynb`**\n",
    "````markdown\n",
    "# Übungen zu Block 1: Eigene Dekoratoren bauen\n",
    "\n",
    "---\n",
    "**Aufgabe 1: Ein einfacher \"Hallo\"-Dekorator**\n",
    "Schreiben Sie einen Dekorator namens `@hallo_sagen`, der vor dem Aufruf der dekorierten Funktion einfach \"Hallo!\" ausgibt.\n",
    "\n",
    "Testen Sie ihn an einer Funktion `tue_etwas()`, die \"Ich tue etwas Wichtiges.\" ausgibt.\n",
    "\n",
    "```python\n",
    "# Ihr Code hier\n",
    "```\n",
    "---\n",
    "**Aufgabe 2: Argumente akzeptieren**\n",
    "Erweitern Sie Ihren Dekorator, sodass er auch mit Funktionen funktioniert, die Argumente entgegennehmen. Nutzen Sie `*args` und `**kwargs` im `wrapper`.\n",
    "\n",
    "Testen Sie ihn an einer neuen Funktion `addiere(a, b)`, die zwei Zahlen addiert und das Ergebnis zurückgibt. Der Dekorator soll das Ergebnis der Originalfunktion korrekt zurückgeben.\n",
    "\n",
    "```python\n",
    "# Ihr Code hier\n",
    "```\n",
    "---\n",
    "**Aufgabe 3: Ein praktischer `@debug`-Dekorator**\n",
    "Erstellen Sie einen Dekorator `@debug`, der vor der Ausführung einer Funktion deren Namen und die übergebenen Argumente ausgibt.\n",
    "\n",
    "*Beispiel-Ausgabe:* `--- Aufruf von 'multipliziere' mit args=(10, 3), kwargs={} ---`\n",
    "\n",
    "Testen Sie ihn an der Funktion `multipliziere(x, y)`\n",
    "\n",
    "```python\n",
    "# Ihr Code hier\n",
    "```\n",
    "---\n",
    "**Aufgabe 4 (Fortgeschritten): Ein Dekorator, der selbst ein Argument annimmt**\n",
    "Erstellen Sie einen Dekorator `@repeat(n)`, der die dekorierte Funktion `n`-mal hintereinander ausführt.\n",
    "\n",
    "*Tipp:* Sie benötigen hier eine dreifache Funktions-Verschachtelung: `dekorator(n) -> wrapper(func) -> inner_wrapper(*args, **kwargs)`.\n",
    "\n",
    "Testen Sie mit `@repeat(3)` auf einer Funktion, die \"Wiederholung!\" ausgibt.\n",
    "\n",
    "```python\n",
    "# Ihr Code hier\n",
    "```"
   ]
  },
  {
   "cell_type": "markdown",
   "id": "cdd14a92",
   "metadata": {},
   "source": []
  }
 ],
 "metadata": {
  "kernelspec": {
   "display_name": "3.13.3",
   "language": "python",
   "name": "python3"
  },
  "language_info": {
   "codemirror_mode": {
    "name": "ipython",
    "version": 3
   },
   "file_extension": ".py",
   "mimetype": "text/x-python",
   "name": "python",
   "nbconvert_exporter": "python",
   "pygments_lexer": "ipython3",
   "version": "3.13.3"
  }
 },
 "nbformat": 4,
 "nbformat_minor": 5
}
