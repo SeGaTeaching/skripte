{
 "cells": [
  {
   "cell_type": "markdown",
   "id": "9f8167f5",
   "metadata": {},
   "source": [
    "## **Übungen für Tag 1**\n",
    "\n",
    "---\n",
    "#### Übungs-Set für Block 1: Klassen & Instanzen \n",
    "*(Thema: Eine `Buch`-Klasse erstellen)*\n",
    "\n",
    "**Aufgabe 1: Die leere Hülle**\n",
    "Erstellen Sie eine grundlegende, aber noch leere Klasse mit dem Namen `Buch`. Nutzen Sie das `pass`-Schlüsselwort, damit der Code gültig ist.\n",
    "\n",
    "**Aufgabe 2: Der Konstruktor**\n",
    "Erweitern Sie die Klasse `Buch` mit einem `__init__`-Konstruktor. Der Konstruktor soll die Parameter `titel` und `autor` entgegennehmen und diese als Instanzattribute (`self.titel`, `self.autor`) speichern.\n",
    "\n",
    "**Aufgabe 3: Objekte erstellen**\n",
    "Erstellen Sie zwei verschiedene Instanzen der `Buch`-Klasse:\n",
    "1.  \"Der Herr der Ringe\" von \"J.R.R. Tolkien\"\n",
    "2.  \"1984\" von \"George Orwell\"\n",
    "\n",
    "Geben Sie anschließend die Attribute beider Objekte mit `print()` aus, um zu überprüfen, ob die Werte korrekt gespeichert wurden (z.B. `print(buch1.titel)`).\n",
    "\n",
    "**Aufgabe 4: Den Konstruktor erweitern**\n",
    "Passen Sie den `__init__`-Konstruktor der `Buch`-Klasse so an, dass er zusätzlich das Attribut `seitenzahl` entgegennimmt und speichert. Erstellen Sie eine neue Instanz, die auch dieses Attribut verwendet, und geben Sie alle drei Attribute aus.\n"
   ]
  },
  {
   "cell_type": "code",
   "execution_count": null,
   "id": "41d50204",
   "metadata": {},
   "outputs": [],
   "source": [
    "# 1"
   ]
  },
  {
   "cell_type": "code",
   "execution_count": null,
   "id": "ef5656a9",
   "metadata": {},
   "outputs": [],
   "source": [
    "# 2"
   ]
  },
  {
   "cell_type": "code",
   "execution_count": null,
   "id": "bab3732b",
   "metadata": {},
   "outputs": [],
   "source": [
    "# 3"
   ]
  },
  {
   "cell_type": "code",
   "execution_count": null,
   "id": "6fe5f6ff",
   "metadata": {},
   "outputs": [],
   "source": [
    "# 4"
   ]
  },
  {
   "cell_type": "markdown",
   "id": "6c4a29a8",
   "metadata": {},
   "source": [
    "\n",
    "---\n",
    "#### **Übungs-Set für Block 2: Methoden & Darstellung (`Uebung_1_Block_2.ipynb`)**\n",
    "*(Thema: Die `Buch`-Klasse zum Leben erwecken)*\n",
    "\n",
    "**Aufgabe 1: Den Lese-Fortschritt speichern**\n",
    "Erweitern Sie den `__init__`-Konstruktor Ihrer `Buch`-Klasse. Fügen Sie ein neues Instanzattribut `aktuelle_seite` hinzu und initialisieren Sie es immer mit dem Wert `1`.\n",
    "\n",
    "**Aufgabe 2: Eine Methode hinzufügen**\n",
    "Fügen Sie der `Buch`-Klasse eine Methode `lese_seite()` hinzu. Diese Methode soll keine Parameter (außer `self`) entgegennehmen und das Attribut `aktuelle_seite` bei jedem Aufruf um 1 erhöhen.\n",
    "\n",
    "**Aufgabe 3: Die Methode testen**\n",
    "Erstellen Sie eine `Buch`-Instanz. Rufen Sie die `lese_seite()`-Methode drei Mal hintereinander auf. Geben Sie nach jedem Aufruf die `aktuelle_seite` mit `print()` aus, um den Fortschritt zu sehen.\n",
    "\n",
    "**Aufgabe 4: Eine schöne Ausgabe mit `__str__`**\n",
    "Implementieren Sie die `__str__`-Methode für die `Buch`-Klasse. Sie soll einen informativen und gut lesbaren String zurückgeben, der Titel, Autor und den aktuellen Lesefortschritt enthält.\n",
    "*Beispiel-Ausgabe:* `\"'1984' von George Orwell, gelesen bis Seite 4.\"`\n",
    "\n",
    "**Aufgabe 5: `__str__` testen**\n",
    "Erstellen Sie eine neue `Buch`-Instanz. Rufen Sie `lese_seite()` ein paar Mal auf und geben Sie dann das gesamte Objekt mit `print()` aus, um Ihre `__str__`-Implementierung zu testen.\n"
   ]
  },
  {
   "cell_type": "code",
   "execution_count": null,
   "id": "241fc9c4",
   "metadata": {},
   "outputs": [],
   "source": []
  },
  {
   "cell_type": "code",
   "execution_count": null,
   "id": "b6ec542c",
   "metadata": {},
   "outputs": [],
   "source": []
  },
  {
   "cell_type": "code",
   "execution_count": null,
   "id": "04aef1ee",
   "metadata": {},
   "outputs": [],
   "source": []
  },
  {
   "cell_type": "code",
   "execution_count": null,
   "id": "af56e181",
   "metadata": {},
   "outputs": [],
   "source": []
  },
  {
   "cell_type": "code",
   "execution_count": null,
   "id": "667b5896",
   "metadata": {},
   "outputs": [],
   "source": []
  },
  {
   "cell_type": "markdown",
   "id": "5940fbdf",
   "metadata": {},
   "source": [
    "\n",
    "---\n",
    "#### **Übungs-Set für Block 3: Klassenattribute & Typenprüfung (`Uebung_1_Block_3.ipynb`)**\n",
    "*(Thema: Eine `Produkt`-Klasse mit allgemeingültigen Regeln)*\n",
    "\n",
    "**Aufgabe 1: Die Basis-Klasse**\n",
    "Erstellen Sie eine Klasse `Produkt` mit den Instanzattributen `name` und `netto_preis`, die im Konstruktor gesetzt werden.\n",
    "\n",
    "**Aufgabe 2: Eine Eigenschaft für alle**\n",
    "Fügen Sie der `Produkt`-Klasse ein Klassenattribut `MWST_SATZ` mit dem Wert `0.19` (für 19% Mehrwertsteuer) hinzu.\n",
    "\n",
    "**Aufgabe 3: Berechnungen mit Klassenattributen**\n",
    "Fügen Sie eine Methode `get_brutto_preis()` hinzu. Diese Methode soll den Bruttopreis berechnen, indem sie den individuellen `netto_preis` der Instanz mit dem gemeinsamen `MWST_SATZ` der Klasse verrechnet (`netto_preis * (1 + self.MWST_SATZ)`). Die Methode soll den berechneten Bruttopreis zurückgeben.\n",
    "\n",
    "**Aufgabe 4: Typenprüfung**\n",
    "Schreiben Sie eine externe Funktion `kann_verkauft_werden(artikel)`. Die Funktion soll mit `isinstance()` prüfen, ob das übergebene `artikel`-Objekt eine Instanz der Klasse `Produkt` ist. Geben Sie je nach Ergebnis eine passende Nachricht aus (z.B. \"`{artikel.name}` ist ein Produkt und kann verkauft werden.\" oder \"Dies ist kein gültiges Produkt.\").\n",
    "\n",
    "**Aufgabe 5: Alles testen**\n",
    "Erstellen Sie eine `Produkt`-Instanz (z.B. ein \"Laptop\" für 1000€ netto).\n",
    "1.  Rufen Sie die `get_brutto_preis()`-Methode auf und geben Sie das Ergebnis aus.\n",
    "2.  Übergeben Sie Ihre `Produkt`-Instanz an die `kann_verkauft_werden()`-Funktion.\n",
    "3.  Übergeben Sie einen einfachen String (z.B. \"Schokolade\") an die `kann_verkauft_werden()`-Funktion und beobachten Sie das Ergebnis."
   ]
  },
  {
   "cell_type": "code",
   "execution_count": null,
   "id": "31a2b1c2",
   "metadata": {},
   "outputs": [],
   "source": []
  },
  {
   "cell_type": "code",
   "execution_count": null,
   "id": "61c62f90",
   "metadata": {},
   "outputs": [],
   "source": []
  },
  {
   "cell_type": "code",
   "execution_count": null,
   "id": "5d2def27",
   "metadata": {},
   "outputs": [],
   "source": []
  },
  {
   "cell_type": "code",
   "execution_count": null,
   "id": "417c93fd",
   "metadata": {},
   "outputs": [],
   "source": []
  },
  {
   "cell_type": "code",
   "execution_count": null,
   "id": "30e8b037",
   "metadata": {},
   "outputs": [],
   "source": []
  }
 ],
 "metadata": {
  "language_info": {
   "name": "python"
  }
 },
 "nbformat": 4,
 "nbformat_minor": 5
}
