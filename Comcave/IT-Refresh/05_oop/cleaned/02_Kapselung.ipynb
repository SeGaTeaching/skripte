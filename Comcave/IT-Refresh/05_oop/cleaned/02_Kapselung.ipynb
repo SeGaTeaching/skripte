{
 "cells": [
  {
   "cell_type": "markdown",
   "id": "a0948155",
   "metadata": {},
   "source": [
    "# **Beziehungen zwischen Objekten (Kapselung)**\n",
    "\n",
    "---\n",
    "\n",
    "## **2.1 Kapselung & Datensicherheit (Die erste Säule der OOP)**\n",
    "\n",
    "Im letzten Kapitel haben wir Objekte mit Attributen und Methoden erstellt. Standardmäßig war bisher alles, was wir geschrieben haben, `public` (öffentlich), d.h. von überall im Code aus sichtbar und veränderbar. Das widerspricht jedoch dem Grundgedanken von OOP, dass ein Objekt seinen eigenen Zustand schützen und kontrollieren soll.\n",
    "\n",
    "Die Lösung ist die **Kapselung**, oft auch als **Information Hiding** bezeichnet. Wir erschaffen eine schützende Kapsel um die Attribute eines Objekts. Der Zugriff von außen ist nur noch über klar definierte, öffentliche Schnittstellen (Methoden) erlaubt. In Java erreichen wir das durch **Zugriffsmodifizierer**.\n",
    "\n",
    "**Die drei wichtigsten Zugriffsmodifizierer in Java:**\n",
    "\n",
    "1.  `public`: **Öffentlich.** Auf dieses Attribut / diese Methode kann von jeder anderen Klasse aus zugegriffen werden.\n",
    "2.  `protected`: **Geschützt.** Der Zugriff ist nur für die Klasse selbst und für alle davon abgeleiteten **Unterklassen (Kinder)** erlaubt.\n",
    "3.  `private`: **Privat.** Auf dieses Attribut / diese Methode kann **ausschließlich** von innerhalb der eigenen Klasse zugegriffen werden. Es ist von außen komplett unsichtbar.\n",
    "\n",
    "**Regel:** Attribute sind fast immer `private`. Methoden, die die Schnittstelle nach außen bilden, sind `public`.\n",
    "\n",
    "```java\n",
    "// Java - Gekapselte Produkt-Klasse\n",
    "public class Produkt {\n",
    "    private String name;\n",
    "    private double preis;\n",
    "    private int lagerbestand;\n",
    "\n",
    "    public Produkt(String name, double preis, int lagerbestand) {\n",
    "        this.name = name;\n",
    "        this.setPreis(preis); // Den Setter schon im Konstruktor nutzen!\n",
    "        this.lagerbestand = lagerbestand;\n",
    "    }\n",
    "```\n",
    "\n",
    "**Getter & Setter: Kontrollierte Tore zur Außenwelt**\n",
    "Um dennoch einen kontrollierten Zugriff auf private Attribute zu ermöglichen, verwenden wir öffentliche Methoden:\n",
    "\n",
    "  * **Getter-Methoden:** Geben den Wert eines privaten Attributs zurück (Lesezugriff). Z.B. `getPreis()`.\n",
    "  * **Setter-Methoden:** Setzen den Wert eines privaten Attributs (Schreibzugriff). Hier kann **Validierungslogik** eingebaut werden. Z.B. `setPreis(neuerPreis)` kann prüfen, ob der neue Preis positiv ist, bevor er das Attribut ändert.\n",
    "\n",
    "**Exkurs: Kapselung in Python und JavaScript**\n",
    "Andere Sprachen gehen anders mit Kapselung um:\n",
    "\n",
    "  * **Python:** Kennt keine echten `private`- oder `protected`-Schlüsselwörter. Stattdessen werden **Konventionen** genutzt. Ein Unterstrich am Anfang eines Attributnamens (z.B. `_gehalt`) signalisiert \"dies ist `protected`, bitte nicht von außen anpacken\". Zwei Unterstriche (z.B. `__kontostand`) aktivieren ein \"Name Mangling\", was den direkten Zugriff erschwert und als `private` gilt.\n",
    "  * **JavaScript:** Früher nutzte man ebenfalls die `_`-Konvention. Neuere Versionen haben ein Feature für **echte private Felder** eingeführt, die mit einem `#`-Zeichen beginnen (z.B. `#kontostand`).\n",
    "\n",
    "**Schritt 1 & 2: Das `Produkt` kapseln**\n",
    "Wir nehmen die `Produkt`-Klasse aus den Übungen und machen sie sicher.\n",
    "\n",
    "```java\n",
    "// Java - Gekapselte Produkt-Klasse\n",
    "public class Produkt {\n",
    "    private String name;\n",
    "    private double preis;\n",
    "    private int lagerbestand;\n",
    "\n",
    "    public Produkt(String name, double preis, int lagerbestand) {\n",
    "        this.name = name;\n",
    "        this.setPreis(preis); // Den Setter schon im Konstruktor nutzen!\n",
    "        this.lagerbestand = lagerbestand;\n",
    "    }\n",
    "\n",
    "    // Getter für den Namen (nur Lesezugriff)\n",
    "    public String getName() {\n",
    "        return this.name;\n",
    "    }\n",
    "\n",
    "    // Getter für den Preis\n",
    "    public double getPreis() {\n",
    "        return this.preis;\n",
    "    }\n",
    "\n",
    "    // Setter für den Preis mit Validierung\n",
    "    public void setPreis(double neuerPreis) {\n",
    "        if (neuerPreis > 0) {\n",
    "            this.preis = neuerPreis;\n",
    "        } else {\n",
    "            System.out.println(\"Fehler: Der Preis muss positiv sein.\");\n",
    "        }\n",
    "    }\n",
    "    // ... weitere Getter/Setter für lagerbestand\n",
    "}\n",
    "```"
   ]
  },
  {
   "cell_type": "code",
   "execution_count": null,
   "id": "20b1c003",
   "metadata": {
    "vscode": {
     "languageId": "plaintext"
    }
   },
   "outputs": [],
   "source": []
  },
  {
   "cell_type": "code",
   "execution_count": null,
   "id": "62f98111",
   "metadata": {
    "vscode": {
     "languageId": "plaintext"
    }
   },
   "outputs": [],
   "source": []
  },
  {
   "cell_type": "code",
   "execution_count": null,
   "id": "68a14c09",
   "metadata": {
    "vscode": {
     "languageId": "plaintext"
    }
   },
   "outputs": [],
   "source": []
  },
  {
   "cell_type": "code",
   "execution_count": null,
   "id": "7f9805ad",
   "metadata": {
    "vscode": {
     "languageId": "plaintext"
    }
   },
   "outputs": [],
   "source": []
  }
 ],
 "metadata": {
  "language_info": {
   "name": "python"
  }
 },
 "nbformat": 4,
 "nbformat_minor": 5
}
