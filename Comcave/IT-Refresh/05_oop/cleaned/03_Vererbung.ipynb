{
 "cells": [
  {
   "cell_type": "markdown",
   "id": "7dad4850",
   "metadata": {},
   "source": [
    "# **Vererbung, Polymorphismus und Overloading**\n",
    "\n",
    "---\n",
    "\n",
    "## **3.1 Vererbung (Die zweite Säule der OOP)**\n",
    "\n",
    "Vererbung ist ein Mechanismus, der es uns erlaubt, Code wiederzuverwenden und logische Hierarchien aufzubauen. Es modelliert eine **\"ist-ein\"**-Beziehung: Ein `PKW` *ist ein* `Fahrzeug`. Dabei werden Attribute und Methoden von einer allgemeinen **Oberklasse** an eine spezialisierte **Unterklasse** weitergegeben.\n",
    "\n",
    "  * **Generalisierung:** Gemeinsamkeiten in eine allgemeine Oberklasse auslagern.\n",
    "  * **Spezialisierung:** Eine neue Klasse von einer bestehenden ableiten und um spezifische Details erweitern.\n",
    "\n",
    "In Java wird Vererbung mit dem Schlüsselwort `extends` umgesetzt.\n",
    "\n",
    "**Inkrementelles Projekt 2: Die `Medium`-Hierarchie**\n",
    "\n",
    "```java\n",
    "// Java - Die allgemeine Oberklasse\n",
    "public class Medium {\n",
    "    protected String titel; // protected, damit Unterklassen direkten Zugriff haben\n",
    "    \n",
    "    public Medium(String titel) {\n",
    "        this.titel = titel;\n",
    "    }\n",
    "\n",
    "    public String getInfo() {\n",
    "        return \"Titel: \" + this.titel;\n",
    "    }\n",
    "}\n",
    "\n",
    "// Die spezialisierte Unterklasse Buch\n",
    "public class Buch extends Medium {\n",
    "    private int seitenanzahl;\n",
    "\n",
    "    public Buch(String titel, int seitenanzahl) {\n",
    "        // super() ruft den Konstruktor der Oberklasse (Medium) auf\n",
    "        super(titel); \n",
    "        this.seitenanzahl = seitenanzahl;\n",
    "    }\n",
    "}\n",
    "```"
   ]
  },
  {
   "cell_type": "code",
   "execution_count": null,
   "id": "d5b1da5d",
   "metadata": {
    "vscode": {
     "languageId": "plaintext"
    }
   },
   "outputs": [],
   "source": []
  },
  {
   "cell_type": "code",
   "execution_count": null,
   "id": "47c2e912",
   "metadata": {
    "vscode": {
     "languageId": "plaintext"
    }
   },
   "outputs": [],
   "source": []
  },
  {
   "cell_type": "markdown",
   "id": "000e5f4d",
   "metadata": {},
   "source": [
    "\n",
    "---\n",
    "\n",
    "## **3.2 Überschreiben von Methoden (Method Overriding) & `super`**\n",
    "\n",
    "Eine Unterklasse erbt alle `public`- und `protected`-Methoden. Oft hat die Unterklasse aber eine speziellere Anforderung an eine Methode. Das **Überschreiben** erlaubt es einer Unterklasse, eine geerbte Methode durch eine eigene, spezifischere Implementierung zu ersetzen. In Java verwenden wir dafür die Annotation `@Override`.\n",
    "\n",
    "Mit dem Schlüsselwort `super` können wir innerhalb der Unterklasse auf die Implementierung der Oberklasse zugreifen.\n",
    "\n",
    "  * **`super()`**: Ruft den **Konstruktor** der Oberklasse auf.\n",
    "  * **`super.methodenName()`**: Ruft eine **Methode** der Oberklasse auf.\n",
    "\n",
    "**Inkrementelles Projekt 2: `getInfo()` spezialisieren**\n",
    "\n",
    "```java\n",
    "public class Buch extends Medium {\n",
    "    private int seitenanzahl;\n",
    "\n",
    "    public Buch(String titel, int seitenanzahl) {\n",
    "        super(titel);\n",
    "        this.seitenanzahl = seitenanzahl;\n",
    "    }\n",
    "    \n",
    "    @Override\n",
    "    public String getInfo() {\n",
    "        // Rufe die ursprüngliche Methode der Oberklasse auf und erweitere sie\n",
    "        String basisInfo = super.getInfo(); \n",
    "        return basisInfo + \", Seiten: \" + this.seitenanzahl;\n",
    "    }\n",
    "}\n",
    "```\n",
    "\n",
    "---"
   ]
  },
  {
   "cell_type": "code",
   "execution_count": null,
   "id": "b1fae6af",
   "metadata": {
    "vscode": {
     "languageId": "plaintext"
    }
   },
   "outputs": [],
   "source": []
  },
  {
   "cell_type": "code",
   "execution_count": null,
   "id": "b6df4adf",
   "metadata": {
    "vscode": {
     "languageId": "plaintext"
    }
   },
   "outputs": [],
   "source": []
  },
  {
   "cell_type": "markdown",
   "id": "f27422f0",
   "metadata": {},
   "source": [
    "## **3.3 Polymorphismus (Die dritte Säule der OOP)**\n",
    "\n",
    "Wir haben gelernt, Objekte zu kapseln und Klassenhierarchien durch Vererbung aufzubauen. Die dritte und mächtigste Säule der OOP, der **Polymorphismus**, erweckt diese Hierarchien erst richtig zum Leben.\n",
    "\n",
    "Der Begriff stammt aus dem Griechischen und bedeutet **\"Vielgestaltigkeit\"**. In der OOP bedeutet dies, dass ein Objekt einer Unterklasse viele Gestalten annehmen kann – nämlich seine eigene, spezifische Gestalt und die allgemeinere Gestalt seiner Oberklasse.\n",
    "\n",
    "Stellt euch einen **USB-Anschluss** vor. Das ist eine standardisierte Schnittstelle. Ihr könnt viele verschiedene Geräte anschließen: einen USB-Stick, eine Maus, eine Kamera. Jedes Gerät reagiert auf das \"Anschließen\" auf seine eigene Art, aber der Anschluss selbst muss nicht wissen, was für ein Gerät es genau ist. Er behandelt sie alle einfach als \"USB-Gerät\".\n",
    "\n",
    "In Java bedeutet das: **Eine Variable vom Typ der Oberklasse kann ein Objekt jeder ihrer Unterklassen halten.**\n",
    "`Fahrzeug meinFahrzeug = new PKW();` ist gültiger Code\\!\n",
    "\n",
    "Der entscheidende Vorteil ist, dass wir extrem flexiblen Code schreiben können. Wir können eine Liste von `Fahrzeug`-Objekten erstellen, die sowohl `PKW`s als auch `LKW`s enthält. Wenn wir dann in einer Schleife die Methode `macheGeraeusch()` aufrufen, weiß Java zur Laufzeit, ob es sich um ein `PKW`-Objekt (und \"Hup\\!\" ausgeben soll) oder ein `LKW`-Objekt (und \"Trööt\\!\" ausgeben soll) handelt und ruft automatisch die korrekte, **überschriebene** Methode auf."
   ]
  },
  {
   "cell_type": "code",
   "execution_count": null,
   "id": "da53e3f5",
   "metadata": {
    "vscode": {
     "languageId": "plaintext"
    }
   },
   "outputs": [],
   "source": []
  },
  {
   "cell_type": "code",
   "execution_count": null,
   "id": "be2d2a12",
   "metadata": {
    "vscode": {
     "languageId": "plaintext"
    }
   },
   "outputs": [],
   "source": []
  },
  {
   "cell_type": "markdown",
   "id": "30f594aa",
   "metadata": {},
   "source": [
    "\n",
    "\n",
    "---\n",
    "\n",
    "## **3.4 Überladen von Methoden (Method Overloading)**\n",
    "\n",
    "Dieses Konzept wird oft mit dem Überschreiben verwechselt, ist aber fundamental anders.\n",
    "\n",
    "**Klare Abgrenzung:**\n",
    "\n",
    "  * **Überschreiben (Overriding):** Findet zwischen **Ober- und Unterklasse** statt. Die Methode hat exakt denselben Namen und dieselben Parameter. Die Unterklasse liefert eine neue Implementierung.\n",
    "  * **Überladen (Overloading):** Findet innerhalb **derselben Klasse** statt. Mehrere Methoden haben denselben Namen, aber **unterschiedliche Parameterlisten** (entweder eine andere Anzahl oder andere Datentypen).\n",
    "\n",
    "Das Überladen ist eine reine Komfort-Funktion. Es erlaubt uns, eine Methode auf verschiedene Weisen aufzurufen, je nachdem, welche Informationen wir gerade zur Verfügung haben. Der Compiler wählt dann automatisch die passende Methode basierend auf den Argumenten aus, die wir übergeben.\n",
    "\n",
    "**Beispiel in Java:**\n",
    "\n",
    "```java\n",
    "public class Rechner {\n",
    "    // Methode 1: Addiert zwei Ganzzahlen\n",
    "    public int addiere(int a, int b) {\n",
    "        return a + b;\n",
    "    }\n",
    "\n",
    "    // Methode 2: Selber Name, aber andere Parameter (double)\n",
    "    public double addiere(double a, double b) {\n",
    "        return a + b;\n",
    "    }\n",
    "    \n",
    "    // Methode 3: Selber Name, aber andere Anzahl an Parametern\n",
    "    public int addiere(int a, int b, int c) {\n",
    "        return a + b + c;\n",
    "    }\n",
    "}\n",
    "```\n"
   ]
  }
 ],
 "metadata": {
  "language_info": {
   "name": "python"
  }
 },
 "nbformat": 4,
 "nbformat_minor": 5
}
