{
 "cells": [
  {
   "cell_type": "markdown",
   "id": "931e8a70",
   "metadata": {},
   "source": [
    "# Kapitel 3.5: Dekoratoren für das Klassendesign\n",
    "\n",
    "* **`@property`:** Wir meistern den \"Pythonic Way\" für kontrollierten Attributzugriff und verstehen, wie Getter und Setter im Hintergrund funktionieren.\n",
    "* **Eigene Dekoratoren in Klassen:** Wir wenden unsere selbstgebauten Dekoratoren auf Klassenmethoden an.\n",
    "* **`@classmethod` und `@staticmethod`:** Wir analysieren den genauen Unterschied und die Anwendungsfälle für Methoden, die auf der Klasse bzw. losgelöst von der Instanz operieren.\n",
    "\n",
    "---\n",
    "\n",
    "## **1. `@property`: Kontrollierter und intelligenter Attributzugriff**\n",
    "\n",
    "### **Das Problem mit dem direkten Zugriff**\n",
    "\n",
    "Bisher haben wir auf Attribute direkt zugegriffen: `obj.attribut = wert`. Das ist einfach, aber unflexibel und potenziell unsicher.\n",
    "\n",
    "* **Problem 1: Keine Validierung.** Was, wenn ein Gehalt nicht negativ oder eine Hüllen-Prozentzahl nicht über 100 sein darf? Bei direktem Zugriff gibt es keine Kontrolle.\n",
    "* **Problem 2: Keine Flexibilität.** Was, wenn ein Attribut nicht direkt gespeichert, sondern aus anderen Attributen berechnet werden soll (z.B. `person.alter` berechnet aus `person.geburtsdatum`)?\n",
    "\n",
    "Die traditionelle Lösung in anderen Sprachen sind `get()`- und `set()`-Methoden (z.B. `person.get_alter()`). Das ist in Python aber umständlich und gilt als \"unpythonisch\".\n",
    "\n"
   ]
  },
  {
   "cell_type": "markdown",
   "id": "51e86910",
   "metadata": {},
   "source": [
    "---\n",
    "Szenario: Wir wollen eine Klasse Mitarbeiter erstellen. Das Attribut gehalt darf niemals auf einen negativen Wert gesetzt werden können.\n",
    "\n",
    "Der unpythonische Weg (mit get_... und set_... Methoden)\n",
    "Bei diesem Ansatz verstecken wir das eigentliche Attribut (z.B. als _gehalt) und zwingen den Nutzer der Klasse, spezielle Methoden für den Lese- und Schreibzugriff zu verwenden."
   ]
  },
  {
   "cell_type": "code",
   "execution_count": null,
   "id": "3f6c4692",
   "metadata": {},
   "outputs": [],
   "source": [
    "class MitarbeiterUnpythonic:\n",
    "    def __init__(self, name, startgehalt):\n",
    "        self._gehalt = 0  # Initialwert\n",
    "        self.name = name\n",
    "        self.set_gehalt(startgehalt) # Validierung direkt bei Erstellung nutzen\n",
    "\n",
    "    def get_gehalt(self):\n",
    "        \"\"\"Gibt den aktuellen Gehaltswert zurück.\"\"\"\n",
    "        return self._gehalt\n",
    "\n",
    "    def set_gehalt(self, neuer_wert):\n",
    "        self._gehalt = neuer_wert\n",
    "        return self.get_gehalt()\n",
    "        \n",
    "# --- Anwendung ---\n",
    "print(\"--- Unpythonischer Weg ---\")\n",
    "m1 = MitarbeiterUnpythonic(\"Anna\", 40000)\n",
    "\n",
    "# Zugriff und Änderung sind umständlich:\n",
    "m1.set_gehalt(45000)\n",
    "m1.set_gehalt(-5000)\n",
    "print(f\"Annas aktuelles Gehalt: {m1.get_gehalt()}\")"
   ]
  },
  {
   "cell_type": "code",
   "execution_count": null,
   "id": "5af8e86a",
   "metadata": {},
   "outputs": [],
   "source": []
  },
  {
   "cell_type": "code",
   "execution_count": null,
   "id": "6e1eda93",
   "metadata": {},
   "outputs": [],
   "source": []
  },
  {
   "cell_type": "code",
   "execution_count": null,
   "id": "ec15bcc8",
   "metadata": {},
   "outputs": [],
   "source": []
  },
  {
   "cell_type": "markdown",
   "id": "aeb65be8",
   "metadata": {},
   "source": [
    "**Die Pythonic-Lösung:** Der `@property`-Dekorator. Er erlaubt uns, den sauberen Zugriff über die Dot-Notation beizubehalten, im Hintergrund aber Logik auszuführen."
   ]
  },
  {
   "cell_type": "code",
   "execution_count": null,
   "id": "79903317",
   "metadata": {},
   "outputs": [],
   "source": [
    "class MitarbeiterPythonic:\n",
    "    def __init__(self, name, startgehalt):\n",
    "        self.name = name\n",
    "        # Die Zuweisung hier ruft bereits den Setter auf!\n",
    "        self.gehalt = startgehalt\n",
    "\n",
    "    @property\n",
    "    def gehalt(self):\n",
    "        \"\"\"Der Getter gibt einfach den internen Wert zurück.\"\"\"\n",
    "        return self._gehalt\n",
    "\n",
    "    # 2. Der Setter wird mit dem Namen der Property + .setter definiert\n",
    "    @gehalt.setter\n",
    "    def gehalt(self, neuer_wert):\n",
    "        self._gehalt = neuer_wert\n",
    "        return self._gehalt\n",
    "        \n",
    "\n",
    "# --- Anwendung ---\n",
    "print(\"\\n--- Pythonic Way ---\")\n",
    "m2 = MitarbeiterPythonic(\"Ben\", 50000)\n",
    "\n",
    "# Zugriff und Änderung sehen aus wie bei einem normalen Attribut,\n",
    "# rufen aber im Hintergrund den Getter und Setter auf.\n",
    "m2.gehalt = 52000    # Ruft den Setter auf\n",
    "m2.gehalt = -10000   # Ruft den Setter auf\n",
    "print(f\"Bens aktuelles Gehalt: {m2.gehalt}\") # Ruft den Getter auf"
   ]
  },
  {
   "cell_type": "code",
   "execution_count": null,
   "id": "646a1caa",
   "metadata": {},
   "outputs": [],
   "source": []
  },
  {
   "cell_type": "code",
   "execution_count": null,
   "id": "630af3b4",
   "metadata": {},
   "outputs": [],
   "source": []
  },
  {
   "cell_type": "code",
   "execution_count": null,
   "id": "7b58e3ed",
   "metadata": {},
   "outputs": [],
   "source": []
  },
  {
   "cell_type": "markdown",
   "id": "2a863d38",
   "metadata": {},
   "source": [
    "\n",
    "---\n",
    "\n",
    "### **Der große Vorteil eines Getters – Mehr als nur Werte abrufen**\n",
    "\n",
    "Welchen Vorteil hat ein `@property`-Getter, wenn er nur `return self._attribut` macht, gegenüber dem direkten Zugriff?\n",
    "\n",
    "Der Vorteil liegt nicht im Jetzt, sondern in der **Zukunftssicherheit und Flexibilität**\n",
    "\n",
    "* **Konsistente öffentliche Schnittstelle (API):** Sie können mit einem einfachen öffentlichen Attribut starten. Wenn Sie später merken, dass Sie beim Lesen des Attributs eine Logik hinzufügen müssen (z.B. Logging, Berechnung), können Sie es in eine Property umwandeln. **Für den Nutzer Ihrer Klasse ändert sich nichts.** Er greift immer noch über `obj.attribut` zu. Ohne `@property` müssten Sie den Zugriff auf `obj.get_attribut()` ändern und damit den Code aller Nutzer Ihrer Klasse \"brechen\".\n",
    "* **Berechnete Eigenschaften (Computed Properties):** Ein Getter muss nicht zwingend eine gespeicherte Variable zurückgeben. Er kann einen Wert \"on-the-fly\" aus anderen Attributen berechnen.\n",
    "\n",
    "**Isoliertes Beispiel für einen berechneten Getter:**"
   ]
  },
  {
   "cell_type": "code",
   "execution_count": 1,
   "id": "d54b5c48",
   "metadata": {},
   "outputs": [],
   "source": [
    "# So könnte die 'property'-Klasse grob in Python implementiert sein:\n",
    "class SimpleProperty:\n",
    "    def __init__(self, fget=None, fset=None):\n",
    "        self.fget = fget # Die Getter-Funktion (z.B. unsere 'gehalt'-Methode)\n",
    "        self.fset = fset # Die Setter-Funktion\n",
    "\n",
    "    def __get__(self, instance, owner):\n",
    "        if instance is None:\n",
    "            return self\n",
    "        if self.fget is None:\n",
    "            raise AttributeError(\"unreadable attribute\")\n",
    "        # Ruft die bei der Erstellung übergebene Getter-Funktion auf\n",
    "        return self.fget(instance)\n",
    "\n",
    "    def __set__(self, instance, value):\n",
    "        if self.fset is None:\n",
    "            raise AttributeError(\"can't set attribute\")\n",
    "        # Ruft die bei der Erstellung übergebene Setter-Funktion auf\n",
    "        self.fset(instance, value)\n",
    "        \n",
    "    def setter(self, fset):\n",
    "        # Diese Methode gibt eine NEUE Property-Instanz zurück,\n",
    "        # die nun auch die Setter-Funktion kennt.\n",
    "        return SimpleProperty(self.fget, fset)\n",
    "\n",
    "# Wenn Sie @property schreiben, passiert im Grunde:\n",
    "# gehalt = SimpleProperty(gehalt)\n",
    "\n",
    "# Wenn Sie @gehalt.setter schreiben, passiert:\n",
    "# gehalt = gehalt.setter(gehalt)"
   ]
  },
  {
   "cell_type": "code",
   "execution_count": null,
   "id": "43dfe371",
   "metadata": {},
   "outputs": [],
   "source": []
  },
  {
   "cell_type": "code",
   "execution_count": null,
   "id": "fb648b87",
   "metadata": {},
   "outputs": [],
   "source": []
  },
  {
   "cell_type": "code",
   "execution_count": null,
   "id": "7d5d0a08",
   "metadata": {},
   "outputs": [],
   "source": []
  },
  {
   "cell_type": "markdown",
   "id": "1a59c1c7",
   "metadata": {},
   "source": [
    "\n",
    "Das `@gehalt.setter`-Konstrukt funktioniert, weil der Aufruf von `@property` ein `property`-Objekt erzeugt, das selbst eine Methode namens `.setter` hat. Diese Methode nimmt die Setter-Funktion entgegen und erzeugt ein neues, vollständiges `property`-Objekt."
   ]
  },
  {
   "cell_type": "markdown",
   "id": "43bf87d5",
   "metadata": {},
   "source": [
    "\n",
    "---\n",
    "\n",
    "### **Beispiel 1: Getter und Setter mit Validierung**\n"
   ]
  },
  {
   "cell_type": "code",
   "execution_count": 2,
   "id": "8dbd5f0d",
   "metadata": {},
   "outputs": [
    {
     "name": "stdout",
     "output_type": "stream",
     "text": [
      "-> GETTER: Greife auf Gehalt zu...\n",
      "Bens Gehalt: 50000\n",
      "-> SETTER: Versuche, Gehalt auf 55000 zu setzen...\n",
      "-> GETTER: Greife auf Gehalt zu...\n",
      "Neues Gehalt: 55000\n",
      "--------------------\n",
      "-> SETTER: Versuche, Gehalt auf 25000 zu setzen...\n",
      "FEHLER: Ungültiger Gehaltswert! Muss eine Zahl >= 30000 sein.\n",
      "-> GETTER: Greife auf Gehalt zu...\n",
      "Gehalt nach ungültigem Versuch: 55000\n"
     ]
    }
   ],
   "source": [
    "class Mitarbeiter:\n",
    "    def __init__(self, name, gehalt):\n",
    "        self.name = name\n",
    "        self._gehalt = gehalt # Internes Attribut\n",
    "    \n",
    "    # 1. Der Getter wird durch @property definiert\n",
    "    @property\n",
    "    def gehalt(self):\n",
    "        print(\"-> GETTER: Greife auf Gehalt zu...\")\n",
    "        return self._gehalt\n",
    "\n",
    "    # 2. Der Setter wird mit dem Namen der Property + .setter definiert\n",
    "    @gehalt.setter\n",
    "    def gehalt(self, neuer_wert):\n",
    "        print(f\"-> SETTER: Versuche, Gehalt auf {neuer_wert} zu setzen...\")\n",
    "        if not isinstance(neuer_wert, (int, float)) or neuer_wert < 30000:\n",
    "            print(\"FEHLER: Ungültiger Gehaltswert! Muss eine Zahl >= 30000 sein.\")\n",
    "        else:\n",
    "            self._gehalt = neuer_wert\n",
    "\n",
    "m = Mitarbeiter(\"Ben\", 50000)\n",
    "\n",
    "# Ruft den Getter auf\n",
    "print(f\"Bens Gehalt: {m.gehalt}\")\n",
    "\n",
    "# Ruft den Setter auf (mit gültigem Wert)\n",
    "m.gehalt = 55000 \n",
    "print(f\"Neues Gehalt: {m.gehalt}\")\n",
    "\n",
    "print(\"-\" * 20)\n",
    "# Ruft den Setter auf (mit ungültigem Wert)\n",
    "m.gehalt = 25000\n",
    "print(f\"Gehalt nach ungültigem Versuch: {m.gehalt}\")"
   ]
  },
  {
   "cell_type": "code",
   "execution_count": null,
   "id": "c1d32a15",
   "metadata": {},
   "outputs": [],
   "source": []
  },
  {
   "cell_type": "code",
   "execution_count": null,
   "id": "167876a3",
   "metadata": {},
   "outputs": [],
   "source": []
  },
  {
   "cell_type": "code",
   "execution_count": null,
   "id": "8422dc27",
   "metadata": {},
   "outputs": [],
   "source": []
  },
  {
   "cell_type": "markdown",
   "id": "5714b82f",
   "metadata": {},
   "source": [
    "\n",
    "---\n",
    "### **Beispiel 2: Eine Kreis-Klasse mit gekoppelten Eigenschaften**\n",
    "\n",
    "Hier nutzen wir Properties, um Attribute zu synchronisieren. Ändert man den Durchmesser, muss sich der Radius anpassen und umgekehrt.\n"
   ]
  },
  {
   "cell_type": "code",
   "execution_count": 3,
   "id": "bf116f23",
   "metadata": {},
   "outputs": [
    {
     "name": "stdout",
     "output_type": "stream",
     "text": [
      "Radius: 10, Durchmesser: 20, Fläche: 314.16\n",
      "\n",
      "Ändere Durchmesser auf 50...\n",
      "Neuer Radius: 25.0, Neuer Durchmesser: 50.0, Neue Fläche: 1963.50\n"
     ]
    }
   ],
   "source": [
    "import math\n",
    "\n",
    "class Kreis:\n",
    "    def __init__(self, radius):\n",
    "        self.radius = radius\n",
    "\n",
    "    @property\n",
    "    def durchmesser(self):\n",
    "        return self.radius * 2\n",
    "\n",
    "    @durchmesser.setter\n",
    "    def durchmesser(self, neuer_durchmesser):\n",
    "        self.radius = neuer_durchmesser / 2\n",
    "        \n",
    "    @property\n",
    "    def flaeche(self):\n",
    "        # Eine berechnete, schreibgeschützte Eigenschaft\n",
    "        return math.pi * self.radius ** 2\n",
    "\n",
    "k = Kreis(10)\n",
    "print(f\"Radius: {k.radius}, Durchmesser: {k.durchmesser}, Fläche: {k.flaeche:.2f}\")\n",
    "\n",
    "# Ändern wir den Durchmesser, ändert sich der Radius automatisch mit\n",
    "print(\"\\nÄndere Durchmesser auf 50...\")\n",
    "k.durchmesser = 50\n",
    "print(f\"Neuer Radius: {k.radius}, Neuer Durchmesser: {k.durchmesser}, Neue Fläche: {k.flaeche:.2f}\")"
   ]
  },
  {
   "cell_type": "code",
   "execution_count": null,
   "id": "01ef3bfc",
   "metadata": {},
   "outputs": [],
   "source": []
  },
  {
   "cell_type": "code",
   "execution_count": null,
   "id": "b3d4f587",
   "metadata": {},
   "outputs": [],
   "source": []
  },
  {
   "cell_type": "code",
   "execution_count": null,
   "id": "fe5ccb77",
   "metadata": {},
   "outputs": [],
   "source": []
  },
  {
   "cell_type": "markdown",
   "id": "18f2e128",
   "metadata": {},
   "source": [
    "---\n",
    "## Übung\n",
    "---"
   ]
  },
  {
   "cell_type": "markdown",
   "id": "96f1b952",
   "metadata": {},
   "source": [
    "### **Transfer auf das Projekt: Kontrollierte `Raumschiff`-Attribute**\n",
    "\n",
    "Wir nutzen `@property`, um die `huelle_staerke` unseres Raumschiffs zu einem verwalteten Attribut zu machen. Es soll nicht möglich sein, die Hülle über einen Maximalwert zu \"reparieren\".\n"
   ]
  },
  {
   "cell_type": "code",
   "execution_count": 4,
   "id": "86ffaa63",
   "metadata": {},
   "outputs": [
    {
     "name": "stdout",
     "output_type": "stream",
     "text": [
      "Aktuelle Hülle: 50%\n",
      "\n",
      "Repariere um 80 Punkte...\n",
      "Hülle kann nicht über 100% sein. Setze auf Maximum.\n",
      "Neue Hülle: 100%\n"
     ]
    }
   ],
   "source": [
    "class Raumschiff:\n",
    "    MAX_HUELLE = 100\n",
    "    \n",
    "    def __init__(self, name, huelle_staerke):\n",
    "        self.name = name\n",
    "        # Wichtig: Wir rufen hier den Setter auf, um die Validierung direkt zu nutzen!\n",
    "        self.huelle_staerke = huelle_staerke\n",
    "\n",
    "    @property\n",
    "    def huelle_staerke(self):\n",
    "        return self._huelle_staerke\n",
    "\n",
    "    @huelle_staerke.setter\n",
    "    def huelle_staerke(self, wert):\n",
    "        if wert > self.MAX_HUELLE:\n",
    "            self._huelle_staerke = self.MAX_HUELLE\n",
    "            print(f\"Hülle kann nicht über {self.MAX_HUELLE}% sein. Setze auf Maximum.\")\n",
    "        elif wert < 0:\n",
    "            self._huelle_staerke = 0\n",
    "        else:\n",
    "            self._huelle_staerke = wert\n",
    "            \n",
    "enterprise = Raumschiff(\"Enterprise-D\", 50)\n",
    "print(f\"Aktuelle Hülle: {enterprise.huelle_staerke}%\")\n",
    "\n",
    "print(\"\\nRepariere um 80 Punkte...\")\n",
    "# Diese Zeile ruft den Getter auf (um 50 zu lesen), addiert 80, \n",
    "# und ruft dann den Setter mit dem Ergebnis 130 auf.\n",
    "enterprise.huelle_staerke += 80 \n",
    "print(f\"Neue Hülle: {enterprise.huelle_staerke}%\")"
   ]
  },
  {
   "cell_type": "code",
   "execution_count": null,
   "id": "d269edb2",
   "metadata": {},
   "outputs": [],
   "source": []
  },
  {
   "cell_type": "code",
   "execution_count": null,
   "id": "f6c673e0",
   "metadata": {},
   "outputs": [],
   "source": []
  },
  {
   "cell_type": "code",
   "execution_count": null,
   "id": "e8520bbe",
   "metadata": {},
   "outputs": [],
   "source": []
  },
  {
   "cell_type": "markdown",
   "id": "69af218a",
   "metadata": {},
   "source": [
    "\n",
    "---\n",
    "---\n",
    "\n",
    "## **2. Eigene Dekoratoren in Klassen anwenden**\n",
    "\n",
    "### **Funktionieren unsere selbstgebauten Dekoratoren auch bei Methoden?**\n",
    "\n",
    "Eine Instanzmethode ist im Grunde eine Funktion, deren erster Parameter (`self`) automatisch von Python übergeben wird. Unser universeller Wrapper mit `*args` und `**kwargs` fängt diesen `self`-Parameter problemlos als erstes Element im `args`-Tupel auf.\n",
    "\n",
    "### **Beispiel: Ein `@timer`-Dekorator für eine Klassenmethode**\n"
   ]
  },
  {
   "cell_type": "code",
   "execution_count": 5,
   "id": "0bb1642c",
   "metadata": {},
   "outputs": [
    {
     "name": "stdout",
     "output_type": "stream",
     "text": [
      "Führe Query 'SELECT * FROM users' auf Datenbank 'ProduktionDB' aus...\n",
      "[daten_abfragen] Dauer: 1.50332s\n",
      "Abfrage lieferte: ['Ergebnis1', 'Ergebnis2']\n"
     ]
    }
   ],
   "source": [
    "import time\n",
    "\n",
    "def timer(func):\n",
    "    def wrapper(*args, **kwargs):\n",
    "        start_zeit = time.time()\n",
    "        ergebnis = func(*args, **kwargs)\n",
    "        end_zeit = time.time()\n",
    "        print(f\"[{func.__name__}] Dauer: {end_zeit - start_zeit:.5f}s\")\n",
    "        return ergebnis\n",
    "    return wrapper\n",
    "\n",
    "class DatenbankHandler:\n",
    "    def __init__(self, db_name):\n",
    "        self.db_name = db_name\n",
    "        \n",
    "    @timer\n",
    "    def daten_abfragen(self, query):\n",
    "        print(f\"Führe Query '{query}' auf Datenbank '{self.db_name}' aus...\")\n",
    "        time.sleep(1.5) # Simuliert eine langsame Datenbankabfrage\n",
    "        return [\"Ergebnis1\", \"Ergebnis2\"]\n",
    "\n",
    "db = DatenbankHandler(\"ProduktionDB\")\n",
    "resultate = db.daten_abfragen(\"SELECT * FROM users\")\n",
    "print(f\"Abfrage lieferte: {resultate}\")"
   ]
  },
  {
   "cell_type": "code",
   "execution_count": null,
   "id": "c4065274",
   "metadata": {},
   "outputs": [],
   "source": []
  },
  {
   "cell_type": "code",
   "execution_count": null,
   "id": "0f8304e2",
   "metadata": {},
   "outputs": [],
   "source": []
  },
  {
   "cell_type": "code",
   "execution_count": null,
   "id": "4bab5b10",
   "metadata": {},
   "outputs": [],
   "source": []
  },
  {
   "cell_type": "markdown",
   "id": "c0110020",
   "metadata": {},
   "source": [
    "\n",
    "---\n",
    "---\n",
    "\n",
    "## **3. `@classmethod` und `@staticmethod`: Werkzeuge der Klasse**\n",
    "\n",
    "### **`@classmethod` – Methoden, die auf der Klasse arbeiten**\n",
    "\n",
    "* **Was es ist:** Eine Methode, die als ersten Parameter automatisch die **Klasse selbst** (`cls`) erhält, nicht die Instanz (`self`).\n",
    "* **Grund:**\n",
    "    1.  **Alternative Konstruktoren:** Dies ist der häufigste und wichtigste Anwendungsfall. Manchmal ist es unpraktisch, ein Objekt immer nur über `__init__` zu erstellen. Vielleicht wollen Sie ein Objekt aus einem Dictionary, einem JSON-String oder einem Timestamp erzeugen. Ein `@classmethod` ist dafür die perfekte \"Fabrik-Methode\". Sie hält die Logik zur Objekterstellung sauber innerhalb der Klasse, anstatt sie auf externe Funktionen auszulagern.\n",
    "    2.  **Arbeiten mit Klassenattributen:** Wenn eine Methode primär mit Klassenattributen arbeitet (z.B. einem globalen Zähler für alle Instanzen), ist ein `@classmethod` oft sauberer, da es klar signalisiert, dass kein Instanzzustand (`self`) benötigt wird.\n",
    "* **Wie es im Hintergrund funktioniert (vereinfacht):** Man kann sich `@classmethod` als einen Deskriptor vorstellen, dessen `__get__`-Methode die Funktion nicht an die Instanz, sondern an die Klasse bindet, bevor sie zurückgegeben wird.\n",
    "\n",
    "### **Beispiel: Eine `Datum`-Klasse mit alternativen Konstruktoren**"
   ]
  },
  {
   "cell_type": "code",
   "execution_count": 6,
   "id": "559dd556",
   "metadata": {},
   "outputs": [
    {
     "name": "stdout",
     "output_type": "stream",
     "text": [
      "Geburtstag: 05.10.1990\n",
      "Heute ist der: 30.06.2025\n",
      "Weihnachten ist am: 24.12.2025\n"
     ]
    }
   ],
   "source": [
    "import datetime\n",
    "\n",
    "class Datum:\n",
    "    def __init__(self, tag, monat, jahr):\n",
    "        self.tag = tag\n",
    "        self.monat = monat\n",
    "        self.jahr = jahr\n",
    "        \n",
    "    def __str__(self):\n",
    "        return f\"{self.tag:02d}.{self.monat:02d}.{self.jahr}\"\n",
    "\n",
    "    # Ein alternativer Konstruktor, der die Klasse 'cls' als Parameter erhält\n",
    "    @classmethod\n",
    "    def heute(cls):\n",
    "        # 'cls' ist hier die Klasse 'Datum'\n",
    "        heute = datetime.date.today()\n",
    "        # Ruft den normalen __init__ der Klasse 'cls' auf\n",
    "        return cls(heute.day, heute.month, heute.year)\n",
    "\n",
    "    @classmethod\n",
    "    def aus_iso_format(cls, iso_string): # z.B. \"2025-06-30\"\n",
    "        jahr, monat, tag = map(int, iso_string.split('-'))\n",
    "        return cls(tag, monat, jahr)\n",
    "\n",
    "# Normaler Konstruktor\n",
    "geburtstag = Datum(5, 10, 1990)\n",
    "print(f\"Geburtstag: {geburtstag}\")\n",
    "\n",
    "# Alternativer Konstruktor via @classmethod\n",
    "heutiges_datum = Datum.heute()\n",
    "print(f\"Heute ist der: {heutiges_datum}\")\n",
    "\n",
    "# Zweiter alternativer Konstruktor via @classmethod\n",
    "weihnachten = Datum.aus_iso_format(\"2025-12-24\")\n",
    "print(f\"Weihnachten ist am: {weihnachten}\")"
   ]
  },
  {
   "cell_type": "code",
   "execution_count": null,
   "id": "6bb4aa26",
   "metadata": {},
   "outputs": [],
   "source": []
  },
  {
   "cell_type": "code",
   "execution_count": null,
   "id": "2cdb0378",
   "metadata": {},
   "outputs": [],
   "source": []
  },
  {
   "cell_type": "code",
   "execution_count": null,
   "id": "b3403387",
   "metadata": {},
   "outputs": [],
   "source": []
  },
  {
   "cell_type": "markdown",
   "id": "aeeeb494",
   "metadata": {},
   "source": [
    "\n",
    "---\n",
    "### **`@staticmethod` – Normale Funktionen im Namensraum der Klasse**\n",
    "\n",
    "* **Was es ist:** Im Grunde eine normale Funktion, die aber im \"Namensraum\" der Klasse \"geparkt\" ist, weil sie thematisch dorthin gehört.\n",
    "* **Parameter:** Sie erhält **keinen** automatischen ersten Parameter (weder `self` noch `cls`).\n",
    "* **Wieso brauche ich das?:** Hauptsächlich zur **Code-Organisation und Lesbarkeit**. Wenn Sie eine Hilfsfunktion haben, die logisch zu einer Klasse gehört, aber keinen Zugriff auf Klassen- oder Instanzvariablen benötigt (z.B. eine Validierungs- oder Konvertierungsfunktion), ist es sauberer, sie als `@staticmethod` in die Klasse zu packen, anstatt sie als globale Funktion im Modul \"herumfliegen\" zu lassen.\n",
    "* **Wie es im Hintergrund funktioniert:** Dies ist der einfachste der drei Dekoratoren. Er sorgt im Grunde nur dafür, dass Python beim Aufruf nicht versucht, `self` als ersten Parameter zu übergeben.\n",
    "\n",
    "### **Beispiel: `Datum`-Klasse mit Utility-Funktion**"
   ]
  },
  {
   "cell_type": "markdown",
   "id": "e513c203",
   "metadata": {},
   "source": [
    "class Datum:\n",
    "    # ... (init und classmethods von oben) ...\n",
    "\n",
    "    # Eine Utility-Funktion, die keinen Zustand braucht\n",
    "    @staticmethod\n",
    "    def ist_schaltjahr(jahr):\n",
    "        # Diese Logik hängt nicht von einer spezifischen Instanz oder Klasse ab\n",
    "        return jahr % 4 == 0 and (jahr % 100 != 0 or jahr % 400 == 0)\n",
    "\n",
    "# Man ruft sie direkt über die Klasse auf\n",
    "print(f\"War 2024 ein Schaltjahr? {Datum.ist_schaltjahr(2024)}\")\n",
    "print(f\"War 1990 ein Schaltjahr? {Datum.ist_schaltjahr(1990)}\")"
   ]
  },
  {
   "cell_type": "markdown",
   "id": "b61daf7e",
   "metadata": {},
   "source": [
    "\n",
    "---\n",
    "\n",
    "## Übung\n"
   ]
  },
  {
   "cell_type": "markdown",
   "id": "301ec06f",
   "metadata": {},
   "source": [
    "\n",
    "---\n",
    "\n",
    "### **Transfer auf das Projekt: `Raumschiff`-Fabriken und -Validatoren**\n"
   ]
  },
  {
   "cell_type": "code",
   "execution_count": null,
   "id": "20f0f7b9",
   "metadata": {},
   "outputs": [
    {
     "name": "stdout",
     "output_type": "stream",
     "text": [
      "Neue Fregatte gebaut: Fregatte-Klasse 'USS-Reliant' (Hülle: 100%)\n",
      "Ist 'NCC-1701' eine gültige Kennung? False\n"
     ]
    }
   ],
   "source": [
    "class Raumschiff:\n",
    "    def __init__(self, name, klasse, huelle):\n",
    "        # Die Validierung wird jetzt direkt hier genutzt\n",
    "        if not self.validiere_kennung(name):\n",
    "             raise ValueError(f\"Ungültige Schiffskennung: '{name}'\")\n",
    "        self.name = name\n",
    "        self.klasse = klasse\n",
    "        self.huelle = huelle\n",
    "    \n",
    "    def __str__(self):\n",
    "        return f\"{self.klasse}-Klasse '{self.name}' (Hülle: {self.huelle}%)\"\n",
    "    \n",
    "    # Ein alternativer Konstruktor\n",
    "    @classmethod\n",
    "    def baue_standard_fregatte(cls, name):\n",
    "        # Ruft den normalen __init__ der Klasse 'cls' mit vordefinierten Werten auf\n",
    "        return cls(name, \"Fregatte\", 100)\n",
    "\n",
    "    # Eine thematisch passende Utility-Funktion\n",
    "    @staticmethod\n",
    "    def validiere_kennung(kennung):\n",
    "        return kennung.startswith(\"USS-\") and len(kennung) > 4\n",
    "\n",
    "# Erstellen via @classmethod\n",
    "fregatte = Raumschiff.baue_standard_fregatte(\"USS-Reliant\")\n",
    "print(f\"Neue Fregatte gebaut: {fregatte}\")\n",
    "\n",
    "# Direkter Aufruf der @staticmethod zur Validierung\n",
    "is_valid = Raumschiff.validiere_kennung(\"NCC-1701\")\n",
    "print(f\"Ist 'NCC-1701' eine gültige Kennung? {is_valid}\")"
   ]
  },
  {
   "cell_type": "code",
   "execution_count": null,
   "id": "ff046997",
   "metadata": {},
   "outputs": [],
   "source": []
  },
  {
   "cell_type": "code",
   "execution_count": null,
   "id": "2ac8eb9a",
   "metadata": {},
   "outputs": [],
   "source": []
  },
  {
   "cell_type": "code",
   "execution_count": null,
   "id": "6e4042a7",
   "metadata": {},
   "outputs": [],
   "source": []
  },
  {
   "cell_type": "markdown",
   "id": "3a5e16d4",
   "metadata": {},
   "source": [
    "\n",
    "---\n",
    "---\n",
    "\n",
    "## **5. Tages-Challenge: Anwendung im Schüler-Projekt (`Smart Grid`)**\n",
    "\n",
    "Jetzt kombinieren wir alle heutigen Konzepte in Ihrem Projekt.\n",
    "\n",
    "**Ihre umfassende Aufgabe:**\n",
    "\n",
    "1.  **Schreiben Sie einen Dekorator:**\n",
    "    * Erstellen Sie einen Dekorator `@log_status_aenderung`, der vor dem Aufruf einer Methode ausgibt `\"[LOG] Status von '{self.name}' wird geändert...\"` und danach `\"[LOG] Statusänderung abgeschlossen.\"`. Er muss mit Methoden von Objekten funktionieren.\n",
    "2.  **`@property` implementieren:**\n",
    "    * Das Attribut `aktuelle_leistung` in Ihrem `Energieerzeuger` soll zu einer verwalteten Eigenschaft werden.\n",
    "    * Der **Getter** soll einfach den Wert zurückgeben.\n",
    "    * Der **Setter** soll sicherstellen, dass die `aktuelle_leistung` niemals größer als die `max_leistung` oder kleiner als 0 sein kann. Bei ungültigen Werten soll eine Warnung ausgegeben und der Wert auf den nächstgelegenen gültigen Wert (0 oder `max_leistung`) gesetzt werden.\n",
    "3.  **Dekorator anwenden:**\n",
    "    * Wenden Sie Ihren neuen `@log_status_aenderung`-Dekorator auf den **Setter** der `aktuelle_leistung`-Property an. (Ja, das ist möglich!)\n",
    "4.  **`@classmethod` und `@staticmethod` hinzufügen:**\n",
    "    * Fügen Sie Ihrer `Solaranlage`-Klasse eine `@classmethod` namens `erzeuge_farm_aus_gesamtfleache(cls, name, max_leistung_pro_qm, gesamtflaeche)` hinzu. Diese Methode soll die `max_leistung` aus der Fläche berechnen und eine neue Instanz der `Solaranlage` zurückgeben.\n",
    "    * Fügen Sie Ihrer Basisklasse `Energieerzeuger` eine `@staticmethod` namens `ist_netz_stabil(frequenz)` hinzu. Sie soll `True` zurückgeben, wenn die übergebene `frequenz` zwischen 49.8 und 50.2 Hz liegt, andernfalls `False`.\n",
    "5.  **Alles testen:**\n",
    "    * Erstellen Sie eine Instanz und rufen Sie den Setter für `aktuelle_leistung` auf, um die Log-Ausgabe des Dekorators zu sehen.\n",
    "    * Erstellen Sie eine neue Solarfarm mit Ihrer `@classmethod`.\n",
    "    * Testen Sie die Netzstabilität mit Ihrer `@staticmethod`.\n"
   ]
  }
 ],
 "metadata": {
  "kernelspec": {
   "display_name": "3.13.3",
   "language": "python",
   "name": "python3"
  },
  "language_info": {
   "codemirror_mode": {
    "name": "ipython",
    "version": 3
   },
   "file_extension": ".py",
   "mimetype": "text/x-python",
   "name": "python",
   "nbconvert_exporter": "python",
   "pygments_lexer": "ipython3",
   "version": "3.13.3"
  }
 },
 "nbformat": 4,
 "nbformat_minor": 5
}
