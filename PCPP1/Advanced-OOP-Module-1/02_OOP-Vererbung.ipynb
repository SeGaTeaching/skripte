{
 "cells": [
  {
   "cell_type": "markdown",
   "id": "babad0a3",
   "metadata": {},
   "source": [
    "# Tag 2: Vererbung & Polymorphie – Klassen in Beziehung setzen\n",
    "\n",
    "---\n",
    "\n",
    "## 1. Die Idee der Vererbung: Das \"ist ein\"-Prinzip\n",
    "\n",
    "Stellen Sie sich vor, Sie programmieren verschiedene Typen von Lebewesen: einen Hund, eine Katze, einen Vogel. Sie werden schnell feststellen, dass alle diese Typen Gemeinsamkeiten haben. Alle haben ein Alter, alle können atmen, alle können sich bewegen.\n",
    "\n",
    "In der prozeduralen Programmierung müssten Sie diese Logik für jeden Typ wieder und wieder implementieren. Die OOP bietet hier eine elegantere Lösung: die **Vererbung**.\n",
    "\n",
    "**Was ist Vererbung?**\n",
    "\n",
    "* **Konzept:** Vererbung erlaubt uns, eine neue Klasse (die **abgeleitete Klasse** oder **Kindklasse**) auf einer bestehenden Klasse (der **Basisklasse** oder **Elternklasse**) aufzubauen.\n",
    "* **Effekt:** Die Kindklasse \"erbt\" automatisch alle Attribute und Methoden der Elternklasse. Sie muss diese also nicht neu definieren.\n",
    "* **Beziehung:** Vererbung modelliert eine **\"ist ein\"**-Beziehung. Ein `Hund` *ist ein* `Tier`. Eine `Fregatte` *ist ein* `Raumschiff`.\n",
    "\n",
    "**Warum ist das nützlich?**\n",
    "\n",
    "* **Code-Wiederverwendung (DRY - Don't Repeat Yourself):** Gemeinsame Logik wird nur einmal in der Basisklasse geschrieben und von allen Kindern wiederverwendet.\n",
    "* **Logische Struktur:** Es entsteht eine klare, verständliche Hierarchie. Änderungen an der Basisklasse wirken sich automatisch auf alle Kindklassen aus, was die Wartung enorm erleichtert."
   ]
  },
  {
   "cell_type": "code",
   "execution_count": 1,
   "id": "386bd3cc",
   "metadata": {},
   "outputs": [
    {
     "name": "stdout",
     "output_type": "stream",
     "text": [
      "Hup Hup!\n",
      "Dies ist ein Fahrzeug der Marke BMW.\n",
      "Die Marke des Autos ist: BMW\n"
     ]
    }
   ],
   "source": [
    "# Die Basisklasse (Elternklasse) definiert die allgemeinen Eigenschaften\n",
    "class Fahrzeug:\n",
    "    def __init__(self, marke):\n",
    "        self.marke = marke\n",
    "        \n",
    "    def allgemeine_info(self):\n",
    "        print(f\"Dies ist ein Fahrzeug der Marke {self.marke}.\")\n",
    "\n",
    "# Die abgeleitete Klasse (Kindklasse) erbt von Fahrzeug.\n",
    "# Die Elternklasse wird in Klammern angegeben.\n",
    "class Auto(Fahrzeug):\n",
    "    # Diese Klasse hat eine eigene, spezifische Methode\n",
    "    def hupen(self):\n",
    "        print(\"Hup Hup!\")\n",
    "\n",
    "# Erstellen einer Instanz der Kindklasse\n",
    "mein_auto = Auto(\"BMW\")\n",
    "\n",
    "# 1. Das Auto-Objekt kann seine EIGENE Methode aufrufen:\n",
    "mein_auto.hupen()\n",
    "\n",
    "# 2. Das Auto-Objekt kann auch die GEERBTE Methode der Elternklasse aufrufen:\n",
    "mein_auto.allgemeine_info()\n",
    "\n",
    "# 3. Es hat auch das GEERBTE Attribut:\n",
    "print(f\"Die Marke des Autos ist: {mein_auto.marke}\")"
   ]
  },
  {
   "cell_type": "code",
   "execution_count": null,
   "id": "05f96ff3",
   "metadata": {},
   "outputs": [],
   "source": []
  },
  {
   "cell_type": "code",
   "execution_count": null,
   "id": "bcad819c",
   "metadata": {},
   "outputs": [],
   "source": []
  },
  {
   "cell_type": "code",
   "execution_count": null,
   "id": "3c7fdcd2",
   "metadata": {},
   "outputs": [],
   "source": []
  },
  {
   "cell_type": "markdown",
   "id": "56a27097",
   "metadata": {},
   "source": [
    "#### Raumschiff\n",
    "\n",
    "Jetzt wenden wir das Prinzip auf unser Tutor-Projekt an. Wir wollen verschiedene Typen von Raumschiffen erstellen. Statt für jeden Typ eine komplett neue Klasse zu schreiben, definieren wir eine allgemeine Basisklasse `Schiffsklasse` und leiten davon spezifische Typen wie `Fregatte` oder `Zerstörer` ab."
   ]
  },
  {
   "cell_type": "code",
   "execution_count": 15,
   "id": "5b33e9a8",
   "metadata": {},
   "outputs": [
    {
     "name": "stdout",
     "output_type": "stream",
     "text": [
      "Status für USS Defiant: Hülle bei 120%.\n",
      "Material: Tritanium\n"
     ]
    }
   ],
   "source": [
    "class Schiffsklasse:\n",
    "    # Klassenattribut, das alle Schiffe teilen\n",
    "    BASIS_HUELLENMATERIAL = \"Tritanium\"\n",
    "\n",
    "    def __init__(self, name, huelle_staerke):\n",
    "        self.name = name\n",
    "        self.huelle_staerke = huelle_staerke\n",
    "    \n",
    "    def status_report(self):\n",
    "        print(f\"Status für {self.name}: Hülle bei {self.huelle_staerke}%.\")\n",
    "        \n",
    "# 'Fregatte' ERBT von 'Schiffsklasse'\n",
    "class Fregatte(Schiffsklasse):\n",
    "    # Diese Klasse ist leer (pass), erbt aber ALLES von Schiffsklasse.\n",
    "    pass\n",
    "\n",
    "# Erstellen wir eine Fregatte\n",
    "fregatte1 = Fregatte(\"USS Defiant\", 120)\n",
    "\n",
    "# Wir können die geerbte Methode aufrufen\n",
    "fregatte1.status_report()\n",
    "\n",
    "# Und wir können auf geerbte Attribute zugreifen\n",
    "print(f\"Material: {fregatte1.BASIS_HUELLENMATERIAL}\")"
   ]
  },
  {
   "cell_type": "markdown",
   "id": "2f9ef17c",
   "metadata": {},
   "source": [
    "---\n",
    "## **2. Der `super()`-Konstruktor: Die Brücke zur Elternklasse**\n",
    "\n",
    "### Das Problem des überschriebenen Konstruktors\n",
    "\n",
    "Was passiert, wenn unsere Kindklasse (`Auto`) eigene, zusätzliche Attribute bekommen soll (z.B. `anzahl_tueren`)? Wir müssen einen eigenen `__init__`-Konstruktor für die `Auto`-Klasse schreiben.\n",
    "\n",
    "**Das Problem:** Wenn wir in der Kindklasse `__init__` definieren, wird der `__init__` der Elternklasse **nicht mehr automatisch aufgerufen**. Er wird komplett überschrieben. Die Attribute der Elternklasse (`marke`) würden also nicht initialisiert werden und verloren gehen.\n",
    "\n",
    "#### **Die Lösung mit `super()`**\n",
    "\n",
    "Um dieses Problem zu lösen, müssen wir aus dem `__init__` der Kindklasse **explizit** den `__init__` der Elternklasse aufrufen. Dafür verwenden wir die eingebaute Funktion `super()`.\n",
    "\n",
    "* `super()` gibt uns ein temporäres Objekt der Elternklasse, mit dem wir ihre Methoden aufrufen können.\n",
    "* `super().__init__(...)` ruft also den Konstruktor der Elternklasse auf und sorgt dafür, dass auch deren Attribute korrekt initialisiert werden. Dies ist der saubere und empfohlene Weg in Python.\n"
   ]
  },
  {
   "cell_type": "code",
   "execution_count": 2,
   "id": "9711d4cf",
   "metadata": {},
   "outputs": [
    {
     "name": "stdout",
     "output_type": "stream",
     "text": [
      "Hund-Konstruktor startet...\n",
      "Tier-Konstruktor für 'Bello'\n",
      "Hund-Konstruktor abgeschlossen.\n",
      "Erstellt: Das Tier heißt Bello und ist ein Golden Retriever.\n"
     ]
    }
   ],
   "source": [
    "class Tier:\n",
    "    def __init__(self, name):\n",
    "        print(f\"Tier-Konstruktor für '{name}'\")\n",
    "        self.name = name\n",
    "\n",
    "class Hund(Tier):\n",
    "    def __init__(self, name, rasse):\n",
    "        print(f\"Hund-Konstruktor startet...\")\n",
    "        # Zuerst rufen wir den Konstruktor der Elternklasse (Tier) auf,\n",
    "        # um das Attribut 'name' zu initialisieren.\n",
    "        super().__init__(name)\n",
    "        \n",
    "        # Erst DANACH fügen wir die eigenen Attribute der Hund-Klasse hinzu.\n",
    "        self.rasse = rasse\n",
    "        print(f\"Hund-Konstruktor abgeschlossen.\")\n",
    "\n",
    "bello = Hund(\"Bello\", \"Golden Retriever\")\n",
    "print(f\"Erstellt: Das Tier heißt {bello.name} und ist ein {bello.rasse}.\")"
   ]
  },
  {
   "cell_type": "markdown",
   "id": "4e0fd733",
   "metadata": {},
   "source": [
    "Der `super()`-Aufruf ist also essentiell, um die Initialisierungs-Kette in einer Vererbungshierarchie aufrechtzuerhalten."
   ]
  },
  {
   "cell_type": "code",
   "execution_count": null,
   "id": "5c4aedb2",
   "metadata": {},
   "outputs": [],
   "source": []
  },
  {
   "cell_type": "code",
   "execution_count": null,
   "id": "a8d914b5",
   "metadata": {},
   "outputs": [],
   "source": []
  },
  {
   "cell_type": "code",
   "execution_count": null,
   "id": "a3cdd7d7",
   "metadata": {},
   "outputs": [],
   "source": []
  },
  {
   "cell_type": "markdown",
   "id": "6c0a1811",
   "metadata": {},
   "source": [
    "Die `Fregatte` soll nun ein eigenes Attribut bekommen. Wir nutzen `super()`, um die Initialisierungs-Kette zu `Schiffsklasse` aufrechtzuerhalten."
   ]
  },
  {
   "cell_type": "code",
   "execution_count": null,
   "id": "e5d2540a",
   "metadata": {},
   "outputs": [
    {
     "name": "stdout",
     "output_type": "stream",
     "text": [
      "-> Fregatte.__init__ startet...\n",
      "-> Fregatte.__init__ abgeschlossen.\n",
      "Objekt erstellt: USS Reliant mit 32 Torpedos.\n"
     ]
    }
   ],
   "source": [
    "class Schiffsklasse:\n",
    "    BASIS_HUELLENMATERIAL = \"Tritanium\"\n",
    "\n",
    "    def __init__(self, name, huelle_staerke=100):\n",
    "        self.name = name\n",
    "        self.huelle_staerke = huelle_staerke\n",
    "    \n",
    "    def status_report(self):\n",
    "        \"\"\"Gibt einen allgemeinen Statusreport aus.\"\"\"\n",
    "        print(f\"Status für {self.name}: Hülle bei {self.huelle_staerke}%.\")\n",
    "    \n",
    "    def angreifen(self):\n",
    "        \"\"\"Führt ein Standard-Angriffsmanöver durch.\"\"\"\n",
    "        print(f\"'{self.name}' führt ein Standard-Angriffsmanöver durch.\")\n",
    "\n",
    "class Fregatte(Schiffsklasse):\n",
    "    def __init__(self, name, huelle_staerke, anzahl_torpedos):\n",
    "        # Zuerst den Konstruktor der Elternklasse aufrufen\n",
    "        print(f\"-> Fregatte.__init__ startet...\")\n",
    "        super().__init__(name, huelle_staerke)\n",
    "        \n",
    "        # Jetzt das eigene, spezifische Attribut hinzufügen\n",
    "        self.anzahl_torpedos = anzahl_torpedos\n",
    "        print(f\"-> Fregatte.__init__ abgeschlossen.\")\n",
    "\n",
    "fregatte_reliant = Fregatte(\"USS Reliant\", 100, 32)\n",
    "print(f\"Objekt erstellt: {fregatte_reliant.name} mit {fregatte_reliant.anzahl_torpedos} Torpedos.\")"
   ]
  },
  {
   "cell_type": "markdown",
   "id": "3d27543a",
   "metadata": {},
   "source": [
    "## **3. Polymorphie & Methoden überschreiben**\n",
    "\n",
    "### **Polymorphismus und Duck Typing**\n",
    "\n",
    "**Polymorphismus** (griechisch \"Vielgestaltigkeit\") ist eines der elegantesten Ergebnisse von Vererbung. Es bedeutet, dass wir Objekte verschiedener Klassen, die aber eine gemeinsame Schnittstelle (gleiche Methodennamen) haben, einheitlich behandeln können.\n",
    "\n",
    "In Python wird dies oft durch **Duck Typing** realisiert. Das Konzept folgt dem Sprichwort:\n",
    "\n",
    "> \"If it walks like a duck and it quacks like a duck, then it must be a duck.\"\n",
    "\n",
    "Übertragen auf die Programmierung bedeutet das:\n",
    "* Es ist egal, von welcher Klasse ein Objekt ist.\n",
    "* Wichtig ist nur, *ob es die Methode oder das Attribut besitzt, das wir aufrufen wollen*."
   ]
  },
  {
   "cell_type": "code",
   "execution_count": 4,
   "id": "74789210",
   "metadata": {},
   "outputs": [
    {
     "name": "stdout",
     "output_type": "stream",
     "text": [
      "Ein Tier kommt...\n",
      "Wuff!\n",
      "Ein Tier kommt...\n",
      "Miau!\n",
      "Ein Tier kommt...\n",
      "Quak!\n"
     ]
    }
   ],
   "source": [
    "class Hund:\n",
    "    def laut_geben(self):\n",
    "        print(\"Wuff!\")\n",
    "\n",
    "class Katze:\n",
    "    def laut_geben(self):\n",
    "        print(\"Miau!\")\n",
    "\n",
    "class Ente:\n",
    "    def laut_geben(self):\n",
    "        print(\"Quak!\")\n",
    "\n",
    "def tier_interaktion(irgendein_tier):\n",
    "    # Diese Funktion weiß nichts über Hunde, Katzen oder Enten.\n",
    "    # Sie verlässt sich darauf, dass das Objekt eine .laut_geben() Methode hat.\n",
    "    print(\"Ein Tier kommt...\")\n",
    "    irgendein_tier.laut_geben()\n",
    "    \n",
    "bello = Hund()\n",
    "miezi = Katze()\n",
    "donald = Ente()\n",
    "\n",
    "# Wir können der Funktion Objekte völlig unterschiedlicher Klassen übergeben.\n",
    "# Dank Duck Typing funktioniert es immer.\n",
    "tier_interaktion(bello)\n",
    "tier_interaktion(miezi)\n",
    "tier_interaktion(donald)"
   ]
  },
  {
   "cell_type": "code",
   "execution_count": null,
   "id": "6fbf5b8b",
   "metadata": {},
   "outputs": [],
   "source": []
  },
  {
   "cell_type": "code",
   "execution_count": null,
   "id": "32861adb",
   "metadata": {},
   "outputs": [],
   "source": []
  },
  {
   "cell_type": "code",
   "execution_count": null,
   "id": "e7a345a3",
   "metadata": {},
   "outputs": [],
   "source": []
  },
  {
   "cell_type": "markdown",
   "id": "31ea33af",
   "metadata": {},
   "source": [
    "Dank Duck Typing können wir sehr flexible Funktionen schreiben. In unserem `Raumschiff`-Projekt können wir so eine ganze Flotte aus unterschiedlichen Schiffstypen mit einer einzigen Funktion verwalten."
   ]
  },
  {
   "cell_type": "code",
   "execution_count": 5,
   "id": "45a58dfc",
   "metadata": {},
   "outputs": [
    {
     "name": "stdout",
     "output_type": "stream",
     "text": [
      "-> Fregatte.__init__ startet...\n",
      "-> Fregatte.__init__ abgeschlossen.\n",
      "\n",
      "--- Flotten-Report via Polymorphismus ---\n",
      "Status für USS Saratoga: Hülle bei 100%.\n",
      "Zerstörer 'Yamato': Hülle bei 250%, 12 Phaserbänke online.\n"
     ]
    }
   ],
   "source": [
    "# Wir erweitern unsere Hierarchie\n",
    "class Zerstörer(Schiffsklasse):\n",
    "    def __init__(self, name, huelle_staerke, anzahl_phaserbanken):\n",
    "        super().__init__(name, huelle_staerke)\n",
    "        self.anzahl_phaserbanken = anzahl_phaserbanken\n",
    "        \n",
    "    def status_report(self):\n",
    "        # Diese Methode hat den gleichen Namen wie in Schiffsklasse\n",
    "        print(f\"Zerstörer '{self.name}': Hülle bei {self.huelle_staerke}%, {self.anzahl_phaserbanken} Phaserbänke online.\")\n",
    "\n",
    "# Eine Fregatte erbt status_report() von Schiffsklasse\n",
    "fregatte_saratoga = Fregatte(\"USS Saratoga\", 100, 16) \n",
    "zerstörer_yamato = Zerstörer(\"Yamato\", 250, 12)\n",
    "\n",
    "# Eine Flotte mit unterschiedlichen Objekten\n",
    "flotte = [fregatte_saratoga, zerstörer_yamato]\n",
    "\n",
    "def flotten_status_abfragen(schiffs_liste):\n",
    "    print(\"\\n--- Flotten-Report via Polymorphismus ---\")\n",
    "    for schiff in schiffs_liste:\n",
    "        schiff.status_report() # Funktioniert für jedes Objekt mit dieser Methode\n",
    "\n",
    "flotten_status_abfragen(flotte)"
   ]
  },
  {
   "cell_type": "markdown",
   "id": "b0e2d567",
   "metadata": {},
   "source": [
    "---\n",
    "### **Methoden überschreiben (Overriding)**\n",
    "\n",
    "Damit Polymorphismus wirklich nützlich ist, müssen die verschiedenen Klassen bei gleichem Methodenaufruf auch unterschiedliches Verhalten zeigen. Dies erreichen wir durch **Method Overriding**.\n",
    "\n",
    "* **Definition:** Overriding bedeutet, dass eine Kindklasse eine Methode, die sie von der Elternklasse erbt, mit einer eigenen Implementierung **überschreibt**.\n",
    "* **Funktionsweise:** Wenn die Methode auf einem Objekt der Kindklasse aufgerufen wird, wird immer die **spezifischere Version der Kindklasse** ausgeführt.\n",
    "* **Zweck:** Ermöglicht es, das Verhalten von Kindklassen zu spezialisieren, während die gemeinsame Schnittstelle (der Methodenname) erhalten bleibt. Das ist die Grundlage für Polymorphismus."
   ]
  },
  {
   "cell_type": "code",
   "execution_count": 6,
   "id": "3549e679",
   "metadata": {},
   "outputs": [
    {
     "name": "stdout",
     "output_type": "stream",
     "text": [
      "Hans sendet einen Standard-Tagesbericht.\n",
      "----------------------------------------\n",
      "Frau Schmidt sendet einen Standard-Tagesbericht.\n",
      "Zusätzlich sendet Manager Frau Schmidt einen Abteilungs-Report.\n"
     ]
    }
   ],
   "source": [
    "class Mitarbeiter:\n",
    "    def __init__(self, name):\n",
    "        self.name = name\n",
    "        \n",
    "    def tagesbericht_senden(self):\n",
    "        print(f\"{self.name} sendet einen Standard-Tagesbericht.\")\n",
    "\n",
    "class Manager(Mitarbeiter):\n",
    "    # Overriding der Methode\n",
    "    def tagesbericht_senden(self):\n",
    "        # Man kann mit super() auch die Eltern-Methode einbinden\n",
    "        super().tagesbericht_senden()\n",
    "        print(f\"Zusätzlich sendet Manager {self.name} einen Abteilungs-Report.\")\n",
    "\n",
    "standard_ma = Mitarbeiter(\"Hans\")\n",
    "abteilungsleiter = Manager(\"Frau Schmidt\")\n",
    "\n",
    "# Jedes Objekt ruft seine eigene Version der Methode auf\n",
    "standard_ma.tagesbericht_senden()\n",
    "print('--'*20)\n",
    "abteilungsleiter.tagesbericht_senden()"
   ]
  },
  {
   "cell_type": "code",
   "execution_count": null,
   "id": "00161a01",
   "metadata": {},
   "outputs": [],
   "source": []
  },
  {
   "cell_type": "code",
   "execution_count": null,
   "id": "cbe2a2bc",
   "metadata": {},
   "outputs": [],
   "source": []
  },
  {
   "cell_type": "code",
   "execution_count": null,
   "id": "d1bf21fa",
   "metadata": {},
   "outputs": [],
   "source": []
  },
  {
   "cell_type": "markdown",
   "id": "19429a96",
   "metadata": {},
   "source": [
    "---\n",
    "Jedes Schiff soll angreifen können, aber jeder Typ tut dies auf seine eigene Weise."
   ]
  },
  {
   "cell_type": "code",
   "execution_count": 7,
   "id": "1857cca8",
   "metadata": {},
   "outputs": [
    {
     "name": "stdout",
     "output_type": "stream",
     "text": [
      "\n",
      "--- Angriffssequenz wird eingeleitet ---\n",
      "'USS Reliant' feuert eine Salve Torpedos ab!\n",
      "'Yamato' feuert aus allen Phaserbänken!\n",
      "'Transportschiff GR-75' führt ein Standard-Angriffsmanöver durch.\n"
     ]
    }
   ],
   "source": [
    "class Schiffsklasse:\n",
    "    def __init__(self, name):\n",
    "        self.name = name\n",
    "        \n",
    "    def angreifen(self):\n",
    "        print(f\"'{self.name}' führt ein Standard-Angriffsmanöver durch.\")\n",
    "\n",
    "class Fregatte(Schiffsklasse):\n",
    "    def angreifen(self): # Overriding\n",
    "        print(f\"'{self.name}' feuert eine Salve Torpedos ab!\")\n",
    "\n",
    "class Zerstörer(Schiffsklasse):\n",
    "    def angreifen(self): # Overriding\n",
    "        print(f\"'{self.name}' feuert aus allen Phaserbänken!\")\n",
    "\n",
    "# Objekte erstellen\n",
    "schiff1 = Fregatte(\"USS Reliant\")\n",
    "schiff2 = Zerstörer(\"Yamato\")\n",
    "schiff3 = Schiffsklasse(\"Transportschiff GR-75\") # Nutzt die Basis-Methode\n",
    "\n",
    "angriffs_flotte = [schiff1, schiff2, schiff3]\n",
    "\n",
    "def befehl_angriff(flotte):\n",
    "    print(\"\\n--- Angriffssequenz wird eingeleitet ---\")\n",
    "    for schiff in flotte:\n",
    "        # Dank Polymorphismus wird immer die richtige Methode aufgerufen\n",
    "        schiff.angreifen()\n",
    "\n",
    "befehl_angriff(angriffs_flotte)"
   ]
  },
  {
   "cell_type": "markdown",
   "id": "5bcfef2a",
   "metadata": {},
   "source": [
    "---\n",
    "\n",
    "## **4. Ausblick: Ein Teaser zur Method Resolution Order (MRO)**\n",
    "\n",
    "Wir haben  gesehen, wie eine Kindklasse von **EINER** Elternklasse erbt. Aber was passiert, wenn ein Schiff von **ZWEI** Elternklassen gleichzeitig erbt, die beide eine `angreifen()`-Methode haben? Welche wird dann ausgeführt?"
   ]
  },
  {
   "cell_type": "code",
   "execution_count": 8,
   "id": "774d30eb",
   "metadata": {},
   "outputs": [],
   "source": [
    "class LaserTechnologie:\n",
    "    def angreifen(self):\n",
    "        print(\"Feuert einen hochkonzentrierten Laserstrahl ab!\")\n",
    "\n",
    "class HybridSchiff(Fregatte, LaserTechnologie):\n",
    "    pass\n",
    "\n",
    "# Welcher Angriff wird ausgeführt? Der Torpedoangriff der Fregatte\n",
    "# oder der Laserangriff der LaserTechnologie?\n",
    "# hybr = HybridSchiff(\"Prometheus\")\n",
    "# hybr.angreifen() "
   ]
  },
  {
   "cell_type": "code",
   "execution_count": null,
   "id": "7cfc4f1b",
   "metadata": {},
   "outputs": [],
   "source": []
  },
  {
   "cell_type": "code",
   "execution_count": null,
   "id": "ab727e2a",
   "metadata": {},
   "outputs": [],
   "source": []
  },
  {
   "cell_type": "code",
   "execution_count": null,
   "id": "17322d03",
   "metadata": {},
   "outputs": [],
   "source": []
  },
  {
   "cell_type": "markdown",
   "id": "cb38c1ae",
   "metadata": {},
   "source": [
    "\n",
    "Python hat dafür eine geniale und exakte Regel, die sogenannte **Method Resolution Order (MRO)**. Sie legt eindeutig fest, in welcher Reihenfolge die Elternklassen durchsucht werden."
   ]
  },
  {
   "cell_type": "markdown",
   "id": "ec869032",
   "metadata": {},
   "source": [
    "---\n",
    "## **5. DIY (`Smart Grid`)**\n",
    "\n",
    "Jetzt ist es an der Zeit, alle Konzepte des heutigen Tages in Ihrem Projekt anzuwenden.\n",
    "\n",
    "**Ihre Aufgaben:**\n",
    "\n",
    "1.  **Basisklasse erstellen:** Ihre existierende Klasse `Energieerzeuger` wird zur Basisklasse. Sie sollte die Attribute `name`, `max_leistung` und den Status `ist_aktiv` im `__init__` initialisieren.\n",
    "2.  **Kindklassen ableiten:** Erstellen Sie zwei neue Klassen, `Solaranlage` und `Windkraftwerk`, die beide von `Energieerzeuger` erben.\n",
    "3.  **Konstruktoren mit `super()` erweitern:**\n",
    "    * Eine `Solaranlage` soll das zusätzliche Attribut `panel_flaeche` (in m²) haben.\n",
    "    * Ein `Windkraftwerk` soll das zusätzliche Attribut `anzahl_turbinen` haben.\n",
    "    * Verwenden Sie in den `__init__`-Methoden beider Kindklassen `super()`, um die Attribute der `Energieerzeuger`-Klasse korrekt zu initialisieren.\n",
    "4.  **Methoden überschreiben (Overriding):**\n",
    "    * Die `Energieerzeuger`-Klasse soll eine Methode `wartung_durchfuehren()` haben, die eine allgemeine Nachricht ausgibt (z.B. \"Allgemeine Wartung für {self.name} wird durchgeführt.\").\n",
    "    * Überschreiben Sie diese Methode in `Solaranlage` (z.B. \"Solarkollektoren werden gereinigt.\") und in `Windkraftwerk` (z.B. \"Turbinen werden inspiziert.\").\n",
    "5.  **Polymorphie testen:**\n",
    "    * Erstellen Sie eine Liste, die eine Instanz von `Solaranlage` und eine von `Windkraftwerk` enthält.\n",
    "    * Schreiben Sie eine Schleife, die über diese Liste iteriert und für jedes Objekt die Methode `wartung_durchfuehren()` aufruft. Sie werden sehen, dass jeweils die korrekte, spezialisierte Methode ausgeführt wird."
   ]
  },
  {
   "cell_type": "markdown",
   "id": "f6f09848",
   "metadata": {},
   "source": []
  }
 ],
 "metadata": {
  "kernelspec": {
   "display_name": "3.13.3",
   "language": "python",
   "name": "python3"
  },
  "language_info": {
   "codemirror_mode": {
    "name": "ipython",
    "version": 3
   },
   "file_extension": ".py",
   "mimetype": "text/x-python",
   "name": "python",
   "nbconvert_exporter": "python",
   "pygments_lexer": "ipython3",
   "version": "3.13.3"
  }
 },
 "nbformat": 4,
 "nbformat_minor": 5
}
