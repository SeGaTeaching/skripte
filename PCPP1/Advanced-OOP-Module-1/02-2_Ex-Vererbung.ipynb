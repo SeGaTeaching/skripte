{
 "cells": [
  {
   "cell_type": "markdown",
   "id": "de4bf77a",
   "metadata": {},
   "source": [
    "## **Übungen für Tag 2**\n",
    "\n",
    "---\n",
    "#### **Übungs-Set für Block 1: Einfache Vererbung**\n",
    "*(Thema: Eine Hierarchie von Lebewesen)*\n",
    "\n",
    "**Aufgabe 1: Die Basisklasse**\n",
    "Erstellen Sie eine Basisklasse `Lebewesen`. Der Konstruktor soll das Attribut `alter` entgegennehmen und speichern. Fügen Sie eine Methode `altern()` hinzu, die das Alter um 1 erhöht.\n",
    "\n",
    "**Aufgabe 2: Die erste Kindklasse**\n",
    "Erstellen Sie eine Klasse `Pflanze`, die von `Lebewesen` erbt. Fügen Sie ihr eine spezifische Methode `fotosynthese_betreiben()` hinzu, die eine Nachricht ausgibt (z.B. \"Die Pflanze produziert Sauerstoff.\").\n",
    "\n",
    "**Aufgabe 3: Die zweite Kindklasse**\n",
    "Erstellen Sie eine weitere Klasse `Tier`, die ebenfalls von `Lebewesen` erbt. Fügen Sie ihr eine spezifische Methode `bewegen()` hinzu, die ausgibt \"Das Tier bewegt sich.\".\n",
    "\n",
    "**Aufgabe 4: Vererbung testen**\n",
    "Erstellen Sie eine Instanz von `Pflanze` und eine von `Tier`.\n",
    "1.  Zeigen Sie, dass beide Instanzen auf das Attribut `alter` zugreifen können, obwohl es nur in `Lebewesen` definiert ist.\n",
    "2.  Rufen Sie bei beiden Instanzen die `altern()`-Methode auf und überprüfen Sie, ob das Alter korrekt erhöht wurde.\n",
    "3.  Rufen Sie die jeweils spezifischen Methoden (`fotosynthese_betreiben()` und `bewegen()`) auf.\n"
   ]
  },
  {
   "cell_type": "code",
   "execution_count": null,
   "id": "0e23c9ab",
   "metadata": {},
   "outputs": [],
   "source": []
  },
  {
   "cell_type": "code",
   "execution_count": null,
   "id": "ecf6d313",
   "metadata": {},
   "outputs": [],
   "source": []
  },
  {
   "cell_type": "code",
   "execution_count": null,
   "id": "ceb4e9ab",
   "metadata": {},
   "outputs": [],
   "source": []
  },
  {
   "cell_type": "code",
   "execution_count": null,
   "id": "c4806c08",
   "metadata": {},
   "outputs": [],
   "source": []
  },
  {
   "cell_type": "markdown",
   "id": "8adb5bec",
   "metadata": {},
   "source": [
    "\n",
    "---\n",
    "#### **Übungs-Set für Block 2 & 3: `super()`, Polymorphie & Overriding**\n",
    "*(Thema: Eine Mitarbeiter-Hierarchie aufbauen)*\n",
    "\n",
    "**Aufgabe 1: Kindklasse mit `super()` erweitern**\n",
    "Erstellen Sie eine Basisklasse `Mitarbeiter` mit den Attributen `name` und `personalnummer`. Leiten Sie davon eine Klasse `Manager` ab.\n",
    "Der `__init__`-Konstruktor von `Manager` soll zusätzlich das Attribut `abteilung` entgegennehmen. Verwenden Sie `super().__init__()`, um die Initialisierung von `name` und `personalnummer` an die Elternklasse zu delegieren.\n",
    "\n",
    "**Aufgabe 2: Methoden hinzufügen**\n",
    "Die `Mitarbeiter`-Klasse soll eine Methode `tagesbericht_schreiben()` haben, die ausgibt: `\"Allgemeiner Tagesbericht wird von {self.name} verfasst.\"`.\n",
    "\n",
    "**Aufgabe 3: Methode überschreiben (Overriding)**\n",
    "Überschreiben Sie die Methode `tagesbericht_schreiben()` in der `Manager`-Klasse. Die neue Implementierung soll ausgeben: `\"Abteilungs-Report für {self.abteilung} wird von Manager {self.name} verfasst.\"`.\n",
    "\n",
    "**Aufgabe 4: Polymorphie testen**\n",
    "1.  Erstellen Sie eine Liste, die eine Instanz von `Mitarbeiter` und eine Instanz von `Manager` enthält.\n",
    "2.  Schreiben Sie eine Schleife, die über diese Liste iteriert. Rufen Sie für jedes Objekt in der Schleife die Methode `tagesbericht_schreiben()` auf.\n",
    "3.  Beobachten Sie, wie dank Polymorphismus und Overriding für jedes Objekt automatisch die korrekte (allgemeine oder spezialisierte) Methode ausgeführt wird.\n",
    "\n",
    "**Aufgabe 5: Funktionalität mit `super()` erweitern**\n",
    "Passen Sie die überschriebene `tagesbericht_schreiben()`-Methode im `Manager` an. Sie soll zuerst die ursprüngliche Methode der `Mitarbeiter`-Klasse aufrufen (mit `super().tagesbericht_schreiben()`) und *danach* ihre eigene, zusätzliche Nachricht ausgeben. So wird das Verhalten der Elternklasse nicht komplett ersetzt, sondern erweitert."
   ]
  },
  {
   "cell_type": "code",
   "execution_count": null,
   "id": "4a3c0b1e",
   "metadata": {},
   "outputs": [],
   "source": []
  },
  {
   "cell_type": "code",
   "execution_count": null,
   "id": "3d268d7c",
   "metadata": {},
   "outputs": [],
   "source": []
  },
  {
   "cell_type": "code",
   "execution_count": null,
   "id": "a1c38d1f",
   "metadata": {},
   "outputs": [],
   "source": []
  },
  {
   "cell_type": "code",
   "execution_count": null,
   "id": "462cd524",
   "metadata": {},
   "outputs": [],
   "source": []
  },
  {
   "cell_type": "code",
   "execution_count": null,
   "id": "a5826870",
   "metadata": {},
   "outputs": [],
   "source": []
  }
 ],
 "metadata": {
  "language_info": {
   "name": "python"
  }
 },
 "nbformat": 4,
 "nbformat_minor": 5
}
