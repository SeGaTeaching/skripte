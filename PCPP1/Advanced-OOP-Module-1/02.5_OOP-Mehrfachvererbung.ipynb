{
 "cells": [
  {
   "cell_type": "markdown",
   "id": "40358540",
   "metadata": {},
   "source": [
    "# Kapitel 2.5: Vererbung – Mehrfachvererbung & MRO\n",
    "---\n",
    "\n",
    "## **1. Mehrfachvererbung: Fähigkeiten kombinieren**\n",
    "\n",
    "### **Was ist Mehrfachvererbung und warum braucht man sie?**\n",
    "\n",
    "Bisher kannten wir nur die einfache Vererbung: Eine Kindklasse erbt von **genau einer** Elternklasse. Die Mehrfachvererbung erlaubt es einer Klasse, von **zwei oder mehr** Elternklassen gleichzeitig zu erben.\n",
    "\n",
    "* **Syntax:** Die Elternklassen werden einfach durch Komma getrennt in den Klammern aufgelistet: `class Kind(Eltern1, Eltern2, Eltern3):`\n",
    "* **Zweck:** Der Hauptzweck ist nicht, komplexe \"ist ein\"-Hierarchien zu bauen, sondern eher, verschiedene, voneinander unabhängige **Fähigkeiten oder Verhaltensweisen** in einer Klasse zu vereinen. Man spricht hier auch vom **\"Mixin\"-Muster**: Wir mischen die Fähigkeiten verschiedener Klassen zusammen.\n",
    "* **Analogie:** Ein **Schweizer Taschenmesser**. Es ist eine Kombination aus unabhängigen Werkzeugen. Es erbt die Fähigkeit \"schneiden\" von einem `Messer`, \"schrauben\" von einem `Schraubendreher` und \"öffnen\" von einem `Dosenöffner`.\n",
    "* **Analogie 2 (Zusammengesetztes Objekt):** Ein **Amphibienfahrzeug**. Es *ist ein* Landfahrzeug (es hat Räder und kann fahren) UND es *ist ein* Wasserfahrzeug (es hat einen Propeller und kann schwimmen). Es erbt die Fähigkeiten von beiden.\n",
    "\n",
    "---\n",
    "\n",
    "### **Kombination von Bewegungsarten**\n",
    "\n",
    "Ein sehr intuitives Beispiel ist die Kombination von zwei fundamental unterschiedlichen Bewegungsarten."
   ]
  },
  {
   "cell_type": "code",
   "execution_count": 3,
   "id": "4feaae64",
   "metadata": {},
   "outputs": [
    {
     "name": "stdout",
     "output_type": "stream",
     "text": [
      "Bewegt sich durch die Luft.\n",
      "Bewegt sich durch das Wasser.\n",
      "Quak!\n"
     ]
    }
   ],
   "source": [
    "class Fliegend:\n",
    "    def fliegen(self):\n",
    "        print(\"Bewegt sich durch die Luft.\")\n",
    "\n",
    "class Schwimmend:\n",
    "    def schwimmen(self):\n",
    "        print(\"Bewegt sich durch das Wasser.\")\n",
    "\n",
    "# Die Ente kann beides, also erbt sie von beiden Eltern\n",
    "class Ente(Fliegend, Schwimmend):\n",
    "    def quaken(self):\n",
    "        print(\"Quak!\")\n",
    "\n",
    "# Testen wir die kombinierten Fähigkeiten\n",
    "donald = Ente()\n",
    "donald.fliegen()\n",
    "donald.schwimmen()\n",
    "donald.quaken()"
   ]
  },
  {
   "cell_type": "code",
   "execution_count": null,
   "id": "fbcc5802",
   "metadata": {},
   "outputs": [],
   "source": []
  },
  {
   "cell_type": "code",
   "execution_count": null,
   "id": "53da1d68",
   "metadata": {},
   "outputs": [],
   "source": []
  },
  {
   "cell_type": "code",
   "execution_count": null,
   "id": "bdb75652",
   "metadata": {},
   "outputs": [],
   "source": []
  },
  {
   "cell_type": "markdown",
   "id": "38acb83a",
   "metadata": {},
   "source": [
    "\n",
    "---\n",
    "\n",
    "### **Das \"Mixin\"-Muster für Funktionalität**\n",
    "\n",
    "In der Softwareentwicklung nutzen wir oft kleine Klassen (Mixins), die nur eine einzige, wiederverwendbare Fähigkeit bereitstellen."
   ]
  },
  {
   "cell_type": "code",
   "execution_count": 4,
   "id": "9dec1367",
   "metadata": {},
   "outputs": [
    {
     "name": "stdout",
     "output_type": "stream",
     "text": [
      "[LOG] Datenversand wird versucht...\n",
      "Authentifizierung erfolgreich.\n",
      "[LOG] Daten 'Top Secret Info' werden gesendet.\n"
     ]
    }
   ],
   "source": [
    "# Ein Mixin, das die Fähigkeit zum Protokollieren bereitstellt\n",
    "class Protokollierbar:\n",
    "    def log(self, nachricht):\n",
    "        # In einer echten Anwendung würde hier in eine Datei geschrieben werden\n",
    "        print(f\"[LOG] {nachricht}\")\n",
    "\n",
    "# Ein zweites, unabhängiges Mixin für Authentifizierung\n",
    "class Authentifizierbar:\n",
    "    def authentifiziere(self, passwort):\n",
    "        if passwort == \"geheim123\":\n",
    "            # Beachten Sie: Eine Methode aus einem Mixin kann nicht wissen,\n",
    "            # ob ein anderes Mixin ebenfalls vorhanden ist.\n",
    "            # Ein direkter Aufruf wie self.log() wäre hier riskant.\n",
    "            print(\"Authentifizierung erfolgreich.\")\n",
    "            return True\n",
    "        else:\n",
    "            print(\"Authentifizierung fehlgeschlagen.\")\n",
    "            return False\n",
    "\n",
    "# Unsere Hauptklasse erbt nun beide Fähigkeiten\n",
    "class WebRequest(Protokollierbar, Authentifizierbar):\n",
    "    def daten_senden(self, daten, passwort):\n",
    "        self.log(\"Datenversand wird versucht...\") # geerbt von Protokollierbar\n",
    "        if self.authentifiziere(passwort):        # geerbt von Authentifizierbar\n",
    "            self.log(f\"Daten '{daten}' werden gesendet.\")\n",
    "        else:\n",
    "            self.log(\"Datenversand abgebrochen.\")\n",
    "            \n",
    "# Instanz erstellen und testen\n",
    "request = WebRequest()\n",
    "request.daten_senden(\"Top Secret Info\", \"geheim123\")"
   ]
  },
  {
   "cell_type": "code",
   "execution_count": null,
   "id": "1e109379",
   "metadata": {},
   "outputs": [],
   "source": []
  },
  {
   "cell_type": "code",
   "execution_count": null,
   "id": "d8e1d9f7",
   "metadata": {},
   "outputs": [],
   "source": []
  },
  {
   "cell_type": "code",
   "execution_count": null,
   "id": "764f6d4f",
   "metadata": {},
   "outputs": [],
   "source": []
  },
  {
   "cell_type": "markdown",
   "id": "a5b7fa0d",
   "metadata": {},
   "source": [
    "\n",
    "---\n",
    "**Markdown-Zelle**\n",
    "````markdown\n",
    "### **`__init__` in mehreren Elternklassen**\n",
    "\n",
    "Was passiert, wenn mehrere Elternklassen einen `__init__`-Konstruktor haben? `super()` allein kann hier verwirrend sein, da es einem klaren Pfad (der MRO) folgt und nicht unbedingt alle Konstruktoren aufruft. In solchen Fällen muss man die Konstruktoren der Eltern oft explizit über den Klassennamen aufrufen.\n",
    "\n"
   ]
  },
  {
   "cell_type": "code",
   "execution_count": 5,
   "id": "e7168141",
   "metadata": {},
   "outputs": [
    {
     "name": "stdout",
     "output_type": "stream",
     "text": [
      "INIT Student...\n",
      "INIT Angestellter...\n",
      "Matrikelnr: 12345, Personalnr: A987, Studiengang: Informatik\n"
     ]
    }
   ],
   "source": [
    "class Student:\n",
    "    def __init__(self, matrikelnr):\n",
    "        print(\"INIT Student...\")\n",
    "        self.matrikelnr = matrikelnr\n",
    "\n",
    "class Angestellter:\n",
    "    def __init__(self, personalnr):\n",
    "        print(\"INIT Angestellter...\")\n",
    "        self.personalnr = personalnr\n",
    "        \n",
    "# Ein Werkstudent ist beides: Student UND Angestellter\n",
    "class Werkstudent(Student, Angestellter):\n",
    "    def __init__(self, matrikelnr, personalnr, studiengang):\n",
    "        # Wir rufen die Konstruktoren beider Eltern explizit auf\n",
    "        Student.__init__(self, matrikelnr)\n",
    "        Angestellter.__init__(self, personalnr)\n",
    "        \n",
    "        # Eigenes Attribut hinzufügen\n",
    "        self.studiengang = studiengang\n",
    "\n",
    "# Test\n",
    "ws = Werkstudent(\"12345\", \"A987\", \"Informatik\")\n",
    "print(f\"Matrikelnr: {ws.matrikelnr}, Personalnr: {ws.personalnr}, Studiengang: {ws.studiengang}\")"
   ]
  },
  {
   "cell_type": "code",
   "execution_count": null,
   "id": "1147af4b",
   "metadata": {},
   "outputs": [],
   "source": []
  },
  {
   "cell_type": "code",
   "execution_count": null,
   "id": "be8c605c",
   "metadata": {},
   "outputs": [],
   "source": []
  },
  {
   "cell_type": "code",
   "execution_count": 6,
   "id": "df6f3bb3",
   "metadata": {},
   "outputs": [],
   "source": [
    "# Übung 1"
   ]
  },
  {
   "cell_type": "markdown",
   "id": "c119a963",
   "metadata": {},
   "source": [
    "### **Transfer auf das Projekt: Das multifunktionale `Raumschiff`**\n",
    "\n",
    "Nachdem wir das Konzept an verschiedenen Beispielen verstanden haben, wenden wir es nun auf unser `Raumschiff`-Projekt an. Wir nutzen das \"Mixin\"-Muster, um einem Schiff optionale Fähigkeiten zu verleihen."
   ]
  },
  {
   "cell_type": "code",
   "execution_count": 7,
   "id": "f9042239",
   "metadata": {},
   "outputs": [
    {
     "name": "stdout",
     "output_type": "stream",
     "text": [
      "Status für USS Raven: Alle Systeme nominal.\n",
      "Scanner wird aktiviert. Scanne Planet Vulcan auf wertvolle Mineralien...\n",
      "Tarnfeld wird um USS Raven aufgebaut. Schiff ist nun unsichtbar.\n"
     ]
    }
   ],
   "source": [
    "# Unsere bekannte Basisklasse\n",
    "class Schiffsklasse:\n",
    "    def __init__(self, name):\n",
    "        self.name = name\n",
    "    def status_report(self):\n",
    "        print(f\"Status für {self.name}: Alle Systeme nominal.\")\n",
    "\n",
    "# Mixin 1: Scan-Fähigkeit\n",
    "class MineralienScanner:\n",
    "    def scanne_planet(self, planet):\n",
    "        print(f\"Scanner wird aktiviert. Scanne Planet {planet} auf wertvolle Mineralien...\")\n",
    "\n",
    "# Mixin 2: Tarn-Fähigkeit\n",
    "class Tarnvorrichtung:\n",
    "    def aktiviere_tarnung(self):\n",
    "        print(f\"Tarnfeld wird um {self.name} aufgebaut. Schiff ist nun unsichtbar.\")\n",
    "        \n",
    "# Ein Aufklärungsschiff erbt von der Basisklasse UND den beiden Mixins\n",
    "class AufklaerungsSchiff(Schiffsklasse, MineralienScanner, Tarnvorrichtung):\n",
    "    def __init__(self, name):\n",
    "        # Wir müssen nur den Konstruktor der Haupt-Basisklasse aufrufen\n",
    "        super().__init__(name)\n",
    "\n",
    "# Testen\n",
    "raven = AufklaerungsSchiff(\"USS Raven\")\n",
    "\n",
    "# Fähigkeit von Schiffsklasse\n",
    "raven.status_report()\n",
    "\n",
    "# Fähigkeit von MineralienScanner\n",
    "raven.scanne_planet(\"Vulcan\")\n",
    "\n",
    "# Fähigkeit von Tarnvorrichtung\n",
    "raven.aktiviere_tarnung()\n"
   ]
  },
  {
   "cell_type": "code",
   "execution_count": null,
   "id": "f44e3783",
   "metadata": {},
   "outputs": [],
   "source": []
  },
  {
   "cell_type": "code",
   "execution_count": null,
   "id": "f8864f15",
   "metadata": {},
   "outputs": [],
   "source": []
  },
  {
   "cell_type": "code",
   "execution_count": null,
   "id": "3db7b098",
   "metadata": {},
   "outputs": [],
   "source": []
  },
  {
   "cell_type": "markdown",
   "id": "0a579902",
   "metadata": {},
   "source": [
    "---\n",
    "---\n",
    "\n",
    "## **2. Method Resolution Order (MRO): Pythons Regelwerk für Vererbung**\n",
    "\n",
    "### **Das Problem des Konflikts**\n",
    "\n",
    "Mehrfachvererbung ist mächtig, aber sie schafft ein potenzielles Problem: **Was passiert, wenn zwei oder mehr Elternklassen eine Methode mit exakt demselben Namen haben?**\n",
    "\n",
    "**Analogie:** Ihr Vater sagt: \"Räum dein Zimmer so auf!\", Ihre Mutter sagt: \"Nein, räum es so auf!\". Auf wen hören Sie? Sie brauchen eine klare Regel.\n",
    "\n",
    "Genau diese Regel ist in Python die **Method Resolution Order (MRO)**.\n",
    "\n",
    "* **Definition:** Die MRO ist eine **eindeutige, lineare Reihenfolge** aller Klassen in einer Vererbungshierarchie. Sie legt fest, in welcher Reihenfolge Python nach einer aufgerufenen Methode sucht.\n",
    "* **Funktionsweise:** Wenn Sie eine Methode aufrufen (z.B. `obj.methode()`), durchsucht Python die Klassen in der Reihenfolge der MRO. Sobald es die Methode in einer Klasse findet, wird diese ausgeführt und die Suche **sofort gestoppt**.\n",
    "* **Algorithmus:** Python verwendet den **C3-Linearisierungsalgorithmus**. Die vereinfachte Regel lautet: Python geht die Elternklassen in der Definition **von links nach rechts** durch und durchsucht dabei zuerst die komplette Hierarchie eines Elternteils, bevor es zum nächsten übergeht, ohne dabei eine Klasse doppelt zu besuchen.\n",
    "\n",
    "---\n",
    "\n",
    "### **Die MRO untersuchen**\n",
    "\n",
    "Python gibt uns Werkzeuge, um diese Reihenfolge genau zu analysieren:\n",
    "\n",
    "* **`Klassenname.mro()`:** Gibt die MRO als Liste von Klassen zurück.\n",
    "* **`help(Klassenname)`:** Zeigt eine ausführliche Hilfe an, die auch einen Abschnitt \"Method resolution order\" enthält.\n",
    "\n",
    "---\n",
    "\n",
    "### **Ein einfacher Namenskonflikt**"
   ]
  },
  {
   "cell_type": "code",
   "execution_count": 8,
   "id": "59c4997e",
   "metadata": {},
   "outputs": [
    {
     "name": "stdout",
     "output_type": "stream",
     "text": [
      "Der Vater kocht Gulasch nach seinem Rezept.\n",
      "\n",
      "Die MRO für die Klasse 'Kind' ist:\n",
      "[<class '__main__.Kind'>, <class '__main__.Vater'>, <class '__main__.Mutter'>, <class 'object'>]\n"
     ]
    }
   ],
   "source": [
    "class Vater:\n",
    "    def kochen(self):\n",
    "        print(\"Der Vater kocht Gulasch nach seinem Rezept.\")\n",
    "\n",
    "class Mutter:\n",
    "    def kochen(self):\n",
    "        print(\"Die Mutter kocht eine exzellente Gemüselasagne.\")\n",
    "\n",
    "# Das Kind erbt zuerst von Vater, dann von Mutter\n",
    "class Kind(Vater, Mutter):\n",
    "    pass\n",
    "\n",
    "# Test\n",
    "kind = Kind()\n",
    "kind.kochen()\n",
    "\n",
    "# Analyse\n",
    "print(\"\\nDie MRO für die Klasse 'Kind' ist:\")\n",
    "# Die Reihenfolge ist: Kind -> Vater -> Mutter -> object\n",
    "print(Kind.mro())"
   ]
  },
  {
   "cell_type": "markdown",
   "id": "0a07b8a1",
   "metadata": {},
   "source": [
    "\n",
    "**Analyse:** Da `Vater` in der Definition `class Kind(Vater, Mutter):` an erster Stelle steht, wird seine `kochen()`-Methode als erste gefunden und ausgeführt. Die Suche stoppt, bevor Python überhaupt bei `Mutter` ankommt.\n"
   ]
  },
  {
   "cell_type": "code",
   "execution_count": null,
   "id": "6b95a0eb",
   "metadata": {},
   "outputs": [],
   "source": []
  },
  {
   "cell_type": "code",
   "execution_count": null,
   "id": "a7b5ed75",
   "metadata": {},
   "outputs": [],
   "source": []
  },
  {
   "cell_type": "code",
   "execution_count": null,
   "id": "410abf9d",
   "metadata": {},
   "outputs": [],
   "source": []
  },
  {
   "cell_type": "markdown",
   "id": "2c23fbfd",
   "metadata": {},
   "source": [
    "\n",
    "---\n",
    "\n",
    "### **Eine tiefere Hierarchie**\n",
    "Die MRO geht immer erst in die Tiefe, bevor sie zur Seite geht."
   ]
  },
  {
   "cell_type": "code",
   "execution_count": 9,
   "id": "9ef4a7fd",
   "metadata": {},
   "outputs": [
    {
     "name": "stdout",
     "output_type": "stream",
     "text": [
      "MRO für Klasse E:\n",
      "[<class '__main__.E'>, <class '__main__.C'>, <class '__main__.B'>, <class '__main__.A'>, <class '__main__.D'>, <class 'object'>]\n"
     ]
    }
   ],
   "source": [
    "class A: pass\n",
    "class B(A): pass\n",
    "class C(B): pass # C erbt von B, B erbt von A\n",
    "\n",
    "class D: pass\n",
    "\n",
    "# E erbt zuerst von der tiefen Hierarchie (C), dann von D\n",
    "class E(C, D): pass\n",
    "\n",
    "print(\"MRO für Klasse E:\")\n",
    "# Python durchläuft zuerst die gesamte Kette von C (C -> B -> A), bevor es D prüft.\n",
    "print(E.mro())"
   ]
  },
  {
   "cell_type": "code",
   "execution_count": null,
   "id": "3926c777",
   "metadata": {},
   "outputs": [],
   "source": []
  },
  {
   "cell_type": "code",
   "execution_count": null,
   "id": "dc5487b7",
   "metadata": {},
   "outputs": [],
   "source": []
  },
  {
   "cell_type": "code",
   "execution_count": 10,
   "id": "9de2bd69",
   "metadata": {},
   "outputs": [],
   "source": [
    "# Übung"
   ]
  },
  {
   "cell_type": "markdown",
   "id": "5d8189f9",
   "metadata": {},
   "source": [
    "\n",
    "---\n",
    "\n",
    "### **Transfer auf das Projekt: Konflikt im `Raumschiff`**\n",
    "\n",
    "Was passiert, wenn sowohl unser `MineralienScanner` als auch die `Tarnvorrichtung` eine Methode namens `system_check()` haben?"
   ]
  },
  {
   "cell_type": "code",
   "execution_count": 11,
   "id": "f979984d",
   "metadata": {},
   "outputs": [
    {
     "name": "stdout",
     "output_type": "stream",
     "text": [
      "[Scanner-Check] Sensoren kalibriert und online.\n",
      "\n",
      "MRO für AufklaerungsSchiff:\n",
      "[<class '__main__.AufklaerungsSchiff'>, <class '__main__.Schiffsklasse'>, <class '__main__.MineralienScanner'>, <class '__main__.Tarnvorrichtung'>, <class 'object'>]\n"
     ]
    }
   ],
   "source": [
    "class Schiffsklasse:\n",
    "    def __init__(self, name):\n",
    "        self.name = name\n",
    "\n",
    "class MineralienScanner:\n",
    "    def system_check(self):\n",
    "        print(\"[Scanner-Check] Sensoren kalibriert und online.\")\n",
    "\n",
    "class Tarnvorrichtung:\n",
    "    def system_check(self):\n",
    "        print(\"[Tarn-Check] Emitterspulen sind einsatzbereit.\")\n",
    "        \n",
    "# Wir erben zuerst von Schiffsklasse, dann Scanner, dann Tarnvorrichtung\n",
    "class AufklaerungsSchiff(Schiffsklasse, MineralienScanner, Tarnvorrichtung):\n",
    "    pass\n",
    "\n",
    "# Test\n",
    "raven = AufklaerungsSchiff(\"Raven\")\n",
    "raven.system_check() # Welche Methode wird ausgeführt?\n",
    "\n",
    "print(\"\\nMRO für AufklaerungsSchiff:\")\n",
    "# Der Pfad ist: AufklaerungsSchiff -> Schiffsklasse -> MineralienScanner -> ...\n",
    "print(AufklaerungsSchiff.mro())"
   ]
  },
  {
   "cell_type": "markdown",
   "id": "861910ba",
   "metadata": {},
   "source": [
    "\n",
    "**Analyse:** Die MRO durchsucht `AufklaerungsSchiff` (leer), dann `Schiffsklasse` (hat kein `system_check`), dann `MineralienScanner`. Dort wird sie fündig und führt dessen Methode aus. `Tarnvorrichtung` wird nie erreicht.\n",
    "\n",
    "---\n",
    "---\n",
    "\n",
    "## **3. Das \"Diamond Problem\": Der Härtetest für die MRO**\n",
    "\n",
    "### **Was ist das Diamond Problem?**\n",
    "\n",
    "Das \"Diamond Problem\" ist der klassische Härtefall der Mehrfachvererbung. Es tritt auf, wenn eine Klasse von zwei Klassen erbt, die ihrerseits beide von einer gemeinsamen Basisklasse erben.\n",
    "\n",
    "Die Vererbungshierarchie sieht aus wie ein Diamant (eine Raute):\n",
    "\n",
    "```\n",
    "      A  (Basisklasse, z.B. Tier)\n",
    "     / \\\n",
    "    /   \\\n",
    "   B     C (z.B. Pflanzenfresser, Fleischfresser)\n",
    "    \\   /\n",
    "     \\ /\n",
    "      D  (z.B. Allesfresser)\n",
    "```\n",
    "**Das Problem der Ambiguität:**\n",
    "* Wenn `D` eine Methode von `A` aufruft, soll es den Weg über `B` oder über `C` gehen?\n",
    "* Noch wichtiger: Wenn die Konstruktoren von `B` und `C` jeweils den Konstruktor von `A` mit `super().__init__()` aufrufen, wird dann der `__init__` von `A` am Ende zweimal ausgeführt?\n",
    "\n",
    "Pythons C3-Linearisierungs-Algorithmus (MRO) ist exakt dafür gemacht, dieses Problem elegant zu lösen. Er stellt sicher, dass **jede Klasse in der Hierarchie nur genau einmal durchlaufen wird**.\n",
    "\n",
    "---\n",
    "\n",
    "### **Die Diamant-Struktur im Code**"
   ]
  },
  {
   "cell_type": "code",
   "execution_count": 12,
   "id": "b727aac1",
   "metadata": {},
   "outputs": [
    {
     "name": "stdout",
     "output_type": "stream",
     "text": [
      "Erstelle eine Instanz von D:\n",
      "Konstruktor von D startet...\n",
      "Konstruktor von B startet...\n",
      "Konstruktor von C startet...\n",
      "Konstruktor von A aufgerufen.\n",
      "\n",
      "MRO für D:\n",
      "['D', 'B', 'C', 'A', 'object']\n"
     ]
    }
   ],
   "source": [
    "class A:\n",
    "    def __init__(self):\n",
    "        print(\"Konstruktor von A aufgerufen.\")\n",
    "\n",
    "class B(A):\n",
    "    def __init__(self):\n",
    "        print(\"Konstruktor von B startet...\")\n",
    "        super().__init__()\n",
    "\n",
    "class C(A):\n",
    "    def __init__(self):\n",
    "        print(\"Konstruktor von C startet...\")\n",
    "        super().__init__()\n",
    "\n",
    "class D(B, C):\n",
    "    def __init__(self):\n",
    "        print(\"Konstruktor von D startet...\")\n",
    "        super().__init__()\n",
    "\n",
    "print(\"Erstelle eine Instanz von D:\")\n",
    "instanz_d = D()\n",
    "\n",
    "print(\"\\nMRO für D:\")\n",
    "print([cls.__name__ for cls in D.mro()])"
   ]
  },
  {
   "cell_type": "markdown",
   "id": "2242bb98",
   "metadata": {},
   "source": [
    "\n",
    "**Analyse:** Obwohl der `super()`-Pfad sowohl von `B` als auch von `C` zu `A` führt, wird `\"Konstruktor von A aufgerufen.\"` nur **ein einziges Mal** ausgegeben. Die MRO `[D, B, C, A, object]` sorgt für einen klaren, linearen Pfad und verhindert doppelte Aufrufe."
   ]
  },
  {
   "cell_type": "code",
   "execution_count": null,
   "id": "9fb55c02",
   "metadata": {},
   "outputs": [],
   "source": []
  },
  {
   "cell_type": "code",
   "execution_count": null,
   "id": "7aa91384",
   "metadata": {},
   "outputs": [],
   "source": []
  },
  {
   "cell_type": "code",
   "execution_count": 13,
   "id": "691a4d4b",
   "metadata": {},
   "outputs": [],
   "source": [
    "# Übung"
   ]
  },
  {
   "cell_type": "markdown",
   "id": "339acb69",
   "metadata": {},
   "source": [
    "\n",
    "---\n",
    "\n",
    "### **Transfer auf das Projekt: Der `Kampfschiff`-Diamant**\n",
    "\n",
    "Wir konstruieren einen Diamanten mit unseren Schiffsklassen, um das Konzept zu festigen."
   ]
  },
  {
   "cell_type": "code",
   "execution_count": 14,
   "id": "cb44d418",
   "metadata": {},
   "outputs": [
    {
     "name": "stdout",
     "output_type": "stream",
     "text": [
      "Erstelle ein Kampfschiff:\n",
      "INIT: Kampfschiff startet...\n",
      "INIT: Waffenplattform startet...\n",
      "INIT: Antriebssystem startet...\n",
      "INIT: Schiffsklasse (Basis)\n",
      "\n",
      "MRO für Kampfschiff:\n",
      "['Kampfschiff', 'Waffenplattform', 'Antriebssystem', 'Schiffsklasse', 'object']\n"
     ]
    }
   ],
   "source": [
    "class Schiffsklasse:\n",
    "    def __init__(self):\n",
    "        print(\"INIT: Schiffsklasse (Basis)\")\n",
    "\n",
    "class Waffenplattform(Schiffsklasse):\n",
    "    def __init__(self):\n",
    "        print(\"INIT: Waffenplattform startet...\")\n",
    "        super().__init__()\n",
    "\n",
    "class Antriebssystem(Schiffsklasse):\n",
    "    def __init__(self):\n",
    "        print(\"INIT: Antriebssystem startet...\")\n",
    "        super().__init__()\n",
    "\n",
    "# Ein Kampfschiff erbt die Eigenschaften beider Subsysteme\n",
    "class Kampfschiff(Waffenplattform, Antriebssystem):\n",
    "    def __init__(self):\n",
    "        print(\"INIT: Kampfschiff startet...\")\n",
    "        super().__init__()\n",
    "\n",
    "print(\"Erstelle ein Kampfschiff:\")\n",
    "kriegsschiff = Kampfschiff()\n",
    "\n",
    "print(\"\\nMRO für Kampfschiff:\")\n",
    "print([cls.__name__ for cls in Kampfschiff.mro()])"
   ]
  },
  {
   "cell_type": "markdown",
   "id": "1ca21650",
   "metadata": {},
   "source": [
    "\n",
    "---\n",
    "---\n",
    "\n",
    "## **4. Tages-Challenge: Anwendung im Schüler-Projekt (`Smart Grid`)**\n",
    "\n",
    "Jetzt ist es an der Zeit, alle heutigen Konzepte in Ihrem `Intelligentes Stromnetz`-Projekt zu kombinieren.\n",
    "\n",
    "**Ihre umfassende Aufgabe:**\n",
    "\n",
    "1.  **Erstellen Sie zwei \"Mixin\"-Klassen:**\n",
    "    * `Speicherbar`: Mit einer Methode `strom_speichern(menge)`, die ausgibt, wie viel Strom gespeichert wird. Diese Klasse soll auch einen `__init__` haben, der das Attribut `speicher_kapazitaet` setzt und eine Nachricht ausgibt.\n",
    "    * `Regelbar`: Mit einer Methode `leistung_anpassen(prozent)`, die ausgibt, auf wie viel Prozent die Leistung angepasst wird.\n",
    "\n",
    "2.  **Bauen Sie eine Diamant-Struktur auf:**\n",
    "    * Ihre Basisklasse `Energieerzeuger` bleibt bestehen.\n",
    "    * Erstellen Sie eine Klasse `Gaskraftwerk`, die von `Energieerzeuger` erbt.\n",
    "    * Erstellen Sie eine Klasse `Batteriespeicher`, die von `Energieerzeuger` UND dem Mixin `Speicherbar` erbt.\n",
    "\n",
    "3.  **Kombinieren Sie alles in einer finalen Klasse:**\n",
    "    * Erstellen Sie eine Klasse `HybridKraftwerk`, die von `Gaskraftwerk`, `Batteriespeicher` und dem Mixin `Regelbar` erbt.\n",
    "    * Schreiben Sie einen `__init__`-Konstruktor für `HybridKraftwerk`, der alle notwendigen Attribute für alle seine Elternklassen entgegennimmt. Rufen Sie die Konstruktoren der Eltern so auf, dass alle Attribute korrekt initialisiert werden. (Tipp: `super()` funktioniert für die lineare Kette, aber für Mixins muss man eventuell den `__init__` direkt aufrufen: `Speicherbar.__init__(self, ...)`).\n",
    "\n",
    "4.  **Analysieren und Testen:**\n",
    "    * Erstellen Sie eine Instanz Ihres `HybridKraftwerks`.\n",
    "    * Rufen Sie alle geerbten Methoden auf (`strom_speichern`, `leistung_anpassen` etc.).\n",
    "    * Geben Sie die MRO der `HybridKraftwerk`-Klasse aus und erklären Sie in einem Kommentar, warum die Reihenfolge so ist, wie sie ist.\n",
    "```\n"
   ]
  },
  {
   "cell_type": "markdown",
   "id": "52404a3f",
   "metadata": {},
   "source": []
  }
 ],
 "metadata": {
  "kernelspec": {
   "display_name": "3.13.3",
   "language": "python",
   "name": "python3"
  },
  "language_info": {
   "codemirror_mode": {
    "name": "ipython",
    "version": 3
   },
   "file_extension": ".py",
   "mimetype": "text/x-python",
   "name": "python",
   "nbconvert_exporter": "python",
   "pygments_lexer": "ipython3",
   "version": "3.13.3"
  }
 },
 "nbformat": 4,
 "nbformat_minor": 5
}
