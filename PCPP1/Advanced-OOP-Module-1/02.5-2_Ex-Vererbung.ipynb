{
 "cells": [
  {
   "cell_type": "markdown",
   "id": "29d180eb",
   "metadata": {},
   "source": [
    "# Übungen zu Block 1: Mehrfachvererbung\n",
    "\n",
    "**Thema:** Ein `Kinderbuch` mit mehreren Talenten\n",
    "---\n",
    "**Aufgabe 1: Die Elternklassen**\n",
    "Erstellen Sie zwei voneinander unabhängige Klassen:\n",
    "1. `Autor` mit einer Methode `schreiben()`, die \"Die Geschichte wird geschrieben.\" ausgibt.\n",
    "2. `Illustrator` mit einer Methode `zeichnen()`, die \"Die Bilder werden gezeichnet.\" ausgibt."
   ]
  },
  {
   "cell_type": "code",
   "execution_count": null,
   "id": "f2da67e4",
   "metadata": {
    "vscode": {
     "languageId": "plaintext"
    }
   },
   "outputs": [],
   "source": []
  },
  {
   "cell_type": "markdown",
   "id": "d9c046f1",
   "metadata": {},
   "source": [
    "---\n",
    "**Aufgabe 2: Die Kindklasse**\n",
    "Erstellen Sie eine Klasse `Kinderbuch`, die von `Autor` und `Illustrator` erbt. Die Klasse selbst kann leer sein (`pass`)."
   ]
  },
  {
   "cell_type": "code",
   "execution_count": null,
   "id": "8ccd3aaf",
   "metadata": {
    "vscode": {
     "languageId": "plaintext"
    }
   },
   "outputs": [],
   "source": []
  },
  {
   "cell_type": "markdown",
   "id": "f10f821b",
   "metadata": {},
   "source": [
    "---\n",
    "**Aufgabe 3: Fähigkeiten testen**\n",
    "Erstellen Sie eine Instanz der `Kinderbuch`-Klasse. Rufen Sie auf dieser Instanz sowohl die `schreiben()`- als auch die `zeichnen()`-Methode auf, um zu zeigen, dass sie die Fähigkeiten beider Elternklassen geerbt hat."
   ]
  },
  {
   "cell_type": "code",
   "execution_count": null,
   "id": "797184fd",
   "metadata": {
    "vscode": {
     "languageId": "plaintext"
    }
   },
   "outputs": [],
   "source": []
  },
  {
   "cell_type": "markdown",
   "id": "47ee4bd3",
   "metadata": {},
   "source": [
    "---\n",
    "---"
   ]
  },
  {
   "cell_type": "markdown",
   "id": "d82b792e",
   "metadata": {},
   "source": [
    "# Übungen zu Block 2: Method Resolution Order (MRO)\n",
    "\n",
    "**Thema:** Konflikte bei der Vererbung lösen\n",
    "---\n",
    "**Aufgabe 1: Eltern mit Konfliktpotenzial**\n",
    "Erstellen Sie zwei Klassen, `KlasseX` und `KlasseY`. Beide Klassen sollen eine Methode mit dem identischen Namen `test()` haben. Die Methode soll jeweils ausgeben, aus welcher Klasse sie stammt (z.B. \"Test-Methode aus Klasse X\").\n"
   ]
  },
  {
   "cell_type": "markdown",
   "id": "75c6acf7",
   "metadata": {},
   "source": [
    "\n",
    "---\n",
    "**Aufgabe 2: Kindklasse erstellen und Vorhersage treffen**\n",
    "Erstellen Sie eine Klasse `KlasseZ`, die in dieser Reihenfolge erbt: `class KlasseZ(KlasseX, KlasseY):`.\n",
    "Machen Sie eine Vorhersage (als Kommentar im Code): Wenn Sie `instanz.test()` aufrufen, welche der beiden `test()`-Methoden wird ausgeführt?\n"
   ]
  },
  {
   "cell_type": "markdown",
   "id": "48aeeccc",
   "metadata": {},
   "source": [
    "\n",
    "---\n",
    "**Aufgabe 3: Vorhersage überprüfen**\n",
    "Erstellen Sie eine Instanz von `KlasseZ` und rufen Sie die `test()`-Methode auf. Überprüfen Sie, ob Ihre Vorhersage korrekt war.\n"
   ]
  },
  {
   "cell_type": "markdown",
   "id": "19da32cc",
   "metadata": {},
   "source": [
    "\n",
    "---\n",
    "**Aufgabe 4: MRO analysieren**\n",
    "Geben Sie die MRO von `KlasseZ` mit `print(KlasseZ.mro())` aus. Erklären Sie in einem Kommentar, warum das Ergebnis aus Aufgabe 3 durch die MRO bestätigt wird.\n"
   ]
  },
  {
   "cell_type": "markdown",
   "id": "83eff4d6",
   "metadata": {},
   "source": [
    "\n",
    "---\n",
    "**Aufgabe 5: Reihenfolge ändern**\n",
    "Erstellen Sie eine neue Klasse `KlasseZwei`, die in der umgekehrten Reihenfolge erbt: `class KlasseZwei(KlasseY, KlasseX):`. Rufen Sie auch hier die `test()`-Methode auf und analysieren Sie die MRO, um den Unterschied zu sehen.\n"
   ]
  },
  {
   "cell_type": "markdown",
   "id": "031990c6",
   "metadata": {},
   "source": [
    "---\n",
    "---"
   ]
  },
  {
   "cell_type": "markdown",
   "id": "11b0f8a5",
   "metadata": {},
   "source": [
    "# Übungen zu Block 3: Das Diamond Problem\n",
    "\n",
    "**Thema:** Eine komplexe Gerätehierarchie\n",
    "---\n",
    "**Aufgabe 1: Die Basisklasse `Geraet`**\n",
    "Erstellen Sie eine Basisklasse `Geraet`. Ihr `__init__`-Konstruktor soll eine Nachricht ausgeben, z.B. \"INIT Geraet\".\n"
   ]
  },
  {
   "cell_type": "markdown",
   "id": "64904964",
   "metadata": {},
   "source": [
    "\n",
    "---\n",
    "**Aufgabe 2: Die Zwischenklassen**\n",
    "Erstellen Sie zwei Klassen, die beide von `Geraet` erben:\n",
    "1. `Sender(Geraet)`\n",
    "2. `Empfaenger(Geraet)`\n",
    "\n",
    "Beide sollen ebenfalls einen `__init__`-Konstruktor haben, der eine Nachricht ausgibt (\"INIT Sender\" / \"INIT Empfaenger\") und dann mit `super().__init__()` den Konstruktor der `Geraet`-Klasse aufruft.\n"
   ]
  },
  {
   "cell_type": "markdown",
   "id": "519bd4a9",
   "metadata": {},
   "source": [
    "\n",
    "---\n",
    "**Aufgabe 3: Die Diamant-Spitze**\n",
    "Erstellen Sie eine Klasse `Transceiver`, die von `Sender` und `Empfaenger` erbt. Auch ihr `__init__`-Konstruktor soll eine Nachricht ausgeben und dann `super().__init__()` aufrufen.\n"
   ]
  },
  {
   "cell_type": "markdown",
   "id": "a6a51f2b",
   "metadata": {},
   "source": [
    "\n",
    "---\n",
    "**Aufgabe 4: Testen und Beobachten**\n",
    "Erstellen Sie eine Instanz von `Transceiver`. Beobachten Sie die Reihenfolge der `print`-Ausgaben. Wird der Konstruktor von `Geraet` nur einmal aufgerufen?\n"
   ]
  },
  {
   "cell_type": "markdown",
   "id": "d08d8491",
   "metadata": {},
   "source": [
    "\n",
    "---\n",
    "**Aufgabe 5: MRO analysieren**\n",
    "Geben Sie die MRO von `Transceiver` als Liste der Klassennamen aus (`[cls.__name__ for cls in Transceiver.mro()]`). Erklären Sie in einem Kommentar, wie die MRO sicherstellt, dass der `__init__` der `Geraet`-Klasse nur einmal aufgerufen wird und in welcher Reihenfolge die Konstruktoren abgearbeitet werden.\n"
   ]
  }
 ],
 "metadata": {
  "language_info": {
   "name": "python"
  }
 },
 "nbformat": 4,
 "nbformat_minor": 5
}
