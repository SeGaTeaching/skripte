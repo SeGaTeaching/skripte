{
 "cells": [
  {
   "cell_type": "markdown",
   "id": "b3dc5135",
   "metadata": {},
   "source": [
    "# Übungen zu Kapitel 4: Operationen, Abstraktion & Container\n",
    "\n",
    "---\n",
    "### **Übungen zu Abschnitt 4.1: Logische & Arithmetische Operationen**\n",
    "\n",
    "---\n",
    "**Thema: Vergleichsmethoden (`__eq__`, `__lt__`, etc.)**\n",
    "\n",
    "**Aufgabe 1: Gleiche Farben erkennen**\n",
    "Erstellen Sie eine Klasse `Farbe` mit einem Attribut `hex_code` (z.B. `\"#FF0000\"`). Implementieren Sie die `__eq__`-Methode, sodass zwei `Farbe`-Objekte als gleich gelten, wenn ihr `hex_code` identisch ist.\n",
    "\n",
    "```python\n",
    "# Ihr Code hier\n",
    "```\n",
    "\n",
    "**Aufgabe 2: Ungleichheit definieren**\n",
    "Erweitern Sie Ihre `Farbe`-Klasse um die `__ne__`-Methode (`!=`). Sie soll `True` zurückgeben, wenn die Hex-Codes der beiden Objekte nicht identisch sind.\n",
    "\n",
    "```python\n",
    "# Erweitern Sie Ihren Code aus Aufgabe 1 hier\n",
    "```\n",
    "\n",
    "**Aufgabe 3: Reifenprofile vergleichen**\n",
    "Erstellen Sie eine Klasse `Reifen` mit dem Attribut `profiltiefe` (in mm). Implementieren Sie die `__lt__`-Methode (`<`), damit ein Reifen als \"kleiner\" (schlechter) als ein anderer gilt, wenn seine Profiltiefe geringer ist.\n",
    "\n",
    "```python\n",
    "# Ihr Code hier\n",
    "```\n",
    "\n",
    "**Aufgabe 4: Dokumente sortieren mit `@total_ordering`**\n",
    "Importieren Sie `total_ordering` aus dem `functools`-Modul. Erstellen Sie eine Klasse `Dokument` mit dem Attribut `zeichenanzahl`.\n",
    "Implementieren Sie nur `__eq__` und `__lt__` (basierend auf `zeichenanzahl`). Wenden Sie den `@total_ordering`-Dekorator auf die Klasse an.\n",
    "Erstellen Sie eine Liste von `Dokument`-Instanzen und testen Sie, ob Sie die Liste sortieren können und ob auch der `>`-Operator funktioniert.\n",
    "\n",
    "```python\n",
    "# Ihr Code hier\n",
    "```\n",
    "---\n",
    "**Thema: Arithmetische Methoden (`__add__`, `__mul__`, etc.)**\n",
    "\n",
    "**Aufgabe 5: Wortlisten zusammenfügen**\n",
    "Erstellen Sie eine Klasse `Wortliste`, die eine Liste von Wörtern speichert. Implementieren Sie die `__add__`-Methode, sodass zwei `Wortliste`-Objekte zu einem neuen Objekt mit den kombinierten Wörtern addiert werden können.\n"
   ]
  },
  {
   "cell_type": "code",
   "execution_count": 44,
   "id": "cdc2fac1",
   "metadata": {},
   "outputs": [],
   "source": [
    "class Wortliste(list):\n",
    "        \n",
    "    def append(self, value):\n",
    "        print(\"füge neues Wort zur Liste hinzu\")\n",
    "        super().append(value)\n",
    "        \n",
    "    def __add__(self, other):\n",
    "        result = super().__add__(other)\n",
    "        return self.__class__(result)"
   ]
  },
  {
   "cell_type": "code",
   "execution_count": 45,
   "id": "87f86869",
   "metadata": {},
   "outputs": [],
   "source": [
    "wort_liste = Wortliste([\"test\"])\n"
   ]
  },
  {
   "cell_type": "code",
   "execution_count": 46,
   "id": "ab7ef2f7",
   "metadata": {},
   "outputs": [
    {
     "data": {
      "text/plain": [
       "['test']"
      ]
     },
     "execution_count": 46,
     "metadata": {},
     "output_type": "execute_result"
    }
   ],
   "source": [
    "wort_liste"
   ]
  },
  {
   "cell_type": "code",
   "execution_count": 47,
   "id": "618a1c32",
   "metadata": {},
   "outputs": [
    {
     "data": {
      "text/plain": [
       "['servus']"
      ]
     },
     "execution_count": 47,
     "metadata": {},
     "output_type": "execute_result"
    }
   ],
   "source": [
    "wort_liste_2 = Wortliste([\"servus\"])\n",
    "wort_liste_2"
   ]
  },
  {
   "cell_type": "code",
   "execution_count": 48,
   "id": "44d21fca",
   "metadata": {},
   "outputs": [
    {
     "data": {
      "text/plain": [
       "['test', 'servus']"
      ]
     },
     "execution_count": 48,
     "metadata": {},
     "output_type": "execute_result"
    }
   ],
   "source": [
    "wort_liste_3 = wort_liste + wort_liste_2\n",
    "wort_liste_3"
   ]
  },
  {
   "cell_type": "code",
   "execution_count": 50,
   "id": "b4a95b16",
   "metadata": {},
   "outputs": [
    {
     "name": "stdout",
     "output_type": "stream",
     "text": [
      "Hier die Worliste:['Herz', 'Karo', 'Pik', 'Kreuz']\n"
     ]
    }
   ],
   "source": [
    "class Wortliste:\n",
    "    def __init__(self, liste_wort):\n",
    "        self.liste_wort = liste_wort\n",
    " \n",
    "    def __repr__(self):\n",
    "        return f\"Hier die Worliste:{self.liste_wort}\"\n",
    " \n",
    "    def __add__(self, other):\n",
    "        if not isinstance(other, Wortliste):\n",
    "            return NotImplemented\n",
    "        kombi_liste_wort = self.liste_wort + other.liste_wort\n",
    "        return Wortliste(kombi_liste_wort)\n",
    "   \n",
    "liste_1 = Wortliste([\"Herz\", \"Karo\"])\n",
    "liste_2 = Wortliste([\"Pik\", \"Kreuz\"])\n",
    " \n",
    "mix_liste = liste_1 + liste_2\n",
    " \n",
    "print(mix_liste)"
   ]
  },
  {
   "cell_type": "code",
   "execution_count": 56,
   "id": "c70d5ef0",
   "metadata": {},
   "outputs": [
    {
     "name": "stdout",
     "output_type": "stream",
     "text": [
      "ich komm von str\n"
     ]
    },
    {
     "data": {
      "text/plain": [
       "ich komm von repr"
      ]
     },
     "execution_count": 56,
     "metadata": {},
     "output_type": "execute_result"
    }
   ],
   "source": [
    "class Person:\n",
    "    def __init__(self):\n",
    "        self.name = \"Egon\"\n",
    "        \n",
    "    def __repr__(self):\n",
    "        return \"ich komm von repr\"\n",
    "    \n",
    "    def __str__(self):\n",
    "        return \"ich komm von str\"\n",
    "        \n",
    "obj = Person()\n",
    "print(obj)\n",
    "obj"
   ]
  },
  {
   "cell_type": "markdown",
   "id": "9e391d8d",
   "metadata": {},
   "source": [
    "\n",
    "```python\n",
    "# Ihr Code hier\n",
    "```\n",
    "\n",
    "**Aufgabe 6: Wortliste wiederholen**\n",
    "Erweitern Sie Ihre `Wortliste`-Klasse um die `__mul__`-Methode. Die Multiplikation einer `Wortliste` mit einer Zahl `n` soll ein neues `Wortliste`-Objekt zurückgeben, dessen Wörter `n`-mal wiederholt werden.\n",
    "\n",
    "```python\n",
    "# Erweitern Sie Ihren Code aus Aufgabe 5 hier\n",
    "```\n",
    "\n",
    "**Aufgabe 7: Zeitspannen addieren**\n",
    "Erstellen Sie eine Klasse `Zeitspanne`, die eine Dauer in Sekunden speichert. Implementieren Sie `__add__`, um zwei Zeitspannen zu addieren. Fügen Sie auch eine `__str__`-Methode hinzu, die die Zeitspanne im Format \"Minuten:Sekunden\" ausgibt (z.B. 95 Sekunden -> \"1:35\").\n",
    "\n",
    "```python\n",
    "# Ihr Code hier\n",
    "```\n",
    "\n",
    "**Aufgabe 8: Zeitspannen subtrahieren**\n",
    "Erweitern Sie die `Zeitspanne`-Klasse um die `__sub__`-Methode, um eine Zeitspanne von einer anderen abzuziehen. Stellen Sie sicher, dass das Ergebnis nicht negativ werden kann (minimal 0 Sekunden).\n",
    "\n",
    "```python\n",
    "# Erweitern Sie Ihren Code aus Aufgabe 7 hier\n",
    "```\n",
    "\n",
    "---\n",
    "---\n",
    "### **Übungen zu Abschnitt 4.2: Abstraktion und Erweiterung**\n",
    "\n",
    "---\n",
    "**Thema: Abstrakte Basisklassen (ABCs)**\n",
    "\n",
    "**Aufgabe 1: Die abstrakte Klasse `Transportmittel`**\n",
    "Erstellen Sie eine Abstrakte Basisklasse `Transportmittel` mit einem `__init__`, der die `max_geschwindigkeit` speichert. Fügen Sie eine abstrakte Methode `bewegen()` hinzu.\n",
    "\n",
    "```python\n",
    "# Ihr Code hier\n",
    "```\n",
    "\n",
    "**Aufgabe 2: Konkrete Klassen implementieren**\n",
    "Erstellen Sie zwei konkrete Klassen, `Fahrrad` und `Schiff`, die von `Transportmittel` erben. Implementieren Sie für beide die `bewegen()`-Methode mit einer passenden Ausgabe (z.B. \"Das Fahrrad fährt auf der Straße.\").\n",
    "\n",
    "```python\n",
    "# Ihr Code hier\n",
    "```\n",
    "\n",
    "**Aufgabe 3: Den Vertrag erweitern**\n",
    "Fügen Sie der ABC `Transportmittel` eine zweite abstrakte Methode `get_reichweite()` hinzu. Beobachten Sie, was passiert, wenn Sie nun versuchen, eine Instanz von `Fahrrad` oder `Schiff` zu erstellen. Passen Sie die Kindklassen an, damit sie den neuen Vertrag erfüllen (geben Sie einfach einen festen Wert zurück).\n",
    "\n",
    "```python\n",
    "# Erweitern Sie Ihren Code aus Aufgabe 1 und 2 hier\n",
    "```\n",
    "\n",
    "**Aufgabe 4: Polymorphie mit ABCs**\n",
    "Schreiben Sie eine Funktion `teste_transportmittel(fahrzeuge)`, die eine Liste von `Transportmittel`-Objekten entgegennimmt. Die Funktion soll für jedes Objekt in der Liste die Methoden `bewegen()` und `get_reichweite()` aufrufen und die Ergebnisse ausgeben. Testen Sie die Funktion mit einer Liste, die sowohl ein `Fahrrad`- als auch ein `Schiff`-Objekt enthält.\n",
    "\n",
    "```python\n",
    "# Ihr Code hier\n",
    "```\n",
    "---\n",
    "**Thema: Von Built-ins erben**\n",
    "\n",
    "**Aufgabe 5: Eine Liste nur für positive Zahlen**\n",
    "Erstellen Sie eine Klasse `PositiveNumberList`, die von `list` erbt. Überschreiben Sie die `append()`-Methode so, dass sie einen `ValueError` auslöst, wenn versucht wird, eine negative Zahl hinzuzufügen.\n",
    "\n",
    "```python\n",
    "# Ihr Code hier\n",
    "```\n",
    "\n",
    "**Aufgabe 6: `extend` absichern**\n",
    "Erweitern Sie Ihre `PositiveNumberList`. Überschreiben Sie nun auch die `extend()`-Methode. Sie soll die übergebene Liste durchlaufen und sicherstellen, dass jedes einzelne Element nicht-negativ ist, bevor es hinzugefügt wird.\n",
    "\n",
    "```python\n",
    "# Erweitern Sie Ihren Code aus Aufgabe 5 hier\n",
    "```\n",
    "\n",
    "**Aufgabe 7: Ein schreibgeschütztes Dictionary**\n",
    "Erstellen Sie eine Klasse `ReadOnlyDict`, die von `dict` erbt. Überschreiben Sie die Methoden `__setitem__` und `__delitem__` so, dass sie bei jedem Aufruf eine `PermissionError` mit einer passenden Fehlermeldung auslösen. Das Hinzufügen von Werten im Konstruktor soll aber weiterhin möglich sein.\n",
    "\n",
    "```python\n",
    "# Ihr Code hier\n",
    "```\n",
    "\n",
    "**Aufgabe 8: Ein selbstreversierender String**\n",
    "Erstellen Sie eine Klasse `ReversibleString`, die von `str` erbt. Überschreiben Sie die `__repr__`-Methode so, dass sie immer den umgedrehten String zurückgibt. (Tipp: Slicing `[::-1]`).\n"
   ]
  },
  {
   "cell_type": "code",
   "execution_count": 59,
   "id": "468eba95",
   "metadata": {},
   "outputs": [
    {
     "name": "stdout",
     "output_type": "stream",
     "text": [
      "illagillaH\n"
     ]
    }
   ],
   "source": [
    "class ReverseString(str):\n",
    "\n",
    "    def __repr__(self):\n",
    "        return self[::-1]\n",
    "    \n",
    "    def __str__(self):\n",
    "        return self[::-1]\n",
    "\n",
    "string = ReverseString(\"Halligalli\")\n",
    "print(string)"
   ]
  },
  {
   "cell_type": "code",
   "execution_count": 60,
   "id": "636bc65f",
   "metadata": {},
   "outputs": [
    {
     "name": "stdout",
     "output_type": "stream",
     "text": [
      "anna\n"
     ]
    }
   ],
   "source": [
    "stringy = \"String\" # stringy = str(\"stringy\")\n",
    "\n",
    "name = ReverseString(\"anna\")\n",
    "print(name)"
   ]
  },
  {
   "cell_type": "code",
   "execution_count": 62,
   "id": "8133eecb",
   "metadata": {},
   "outputs": [
    {
     "data": {
      "text/plain": [
       "dnuh neluaf ned rebü tgnirps shcuf etkcürrev red"
      ]
     },
     "execution_count": 62,
     "metadata": {},
     "output_type": "execute_result"
    }
   ],
   "source": [
    "class NewReverseString:\n",
    "    def __init__(self, string):\n",
    "        self.string = string\n",
    "        \n",
    "    def __repr__(self):\n",
    "        return self.string[::-1].lower()\n",
    "    \n",
    "obj_new = NewReverseString(\"Der verrückte Fuchs springt über den faulen Hund\")\n",
    "obj_new"
   ]
  },
  {
   "cell_type": "code",
   "execution_count": null,
   "id": "3078edf6",
   "metadata": {},
   "outputs": [],
   "source": [
    "test = str(\"test\")"
   ]
  },
  {
   "cell_type": "markdown",
   "id": "fead868e",
   "metadata": {},
   "source": [
    "\n",
    "```python\n",
    "# Ihr Code hier\n",
    "```\n",
    "\n",
    "---\n",
    "---\n",
    "### **Übungen zu Abschnitt 4.3: Container & Iteratoren**\n",
    "\n",
    "---\n",
    "**Thema: Das Container-Protokoll (`__len__`, `__getitem__`)**\n",
    "\n",
    "**Aufgabe 1: Eine einfache `Team`-Klasse**\n",
    "Erstellen Sie eine Klasse `Team`, die im Konstruktor einen `team_name` und eine Liste von `mitgliedern` (Strings) entgegennimmt und speichert.\n",
    "\n",
    "```python\n",
    "# Ihr Code hier\n",
    "```\n",
    "\n",
    "**Aufgabe 2: Die Teamgröße bestimmen**\n",
    "Implementieren Sie die `__len__`-Methode für Ihre `Team`-Klasse, sodass `len(mein_team)` die Anzahl der Mitglieder zurückgibt.\n",
    "\n",
    "```python\n",
    "# Erweitern Sie Ihren Code aus Aufgabe 1 hier\n",
    "```\n",
    "\n",
    "**Aufgabe 3: Auf Teammitglieder zugreifen**\n",
    "Implementieren Sie die `__getitem__`-Methode, sodass Sie mit `mein_team[0]` auf das erste Mitglied in der Liste zugreifen können.\n",
    "\n",
    "```python\n",
    "# Erweitern Sie Ihren Code aus Aufgabe 2 hier\n",
    "```\n",
    "---\n",
    "**Thema: Das Iterator-Protokoll (`__iter__`, `__next__`)**\n",
    "\n",
    "**Aufgabe 4: Ein einfacher Zahlen-Iterator**\n",
    "Erstellen Sie eine Klasse `Zahlenreihe`, die im Konstruktor einen `start`- und einen `end`-Wert entgegennimmt. Implementieren Sie das Iterator-Protokoll (`__iter__` und `__next__`), sodass eine `for`-Schleife über eine Instanz dieser Klasse alle Zahlen von `start` bis `end` (einschließlich) durchläuft.\n",
    "\n",
    "```python\n",
    "# Ihr Code hier\n",
    "```\n",
    "\n",
    "**Aufgabe 5: Ein Vokal-Extraktor**\n",
    "Erstellen Sie eine Klasse `VokalExtractor`, die einen String entgegennimmt. Machen Sie die Klasse iterierbar, sodass sie bei einer Iteration nur die Vokale (\"a\", \"e\", \"i\", \"o\", \"u\", groß und klein) des ursprünglichen Strings zurückgibt.\n",
    "\n",
    "```python\n",
    "# Ihr Code hier\n",
    "```\n",
    "\n",
    "**Aufgabe 6: Ein Fibonacci-Iterator**\n",
    "Erstellen Sie einen Iterator `Fibonacci`, der im Konstruktor eine `grenze` entgegennimmt. Bei der Iteration soll er alle Fibonacci-Zahlen generieren, die kleiner als diese `grenze` sind.\n",
    "\n",
    "```python\n",
    "# Ihr Code hier\n",
    "```\n",
    "\n",
    "**Aufgabe 7: Das `Team` iterierbar machen**\n",
    "Nehmen Sie Ihre `Team`-Klasse aus Aufgabe 3 und implementieren Sie zusätzlich das Iterator-Protokoll, sodass Sie mit einer `for`-Schleife direkt über die Mitglieder des Teams iterieren können.\n",
    "\n",
    "```python\n",
    "# Ihr Code hier\n",
    "```\n",
    "\n",
    "**Aufgabe 8 (Fortgeschritten): Separater Iterator**\n",
    "Erstellen Sie eine Klasse `Bibliothek` (das iterierbare Objekt), die eine Liste von Buchtiteln speichert. Erstellen Sie eine zweite, separate Klasse `BuchIterator` (der Iterator), die die Logik von `__next__` enthält. Die `__iter__`-Methode der `Bibliothek` soll bei jedem Aufruf eine neue, frische Instanz von `BuchIterator` zurückgeben.\n",
    "\n",
    "```python\n",
    "# Ihr Code hier\n",
    "```"
   ]
  }
 ],
 "metadata": {
  "kernelspec": {
   "display_name": "3.13.3",
   "language": "python",
   "name": "python3"
  },
  "language_info": {
   "codemirror_mode": {
    "name": "ipython",
    "version": 3
   },
   "file_extension": ".py",
   "mimetype": "text/x-python",
   "name": "python",
   "nbconvert_exporter": "python",
   "pygments_lexer": "ipython3",
   "version": "3.13.3"
  }
 },
 "nbformat": 4,
 "nbformat_minor": 5
}
