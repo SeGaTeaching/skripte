{
 "cells": [
  {
   "cell_type": "markdown",
   "id": "17fba944",
   "metadata": {},
   "source": [
    "# Tag 1: OOP-Fundament\n",
    "\n",
    "---\n",
    "\n",
    "## 1. Klassen und Instanzen: Die Grundbausteine der OOP\n",
    "\n",
    "In der **objektorientierten Programmierung (OOP)** fassen wir Daten und die Funktionen, die mit diesen Daten arbeiten, in einer logischen Einheit zusammen: dem **Objekt**. Die Vorlage oder der Bauplan für diese Objekte ist die **Klasse**.\n",
    "\n",
    "### Die Klasse: Der Bauplan\n",
    "\n",
    "* Eine Klasse ist eine **Vorlage** oder ein **Blaupause**, die die Struktur und das Verhalten von Objekten definiert.\n",
    "* Sie legt fest, welche **Attribute (Eigenschaften)** und **Methoden (Fähigkeiten)** jedes Objekt, das nach diesem Plan erstellt wird, haben wird.\n",
    "* **Analogie:** Der Bauplan eines Architekten für ein Haus. Er definiert, dass jedes Haus Wände, Fenster und eine Tür haben soll, aber er ist noch kein physisches Haus.\n",
    "\n",
    "### Die Instanz: Das gebaute Haus\n",
    "\n",
    "* Eine **Instanz** ist ein **konkretes, eigenständiges Objekt**, das basierend auf einer Klasse erstellt wurde.\n",
    "* Wenn die Klasse der Bauplan ist, ist die Instanz das **tatsächlich gebaute Haus**. Man kann nach einem Bauplan viele identisch aussehende, aber dennoch unterschiedliche Häuser bauen.\n",
    "\n",
    "### Der `__init__`-Konstruktor und `self`\n",
    "\n",
    "* `__init__` ist eine spezielle Methode, der **Konstruktor**. Er wird automatisch aufgerufen, sobald eine neue Instanz erstellt wird.\n",
    "* Seine Hauptaufgabe ist es, die **individuellen Attribute** der Instanz zu initialisieren und ihr einen Startzustand zu geben.\n",
    "* `self` ist dabei immer der Platzhalter für die **konkrete Instanz**, die gerade bearbeitet wird. Es ist die Art und Weise, wie ein Objekt auf seine eigenen Attribute und Methoden zugreift."
   ]
  },
  {
   "cell_type": "code",
   "execution_count": 1,
   "id": "19924667",
   "metadata": {},
   "outputs": [
    {
     "name": "stdout",
     "output_type": "stream",
     "text": [
      "Der Konstruktor wird für eine neue Person aufgerufen...\n",
      "Der Konstruktor wird für eine neue Person aufgerufen...\n",
      "Person 1: Anna (28)\n",
      "Person 2: Ben (35)\n"
     ]
    }
   ],
   "source": [
    "# Ein einfacher \"Bauplan\" für eine Person\n",
    "class Person:\n",
    "    def __init__(self, name, alter):\n",
    "        print(f\"Der Konstruktor wird für eine neue Person aufgerufen...\")\n",
    "        # self.name und self.alter sind Instanzattribute\n",
    "        self.name = name\n",
    "        self.alter = alter\n",
    "\n",
    "# Wir erstellen zwei konkrete, voneinander unabhängige Instanzen\n",
    "p1 = Person(\"Anna\", 28)\n",
    "p2 = Person(\"Ben\", 35)\n",
    "\n",
    "# Jede Instanz hat ihre eigenen Daten\n",
    "print(f\"Person 1: {p1.name} ({p1.alter})\")\n",
    "print(f\"Person 2: {p2.name} ({p2.alter})\")"
   ]
  },
  {
   "cell_type": "markdown",
   "id": "33d3901a",
   "metadata": {},
   "source": []
  },
  {
   "cell_type": "code",
   "execution_count": null,
   "id": "06ccf215",
   "metadata": {},
   "outputs": [],
   "source": []
  },
  {
   "cell_type": "markdown",
   "id": "02a83162",
   "metadata": {},
   "source": [
    "### **Parallele: Instanzen und Dictionaries**\n",
    "\n",
    "Man kann sich eine Instanz wie ein spezielles Dictionary vorstellen. Der Zugriff auf die Werte ist syntaktisch sehr ähnlich.\n",
    "\n",
    "* **Dictionary-Zugriff:** `mein_dict['schluessel']`\n",
    "* **Instanz-Zugriff:** `meine_instanz.attribut` (Dot-Notation)\n",
    "\n",
    "Die Dot-Notation ist eine saubere und direkte Art, auf die \"Schlüssel\" (Attribute) eines Objekts zuzugreifen."
   ]
  },
  {
   "cell_type": "code",
   "execution_count": null,
   "id": "1ba2abb0",
   "metadata": {},
   "outputs": [],
   "source": [
    "# Erstellen einer Instanz\n",
    "p1 = Person(\"Anna\", 28)\n",
    "\n",
    "# Lesen eines Attributs\n",
    "aktueller_name = p1.name\n",
    "print(f\"Gelesener Name: {aktueller_name}\")\n",
    "\n",
    "# Ändern eines Attributs\n",
    "print(f\"Alter vor der Änderung: {p1.alter}\")\n",
    "p1.alter = 29\n",
    "print(f\"Alter nach der Änderung: {p1.alter}\")"
   ]
  },
  {
   "cell_type": "code",
   "execution_count": null,
   "id": "43142d02",
   "metadata": {},
   "outputs": [],
   "source": []
  },
  {
   "cell_type": "markdown",
   "id": "38803eed",
   "metadata": {},
   "source": [
    "### Verschiedene Arten Instanzvariablen zu erstellen\n",
    "\n",
    "a) `__init__`: Variablen, welche alle Instanzen zugewiesen bekommen"
   ]
  },
  {
   "cell_type": "code",
   "execution_count": 1,
   "id": "c8101c34",
   "metadata": {},
   "outputs": [
    {
     "name": "stdout",
     "output_type": "stream",
     "text": [
      "{'marke': 'BMW'}\n",
      "{'marke': 'Porsche'}\n"
     ]
    }
   ],
   "source": [
    "class Auto:\n",
    "    def __init__(self, marke):\n",
    "        self.marke = marke\n",
    "        \n",
    "bmw = Auto('BMW')\n",
    "print(bmw.__dict__)\n",
    "\n",
    "porsche = Auto('Porsche')\n",
    "print(porsche.__dict__)"
   ]
  },
  {
   "cell_type": "code",
   "execution_count": null,
   "id": "c3780d45",
   "metadata": {},
   "outputs": [],
   "source": []
  },
  {
   "cell_type": "markdown",
   "id": "1011f419",
   "metadata": {},
   "source": [
    "b) `dot`-Zuweisung: Variablen, welche die Instanzen individuell besitzen"
   ]
  },
  {
   "cell_type": "code",
   "execution_count": 2,
   "id": "76309ec1",
   "metadata": {},
   "outputs": [
    {
     "name": "stdout",
     "output_type": "stream",
     "text": [
      "BMW Objekt Variablen: {'marke': 'BMW', 'cabrio': True}\n",
      "Porsche Objekt Variablen: {'marke': 'Porsche', 'turbo': True}\n"
     ]
    }
   ],
   "source": [
    "bmw.cabrio = True\n",
    "porsche.turbo = True\n",
    "print('BMW Objekt Variablen:', bmw.__dict__)\n",
    "print('Porsche Objekt Variablen:', porsche.__dict__)"
   ]
  },
  {
   "cell_type": "code",
   "execution_count": null,
   "id": "9375b446",
   "metadata": {},
   "outputs": [],
   "source": []
  },
  {
   "cell_type": "markdown",
   "id": "86ad799c",
   "metadata": {},
   "source": [
    "c) `Klassen-Methoden`: Variablen, welche nur Instanzen zugewiesen wird, die diese Methode ausführen"
   ]
  },
  {
   "cell_type": "code",
   "execution_count": 3,
   "id": "829ccaee",
   "metadata": {},
   "outputs": [
    {
     "name": "stdout",
     "output_type": "stream",
     "text": [
      "{'marke': 'BMW'}\n",
      "{'marke': 'Porsche'}\n",
      "BMW Objekt Variablen: {'marke': 'BMW', 'cabrio': True}\n",
      "Porsche Objekt Variablen: {'marke': 'Porsche', 'turbo': True}\n"
     ]
    }
   ],
   "source": [
    "class Auto:\n",
    "    def __init__(self, marke):\n",
    "        self.marke = marke\n",
    "        \n",
    "    def lackieren(self, color):\n",
    "        self.farbe = color\n",
    "        \n",
    "bmw = Auto('BMW')\n",
    "print(bmw.__dict__)\n",
    "\n",
    "porsche = Auto('Porsche')\n",
    "print(porsche.__dict__)\n",
    "\n",
    "bmw.cabrio = True\n",
    "porsche.turbo = True\n",
    "print('BMW Objekt Variablen:', bmw.__dict__)\n",
    "print('Porsche Objekt Variablen:', porsche.__dict__)"
   ]
  },
  {
   "cell_type": "code",
   "execution_count": null,
   "id": "3b015fd7",
   "metadata": {},
   "outputs": [],
   "source": []
  },
  {
   "cell_type": "code",
   "execution_count": 4,
   "id": "585c496e",
   "metadata": {},
   "outputs": [
    {
     "name": "stdout",
     "output_type": "stream",
     "text": [
      "BMW Objekt Variablen: {'marke': 'BMW', 'cabrio': True}\n",
      "Porsche Objekt Variablen: {'marke': 'Porsche', 'turbo': True, 'farbe': 'rot'}\n"
     ]
    }
   ],
   "source": [
    "porsche.lackieren(\"rot\")\n",
    "print('BMW Objekt Variablen:', bmw.__dict__)\n",
    "print('Porsche Objekt Variablen:', porsche.__dict__)"
   ]
  },
  {
   "cell_type": "code",
   "execution_count": null,
   "id": "3eb87f6f",
   "metadata": {},
   "outputs": [],
   "source": []
  },
  {
   "cell_type": "markdown",
   "id": "532593c4",
   "metadata": {},
   "source": [
    "Zusammenfassend: Eine Klasse ist unser Bauplan, eine Instanz ist das fertige Objekt mit individuellen Eigenschaften."
   ]
  },
  {
   "cell_type": "code",
   "execution_count": null,
   "id": "3f209407",
   "metadata": {},
   "outputs": [
    {
     "name": "stdout",
     "output_type": "stream",
     "text": [
      "Schiff 'USS Enterprise NCC-1701' wurde gebaut.\n",
      "Aktuelle Hüllenstärke: 100%\n"
     ]
    }
   ],
   "source": [
    "class Raumschiff:\n",
    "    \"\"\"\n",
    "    Ein Bauplan für einfache Raumschiffe.\n",
    "    Jedes Raumschiff hat einen Namen und eine Hüllenstärke.\n",
    "    \"\"\"\n",
    "    def __init__(self, name, huelle_staerke):\n",
    "        self.name = name\n",
    "        self.huelle_staerke = huelle_staerke\n",
    "\n",
    "# Wir bauen unser erstes Schiff, die \"Enterprise\"\n",
    "enterprise = Raumschiff(\"USS Enterprise NCC-1701\", 100)\n",
    "\n",
    "print(f\"Schiff '{enterprise.name}' wurde gebaut.\")\n",
    "print(f\"Aktuelle Hüllenstärke: {enterprise.huelle_staerke}%\")"
   ]
  },
  {
   "cell_type": "code",
   "execution_count": null,
   "id": "4daf5de2",
   "metadata": {},
   "outputs": [],
   "source": []
  },
  {
   "cell_type": "code",
   "execution_count": null,
   "id": "a5f90242",
   "metadata": {},
   "outputs": [],
   "source": []
  },
  {
   "cell_type": "code",
   "execution_count": null,
   "id": "8f06a74a",
   "metadata": {},
   "outputs": [],
   "source": []
  },
  {
   "cell_type": "markdown",
   "id": "f5e1cf41",
   "metadata": {},
   "source": [
    "---\n",
    "#### DIY: Anwendung im Projekt\n",
    "\n",
    "Ihre Aufgabe ist es nun, dieses Konzept auf Ihr eigenes Projekt zu übertragen.\n",
    "\n",
    "**Projekt-Thema:** Intelligentes Stromnetz (`Smart Grid`)\n",
    "\n",
    "Legen Sie in Ihrem eigenen Projekt-Notebook den Grundstein: Erstellen Sie die Klasse `Energieerzeuger`. Ein Energieerzeuger soll bei seiner Erstellung einen `namen` (z.B. \"Windpark Nordsee\") und eine `max_leistung` in Megawatt (z.B. `150`) erhalten.<"
   ]
  },
  {
   "cell_type": "markdown",
   "id": "75264e7f",
   "metadata": {},
   "source": [
    "---\n",
    "## 2. Methoden & Darstellung\n",
    "---\n",
    "### Methoden\n",
    "\n",
    "Methoden sind Funktionen, die innerhalb einer Klasse definiert werden. Sie beschreiben die **Fähigkeiten** oder das **Verhalten** eines Objekts.\n",
    "\n",
    "* Sie verwenden immer `self` als ersten Parameter, um auf die Attribute und andere Methoden der eigenen Instanz zugreifen und diese verändern zu können.\n",
    "* Sie definieren, was ein Objekt *tun* kann (z.B. beschleunigen, hupen, Daten verarbeiten)."
   ]
  },
  {
   "cell_type": "code",
   "execution_count": null,
   "id": "f68fd317",
   "metadata": {},
   "outputs": [
    {
     "name": "stdout",
     "output_type": "stream",
     "text": [
      "Vorher: Anna ist 28 Jahre alt.\n",
      "Gratulation, Anna!\n",
      "Nachher: Anna ist jetzt 29 Jahre alt.\n"
     ]
    }
   ],
   "source": [
    "class Person:\n",
    "    def __init__(self, name, alter):\n",
    "        self.name = name\n",
    "        self.alter = alter\n",
    "\n",
    "    # Eine Methode, um den Zustand des Objekts zu verändern\n",
    "    def hat_geburtstag(self):\n",
    "        print(f\"Gratulation, {self.name}!\")\n",
    "        self.alter += 1\n",
    "\n",
    "p1 = Person(\"Anna\", 28)\n",
    "print(f\"Vorher: {p1.name} ist {p1.alter} Jahre alt.\")\n",
    "\n",
    "# Wir rufen die Methode auf der Instanz p1 auf.\n",
    "# 'self' in der Methode verweist nun auf p1.\n",
    "p1.hat_geburtstag()\n",
    "print(f\"Nachher: {p1.name} ist jetzt {p1.alter} Jahre alt.\")"
   ]
  },
  {
   "cell_type": "code",
   "execution_count": null,
   "id": "5059c830",
   "metadata": {},
   "outputs": [],
   "source": []
  },
  {
   "cell_type": "code",
   "execution_count": null,
   "id": "3e31ae2b",
   "metadata": {},
   "outputs": [],
   "source": []
  },
  {
   "cell_type": "code",
   "execution_count": null,
   "id": "23b48801",
   "metadata": {},
   "outputs": [],
   "source": []
  },
  {
   "cell_type": "code",
   "execution_count": null,
   "id": "298d976b",
   "metadata": {},
   "outputs": [],
   "source": []
  },
  {
   "cell_type": "markdown",
   "id": "e755a9c4",
   "metadata": {},
   "source": [
    "Methoden verleihen unseren Objekten ihre Fähigkeiten. Unser Raumschiff soll nun die Fähigkeit bekommen, Schaden zu erleiden."
   ]
  },
  {
   "cell_type": "code",
   "execution_count": null,
   "id": "a312d460",
   "metadata": {},
   "outputs": [
    {
     "name": "stdout",
     "output_type": "stream",
     "text": [
      "Hülle vor dem Kampf: 100%\n",
      "'USS Voyager' hat 30 Schaden erlitten!\n",
      "Hülle nach dem Kampf: 70%\n"
     ]
    }
   ],
   "source": [
    "class Raumschiff:\n",
    "    def __init__(self, name, huelle_staerke):\n",
    "        self.name = name\n",
    "        self.huelle_staerke = huelle_staerke\n",
    "\n",
    "    def schaden_erleiden(self, schadenswert):\n",
    "        \"\"\"Verringert die Hüllenstärke um den gegebenen Wert.\"\"\"\n",
    "        self.huelle_staerke -= schadenswert\n",
    "        print(f\"'{self.name}' hat {schadenswert} Schaden erlitten!\")\n",
    "        if self.huelle_staerke <= 0:\n",
    "            print(f\"WARNUNG: Hülle bei '{self.name}' ist kritisch!\")\n",
    "\n",
    "voyager = Raumschiff(\"USS Voyager\", 100)\n",
    "print(f\"Hülle vor dem Kampf: {voyager.huelle_staerke}%\")\n",
    "\n",
    "voyager.schaden_erleiden(30)\n",
    "print(f\"Hülle nach dem Kampf: {voyager.huelle_staerke}%\")"
   ]
  },
  {
   "cell_type": "markdown",
   "id": "7c665369",
   "metadata": {},
   "source": [
    "---\n",
    "### `__str__`\n",
    "\n",
    "Wenn wir eine Instanz einfach mit `print()` ausgeben, erhalten wir eine kryptische Information über den Speicherort, z.B. `<__main__.Raumschiff object at 0x...>`. Das ist für Benutzer nicht hilfreich.\n",
    "\n",
    "Hier kommt die **Magic Method `__str__(self)`** ins Spiel.\n",
    "\n",
    "* **Zweck:** Sie legt fest, wie eine Instanz als **benutzerfreundlicher Text** dargestellt werden soll.\n",
    "* **Verwendung:** `print()` und `str()` rufen diese Methode automatisch auf, falls sie existiert.\n",
    "* **Anforderung:** Die Methode **muss** immer einen String (`str`) zurückgeben."
   ]
  },
  {
   "cell_type": "code",
   "execution_count": null,
   "id": "54b6f709",
   "metadata": {},
   "outputs": [
    {
     "name": "stdout",
     "output_type": "stream",
     "text": [
      "Person(Name: Anna, Alter: 29)\n"
     ]
    }
   ],
   "source": [
    "class Person:\n",
    "    def __init__(self, name, alter):\n",
    "        self.name = name\n",
    "        self.alter = alter\n",
    "        \n",
    "    def __str__(self):\n",
    "        # Diese Methode gibt einen formatierten String zurück\n",
    "        return f\"Person(Name: {self.name}, Alter: {self.alter})\"\n",
    "\n",
    "p1 = Person(\"Anna\", 29)\n",
    "# print() ruft nun automatisch die __str__-Methode auf\n",
    "print(p1) "
   ]
  },
  {
   "cell_type": "code",
   "execution_count": 6,
   "id": "073124c8",
   "metadata": {},
   "outputs": [],
   "source": [
    "# repr"
   ]
  },
  {
   "cell_type": "code",
   "execution_count": null,
   "id": "21b75cae",
   "metadata": {},
   "outputs": [],
   "source": []
  },
  {
   "cell_type": "code",
   "execution_count": null,
   "id": "44cd40eb",
   "metadata": {},
   "outputs": [],
   "source": []
  },
  {
   "cell_type": "code",
   "execution_count": null,
   "id": "14ecba72",
   "metadata": {},
   "outputs": [],
   "source": []
  },
  {
   "cell_type": "markdown",
   "id": "0dabb198",
   "metadata": {},
   "source": [
    "---\n",
    "Integrieren wir nun eine `__str__`-Methode in unser `Raumschiff`, um einen sauberen Statusreport zu erhalten."
   ]
  },
  {
   "cell_type": "code",
   "execution_count": null,
   "id": "ce79cccd",
   "metadata": {},
   "outputs": [
    {
     "name": "stdout",
     "output_type": "stream",
     "text": [
      "[RAUMSCHIFF-STATUS] Kennung: Serenity | Hülle: 85%\n"
     ]
    }
   ],
   "source": [
    "class Raumschiff:\n",
    "    def __init__(self, name, huelle_staerke):\n",
    "        self.name = name\n",
    "        self.huelle_staerke = huelle_staerke\n",
    "\n",
    "    def schaden_erleiden(self, schadenswert):\n",
    "        self.huelle_staerke -= schadenswert\n",
    "        \n",
    "    def __str__(self):\n",
    "        return f\"[RAUMSCHIFF-STATUS] Kennung: {self.name} | Hülle: {self.huelle_staerke}%\"\n",
    "\n",
    "serenity = Raumschiff(\"Serenity\", 100)\n",
    "serenity.schaden_erleiden(15)\n",
    "print(serenity)"
   ]
  },
  {
   "cell_type": "markdown",
   "id": "3db7e837",
   "metadata": {},
   "source": [
    "---\n",
    "### DIY - Project\n",
    "\n",
    "Erweitern Sie nun Ihre `Energieerzeuger`-Klasse:\n",
    "1.  Fügen Sie eine Methode `ausschalten()` hinzu. Diese Methode soll ein neues Attribut `self.ist_aktiv` auf `False` setzen (im `__init__` sollte es auf `True` gesetzt werden).\n",
    "2.  Implementieren Sie die `__str__`-Methode, sodass sie einen Statusreport ausgibt, z.B.: `[KRAFTWERK] Name: Windpark Nordsee | Status: Aktiv | Max. Leistung: 150 MW`.\n",
    "---"
   ]
  },
  {
   "cell_type": "markdown",
   "id": "806a8809",
   "metadata": {},
   "source": [
    "## 3. Klassenattribute & Objekt-Analyse\n",
    "---\n",
    "### Instanz- vs. Klassenvariablen\n",
    "\n",
    "Bisher haben wir Attribute kennengelernt, die jedes Objekt für sich allein besitzt. Es gibt aber noch eine zweite Art. Um objektorientierte Programme korrekt zu entwerfen, müssen wir den Unterschied zwischen **Instanzvariablen** und **Klassenvariablen** exakt verstehen.\n",
    "\n",
    "### Instanzvariablen (Eigenschaften des individuellen Objekts)\n",
    "\n",
    "* **Zugehörigkeit:** Sie gehören zu einer **einzigen, konkreten Instanz** der Klasse.\n",
    "* **Speicher:** Jedes Objekt erhält bei seiner Erstellung seinen eigenen, separaten Speicherplatz für seine Instanzvariablen.\n",
    "* **Unabhängigkeit:** Jedes Objekt hat seine **eigene, unabhängige Kopie** dieser Variablen. Ändert man den Wert bei einem Objekt, hat das **keinerlei Einfluss** auf andere Objekte.\n",
    "* **Analogie:** Die **Fahrgestellnummer** oder die **Lackfarbe** eines spezifischen Autos. Jedes einzelne Auto auf der Straße hat seine eigene, einzigartige Nummer und Farbe.\n",
    "* **Zweck:** Sie dienen dazu, den **individuellen Zustand** eines Objekts zu speichern (z.B. die aktuelle Geschwindigkeit eines bestimmten Autos, den Kontostand eines bestimmten Kontos).\n",
    "* **Syntax:** Sie werden fast immer im `__init__`-Konstruktor mit der `self`-Syntax definiert: `self.variablenname = wert`.\n",
    "\n",
    "### Klassenvariablen (Eigenschaften des Bauplans)\n",
    "\n",
    "* **Zugehörigkeit:** Sie gehören zur **Klasse selbst**, nicht zu einer einzelnen Instanz.\n",
    "* **Speicher:** Sie werden nur **ein einziges Mal** im Speicher der Klasse angelegt.\n",
    "* **Teilbarkeit:** **Alle Instanzen dieser Klasse teilen sich denselben Wert** von derselben Variable. Sie greifen alle auf denselben Speicherort zu.\n",
    "* **Analogie:** Die **Anzahl der Räder (4)**, die für den *Typ* \"PKW\" generell gilt, oder der **Markenname \"BMW\"**, der für alle Autos dieses Herstellers gleich ist.\n",
    "* **Zweck:** Um Informationen zu speichern, die für alle Objekte einer Klasse identisch sind oder um einen globalen Zustand für die Klasse zu verwalten (z.B. ein Zähler, wie viele Objekte dieser Klasse insgesamt erstellt wurden).\n",
    "* **Syntax:** Sie werden direkt im Rumpf der Klasse definiert, außerhalb von Methoden.\n",
    "\n",
    "### Zusammenfassung im Überblick\n",
    "\n",
    "| Merkmal | **Klassenvariable** | **Instanzvariable** |\n",
    "| :--- | :--- | :--- |\n",
    "| **Zugehörigkeit** | Zur Klasse selbst | Nur zur jeweiligen Instanz |\n",
    "| **Speicherort** | Einmal in der Klasse gespeichert | Für jede Instanz separat gespeichert |\n",
    "| **Teilbarkeit** | Wird von allen Instanzen geteilt | Ist unabhängig pro Instanz |\n",
    "| **Zweck** | Gemeinsame Eigenschaften, Zähler | Individueller Zustand des Objekts |\n",
    "| **Syntax** | `variablenname = wert` | `self.variablenname = wert` |"
   ]
  },
  {
   "cell_type": "code",
   "execution_count": 8,
   "id": "520ec2d7",
   "metadata": {},
   "outputs": [
    {
     "name": "stdout",
     "output_type": "stream",
     "text": [
      "Ein BMW hat 4 Räder.\n",
      "Ein Audi hat 4 Räder.\n",
      "\n",
      "--- SONDERANFERTIGUNG ---\n",
      "Ein BMW hat jetzt 3 Räder.\n",
      "Ein Audi hat jetzt 3 Räder.\n"
     ]
    }
   ],
   "source": [
    "class Auto:\n",
    "    # Das ist ein Klassenattribut\n",
    "    anzahl_raeder = 4\n",
    "    \n",
    "    def __init__(self, marke):\n",
    "        # Das ist ein Instanzattribut\n",
    "        self.marke = marke\n",
    "\n",
    "a1 = Auto(\"BMW\")\n",
    "a2 = Auto(\"Audi\")\n",
    "\n",
    "# Alle Instanzen teilen sich das Klassenattribut\n",
    "print(f\"Ein {a1.marke} hat {a1.anzahl_raeder} Räder.\")\n",
    "print(f\"Ein {a2.marke} hat {a2.anzahl_raeder} Räder.\")\n",
    "\n",
    "# Ändern wir das Klassenattribut für alle\n",
    "print(\"\\n--- SONDERANFERTIGUNG ---\")\n",
    "Auto.anzahl_raeder = 3\n",
    "\n",
    "print(f\"Ein {a1.marke} hat jetzt {a1.anzahl_raeder} Räder.\")\n",
    "print(f\"Ein {a2.marke} hat jetzt {a2.anzahl_raeder} Räder.\")"
   ]
  },
  {
   "cell_type": "code",
   "execution_count": null,
   "id": "cd99b16d",
   "metadata": {},
   "outputs": [],
   "source": []
  },
  {
   "cell_type": "code",
   "execution_count": null,
   "id": "a6244af6",
   "metadata": {},
   "outputs": [],
   "source": []
  },
  {
   "cell_type": "code",
   "execution_count": null,
   "id": "d9bc07ac",
   "metadata": {},
   "outputs": [],
   "source": []
  },
  {
   "cell_type": "markdown",
   "id": "c0fa6054",
   "metadata": {},
   "source": [
    "---\n",
    "\n",
    "Alle unsere Raumschiffe werden in derselben Werft gebaut. Das ist eine perfekte Anwendung für ein Klassenattribut."
   ]
  },
  {
   "cell_type": "code",
   "execution_count": null,
   "id": "88cbe885",
   "metadata": {},
   "outputs": [
    {
     "name": "stdout",
     "output_type": "stream",
     "text": [
      "Schiff: USS Defiant, gebaut in: Utopia Planitia Flottenwerft\n",
      "Schiff: USS Equinox, gebaut in: Utopia Planitia Flottenwerft\n"
     ]
    }
   ],
   "source": [
    "class Raumschiff:\n",
    "    # Klassenattribut: Gilt für alle Schiffe dieser Klasse\n",
    "    WERFT = \"Utopia Planitia Flottenwerft\"\n",
    "    \n",
    "    def __init__(self, name):\n",
    "        self.name = name\n",
    "        \n",
    "    def __str__(self):\n",
    "        # Wir können auch auf Klassenattribute zugreifen\n",
    "        return f\"Schiff: {self.name}, gebaut in: {self.WERFT}\"\n",
    "\n",
    "schiff1 = Raumschiff(\"USS Defiant\")\n",
    "schiff2 = Raumschiff(\"USS Equinox\")\n",
    "\n",
    "print(schiff1)\n",
    "print(schiff2)"
   ]
  },
  {
   "cell_type": "code",
   "execution_count": null,
   "id": "3c570a1c",
   "metadata": {},
   "outputs": [],
   "source": []
  },
  {
   "cell_type": "code",
   "execution_count": null,
   "id": "4f8a8f10",
   "metadata": {},
   "outputs": [],
   "source": []
  },
  {
   "cell_type": "code",
   "execution_count": null,
   "id": "4bbb93ba",
   "metadata": {},
   "outputs": [],
   "source": []
  },
  {
   "cell_type": "markdown",
   "id": "a0a7e82e",
   "metadata": {},
   "source": [
    "---\n",
    "### **Vertiefung: Der Blick unter die Haube mit `__dict__`**\n",
    "\n",
    "Wie können wir beweisen, dass Python Instanz- und Klassenvariablen wirklich an unterschiedlichen Orten speichert? Jede Klasse und jede Instanz in Python hat ein spezielles, eingebautes Attribut namens `__dict__`, das uns den \"Lagerraum\" für Attribute zeigt.\n",
    "\n",
    "* **`Klassenname.__dict__`**: Zeigt den Lagerraum der Klasse (mit Klassenattributen und Methoden).\n",
    "* **`instanzname.__dict__`**: Zeigt den Lagerraum der Instanz (nur mit Instanzattributen).\n",
    "\n",
    "**Schauen wir uns das an unserem `Raumschiff`-Projekt an:**"
   ]
  },
  {
   "cell_type": "code",
   "execution_count": 13,
   "id": "0775b3dc",
   "metadata": {},
   "outputs": [
    {
     "name": "stdout",
     "output_type": "stream",
     "text": [
      "--- Klassen-__dict__ von 'Auto' ---\n",
      "{'__module__': '__main__', '__firstlineno__': 1, 'anzahl_raeder': 4, '__init__': <function Auto.__init__ at 0x119cb45e0>, 'hupen': <function Auto.hupen at 0x119cb4680>, '__static_attributes__': ('farbe', 'marke'), '__dict__': <attribute '__dict__' of 'Auto' objects>, '__weakref__': <attribute '__weakref__' of 'Auto' objects>, '__doc__': None}\n",
      "\n",
      "--- Instanz-__dict__ von 'mein_golf' ---\n",
      "{'marke': 'VW', 'farbe': 'Blau'}\n"
     ]
    }
   ],
   "source": [
    "class Auto:\n",
    "    # Klassenattribut\n",
    "    anzahl_raeder = 4\n",
    "    \n",
    "    def __init__(self, marke, farbe):\n",
    "        # Instanzattribute\n",
    "        self.marke = marke\n",
    "        self.farbe = farbe\n",
    "        \n",
    "    def hupen(self):\n",
    "        print(\"Hup Hup!\")\n",
    "\n",
    "# Instanz erstellen\n",
    "mein_golf = Auto(\"VW\", \"Blau\")\n",
    "\n",
    "print(\"--- Klassen-__dict__ von 'Auto' ---\")\n",
    "# Zeigt Klassenattribute ('anzahl_raeder') und Methoden ('__init__', 'hupen')\n",
    "# Beachten Sie, dass die Instanzattribute 'marke' und 'farbe' HIER NICHT auftauchen.\n",
    "print(Auto.__dict__)\n",
    "\n",
    "print(\"\\n--- Instanz-__dict__ von 'mein_golf' ---\")\n",
    "# Zeigt NUR die individuellen Instanzattribute\n",
    "# Beachten Sie, dass 'anzahl_raeder' und 'hupen' HIER NICHT auftauchen.\n",
    "print(mein_golf.__dict__)"
   ]
  },
  {
   "cell_type": "code",
   "execution_count": null,
   "id": "68cf727e",
   "metadata": {},
   "outputs": [],
   "source": []
  },
  {
   "cell_type": "code",
   "execution_count": null,
   "id": "082cdf2f",
   "metadata": {},
   "outputs": [],
   "source": []
  },
  {
   "cell_type": "code",
   "execution_count": null,
   "id": "d5adaa5d",
   "metadata": {},
   "outputs": [],
   "source": []
  },
  {
   "cell_type": "markdown",
   "id": "7d0a75cd",
   "metadata": {},
   "source": [
    "#### **Der Beweis für das \"Überschatten\"**\n",
    "\n",
    "Was passiert, wenn wir versuchen, eine Klassenvariable über eine Instanz zu ändern? Schauen wir uns den `__dict__` an, um es zu verstehen."
   ]
  },
  {
   "cell_type": "code",
   "execution_count": 14,
   "id": "e47cb25f",
   "metadata": {},
   "outputs": [
    {
     "name": "stdout",
     "output_type": "stream",
     "text": [
      "Räder von der Klasse aus: 4\n",
      "Räder von der Instanz aus: 4\n",
      "Instanz-Dict vorher: {'marke': 'VW', 'farbe': 'Blau'}\n",
      "\n",
      "--- ACHTUNG: Zuweisung über die Instanz! ---\n",
      "Räder von der Klasse aus (unverändert): 4\n",
      "Räder von der Instanz aus (neuer Wert): 5\n",
      "Instanz-Dict nachher (mit neuem Attribut): {'marke': 'VW', 'farbe': 'Blau', 'anzahl_raeder': 5}\n"
     ]
    }
   ],
   "source": [
    "# Ausgangslage\n",
    "print(f\"Räder von der Klasse aus: {Auto.anzahl_raeder}\")\n",
    "print(f\"Räder von der Instanz aus: {mein_golf.anzahl_raeder}\") # Python findet es in der Klasse\n",
    "print(f\"Instanz-Dict vorher: {mein_golf.__dict__}\")\n",
    "\n",
    "print(\"\\n--- ACHTUNG: Zuweisung über die Instanz! ---\")\n",
    "# Das ändert NICHT die Klassenvariable.\n",
    "# Es erstellt eine NEUE Instanzvariable in der Instanz, die die Klassenvariable \"überschattet\".\n",
    "mein_golf.anzahl_raeder = 5 # Das ist jetzt eine Instanzvariable!\n",
    "\n",
    "print(f\"Räder von der Klasse aus (unverändert): {Auto.anzahl_raeder}\")\n",
    "print(f\"Räder von der Instanz aus (neuer Wert): {mein_golf.anzahl_raeder}\")\n",
    "print(f\"Instanz-Dict nachher (mit neuem Attribut): {mein_golf.__dict__}\")"
   ]
  },
  {
   "cell_type": "code",
   "execution_count": null,
   "id": "4465ef93",
   "metadata": {},
   "outputs": [],
   "source": []
  },
  {
   "cell_type": "code",
   "execution_count": null,
   "id": "64a0f9bf",
   "metadata": {},
   "outputs": [],
   "source": []
  },
  {
   "cell_type": "code",
   "execution_count": null,
   "id": "1093d088",
   "metadata": {},
   "outputs": [],
   "source": []
  },
  {
   "cell_type": "markdown",
   "id": "cc3c34af",
   "metadata": {},
   "source": [
    "**Erkenntnis aus dem Beispiel:**\n",
    "- Die Zuweisung `mein_golf.anzahl_raeder = 5` hat einen **neuen Eintrag im `__dict__` der Instanz** erstellt. \n",
    "- Der `__dict__` der Klasse blieb unberührt. Wenn Python jetzt `mein_golf.anzahl_raeder` sucht, findet es den Wert zuerst im Instanz-`__dict__` und gibt `5` zurück, ohne überhaupt bei der Klasse nachzusehen.\n",
    "\n",
    "---\n",
    "\n",
    "---\n",
    "### **Vertiefung: Wie Python nach Attributen sucht**\n",
    "\n",
    "Um den Unterschied zwischen Instanz- und Klassenvariablen wirklich zu verstehen, müssen wir den genauen Algorithmus kennen, den Python anwendet, wenn wir auf ein Attribut zugreifen.\n",
    "\n",
    "#### **Fall 1: Lesen eines Attributs (z.B. `mein_auto.farbe`)**\n",
    "\n",
    "Wenn Python diesen Code sieht, startet ein klar definierter Suchprozess:\n",
    "1.  **Suche in der Instanz:** Python prüft zuerst das `__dict__` der Instanz `mein_auto`.\n",
    "    * Findet es dort den Schlüssel `'farbe'`, wird der zugehörige Wert zurückgegeben und die Suche ist **sofort beendet**. Man spricht hier von einer **Instanzvariable**.\n",
    "2.  **Suche in der Klasse:** Wenn Schritt 1 erfolglos war, geht Python eine Ebene höher und prüft das `__dict__` der Klasse, von der die Instanz erstellt wurde (hier `Auto`).\n",
    "    * Findet es dort den Schlüssel `'farbe'`, wird dieser Wert zurückgegeben. Man spricht hier von einer **Klassenvariable**. Die Suche ist beendet.\n",
    "3.  **Suche in den Elternklassen:** Wenn auch Schritt 2 erfolglos war, setzt Python die Suche in den Elternklassen fort (gemäß der **Method Resolution Order**, kurz MRO - mehr dazu an Tag 3).\n",
    "4.  **Fehler:** Wenn die gesamte Hierarchie bis zur obersten `object`-Klasse durchsucht und das Attribut nirgends gefunden wurde, löst Python einen `AttributeError` aus.\n",
    "\n",
    "#### **Fall 2: Schreiben / Zuweisen eines Attributs (z.B. `mein_auto.farbe = \"Rot\"`)**\n",
    "\n",
    "Beim Schreiben eines Attributs ist der Prozess viel einfacher und direkter:\n",
    "1.  Python greift **immer und ausschließlich** auf das `__dict__` der **Instanz** `mein_auto` zu.\n",
    "2.  Es prüft, ob im `__dict__` von `mein_auto` bereits ein Schlüssel `'farbe'` existiert.\n",
    "    * **Wenn ja,** wird der Wert dieses Schlüssels auf `\"Rot\"` aktualisiert.\n",
    "    * **Wenn nein,** wird ein **neuer Schlüssel** `'farbe'` im `__dict__` von `mein_auto` angelegt und ihm der Wert `\"Rot\"` zugewiesen.\n",
    "\n",
    "**Wichtige Erkenntnis:** Eine Zuweisung über eine Instanz (`instanz.attribut = wert`) wird **niemals** eine Klassenvariable ändern. Sie ändert entweder eine bestehende Instanzvariable oder legt eine neue an. Dies ist der Grund, warum eine Instanzvariable eine Klassenvariable \"überschatten\" kann.\n",
    "\n",
    "---"
   ]
  },
  {
   "cell_type": "code",
   "execution_count": null,
   "id": "bf5fc5e8",
   "metadata": {},
   "outputs": [],
   "source": []
  },
  {
   "cell_type": "code",
   "execution_count": null,
   "id": "29ed56c2",
   "metadata": {},
   "outputs": [],
   "source": []
  },
  {
   "cell_type": "code",
   "execution_count": null,
   "id": "233dfd07",
   "metadata": {},
   "outputs": [],
   "source": []
  },
  {
   "cell_type": "code",
   "execution_count": null,
   "id": "3574e828",
   "metadata": {},
   "outputs": [],
   "source": []
  },
  {
   "cell_type": "code",
   "execution_count": null,
   "id": "13f43e33",
   "metadata": {},
   "outputs": [],
   "source": []
  },
  {
   "cell_type": "code",
   "execution_count": null,
   "id": "ab46b441",
   "metadata": {},
   "outputs": [
    {
     "name": "stdout",
     "output_type": "stream",
     "text": [
      "--- Klassen-__dict__ ---\n",
      "{'__module__': '__main__', '__firstlineno__': 1, 'WERFT': 'Utopia Planitia Flottenwerft', '__init__': <function Raumschiff.__init__ at 0x119cb4360>, 'status_report': <function Raumschiff.status_report at 0x119cb4400>, '__static_attributes__': ('huelle_staerke', 'name'), '__dict__': <attribute '__dict__' of 'Raumschiff' objects>, '__weakref__': <attribute '__weakref__' of 'Raumschiff' objects>, '__doc__': None}\n",
      "\n",
      "--- Instanz-__dict__ ---\n",
      "{'name': 'USS Titan', 'huelle_staerke': 100}\n"
     ]
    }
   ],
   "source": [
    "# Anwendung im Tutor-Projekt\n",
    "\n",
    "class Raumschiff:\n",
    "    # Klassenattribut\n",
    "    WERFT = \"Utopia Planitia Flottenwerft\"\n",
    "    \n",
    "    def __init__(self, name, huelle_staerke):\n",
    "        # Instanzattribute\n",
    "        self.name = name\n",
    "        self.huelle_staerke = huelle_staerke\n",
    "\n",
    "# Instanz erstellen\n",
    "mein_schiff = Raumschiff(\"USS Titan\", 100)\n",
    "\n",
    "print(\"--- Klassen-__dict__ von 'Raumschiff' ---\")\n",
    "# Enthält 'WERFT', '__init__' etc.\n",
    "print(Raumschiff.__dict__)\n",
    "\n",
    "print(\"\\n--- Instanz-__dict__ von 'mein_schiff' ---\")\n",
    "# Enthält 'name' und 'huelle_staerke'\n",
    "print(mein_schiff.__dict__)"
   ]
  },
  {
   "cell_type": "markdown",
   "id": "eb6c7c7f",
   "metadata": {},
   "source": [
    "---\n",
    "### `isinstance()` – Objekte analysieren\n",
    "\n",
    "**Introspektion** ist die Fähigkeit eines Programms, seine eigene Struktur zur Laufzeit zu untersuchen. Ein zentrales Werkzeug dafür ist die Funktion `isinstance()`.\n",
    "\n",
    "* **Zweck:** Überprüft, ob ein Objekt eine Instanz einer bestimmten Klasse (oder einer ihrer Unterklassen) ist.\n",
    "* **Verwendung:** `isinstance(objekt, klasse)` gibt `True` oder `False` zurück.\n",
    "* **Vorteil:** Im Gegensatz zu `type(obj) == Klasse` berücksichtigt `isinstance()` auch die **Vererbung**, was es flexibler und robuster macht."
   ]
  },
  {
   "cell_type": "code",
   "execution_count": 10,
   "id": "818ee210",
   "metadata": {},
   "outputs": [
    {
     "name": "stdout",
     "output_type": "stream",
     "text": [
      "Ist bello ein Hund? True\n",
      "Ist bello eine Katze? False\n",
      "Ist bello ein Tier? True\n"
     ]
    }
   ],
   "source": [
    "class Tier: pass\n",
    "class Hund(Tier): pass\n",
    "class Katze(Tier): pass\n",
    "\n",
    "bello = Hund()\n",
    "\n",
    "print(f\"Ist bello ein Hund? {isinstance(bello, Hund)}\")\n",
    "print(f\"Ist bello eine Katze? {isinstance(bello, Katze)}\")\n",
    "print(f\"Ist bello ein Tier? {isinstance(bello, Tier)}\") # True, da Hund von Tier erbt"
   ]
  },
  {
   "cell_type": "code",
   "execution_count": null,
   "id": "d2d90293",
   "metadata": {},
   "outputs": [],
   "source": []
  },
  {
   "cell_type": "code",
   "execution_count": null,
   "id": "5b224891",
   "metadata": {},
   "outputs": [],
   "source": []
  },
  {
   "cell_type": "code",
   "execution_count": null,
   "id": "5fdc26af",
   "metadata": {},
   "outputs": [],
   "source": []
  },
  {
   "cell_type": "markdown",
   "id": "476d368d",
   "metadata": {},
   "source": [
    "---\n",
    "\n",
    "Stellen Sie sich eine Andockschleuse an einer Raumstation vor. Sie darf nur `Raumschiff`-Objekte andocken lassen, keine Sonden oder Asteroiden."
   ]
  },
  {
   "cell_type": "code",
   "execution_count": 11,
   "id": "e5e5e2db",
   "metadata": {},
   "outputs": [
    {
     "name": "stdout",
     "output_type": "stream",
     "text": [
      "\n",
      "Prüfe Objekt: Raumschiff\n",
      ">>> Andockerlaubnis ERTEILT. Es ist ein Raumschiff.\n",
      "\n",
      "Prüfe Objekt: Sonde\n",
      ">>> Andockerlaubnis VERWEIGERT. Kein kompatibles Schiff.\n"
     ]
    },
    {
     "data": {
      "text/plain": [
       "False"
      ]
     },
     "execution_count": 11,
     "metadata": {},
     "output_type": "execute_result"
    }
   ],
   "source": [
    "class Sonde: pass\n",
    "\n",
    "def andock_erlaubnis_pruefen(objekt):\n",
    "    print(f\"\\nPrüfe Objekt: {type(objekt).__name__}\")\n",
    "    if isinstance(objekt, Raumschiff):\n",
    "        print(\">>> Andockerlaubnis ERTEILT. Es ist ein Raumschiff.\")\n",
    "        return True\n",
    "    else:\n",
    "        print(\">>> Andockerlaubnis VERWEIGERT. Kein kompatibles Schiff.\")\n",
    "        return False\n",
    "\n",
    "mein_schiff = Raumschiff(\"Rocinante\")\n",
    "eine_sonde = Sonde()\n",
    "\n",
    "andock_erlaubnis_pruefen(mein_schiff)\n",
    "andock_erlaubnis_pruefen(eine_sonde)"
   ]
  },
  {
   "cell_type": "code",
   "execution_count": null,
   "id": "c973f0c4",
   "metadata": {},
   "outputs": [],
   "source": []
  },
  {
   "cell_type": "code",
   "execution_count": null,
   "id": "3fafaf62",
   "metadata": {},
   "outputs": [],
   "source": []
  },
  {
   "cell_type": "code",
   "execution_count": null,
   "id": "a346fe1a",
   "metadata": {},
   "outputs": [],
   "source": []
  },
  {
   "cell_type": "markdown",
   "id": "a34c99c9",
   "metadata": {},
   "source": [
    "---\n",
    "### DYI\n",
    "\n",
    "Erweitern Sie nun Ihr Smart-Grid-Projekt:\n",
    "1.  Fügen Sie Ihrer `Energieerzeuger`-Klasse ein Klassenattribut `NETZ_FREQUENZ` mit dem Wert `50` (für 50 Hz) hinzu. Geben Sie es in der `__str__`-Methode mit aus.\n",
    "2.  Schreiben Sie eine externe Funktion `komponente_ans_netz_anschliessen(komponente)`. Diese Funktion soll mit `isinstance()` prüfen, ob das übergebene Objekt ein `Energieerzeuger` ist. Geben Sie je nach Ergebnis eine passende Erfolgs- oder Fehlermeldung aus."
   ]
  },
  {
   "cell_type": "markdown",
   "id": "ce09f450",
   "metadata": {},
   "source": []
  }
 ],
 "metadata": {
  "kernelspec": {
   "display_name": "3.13.3",
   "language": "python",
   "name": "python3"
  },
  "language_info": {
   "codemirror_mode": {
    "name": "ipython",
    "version": 3
   },
   "file_extension": ".py",
   "mimetype": "text/x-python",
   "name": "python",
   "nbconvert_exporter": "python",
   "pygments_lexer": "ipython3",
   "version": "3.13.3"
  }
 },
 "nbformat": 4,
 "nbformat_minor": 5
}
