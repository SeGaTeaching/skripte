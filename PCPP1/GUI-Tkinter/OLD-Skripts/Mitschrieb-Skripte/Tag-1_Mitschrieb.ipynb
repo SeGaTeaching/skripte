{
 "cells": [
  {
   "cell_type": "code",
   "execution_count": 1,
   "id": "1f4664b1-4ba6-4a14-982e-b654acb440d7",
   "metadata": {},
   "outputs": [],
   "source": [
    "import tkinter as tk"
   ]
  },
  {
   "cell_type": "markdown",
   "id": "baa0938e-0a44-4b26-b8d4-f726433a50f8",
   "metadata": {},
   "source": [
    "## Aufsetzen eines TkInter Fensters\n",
    "- Fenster initialisieren\n",
    "- Titel des Fensters setzen\n",
    "- Fenstergröße setzen\n",
    "- Erstes Widget - Label - initialisiert und eingefügt\n",
    "- Haupschleife um Fenster offen zu halten"
   ]
  },
  {
   "cell_type": "code",
   "execution_count": 18,
   "id": "10e86d54-07bd-4496-bc9f-b5142436ba04",
   "metadata": {},
   "outputs": [],
   "source": [
    "root = tk.Tk()\n",
    "root.title('Intro')\n",
    "root.geometry(\"600x400\")\n",
    "\n",
    "label = tk.Label(root, text=\"Hallo Welt!\", background=\"red\")\n",
    "label.pack()\n",
    "\n",
    "root.mainloop()"
   ]
  },
  {
   "cell_type": "markdown",
   "id": "ebee5c33-dabb-496e-b02a-9be0c11fe845",
   "metadata": {},
   "source": [
    "## Erste Schritte mit Button und dynamischen Inhalt\n",
    "- Fenster aufgebaut und Hauptschleife initialisiert\n",
    "- Widgets eingebaut\n",
    "- Button Event ändert Titel und Label der TkInter App mit Inhalt aus dem Entry-Field"
   ]
  },
  {
   "cell_type": "code",
   "execution_count": 3,
   "id": "9bb18d36-903f-468c-baec-f22fd489af48",
   "metadata": {},
   "outputs": [],
   "source": [
    "root = tk.Tk()\n",
    "root.title('Intro')\n",
    "root.geometry(\"600x400\")\n",
    "\n",
    "# Variablen\n",
    "catch_entry = tk.StringVar()\n",
    "\n",
    "def greeting():\n",
    "    root.title(catch_entry.get()) # Ändert den Titel des Fensters\n",
    "    #label.configure(text=f'Hallo {catch_entry.get()}', background=\"green\") # Ändert den 'Label' Text -> Version 1 (zur Änderung von mehreren Attributen)\n",
    "    label[\"text\"] = f'Salute {catch_entry.get()}' # Ändert den 'Label' Text -> Version 2 (Änderung von einem Attribut)\n",
    "    label['background'] = \"blue\"\n",
    "\n",
    "# Name Label\n",
    "label = tk.Label(root, text=\"Hallo Welt!\", background=\"red\")\n",
    "label.pack()\n",
    "\n",
    "# Entry Widget für Namen\n",
    "entry = tk.Entry(root, width=20, textvariable=catch_entry)\n",
    "entry.pack()\n",
    "entry.focus_set()\n",
    "\n",
    "\n",
    "\n",
    "# Button um Titel und Labe zu ändern\n",
    "button = tk.Button(root, text=\"Klick mich\", command=greeting)\n",
    "button.pack()\n",
    "\n",
    "root.mainloop()"
   ]
  },
  {
   "cell_type": "markdown",
   "id": "daf1900f-8f84-4751-82a3-67106ecec56c",
   "metadata": {},
   "source": [
    "## komplett Verwirrung mit ttk.Widgets"
   ]
  },
  {
   "cell_type": "code",
   "execution_count": 4,
   "id": "30959c65-7096-465b-b4ae-a9aff7f5eb76",
   "metadata": {},
   "outputs": [],
   "source": [
    "from tkinter import ttk"
   ]
  },
  {
   "cell_type": "code",
   "execution_count": 11,
   "id": "017b3c44-b833-40cd-9f73-54331bd761f1",
   "metadata": {},
   "outputs": [],
   "source": [
    "root = tk.Tk()\n",
    "root.title('tk Widget vs ttk Widget')\n",
    "root.geometry(\"600x400\")\n",
    "\n",
    "# tk.Label erstellen\n",
    "tk_label = tk.Label(root, text=\"Dies ist ein tk.Label\", bg=\"lightblue\", fg=\"black\")\n",
    "tk_label.pack(pady=10)\n",
    "\n",
    "# ttk.Label erstellen\n",
    "ttk_label = ttk.Label(root, text=\"Dies ist ein ttk.Label\", background='orange')\n",
    "ttk_label.pack(pady=10)\n",
    "\n",
    "old_button = tk.Button(root, text=\"Old school Button\", bg=\"green\")\n",
    "old_button.pack(pady=10)\n",
    "\n",
    "fancy_button = ttk.Button(root, text=\"Fancy Button\")\n",
    "fancy_button.pack(pady=10)\n",
    "\n",
    "root.mainloop()"
   ]
  },
  {
   "cell_type": "markdown",
   "id": "659714e6-4e7a-4e19-b954-ea03043c3030",
   "metadata": {},
   "source": [
    "## Layout Optionen mittels der `pack()` Methode"
   ]
  },
  {
   "cell_type": "code",
   "execution_count": 38,
   "id": "12cbb55e-97d1-46a6-8292-c332ade16d83",
   "metadata": {},
   "outputs": [],
   "source": [
    "root = tk.Tk()\n",
    "root.geometry(\"600x400\")\n",
    "\n",
    "rectangle_1 = tk.Label(root, text=\"Rectangle 1\", bg=\"green\", fg=\"white\") \n",
    "rectangle_1.pack(side=\"top\", fill=\"both\", expand=True)\n",
    "\n",
    "rectangle_2 = tk.Label(root, text=\"Rectangle 2\", bg=\"red\", fg=\"white\")\n",
    "rectangle_2.pack(side=\"top\", fill=\"both\", expand=True)\n",
    "\n",
    "rectangle_3 = tk.Label(root, text=\"Rectangle 3\", bg=\"black\", fg=\"white\")\n",
    "rectangle_3.pack(side=\"top\", fill=\"both\", expand=True)\n",
    "\n",
    "rectangle_4 = tk.Label(root, text=\"Rectangle 4\", bg=\"brown\", fg=\"white\")\n",
    "rectangle_4.pack(side=\"top\", fill=\"both\", expand=True)\n",
    "\n",
    "root.mainloop()"
   ]
  },
  {
   "cell_type": "markdown",
   "id": "c32d529c-654d-4983-923b-57d46e5cb64b",
   "metadata": {},
   "source": [
    "### Frames kommen ins Spiel"
   ]
  },
  {
   "cell_type": "code",
   "execution_count": 47,
   "id": "88108959-1514-446b-a4ef-6503cc6fc70a",
   "metadata": {},
   "outputs": [],
   "source": [
    "import tkinter as tk\n",
    "from tkinter import ttk\n",
    "\n",
    "root = tk.Tk()\n",
    "\n",
    "frame_1 = ttk.Frame(root)\n",
    "frame_1.pack(side=\"left\", fill=\"both\", expand=True)\n",
    "\n",
    "frame_2 = ttk.Frame(root)\n",
    "frame_2.pack(side=\"left\", fill=\"both\", expand=True)\n",
    "\n",
    "tk.Label(root, text=\"Widget 1\", bg=\"red\").pack(side=\"top\", expand=True, fill=\"both\")\n",
    "tk.Label(root, text=\"Widget 2\", bg=\"blue\").pack(side=\"left\", expand=True, fill=\"both\")\n",
    "tk.Label(root, text=\"Widget 3\", bg=\"green\").pack(side=\"top\", expand=True, fill=\"both\")\n",
    "tk.Label(root, text=\"Widget 4\", bg=\"violet\").pack(side=\"left\", expand=True, fill=\"both\")\n",
    "\n",
    "root.mainloop()"
   ]
  },
  {
   "cell_type": "code",
   "execution_count": 2,
   "id": "fd9be3ab-6015-48a8-8198-780d44a6e768",
   "metadata": {},
   "outputs": [
    {
     "name": "stdout",
     "output_type": "stream",
     "text": [
      "Python 3.12.8\n"
     ]
    }
   ],
   "source": [
    "!python --version"
   ]
  },
  {
   "cell_type": "code",
   "execution_count": null,
   "id": "2132abb2-8384-4ba9-bb2f-e41145169965",
   "metadata": {},
   "outputs": [],
   "source": []
  }
 ],
 "metadata": {
  "kernelspec": {
   "display_name": "Python 3 (ipykernel)",
   "language": "python",
   "name": "python3"
  },
  "language_info": {
   "codemirror_mode": {
    "name": "ipython",
    "version": 3
   },
   "file_extension": ".py",
   "mimetype": "text/x-python",
   "name": "python",
   "nbconvert_exporter": "python",
   "pygments_lexer": "ipython3",
   "version": "3.12.8"
  }
 },
 "nbformat": 4,
 "nbformat_minor": 5
}
