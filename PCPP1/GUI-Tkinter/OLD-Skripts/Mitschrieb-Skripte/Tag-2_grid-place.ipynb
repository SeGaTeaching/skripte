{
 "cells": [
  {
   "cell_type": "markdown",
   "id": "d3014837-c9d5-46fb-aa03-ca06466548f5",
   "metadata": {},
   "source": [
    "# Grid und Place Layouts in Tkinter"
   ]
  },
  {
   "cell_type": "markdown",
   "id": "da43b2fb-7774-4c17-89f2-53c687eb5e11",
   "metadata": {},
   "source": [
    "## Grid"
   ]
  },
  {
   "cell_type": "markdown",
   "id": "bfa33b53-b73b-4bbd-b6cf-6225f31b15e1",
   "metadata": {},
   "source": [
    "### Grid Layout Struktur anlegen und dynamisch wachsen lassen"
   ]
  },
  {
   "cell_type": "code",
   "execution_count": 1,
   "id": "cf5b7c51-4068-4ee2-8d74-57f088f47d42",
   "metadata": {},
   "outputs": [],
   "source": [
    "import tkinter as tk\n",
    "from tkinter import ttk"
   ]
  },
  {
   "cell_type": "code",
   "execution_count": null,
   "id": "7ea6b15d-8f98-442f-8ad9-e1cb27f34a89",
   "metadata": {},
   "outputs": [],
   "source": [
    "window = tk.Tk()\n",
    "\n",
    "# mit rowconfigure in Verbindung mit 'weight=1' wächst die Zeile mit in der Höhe, wenn das Fenster größer wird\n",
    "window.rowconfigure((0,1), weight=1)\n",
    "# mit columnconfigure in Verbindung mit `weight=1' wächst die Spalte in der Breite mit, wenn das Fenster größer wird\n",
    "window.columnconfigure((0,1), weight=1)\n",
    "\n",
    "label1 = tk.Label(window, text='Zeile 1, Spalte 1', bg='lightblue', fg='black', width=15)\n",
    "label1.grid(row=0, column=0)\n",
    "\n",
    "label2 = tk.Label(window, text='Zeile 1, Spalte 2', bg='lightgreen', fg='black', width=15)\n",
    "label2.grid(row=0, column=1)\n",
    "\n",
    "label3 = tk.Label(window, text='Zeile 2, Spalte 1', bg='lightyellow', fg='black', width=15)\n",
    "label3.grid(row=1, column=0)\n",
    "\n",
    "label4 = tk.Label(window, text='Zeile 2, Spalte 2', bg='lightpink', fg='black', width=15)\n",
    "label4.grid(row=1, column=1)\n",
    "\n",
    "\n",
    "window.mainloop()"
   ]
  },
  {
   "cell_type": "markdown",
   "id": "dcc22d8c-017b-427b-9ac8-f4fd65b20314",
   "metadata": {},
   "source": [
    "### Zellen Layout"
   ]
  },
  {
   "cell_type": "code",
   "execution_count": 14,
   "id": "c64e472e-9d74-418f-afaf-d8c368da66b4",
   "metadata": {},
   "outputs": [],
   "source": [
    "window = tk.Tk()\n",
    "\n",
    "window.rowconfigure(0, weight=0)\n",
    "window.rowconfigure(1, weight=1)\n",
    "window.rowconfigure(2, weight=2)\n",
    "\n",
    "window.columnconfigure(0, weight=1)\n",
    "window.columnconfigure(1, weight=2)\n",
    "\n",
    "label1 = tk.Label(window, text='Zeile 1, Spalte 1', bg='lightblue', fg='black', width=15)\n",
    "label1.grid(row=0, column=0, sticky=\"WENS\")\n",
    "\n",
    "label2 = tk.Label(window, text='Zeile 1, Spalte 2', bg='lightgreen', fg='black', width=15)\n",
    "label2.grid(row=0, column=1, sticky=\"WENS\")\n",
    "\n",
    "label3 = tk.Label(window, text='Zeile 2, Spalte 1', bg='lightyellow', fg='black', width=15)\n",
    "label3.grid(row=1, column=0, sticky=\"WENS\")\n",
    "\n",
    "label4 = tk.Label(window, text='Zeile 2, Spalte 2', bg='lightpink', fg='black', width=15)\n",
    "label4.grid(row=1, column=1, sticky=\"WENS\")\n",
    "\n",
    "label5 = tk.Label(window, text='Zeile 3, Spalte 1', bg='brown', fg='white', width=15)\n",
    "label5.grid(row=2, column=0, sticky=\"WENS\")\n",
    "\n",
    "label6 = tk.Label(window, text='Zeile 3, Spalte 2', bg='purple', fg='white', width=15)\n",
    "label6.grid(row=2, column=1, sticky=\"WENS\")\n",
    "\n",
    "window.mainloop()"
   ]
  },
  {
   "cell_type": "markdown",
   "id": "ba0fc2c0-bf7c-40b4-a760-7110428c0451",
   "metadata": {},
   "source": [
    "### Zellen Content innerhalb der Zelle verschieben"
   ]
  },
  {
   "cell_type": "code",
   "execution_count": 22,
   "id": "317e4d8c-ee0d-47d5-8c75-8aa4912a201c",
   "metadata": {},
   "outputs": [],
   "source": [
    "window = tk.Tk()\n",
    "\n",
    "window.rowconfigure((0,1), weight=1)\n",
    "window.columnconfigure((0,1), weight=1)\n",
    "\n",
    "label1 = tk.Label(window, text='Zeile 1, Spalte 1', bg='lightblue', fg='black', width=15)\n",
    "label1.grid(row=0, column=0, sticky=\"NNW\")\n",
    "\n",
    "label2 = tk.Label(window, text='Zeile 1, Spalte 2', bg='lightgreen', fg='black', width=15)\n",
    "label2.grid(row=0, column=1, sticky=\"NNE\")\n",
    "\n",
    "label3 = tk.Label(window, text='Zeile 2, Spalte 1', bg='lightyellow', fg='black', width=15)\n",
    "label3.grid(row=1, column=0, sticky=\"SSW\")\n",
    "\n",
    "label4 = tk.Label(window, text='Zeile 2, Spalte 2', bg='lightpink', fg='black', width=15)\n",
    "label4.grid(row=1, column=1, sticky=\"SSE\")\n",
    "\n",
    "window.mainloop()"
   ]
  },
  {
   "cell_type": "code",
   "execution_count": 23,
   "id": "5f5e8338-8438-4f80-b572-3fea62fa4281",
   "metadata": {},
   "outputs": [],
   "source": [
    "window = tk.Tk()\n",
    "\n",
    "window.rowconfigure((0,1), weight=1)\n",
    "window.columnconfigure((0,1), weight=1)\n",
    "\n",
    "label5 = tk.Label(window, text='Zeile 1, Spalte 1', bg='brown', fg='white', width=15)\n",
    "label5.grid(row=0, column=0, sticky=\"N\")\n",
    "\n",
    "label6 = tk.Label(window, text='Zeile 1, Spalte 2', bg='purple', fg='white', width=15)\n",
    "label6.grid(row=0, column=1, sticky=\"S\")\n",
    "\n",
    "label7 = tk.Label(window, text='Zeile 2, Spalte 1', bg='green', fg='white', width=15)\n",
    "label7.grid(row=1, column=0, sticky=\"W\")\n",
    "\n",
    "label8 = tk.Label(window, text='Zeile 2, Spalte 2', bg='blue', fg='white', width=15)\n",
    "label8.grid(row=1, column=1, sticky=\"E\")\n",
    "\n",
    "window.mainloop()"
   ]
  },
  {
   "cell_type": "markdown",
   "id": "a26f9c99-692f-4b6c-8df8-df2d6c079e18",
   "metadata": {},
   "source": [
    "### Zellen überspannen"
   ]
  },
  {
   "cell_type": "code",
   "execution_count": 37,
   "id": "f0530c33-8c22-4929-8e34-2060daf19223",
   "metadata": {},
   "outputs": [],
   "source": [
    "window = tk.Tk()\n",
    "\n",
    "window.rowconfigure((0,1), weight=1)\n",
    "window.columnconfigure((0,1,2), weight=1)\n",
    "\n",
    "label5 = tk.Label(window, text='Zeile 1 + 2, Spalte 1', bg='brown', fg='white', width=15)\n",
    "label5.grid(row=0, column=0, sticky=\"SNWE\", rowspan=2)\n",
    "\n",
    "label6 = tk.Label(window, text='Zeile 1, Spalte 2', bg='purple', fg='white', width=15)\n",
    "label6.grid(row=0, column=1, sticky=\"SNEW\")\n",
    "\n",
    "label7 = tk.Label(window, text='Zeile 1, Spalte 3', bg='green', fg='white', width=15)\n",
    "label7.grid(row=0, column=2, sticky=\"SNWE\")\n",
    "\n",
    "label8 = tk.Label(window, text='Zeile 2, Spalte 2 + 3', bg='blue', fg='white', width=15)\n",
    "label8.grid(row=1, column=1, sticky=\"SNWE\", columnspan=2)\n",
    "\n",
    "window.mainloop()"
   ]
  },
  {
   "cell_type": "markdown",
   "id": "760b57ad-1b4a-48d1-998d-96172e3b27f1",
   "metadata": {},
   "source": [
    "## Place Layout (absolute und relative Positionierung im Fenster)"
   ]
  },
  {
   "cell_type": "code",
   "execution_count": 29,
   "id": "1ac2f7ab-ccf6-47de-bc88-33ba4bd8879e",
   "metadata": {},
   "outputs": [],
   "source": [
    "root = tk.Tk()\n",
    "root.title(\"Place Positionierung\")\n",
    "root.geometry(\"500x350\")\n",
    "\n",
    "# Button mit absoluter Positionierung\n",
    "button = tk.Button(root, text=\"Click Me\")\n",
    "button.place(x=50, y=20) # Absolut positioniert\n",
    "\n",
    "button2 = tk.Button(root, text=\"Click Me 2\")\n",
    "button2.place(x=150, y=40)\n",
    "\n",
    "root.mainloop()"
   ]
  },
  {
   "cell_type": "code",
   "execution_count": 32,
   "id": "10ccd8ac-9205-4850-bcf1-328c8a7f4028",
   "metadata": {},
   "outputs": [],
   "source": [
    "root = tk.Tk()\n",
    "root.title(\"Place Positionierung\")\n",
    "root.geometry(\"500x350\")\n",
    "\n",
    "# Button mit relative Positionierung\n",
    "button = tk.Button(root, text=\"Click Me\")\n",
    "button.place(relx=0.5, rely=0.5, anchor=\"center\") # Relativ positioniert\n",
    "\n",
    "root.mainloop()"
   ]
  },
  {
   "cell_type": "code",
   "execution_count": 36,
   "id": "fb3dac2c-fe82-45ab-98f4-62a5ec7713af",
   "metadata": {},
   "outputs": [],
   "source": [
    "root = tk.Tk()\n",
    "root.title(\"Place Positionierung\")\n",
    "root.geometry(\"500x350\")\n",
    "\n",
    "# Button mit relative Positionierung\n",
    "button = tk.Button(root, text=\"Click Me\")\n",
    "button.place(relx=0.2, rely=0.2, width=100, height=60) # Relativ positioniert und absolut skaliert\n",
    "\n",
    "button2 = tk.Button(root, text=\"Click Me 2\")\n",
    "button2.place(relx=0.5, rely=0.2, relwidth=0.2, height=50) # Relativ positioniert und relativ skaliert\n",
    "\n",
    "root.mainloop()"
   ]
  },
  {
   "cell_type": "markdown",
   "id": "bfac7ba0-9307-49e8-ab71-c52176763537",
   "metadata": {},
   "source": [
    "## Playground - Mix of Widget Placements"
   ]
  },
  {
   "cell_type": "code",
   "execution_count": 7,
   "id": "f35de8cf-03c4-4a7f-8520-3e71a44bcb22",
   "metadata": {},
   "outputs": [],
   "source": [
    "window = tk.Tk()\n",
    "window.title(\"Grid + Pack or Place\")\n",
    "\n",
    "window.rowconfigure((0,1), weight=1)\n",
    "window.columnconfigure((0,1,2), weight=1)\n",
    "\n",
    "# Frame\n",
    "container = ttk.Frame(window)\n",
    "container.grid(row=0, column=2, rowspan=2, sticky=\"SWEN\")\n",
    "\n",
    "label1 = tk.Label(window, text='Widget 1', bg='lightblue', fg='black', width=15)\n",
    "label1.grid(row=0, column=0, sticky=\"SNWE\")\n",
    "\n",
    "label2 = tk.Label(window, text='Widget 2', bg='lightgreen', fg='black', width=15)\n",
    "label2.grid(row=0, column=1, sticky=\"SNWE\")\n",
    "\n",
    "label3 = tk.Label(window, text='Widget 3', bg='lightyellow', fg='black', width=15)\n",
    "label3.grid(row=1, column=0, sticky=\"SWNE\")\n",
    "\n",
    "label4 = tk.Label(window, text='Widget 4', bg='blue', fg='white', width=15)\n",
    "label4.grid(row=1, column=1, sticky=\"SNEW\")\n",
    "\n",
    "button1 = tk.Button(container, text=\"Button 1\")\n",
    "button1.pack(side='left')\n",
    "\n",
    "button2 = tk.Button(container, text=\"Button 2\")\n",
    "button2.place(relx=0.5, rely=0.5, anchor=\"center\")\n",
    "\n",
    "window.mainloop()"
   ]
  },
  {
   "cell_type": "code",
   "execution_count": null,
   "id": "1f22ce93-5ade-430e-aa0a-8e56f2c52ea3",
   "metadata": {},
   "outputs": [],
   "source": []
  }
 ],
 "metadata": {
  "kernelspec": {
   "display_name": "Python 3 (ipykernel)",
   "language": "python",
   "name": "python3"
  },
  "language_info": {
   "codemirror_mode": {
    "name": "ipython",
    "version": 3
   },
   "file_extension": ".py",
   "mimetype": "text/x-python",
   "name": "python",
   "nbconvert_exporter": "python",
   "pygments_lexer": "ipython3",
   "version": "3.12.8"
  }
 },
 "nbformat": 4,
 "nbformat_minor": 5
}
