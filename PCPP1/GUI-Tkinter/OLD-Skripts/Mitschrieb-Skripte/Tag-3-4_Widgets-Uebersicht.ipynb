{
 "cells": [
  {
   "cell_type": "markdown",
   "id": "b122e5a8-8ba7-4b7a-bb4c-ef18ffda0340",
   "metadata": {},
   "source": [
    "# Tkinter Widgets Übersicht"
   ]
  },
  {
   "cell_type": "markdown",
   "id": "cbf88d92-1f62-49c5-ab45-13052dfb98c3",
   "metadata": {},
   "source": [
    "## Unterschiede zwischen `tk.Widgets` und `ttk.Widgets`\n",
    "\n",
    "| **Aspekt**           | **`tk.Widget` (klassische Tkinter-Widgets)**                     | **`ttk.Widget` (Themed Widgets)**                               |\n",
    "|-----------------------|------------------------------------------------------------------|------------------------------------------------------------------|\n",
    "| **Optik**            | Standard-Styling, wirkt altmodisch                               | Modernes, plattformabhängiges Styling                           |\n",
    "| **Farben (fg/bg)**    | Direkt anpassbar, z. B. `fg=\"red\"`, `bg=\"yellow\"`               | Begrenzte direkte Anpassung, nur per `ttk.Style`                |\n",
    "| **Stile/Themes**      | Kein Theme-Support                                              | Unterstützt Themes über `ttk.Style()`                          |\n",
    "| **Performance**       | Geringfügig schneller                                           | Minimal langsamer durch Theme-Rendering                        |\n",
    "| **Fokus-Verhalten**   | Standardmäßig nimmt jedes Widget Fokus                          | Besseres Verhalten: Fokus nur bei Bedarf                       |\n",
    "| **Verfügbarkeit**     | Alle klassischen Widgets verfügbar                              | Eingeschränkte Auswahl an Widgets                              |\n",
    "| **Benutzererfahrung** | Einfach, aber optisch weniger ansprechend                       | Moderner Look und bessere Benutzererfahrung                    |\n",
    "| **Flexibilität**      | Direktes Styling über Widget-Attribute                          | Styling durch zentrale Style-Objekte                           |\n",
    "| **Beispiel-Widgets**  | `Label`, `Button`, `Entry`, `Text`                              | `ttk.Label`, `ttk.Button`, `ttk.Entry`                         |"
   ]
  },
  {
   "cell_type": "markdown",
   "id": "c1928021-ecdd-4433-85d4-1b2635c85713",
   "metadata": {},
   "source": [
    "## Label Widget\n",
    "### Attribute\n",
    "\n",
    "| **Attribut**       | **Beschreibung**                                                                 | **Werte (Default hervorgehoben)**                                     | **Beispielcode**                                         |\n",
    "|--------------------|----------------------------------------------------------------------------------|------------------------------------------------------------------------|----------------------------------------------------------|\n",
    "| `text`             | Der anzuzeigende statische Text.                                                | Beliebiger Text, Default: `\"\"`                                         | `ttk.Label(root, text=\"Hallo Welt\")`                    |\n",
    "| `textvariable`     | Variable, deren Inhalt automatisch angezeigt wird.                              | `tk.StringVar()`-Objekt, Default: `None`                               | `ttk.Label(root, textvariable=var)`                     |\n",
    "| `image`            | Zeigt ein Bild im Label an.                                                     | `tk.PhotoImage()`-Objekt, Default: `None`                              | `ttk.Label(root, image=img)`                            |\n",
    "| `compound`         | Position des Textes relativ zum Bild.                                           | `\"none\"`, `\"top\"`, `\"bottom\"`, `\"left\"`, `\"right\"`, `\"center\"`, Default: `\"none\"` | `ttk.Label(root, text=\"Bild\", image=img, compound=\"left\")` |\n",
    "| `font`             | Die Schriftart des Textes.                                                     | `(\"Schriftart\", Größe, \"Stil\")`, Default: System-Standard              | `ttk.Label(root, font=(\"Helvetica\", 12))`               |\n",
    "| `foreground`       | Textfarbe des Labels.                                                          | Farbname oder Hex-Code, Default: System-Theme                          | `ttk.Label(root, foreground=\"blue\")`                    |\n",
    "| `background`       | Hintergrundfarbe (nur über `Style` änderbar bei `ttk.Label`).                   | Farbname oder Hex-Code, Default: System-Theme                          | `style.configure(\"TLabel\", background=\"yellow\")`        |\n",
    "| `padding`          | Innenabstand zwischen Rahmen und Inhalt.                                       | Ganze Zahl oder `(x, y)`-Tupel, Default: `0`                           | `ttk.Label(root, text=\"Test\", padding=10)`              |\n",
    "| `width`            | Breite des Labels in Zeichen.                                                  | Ganze Zahl, Default: je nach Inhalt                                    | `ttk.Label(root, width=20)`                             |\n",
    "| `anchor`           | Ausrichtung des Inhalts innerhalb des Widgets.                                 | `\"n\"`, `\"ne\"`, `\"e\"`, `\"se\"`, `\"s\"`, `\"sw\"`, `\"w\"`, `\"nw\"`, `\"center\"`, Default: `\"center\"` | `ttk.Label(root, anchor=\"w\")` |\n",
    "| `justify`          | Ausrichtung von mehrzeiligem Text.                                             | `\"left\"`, `\"center\"`, `\"right\"`, Default: `\"center\"`                   | `ttk.Label(root, justify=\"left\")`                       |\n",
    "| `style`            | Stil des Widgets, definiert über `ttk.Style`.                                  | Stil-Name als String, Default: `\"\"`                                    | `ttk.Label(root, style=\"My.TLabel\")`                    |\n",
    "| `cursor`           | Mauszeiger, der angezeigt wird, wenn er über dem Widget ist.                   | `\"arrow\"`, `\"hand2\"`, `\"circle\"`, etc., Default: `None`                | `ttk.Label(root, cursor=\"hand2\")`                       |\n",
    "| `state`            | Aktiviert oder deaktiviert das Widget.                                         | `\"normal\"`, `\"disabled\"`, `\"active\"`, Default: `\"normal\"`              | `ttk.Label(root, state=\"disabled\")`                     |\n",
    "| `class`            | Definiert die Widget-Klasse für Tkinter-Styling.                               | String, Default: `\"TLabel\"`                                            | `ttk.Label(root, class_=\"MyLabel\")`                     |\n",
    "| `relief`           | Rahmen-Stil des Widgets (eingeschränkt bei `ttk.Label`).                       | `\"flat\"`, `\"raised\"`, `\"sunken\"`, `\"groove\"`, `\"ridge\"`, Default: `\"flat\"` | `ttk.Label(root, relief=\"flat\")`                      |"
   ]
  },
  {
   "cell_type": "code",
   "execution_count": 1,
   "id": "fd0cf302-4b38-4b1e-83f7-0c9aee96a111",
   "metadata": {},
   "outputs": [
    {
     "name": "stderr",
     "output_type": "stream",
     "text": [
      "2025-01-13 09:12:26.466 python[2026:92472] +[IMKClient subclass]: chose IMKClient_Modern\n",
      "2025-01-13 09:12:28.995 python[2026:92472] +[IMKInputSession subclass]: chose IMKInputSession_Modern\n"
     ]
    }
   ],
   "source": [
    "import tkinter as tk\n",
    "\n",
    "def change_font():\n",
    "    label.config(font=(\"Times New Roman\", 30, \"italic\"))\n",
    "\n",
    "root = tk.Tk()\n",
    "root.title('Label Example')\n",
    "\n",
    "label = tk.Label(root, text='Hello World', padx=20, pady=20, bg='lightgreen', font=('Helvetica', 20))\n",
    "label.pack()\n",
    "\n",
    "button = tk.Button(root, text='Change Font', command=change_font)\n",
    "button.pack(pady=20)\n",
    "\n",
    "root.mainloop()"
   ]
  },
  {
   "cell_type": "code",
   "execution_count": 1,
   "id": "3c3902c5-1e53-44e0-9b79-e87ec94767c2",
   "metadata": {},
   "outputs": [
    {
     "name": "stderr",
     "output_type": "stream",
     "text": [
      "2025-01-13 09:21:39.413 python[2138:113999] +[IMKClient subclass]: chose IMKClient_Modern\n",
      "2025-01-13 09:21:41.957 python[2138:113999] +[IMKInputSession subclass]: chose IMKInputSession_Modern\n"
     ]
    }
   ],
   "source": [
    "import tkinter as tk\n",
    "from tkinter import ttk\n",
    "\n",
    "root = tk.Tk()\n",
    "root.geometry(\"400x300\")\n",
    "\n",
    "label1 = tk.Label(root, text=\"tk Label\", bg='green', anchor=\"se\")\n",
    "label2 = ttk.Label(root ,text=\"ttk Label\", background='blue')\n",
    "\n",
    "label1.place(relx=0.5, rely=0.5)\n",
    "\n",
    "root.mainloop()"
   ]
  },
  {
   "cell_type": "markdown",
   "id": "cf7354c6-6bfa-41c9-8654-86b21052f564",
   "metadata": {},
   "source": [
    "### Label-Methoden\n",
    "| **Name**            | **Parameter**                                           | **Beschreibung**                                                     | **Beispiel**                                                                                  |\n",
    "|----------------------|--------------------------------------------------------|-----------------------------------------------------------------------|----------------------------------------------------------------------------------------------|\n",
    "| `configure`         | `**options`                                            | Ändert die Eigenschaften des Labels wie Text, Farbe etc.             | `label.configure(text=\"Neuer Text\", bg=\"blue\")`                                             |\n",
    "| `cget`              | `option`                                               | Gibt den aktuellen Wert einer Option zurück.                         | `label.cget(\"text\")`                                                                        |\n",
    "| `bind`              | `event, callback=None`                                 | Bindet ein Event an eine Callback-Funktion.                          | `label.bind(\"<Enter>\", callback)`                                                           |\n",
    "| `unbind`            | `event`                                                | Hebt die Bindung eines Events auf.                                   | `label.unbind(\"<Enter>\")`                                                                   |\n"
   ]
  },
  {
   "cell_type": "code",
   "execution_count": 6,
   "id": "dd50d681-14c7-4f65-9b9f-c7805ea3c309",
   "metadata": {},
   "outputs": [],
   "source": [
    "import tkinter as tk\n",
    "\n",
    "def add_text():\n",
    "    label['textvariable'] = greeting\n",
    "    greeting.set(entry_input.get())\n",
    "\n",
    "root = tk.Tk()\n",
    "root.title('Label Example')\n",
    "\n",
    "greeting = tk.StringVar()\n",
    "entry_input = tk.StringVar()\n",
    "\n",
    "label = tk.Label(root, padx=20, pady=20, text=\"Ich bin ein Test\", bg='lightgreen', font=('Helvetica', 20))\n",
    "#label['textvariable'] = greeting\n",
    "#greeting.set('Hallo Du Gummischuh')\n",
    "label.pack()\n",
    "\n",
    "entry = tk.Entry(root, width=20, textvariable=entry_input).pack()\n",
    "\n",
    "tk.Button(root, text='Add Text', command=add_text).pack()\n",
    "\n",
    "\n",
    "root.mainloop()"
   ]
  },
  {
   "cell_type": "code",
   "execution_count": 9,
   "id": "fed82acd-3943-4c05-8f03-45e8dc944a5b",
   "metadata": {},
   "outputs": [
    {
     "name": "stdout",
     "output_type": "stream",
     "text": [
      "lightgreen\n"
     ]
    }
   ],
   "source": [
    "import tkinter as tk\n",
    "\n",
    "def show_text():\n",
    "    print(f'{label.cget(\"bg\")}')\n",
    "\n",
    "root = tk.Tk()\n",
    "root.title('Label Example 2')\n",
    "\n",
    "label = tk.Label(root, padx=20, pady=20, text=\"Ich bin ein Test\", bg='lightgreen', font=('Helvetica', 20))\n",
    "label.pack()\n",
    "\n",
    "tk.Button(root, text='Add Text', command=show_text).pack()\n",
    "\n",
    "\n",
    "root.mainloop()"
   ]
  },
  {
   "cell_type": "markdown",
   "id": "bf67430d-1c1b-431e-b765-61940827214d",
   "metadata": {},
   "source": [
    "## Entry Widget\n",
    "\n",
    "### Attribute\n",
    "| **Attribut**        | **Beschreibung**                                                               | **Werte (Default hervorgehoben)**                                | **Beispielcode**                            |\n",
    "|----------------------|-------------------------------------------------------------------------------|------------------------------------------------------------------|---------------------------------------------|\n",
    "| `textvariable`       | Variable, deren Inhalt automatisch angezeigt und aktualisiert wird.          | `tk.StringVar()`-Objekt, Default: **None**                      | `entry = tk.Entry(root, textvariable=var)`  |\n",
    "| `font`              | Schriftart des eingegebenen Textes.                                           | `\"Schriftart\", Größe, Stil`, Default: **System-Standard**        | `entry = tk.Entry(root, font=(\"Helvetica\", 12))` |\n",
    "| `foreground (fg)`    | Textfarbe des Widgets.                                                       | Farbname oder Hex-Code, Default: **System-Theme**               | `entry = tk.Entry(root, fg=\"blue\")`         |\n",
    "| `background (bg)`    | Hintergrundfarbe des Widgets (nur bei nicht-ttk.Entry).                      | Farbname oder Hex-Code, Default: **System-Theme**               | `entry = tk.Entry(root, bg=\"yellow\")`       |\n",
    "| `justify`            | Textausrichtung innerhalb des Eingabefeldes.                                 | `\"left\"`, `\"center\"`, `\"right\"`, Default: **\"left\"**            | `entry = tk.Entry(root, justify=\"center\")`  |\n",
    "| `show`               | Ersetzt den angezeigten Text durch ein anderes Zeichen (z. B. `*` für Passwörter). | Beliebiges Zeichen, Default: **None**                          | `entry = tk.Entry(root, show=\"*\")`          |\n",
    "| `width`              | Breite des Widgets in Zeichen.                                               | Ganze Zahl, Default: **je nach Inhalt**                         | `entry = tk.Entry(root, width=20)`          |\n",
    "| `state`              | Aktiviert oder deaktiviert das Widget.                                       | `\"normal\"`, `\"disabled\"`, `\"readonly\"`, Default: **\"normal\"**   | `entry = tk.Entry(root, state=\"disabled\")`  |\n",
    "| `validate`           | Validierungsmodus (aktiviert die Prüfung der Eingabe).                       | `\"none\"`, `\"focus\"`, `\"key\"`, `\"all\"`, Default: **\"none\"**      | `entry = tk.Entry(root, validate=\"key\")`    |\n",
    "| `validatecommand`    | Funktion, die aufgerufen wird, um die Eingabe zu validieren.                 | Callback-Funktion, Default: **None**                            | `entry = tk.Entry(root, validatecommand=my_callback)` |\n",
    "| `invalidcommand`     | Funktion, die aufgerufen wird, wenn die Validierung fehlschlägt.             | Callback-Funktion, Default: **None**                            | `entry = tk.Entry(root, invalidcommand=on_invalid)` |\n",
    "| `relief`             | Rahmen-Stil des Widgets.                                                     | `\"flat\"`, `\"raised\"`, `\"sunken\"`, `\"groove\"`, `\"ridge\"`, `\"solid\"`, Default: **\"flat\"** | `entry = tk.Entry(root, relief=\"groove\")` |"
   ]
  },
  {
   "cell_type": "markdown",
   "id": "32d06575-a269-4ca8-a4de-aad0677413ac",
   "metadata": {},
   "source": [
    "### Entry Methoden\n",
    "\n",
    "| **Methode**           | **Parameter**          | **Beschreibung**                                                                 | **Beispielcode**                     |\n",
    "|------------------------|------------------------|---------------------------------------------------------------------------------|---------------------------------------|\n",
    "| `get()`               | Keine                 | Gibt den aktuellen Text im Widget zurück.                                       | `text = entry.get()`                 |\n",
    "| `insert()`            | `index`, `string`     | Fügt Text an der angegebenen Position ein.                                      | `entry.insert(0, \"Hallo\")`           |\n",
    "| `delete()`            | `start`, `end=None`   | Löscht Text im angegebenen Bereich.                                             | `entry.delete(0, \"end\")`             |\n",
    "| `configure()`         | `**options`           | Ändert die Eigenschaften des Widgets wie Schriftart, Textfarbe, Hintergrund etc.| `entry.configure(fg=\"red\", bg=\"yellow\")` |\n",
    "| `cget()`              | `option`              | Gibt den aktuellen Wert einer bestimmten Eigenschaft zurück.                    | `color = entry.cget(\"fg\")`           |\n",
    "| `bind()`              | `event`, `callback=None` | Bindet ein Event an eine Callback-Funktion.                                    | `entry.bind(\"<Return>\", callback)`   |\n",
    "| `unbind()`            | `event`               | Hebt die Bindung eines Events auf.                                              | `entry.unbind(\"<Return>\")`           |\n",
    "| `select_range()`      | `start`, `end`        | Markiert den Text zwischen `start` und `end` im Eingabefeld.                    | `entry.select_range(0, \"end\")`       |\n",
    "| `icursor()`           | `index`               | Setzt die Einfügemarke (Cursor) an die angegebene Position.                     | `entry.icursor(5)`                   |\n",
    "| `index()`             | `index`               | Gibt die numerische Position eines angegebenen Index (z. B. \"end\") zurück.      | `pos = entry.index(\"end\")`           |\n",
    "| `selection_clear()`   | Keine                 | Hebt die aktuelle Markierung (Selektion) im Eingabefeld auf.                    | `entry.selection_clear()`            |\n",
    "| `selection_present()` | Keine                 | Gibt zurück, ob aktuell ein Bereich im Eingabefeld markiert ist (`True` oder `False`). | `is_selected = entry.selection_present()` |"
   ]
  },
  {
   "cell_type": "markdown",
   "id": "91d0e488-59ca-49dc-a375-18c7328c8dbd",
   "metadata": {},
   "source": [
    "### Hinweis:\n",
    "\n",
    "- **Das `Entry`Widget hat keine `set()`Methode**. Um den Text zu setzen, kannst du eine `textvariable` (z. B. ein `tk.StringVar`) verwenden oder die `insert()`Methode nutzen:"
   ]
  },
  {
   "cell_type": "code",
   "execution_count": null,
   "id": "35bfd50e-9479-41d7-928a-6514a08992e7",
   "metadata": {},
   "outputs": [],
   "source": [
    "var = tk.StringVar()\n",
    "entry = tk.Entry(root, textvariable=var)\n",
    "var.set(\"Beispieltext\")"
   ]
  },
  {
   "cell_type": "markdown",
   "id": "27cbcb20-b77f-4a40-8a3c-e102506dcdc3",
   "metadata": {},
   "source": [
    "## Text Widget\n",
    "- Mehrzeilig\n",
    "- Formatierung untersützt\n",
    "- Inhalte: Kann Texte und Bilder speichern"
   ]
  },
  {
   "cell_type": "markdown",
   "id": "bde3b2f1-d2ed-46b6-a5ee-3eb63f601692",
   "metadata": {},
   "source": [
    "### Attribute\n",
    "| **Attribut**       | **Beschreibung**                                                                           | **Werte (Default hervorgehoben)**                                    | **Beispielcode**                                      |\n",
    "|--------------------|-------------------------------------------------------------------------------------------|----------------------------------------------------------------------|-------------------------------------------------------|\n",
    "| `background` / `bg` | Hintergrundfarbe des Text-Widgets.                                                        | Farbe: `\"yellow\"`, `\"#RRGGBB\"`, Default: System-Theme                | `Text(root, bg=\"lightgray\")`                          |\n",
    "| `foreground` / `fg` | Textfarbe des Widgets.                                                                    | Farbe: `\"blue\"`, `\"#RRGGBB\"`, Default: `\"black\"`                     | `Text(root, fg=\"blue\")`                               |\n",
    "| `borderwidth`       | Breite des Rahmens um das Widget.                                                         | Ganze Zahl, Default: `2`                                             | `Text(root, borderwidth=3)`                           |\n",
    "| `relief`            | Stil des Rahmens um das Widget.                                                          | `\"flat\"`, `\"raised\"`, `\"sunken\"`, `\"groove\"`, `\"ridge\"`, Default: `\"sunken\"` | `Text(root, relief=\"groove\")`                      |\n",
    "| `font`              | Schriftart des Textes.                                                                   | `(\"Schriftart\", Größe, \"Stil\")`, Default: System-Standard             | `Text(root, font=(\"Arial\", 12))`                      |\n",
    "| `height`            | Höhe des Widgets in Zeilen.                                                              | Ganze Zahl, Default: `24`                                            | `Text(root, height=10)`                               |\n",
    "| `width`             | Breite des Widgets in Zeichen.                                                           | Ganze Zahl, Default: `80`                                            | `Text(root, width=50)`                                |\n",
    "| `wrap`              | Zeilenumbruch für Textinhalt.                                                            | `\"none\"`, `\"char\"`, `\"word\"`, Default: `\"char\"`                      | `Text(root, wrap=\"word\")`                             |\n",
    "| `insertbackground`  | Farbe des Einfüge-Cursors (Caret).                                                       | Farbe: `\"red\"`, Default: `\"black\"`                                   | `Text(root, insertbackground=\"red\")`                 |\n",
    "| `insertwidth`       | Breite des Einfüge-Cursors.                                                              | Ganze Zahl in Pixeln, Default: `2`                                   | `Text(root, insertwidth=4)`                           |\n",
    "| `padx`              | Horizontaler Innenabstand zwischen Rahmen und Inhalt.                                    | Ganze Zahl, Default: `1`                                             | `Text(root, padx=5)`                                  |\n",
    "| `pady`              | Vertikaler Innenabstand zwischen Rahmen und Inhalt.                                      | Ganze Zahl, Default: `1`                                             | `Text(root, pady=5)`                                  |\n",
    "| `state`             | Aktiviert oder deaktiviert das Widget.                                                   | `\"normal\"`, `\"disabled\"`, Default: `\"normal\"`                        | `Text(root, state=\"disabled\")`                        |\n",
    "| `undo`              | Aktiviert die Undo-/Redo-Funktion.                                                      | `True`, `False`, Default: `False`                                    | `Text(root, undo=True)`                               |\n",
    "| `maxundo`           | Maximale Anzahl der Undo-Schritte.                                                       | Ganze Zahl, Default: `0` (unbegrenzt)                                | `Text(root, undo=True, maxundo=10)`                   |\n",
    "| `tabs`              | Festlegt Tab-Positionen in Pixeln oder Zeichenbreite.                                    | String (z. B. `\"2c 4c\"`), Default: `None`                            | `Text(root, tabs=\"2c 4c\")`                            |\n",
    "| `spacing1`          | Zusätzlicher Abstand vor einer Zeile.                                                    | Ganze Zahl in Pixeln, Default: `0`                                   | `Text(root, spacing1=5)`                              |\n",
    "| `spacing2`          | Zusätzlicher Abstand zwischen zwei Zeilen (Zeilenabstand).                               | Ganze Zahl in Pixeln, Default: `0`                                   | `Text(root, spacing2=3)`                              |\n",
    "| `spacing3`          | Zusätzlicher Abstand nach einer Zeile.                                                   | Ganze Zahl in Pixeln, Default: `0`                                   | `Text(root, spacing3=5)`                              |\n",
    "| `takefocus`         | Gibt an, ob das Widget per Tabulator-Fokus erreichbar ist.                               | `True`, `False`, Default: `False`                                    | `Text(root, takefocus=True)`                          |\n",
    "| `cursor`            | Form des Mauszeigers, wenn er über dem Widget ist.                                       | `\"arrow\"`, `\"xterm\"`, `\"hand2\"`, etc., Default: `\"xterm\"`            | `Text(root, cursor=\"xterm\")`                          |\n",
    "| `exportselection`   | Aktiviert das Kopieren von markiertem Text in die Zwischenablage.                        | `True`, `False`, Default: `True`                                     | `Text(root, exportselection=False)`                   |"
   ]
  },
  {
   "cell_type": "markdown",
   "id": "77d7eb23-d49c-4699-9a8a-b66e7d097aba",
   "metadata": {},
   "source": [
    "### Methoden\n",
    "\n",
    "| **Name**            | **Parameter**                                           | **Beschreibung**                                                     | **Beispiel**                                                                                  |\n",
    "|----------------------|--------------------------------------------------------|-----------------------------------------------------------------------|----------------------------------------------------------------------------------------------|\n",
    "| `insert`            | `index, chars, tag (optional)`                                         | Fügt Text an einer bestimmten Position ein.                          | `text_widget.insert(\"1.0\", \"Hallo Welt!\")`                                                  |\n",
    "| `delete`            | `startindex, endindex=None`                            | Löscht Text zwischen den angegebenen Indizes.                        | `text_widget.delete(\"1.0\", \"end\")`                                                          |\n",
    "| `get`               | `startindex, endindex`                                 | Gibt den Text zwischen den Indizes zurück.                           | `text_widget.get(\"1.0\", \"end\")`                                                             |\n",
    "| `see`               | `index`                                                | Scrollt, damit der angegebene Index sichtbar ist.                    | `text_widget.see(\"1.0\")`                                                                    |\n",
    "| `mark_set`          | `markName, index`                                      | Setzt eine Textmarke an die angegebene Position.                     | `text_widget.mark_set(\"insert\", \"1.0\")`                                                     |\n",
    "| `mark_unset`        | `markName`                                             | Entfernt eine Textmarke.                                             | `text_widget.mark_unset(\"insert\")`                                                          |\n",
    "| `tag_add`           | `tagName, start, end`                                  | Fügt einem Bereich ein Tag hinzu.                                    | `text_widget.tag_add(\"highlight\", \"1.0\", \"1.4\")`                                            |\n",
    "| `tag_remove`        | `tagName, start, end`                                  | Entfernt ein Tag aus einem Bereich.                                  | `text_widget.tag_remove(\"highlight\", \"1.0\", \"1.4\")`                                         |\n",
    "| `tag_configure`     | `tagName, **options`                                   | Konfiguriert die Eigenschaften eines Tags.                           | `text_widget.tag_configure(\"highlight\", foreground=\"blue\")`                                 |\n"
   ]
  },
  {
   "cell_type": "code",
   "execution_count": 15,
   "id": "96b1ac53-a5b4-4fa6-8212-89fe4a2ff164",
   "metadata": {},
   "outputs": [],
   "source": [
    "import tkinter as tk\n",
    "\n",
    "root = tk.Tk()\n",
    "root.title('Look... a Text-Widget')\n",
    "\n",
    "text = tk.Text(root, height=10, width=20, wrap='word', font=('Arial', 15))\n",
    "text.pack(pady=15, padx=15)\n",
    "\n",
    "root.mainloop()"
   ]
  },
  {
   "cell_type": "code",
   "execution_count": 26,
   "id": "52a6e767-d602-4c19-a78d-40e3cd798b65",
   "metadata": {},
   "outputs": [],
   "source": [
    "def get_text():\n",
    "    print(text.get(\"2.0\", \"2.12\"))\n",
    "\n",
    "root = tk.Tk()\n",
    "root.title('Text-Widget again')\n",
    "\n",
    "text = tk.Text(root, height=10, width=20, wrap='word', font=('Arial', 15), cursor=\"arrow\")\n",
    "text.pack(pady=15, padx=15)\n",
    "\n",
    "tk.Button(root, text=\"Auslesen\", command=get_text).pack()\n",
    "\n",
    "root.mainloop()"
   ]
  },
  {
   "cell_type": "code",
   "execution_count": 33,
   "id": "bdb64aa5-8432-40a9-aad3-0c039c9fb1a8",
   "metadata": {},
   "outputs": [
    {
     "name": "stdout",
     "output_type": "stream",
     "text": [
      "Das ist ein BeispieltextDieser Teil ist hervorgehoben.Hallo Du Gummischuh\n",
      "\n",
      "Das ist ein BeispieltextDieser Teil ist hervorgehoben.Hallo Du GummischuhIch werde über eine Funktion in das Textfeld geschmissen\n",
      "\n",
      "Das ist ein BeispieltextDieser Teil ist hervorgehoben.Hallo Du GummischuhIch werde über eine Funktion in das Textfeld geschmissenIch werde über eine Funktion in das Textfeld geschmissen\n",
      "\n",
      "Das ist ein BeispieltextDieser Teil ist hervorgehoben.Hallo Du GummischuhIch werde über eine Funktion in das Textfeld geschmissenIch werde über eine Funktion in das Textfeld geschmissenIch werde über eine Funktion in das Textfeld geschmissen\n",
      "\n"
     ]
    }
   ],
   "source": [
    "import tkinter as tk\n",
    "\n",
    "def do_sth():\n",
    "    print(text.get(\"1.0\", \"end\"))\n",
    "    text.insert(\"4.0\", \"Ich werde über eine Funktion in das Textfeld geschmissen\", \"highlight\")\n",
    "\n",
    "root = tk.Tk()\n",
    "root.title('Einfaches Text Widget')\n",
    "\n",
    "text = tk.Text(root, height=10, width=30, wrap='word')\n",
    "text.pack(pady=20, padx=20)\n",
    "\n",
    "# Tags für formatierung erstellen\n",
    "text.tag_configure(\"bold\", font=('Helvetica', 15, 'bold'))\n",
    "text.tag_configure(\"highlight\", background=\"yellow\", foreground='red')\n",
    "text.tag_configure(\"dark\", background=\"lightpink\", foreground=\"black\")\n",
    "\n",
    "tk.Button(root, text=\"Zeig Inhalt\", command=do_sth).pack()\n",
    "\n",
    "# Text einfügen in Textfeld und formatieren\n",
    "text.insert(\"1.0\", \"Das ist ein \") # Indize an der Stelle wo ich etwas einfügen möchte\n",
    "text.insert(\"1.12\", \"Beispieltext\", \"bold\")\n",
    "text.insert(\"2.0\", \"Dieser Teil ist hervorgehoben.\", \"highlight\")\n",
    "text.insert(\"3.0\", \"Hallo Du Gummischuh\", \"dark\")\n",
    "\n",
    "root.mainloop()"
   ]
  },
  {
   "cell_type": "markdown",
   "id": "c06414ae-5e34-4992-b9d8-5f5599ffb57e",
   "metadata": {},
   "source": [
    "## Scrollbar in Tkinter\n",
    "\n",
    "### Attribute\n",
    "| **Attribut**          | **Beschreibung**                                                                          | **Werte (Default hervorgehoben)**                                      | **Beispielcode**                                          |\n",
    "|-----------------------|------------------------------------------------------------------------------------------|------------------------------------------------------------------------|-----------------------------------------------------------|\n",
    "| `orient`             | Die Ausrichtung der Scrollbar (horizontal oder vertikal).                                 | `\"horizontal\"`, `\"vertical\"`, Default: `\"vertical\"`                    | `ttk.Scrollbar(root, orient=\"horizontal\")`               |\n",
    "| `command`            | Callback-Funktion, die bei einer Scroll-Aktion aufgerufen wird.                           | Funktionsname oder Methode, Default: `None`                            | `ttk.Scrollbar(root, command=canvas.xview)`              |\n",
    "| `style`              | Stil der Scrollbar, definiert über `ttk.Style`.                                           | Stil-Name als String, Default: `\"\"`                                    | `ttk.Scrollbar(root, style=\"My.TScrollbar\")`             |\n",
    "| `takefocus`          | Gibt an, ob die Scrollbar den Fokus bekommen kann.                                        | `True`, `False`, Default: `False`                                      | `ttk.Scrollbar(root, takefocus=True)`                    |\n",
    "| `class_`             | Definiert die Widget-Klasse für Styling mit `ttk.Style`.                                  | String, Default: `\"TScrollbar\"`                                        | `ttk.Scrollbar(root, class_=\"CustomScrollbar\")`          |\n",
    "| `cursor`             | Der Mauszeiger, der angezeigt wird, wenn er über der Scrollbar ist.                       | `\"arrow\"`, `\"hand2\"`, `\"circle\"`, etc., Default: `None`                | `ttk.Scrollbar(root, cursor=\"hand2\")`                    |\n",
    "| `state`              | Aktiviert oder deaktiviert das Widget.                                                    | `\"normal\"`, `\"disabled\"`, Default: `\"normal\"`                          | `ttk.Scrollbar(root, state=\"disabled\")`                  |\n",
    "| `width`              | Die Breite der Scrollbar in Pixeln.                                                       | Ganze Zahl, Default: `16`                                              | `ttk.Scrollbar(root, width=20)`                          |\n",
    "| `padding`            | Innenabstand zwischen dem Widget-Rand und dessen Inhalt.                                  | Ganze Zahl oder `(x, y)`-Tupel, Default: `0`                           | `ttk.Scrollbar(root, padding=(5, 5))`                    |\n",
    "| `elementborderwidth` | Die Breite des inneren Rahmens der Scrollbar-Elemente.                                    | Ganze Zahl, Default: `0`                                               | `ttk.Scrollbar(root, elementborderwidth=2)`              |\n",
    "| `repeatdelay`        | Zeit (in Millisekunden), bevor die Wiederholung bei gedrücktem Mausklick beginnt.          | Ganze Zahl, Default: `300`                                             | `ttk.Scrollbar(root, repeatdelay=200)`                   |\n",
    "| `repeatinterval`     | Zeit (in Millisekunden) zwischen Wiederholungen bei gedrücktem Mausklick.                  | Ganze Zahl, Default: `100`                                             | `ttk.Scrollbar(root, repeatinterval=50)`                 |\n",
    "| `relief`             | Rahmen-Stil des Widgets (eingeschränkt bei `ttk.Scrollbar`).                              | `\"flat\"`, `\"raised\"`, `\"sunken\"`, `\"groove\"`, `\"ridge\"`, Default: `\"flat\"` | `ttk.Scrollbar(root, relief=\"groove\")`                |\n"
   ]
  },
  {
   "cell_type": "markdown",
   "id": "fbf9d611-1af1-4f85-b6d2-508b0032ff0b",
   "metadata": {},
   "source": [
    "### Scrollbar-Methoden\n",
    "| **Name**            | **Parameter**                                           | **Beschreibung**                                                     | **Beispiel**                                                                                  |\n",
    "|----------------------|--------------------------------------------------------|-----------------------------------------------------------------------|----------------------------------------------------------------------------------------------|\n",
    "| `set`               | `first, last`                                          | Setzt die Scrollposition.                                            | `scrollbar.set(0.0, 0.5)`                                                                   |\n",
    "| `get`               | None                                                   | Gibt die aktuelle Scrollposition zurück.                             | `scrollbar.get()`                                                                           |\n",
    "| `configure`         | `**options`                                            | Ändert die Eigenschaften der Scrollbar.                              | `scrollbar.configure(command=canvas.yview)`                                                |\n"
   ]
  },
  {
   "cell_type": "code",
   "execution_count": 48,
   "id": "edb885a8-25b8-4d79-8063-9137b6f20651",
   "metadata": {},
   "outputs": [],
   "source": [
    "import tkinter as tk\n",
    "from tkinter import ttk\n",
    "\n",
    "root = tk.Tk()\n",
    "root.title(\"Scrollbar Example\")\n",
    "root.geometry(\"400x300\")\n",
    "\n",
    "# Frame für Widgets\n",
    "frame = ttk.Frame(root, padding=10)\n",
    "frame.grid(row=0, column=0, sticky=\"NSWE\")\n",
    "\n",
    "# Textbox im Frame\n",
    "text = tk.Text(frame, wrap='none', height=10, width=40)\n",
    "text.grid(row=0, column=0, sticky=\"NSEW\")\n",
    "\n",
    "# Basteln mit Sebastian - heute: Scrollbalken + Verknüpfen mit text widget\n",
    "y_scroll = tk.Scrollbar(frame, orient=\"vertical\", command=text.yview)\n",
    "y_scroll.grid(row=0, column=1, sticky=\"SN\")\n",
    "x_scroll = tk.Scrollbar(frame, orient=\"horizontal\", command=text.xview)\n",
    "x_scroll.grid(row=1, column=0, sticky=\"WE\")\n",
    "\n",
    "# Scrollbar mit textwidget syncen = Text Widget mit Scrollbar verknüpfen\n",
    "text.configure(yscrollcommand=y_scroll.set, xscrollcommand=x_scroll.set)\n",
    "\n",
    "for i in range(1, 51):\n",
    "    text.insert(tk.END, f'Zeile {i}, Lorem ipsum dolor sit amet, consetetur sadipscing elitr, sed diam nonumy eirmod tempor invidunt ut labore et dolore magna aliquyam erat, sed diam voluptua. At vero eos et accusam et justo duo dolores\\n ')\n",
    "\n",
    "root.mainloop()"
   ]
  },
  {
   "cell_type": "markdown",
   "id": "28878514-610a-40cb-a4aa-aec1781b979c",
   "metadata": {},
   "source": [
    "### Beachten: Scrollbalken\n",
    "- Scrollbalken sind eigenständige Widgets und werden auch als solche angelegt\n",
    "- Scrollbalken mit Attribut `command` an das jeweilige Widget verknüpfen, welches den Balken bekommen soll\n",
    "- Das Scrollbar-Erhaltende Widget muss mit dem Attribut `yscrollcommand` oder `xscrollcommand` mit dem Scollbalken widget verknüpft werden"
   ]
  },
  {
   "cell_type": "markdown",
   "id": "60d6d2f6-56bd-46b6-af5f-e2c04768ec4e",
   "metadata": {},
   "source": [
    "anstatt `\"end\"` kann auch `tk.END` geschrieben werden was einfach eine Konstante mit dem Wert `\"end\"` im Tkinter Modul ist"
   ]
  },
  {
   "cell_type": "markdown",
   "id": "c1c35d35-3209-4f37-b0ee-e3effb383ed4",
   "metadata": {},
   "source": [
    "## Checkbutton Widget\n",
    "\n",
    "- **Zustand speichern**: Checkboxen speichern ihren Zustand (`on` oder `off`) in einer gebundenen Variable, die entweder ein `tk.IntVar`, `tk.StringVar`, oder `tk.BooleanVar` sein kann.\n",
    "    - `IntVar`: Speichert `1` für aktiviert und `0` für deaktiviert.\n",
    "    - `StringVar`: Speichert benutzerdefinierte Werte (z. B. `\"yes\"` und `\"no\"`).\n",
    "    - `BooleanVar`: Speichert `True` oder `False`.\n",
    "- **Callback-Funktion**: Optional kann eine Funktion ausgeführt werden, wenn sich der Zustand der Checkbox ändert, indem das Attribut `command` genutzt wird.\n",
    "\n",
    "| **Attribut**   | **Beschreibung**                                                                      | **Werte (Default hervorgehoben)**                              | **Beispielcode**                                     |\n",
    "|----------------|--------------------------------------------------------------------------------------|----------------------------------------------------------------|------------------------------------------------------|\n",
    "| `text`         | Beschriftung der Checkbox.                                                           | Beliebiger Text, Default: `\"\"`                                | `ttk.Checkbutton(root, text=\"Option 1\")`            |\n",
    "| `variable`     | Variable, die den Zustand der Checkbox speichert.                                     | `tk.IntVar`, `tk.StringVar`, `tk.BooleanVar`, Default: `None`  | `ttk.Checkbutton(root, variable=my_var)`            |\n",
    "| `onvalue`      | Wert, den die `variable` hat, wenn die Checkbox aktiviert ist.                        | Beliebiger Wert, Default: `1`                                 | `ttk.Checkbutton(root, variable=my_var, onvalue=10)`|\n",
    "| `offvalue`     | Wert, den die `variable` hat, wenn die Checkbox deaktiviert ist.                      | Beliebiger Wert, Default: `0`                                 | `ttk.Checkbutton(root, variable=my_var, offvalue=5)`|\n",
    "| `command`      | Funktion, die aufgerufen wird, wenn sich der Zustand der Checkbox ändert.             | Funktionsname oder Methode, Default: `None`                   | `ttk.Checkbutton(root, command=callback_function)`  |\n",
    "| `state`        | Aktiviert oder deaktiviert die Checkbox.                                              | `\"normal\"`, `\"disabled\"`, `\"active\"`, Default: `\"normal\"`      | `ttk.Checkbutton(root, state=\"disabled\")`           |\n",
    "| `style`        | Stil des Widgets, definiert über `ttk.Style`.                                         | Stil-Name als String, Default: `\"\"`                           | `ttk.Checkbutton(root, style=\"My.TCheckbutton\")`    |\n",
    "| `takefocus`    | Gibt an, ob das Widget den Fokus bekommen kann.                                       | `True`, `False`, Default: `True`                              | `ttk.Checkbutton(root, takefocus=False)`            |"
   ]
  },
  {
   "cell_type": "markdown",
   "id": "bfdd17a8-1f93-4c6c-8f36-5c82cde73e0d",
   "metadata": {},
   "source": [
    "### Checkbutton-Methoden\n",
    "| **Name**            | **Parameter**                                           | **Beschreibung**                                                     | **Beispiel**                                                                                  |\n",
    "|----------------------|--------------------------------------------------------|-----------------------------------------------------------------------|----------------------------------------------------------------------------------------------|\n",
    "| `select`            | None                                                   | Markiert die Checkbox als ausgewählt.                                | `checkbutton.select()`                                                                      |\n",
    "| `deselect`          | None                                                   | Hebt die Auswahl der Checkbox auf.                                   | `checkbutton.deselect()`                                                                    |\n",
    "| `toggle`            | None                                                   | Wechselt den aktuellen Zustand der Checkbox.                         | `checkbutton.toggle()`                                                                      |\n",
    "| `configure`         | `**options`                                            | Konfiguriert die Eigenschaften der Checkbox.                         | `checkbutton.configure(text=\"Option 1\", variable=var)`                                      |\n"
   ]
  },
  {
   "cell_type": "code",
   "execution_count": 1,
   "id": "386eb524-51dc-490b-8f97-f8f59b3becc7",
   "metadata": {},
   "outputs": [
    {
     "name": "stderr",
     "output_type": "stream",
     "text": [
      "2025-01-14 10:42:51.604 python[6314:607086] +[IMKClient subclass]: chose IMKClient_Modern\n",
      "2025-01-14 10:42:53.680 python[6314:607086] +[IMKInputSession subclass]: chose IMKInputSession_Modern\n"
     ]
    },
    {
     "name": "stdout",
     "output_type": "stream",
     "text": [
      "Checkbox is: checked\n",
      "Checkbox is: unchecked\n",
      "Checkbox is: checked\n",
      "Checkbox is: unchecked\n"
     ]
    }
   ],
   "source": [
    "import tkinter as tk\n",
    "\n",
    "def checkbox_callback():\n",
    "    print(f'Checkbox is: {\"checked\" if checkbox_var.get() else \"unchecked\"}')\n",
    "\n",
    "root = tk.Tk()\n",
    "root.title(\"Checkbox Example 1\")\n",
    "root.geometry(\"400x300\")\n",
    "\n",
    "checkbox_var = tk.IntVar()\n",
    "\n",
    "checkbox = tk.Checkbutton(\n",
    "    root,\n",
    "    text=\"Enable Box\",\n",
    "    variable=checkbox_var,\n",
    "    command=checkbox_callback,\n",
    "    font=(\"Times New Roman\", 20)\n",
    ")\n",
    "checkbox.pack()\n",
    "\n",
    "root.mainloop()"
   ]
  },
  {
   "cell_type": "code",
   "execution_count": 2,
   "id": "ea7299c9-730c-4b94-b043-4d9bd45346f5",
   "metadata": {},
   "outputs": [],
   "source": [
    "import tkinter as tk\n",
    "\n",
    "def show_selections():\n",
    "    print(f'Option 1: {option1.get()}\\nOption 2: {option2.get()}')\n",
    "\n",
    "root = tk.Tk()\n",
    "root.title(\"Checkbox Example 2\")\n",
    "root.geometry(\"400x300\")\n",
    "\n",
    "option1 = tk.StringVar()\n",
    "option2 = tk.StringVar()\n",
    "\n",
    "option1.set('test')\n",
    "\n",
    "# Checkboxen\n",
    "check1 = tk.Checkbutton(\n",
    "    root,\n",
    "    text=\"Option 1\",\n",
    "    variable=option1,\n",
    "    onvalue=\"Absolut und unbedingt\",\n",
    "    offvalue=\"Aber so was von nicht\"\n",
    ")\n",
    "check1.pack(pady=10)\n",
    "\n",
    "check2 = tk.Checkbutton(\n",
    "    root,\n",
    "    text=\"Option 2\",\n",
    "    variable=option2,\n",
    "    onvalue=\"enabled\",\n",
    "    offvalue=\"disabled\"\n",
    ")\n",
    "check2.pack(pady=10)\n",
    "\n",
    "# Button um Checkbox Zustände anzuzeigen\n",
    "tk.Button(root, text=\"Show Selection\", command=show_selections).pack(pady=10)\n",
    "\n",
    "option1.set(check1['onvalue'])\n",
    "option2.set(check2['offvalue'])\n",
    "\n",
    "root.mainloop()"
   ]
  },
  {
   "cell_type": "markdown",
   "id": "8ccef1f0-0300-4a59-9102-db9a382802e4",
   "metadata": {},
   "source": [
    "## Radiobuttons\n",
    "\n",
    "### Wie funktionieren Radio Buttons?\n",
    "\n",
    "- **Gemeinsame Variable**: Alle Radio Buttons einer Gruppe teilen sich eine gebundene Variable (`tk.IntVar`, `tk.StringVar`), die den Zustand (die gewählte Option) speichert.\n",
    "- **Wert pro Radio Button**: Jeder Radio Button hat einen eindeutigen Wert (`value`), der in die gebundene Variable geschrieben wird, wenn der Button aktiviert wird.\n",
    "- **Callback-Funktion**: Optional kann eine Funktion ausgeführt werden, wenn der Benutzer einen Radio Button auswählt, indem das Attribut `command` genutzt wird.\n",
    "\n",
    "| **Attribut**   | **Beschreibung**                                                                      | **Werte (Default hervorgehoben)**                              | **Beispielcode**                                     |\n",
    "|----------------|--------------------------------------------------------------------------------------|----------------------------------------------------------------|------------------------------------------------------|\n",
    "| `text`         | Beschriftung des Radio Buttons.                                                      | Beliebiger Text, Default: `\"\"`                                | `ttk.Radiobutton(root, text=\"Option 1\")`            |\n",
    "| `variable`     | Variable, die den Zustand des Radio Buttons speichert (teilt sich diese mit anderen Buttons). | `tk.IntVar`, `tk.StringVar`, Default: `None`                  | `ttk.Radiobutton(root, variable=var)`               |\n",
    "| `value`        | Wert, den die `variable` hat, wenn der Radio Button aktiviert ist.                   | Beliebiger Wert, Default: `None`                              | `ttk.Radiobutton(root, value=\"Option1\")`            |\n",
    "| `command`      | Funktion, die aufgerufen wird, wenn der Radio Button aktiviert wird.                 | Funktionsname oder Methode, Default: `None`                   | `ttk.Radiobutton(root, command=callback_function)`  |\n",
    "| `state`        | Aktiviert oder deaktiviert den Radio Button.                                         | `\"normal\"`, `\"disabled\"`, `\"active\"`, Default: `\"normal\"`      | `ttk.Radiobutton(root, state=\"disabled\")`           |\n",
    "| `style`        | Stil des Widgets, definiert über `ttk.Style`.                                        | Stil-Name als String, Default: `\"\"`                           | `ttk.Radiobutton(root, style=\"My.TRadiobutton\")`    |\n",
    "| `takefocus`    | Gibt an, ob der Radio Button den Fokus bekommen kann.                                | `True`, `False`, Default: `True`                              | `ttk.Radiobutton(root, takefocus=False)`            |\n",
    "| `cursor`       | Der Mauszeiger, der angezeigt wird, wenn er über dem Radio Button ist.               | `\"arrow\"`, `\"hand2\"`, `\"circle\"`, etc., Default: `None`        | `ttk.Radiobutton(root, cursor=\"hand2\")`             |\n",
    "| `class_`       | Definiert die Widget-Klasse für Styling mit `ttk.Style`.                             | String, Default: `\"TRadiobutton\"`                             | `ttk.Radiobutton(root, class_=\"CustomRadiobutton\")` |"
   ]
  },
  {
   "cell_type": "markdown",
   "id": "602c9c65-50c6-4299-a01c-4b26a809f9fc",
   "metadata": {},
   "source": [
    "### Radiobutton-Methoden\n",
    "| **Name**            | **Parameter**                                           | **Beschreibung**                                                     | **Beispiel**                                                                                  |\n",
    "|----------------------|--------------------------------------------------------|-----------------------------------------------------------------------|----------------------------------------------------------------------------------------------|\n",
    "| `select`            | None                                                   | Markiert den Radiobutton als ausgewählt.                             | `radiobutton.select()`                                                                      |\n",
    "| `invoke`            | None                                                   | Führt die mit dem Radiobutton verbundene Aktion aus.                 | `radiobutton.invoke()`                                                                      |\n",
    "| `deselect`          | None                                                   | Hebt die Auswahl des Radiobuttons auf (falls zutreffend).            | `radiobutton.deselect()`                                                                    |\n",
    "| `configure`         | `**options`                                            | Konfiguriert die Eigenschaften des Radiobuttons.                     | `radiobutton.configure(text=\"Option 1\", variable=var, value=1)`                             |"
   ]
  },
  {
   "cell_type": "code",
   "execution_count": 76,
   "id": "3a229ce6-f161-4f27-a399-1f0cfc9d1cab",
   "metadata": {},
   "outputs": [
    {
     "name": "stdout",
     "output_type": "stream",
     "text": [
      "you choose: Hafer Deluxe\n",
      "you choose: Soja Bohnen\n",
      "you choose: Vollmilch\n"
     ]
    }
   ],
   "source": [
    "import tkinter as tk\n",
    "\n",
    "def radio_button_callback():\n",
    "    print(f'you choose: {selected_option.get()}')\n",
    "\n",
    "root = tk.Tk()\n",
    "root.title(\"Radiobuttons\")\n",
    "root.geometry(\"400x300\")\n",
    "\n",
    "selected_option = tk.StringVar(value='Hafer Deluxe')\n",
    "\n",
    "tk.Radiobutton(\n",
    "    root,\n",
    "    text=\"Milch\",\n",
    "    value=\"Vollmilch\",\n",
    "    variable=selected_option,\n",
    ").pack(pady=5)\n",
    "\n",
    "tk.Radiobutton(\n",
    "    root,\n",
    "    text=\"Soja\",\n",
    "    value=\"Soja Bohnen\",\n",
    "    variable=selected_option,\n",
    ").pack(pady=5)\n",
    "\n",
    "tk.Radiobutton(\n",
    "    root,\n",
    "    text=\"Hafer\",\n",
    "    value=\"Hafer Deluxe\",\n",
    "    variable=selected_option,\n",
    ").pack(pady=5)\n",
    "\n",
    "tk.Button(\n",
    "    root,\n",
    "    text=\"Your Selection\",\n",
    "    command=radio_button_callback\n",
    ").pack(side='bottom')\n",
    "\n",
    "root.mainloop()"
   ]
  },
  {
   "cell_type": "markdown",
   "id": "14118877-ce0d-40d0-b8c0-d68f7fd234e3",
   "metadata": {},
   "source": [
    "## Methoden von Tkinter-Variablen\n",
    "\n",
    "| **Methode/Attribut**      | **Parameter**                     | **Beschreibung**                                                                                     | **Beispiel**                                 |\n",
    "|---------------------------|------------------------------------|-----------------------------------------------------------------------------------------------------|-----------------------------------------------|\n",
    "| `get()`                   | Keine                             | Gibt den aktuellen Wert der Variable zurück.                                                        | `value = var.get()`                           |\n",
    "| `set(value)`              | `value`                           | Setzt den Wert der Variable auf `value`.                                                            | `var.set(\"Neuer Wert\")`                       |\n",
    "| `trace_add(mode, callback)` | `mode`, `callback`               | Fügt einen Callback hinzu, der ausgeführt wird, wenn die Variable geändert wird. **Modi:** `\"write\"`, `\"read\"`, `\"unset\"`. | `var.trace_add(\"write\", callback)`           |\n",
    "| `trace_remove(mode, callback_name)` | `mode`, `callback_name` | Entfernt einen zuvor hinzugefügten Callback.                                                        | `var.trace_remove(\"write\", callback_name)`    |\n",
    "| `trace_info()`            | Keine                             | Gibt Informationen zu den registrierten Trace-Callbacks zurück.                                     | `info = var.trace_info()`                     |\n",
    "| `initialize(value)`       | `value`                           | Setzt die Variable auf `value`, ohne Traces oder Events auszulösen.                                 | `var.initialize(\"Initialwert\")`              |\n",
    "\n",
    "---"
   ]
  },
  {
   "cell_type": "code",
   "execution_count": 88,
   "id": "1f0ef381-a407-4e8f-8695-ceedcd3da221",
   "metadata": {},
   "outputs": [],
   "source": [
    "import tkinter as tk\n",
    "\n",
    "def update_label(*args):\n",
    "    current_text = entry_var.get()\n",
    "    label.configure(text=current_text)\n",
    "    #label['text'] = current_text\n",
    "\n",
    "root = tk.Tk()\n",
    "root.title(\"Live-Update\")\n",
    "root.geometry(\"400x300\")\n",
    "\n",
    "entry_var = tk.StringVar()\n",
    "entry_var.trace_add(\"write\", update_label)\n",
    "\n",
    "# entry widget\n",
    "entry = tk.Entry(root, textvariable=entry_var, font=(\"Arial\", 14))\n",
    "entry.pack()\n",
    "\n",
    "label = tk.Label(root, text=\"\", font=(\"Arial\", 14))\n",
    "label.pack(pady=10)\n",
    "\n",
    "root.mainloop()"
   ]
  },
  {
   "cell_type": "code",
   "execution_count": null,
   "id": "f62d4b25-f06e-4b27-91c8-8e4336540c3a",
   "metadata": {},
   "outputs": [],
   "source": []
  },
  {
   "cell_type": "markdown",
   "id": "957aa5c9-9719-455c-91cc-1240a0d7ab30",
   "metadata": {},
   "source": [
    "## Argumente in eine Funktion übergeben"
   ]
  },
  {
   "cell_type": "code",
   "execution_count": 97,
   "id": "9d01c4b1-6736-4bdc-9ed6-9a446650307d",
   "metadata": {},
   "outputs": [
    {
     "name": "stdout",
     "output_type": "stream",
     "text": [
      ".!frame.!text\n"
     ]
    }
   ],
   "source": [
    "import tkinter as tk\n",
    "\n",
    "def show_six():\n",
    "    print(6)\n",
    "\n",
    "def show_nine():\n",
    "    print(9)\n",
    "\n",
    "def show_number(number):\n",
    "    print(str(number))\n",
    "\n",
    "root = tk.Tk()\n",
    "root.title(\"Argumenten Übergabe\")\n",
    "root.geometry(\"400x300\")\n",
    "\n",
    "tk.Button(root, text=6, pady=10, padx=10, font=(\"Arial\", 20), command=show_six).pack()\n",
    "tk.Button(root, text=9, pady=10, padx=10, font=(\"Arial\", 20), command=show_nine).pack()\n",
    "\n",
    "tk.Button(root, text=2, pady=10, padx=10, font=(\"Arial\", 20), command=lambda: show_number(t)).pack()\n",
    "tk.Button(root, text=5, pady=10, padx=10, font=(\"Arial\", 20), command=lambda t=5: show_number(t)).pack()\n",
    "\n",
    "root.mainloop()"
   ]
  },
  {
   "cell_type": "markdown",
   "id": "a90dbe80-f33e-484e-a95b-01cd60aacd09",
   "metadata": {},
   "source": [
    "## Combobox\n",
    "Eine Combobox ist ein Dropdown-Menü, das Benutzern ermöglicht, eine Option aus einer Liste auszuwählen oder einen eigenen Wert einzugeben. In Tkinter wird die Combobox durch das ttk.Combobox-Widget bereitgestellt.\n",
    "\n",
    "### Wie funktionieren Comboboxes?\n",
    "\n",
    "- **Datenquelle (`values`)**: Die Combobox zeigt eine Liste von Werten an, aus denen der Benutzer auswählen kann.\n",
    "- **Gebundene Variable (`textvariable`)**: Speichert den aktuell ausgewählten Wert oder den vom Benutzer eingegebenen Text.\n",
    "- **Callback-Funktion (`postcommand`)**: Kann genutzt werden, um die Liste der Optionen vor dem Anzeigen zu aktualisieren.\n",
    "- **Modus (`state`)**: Bestimmt, ob die Combobox nur vorgegebene Werte akzeptiert oder auch freie Texteingaben erlaubt.\n",
    "\n",
    "### Combobox Attribute\n",
    "| **Attribut**   | **Beschreibung**                                                                      | **Werte (Default hervorgehoben)**                              | **Beispielcode**                                     |\n",
    "|----------------|--------------------------------------------------------------------------------------|----------------------------------------------------------------|------------------------------------------------------|\n",
    "| `values`       | Liste der anzuzeigenden Optionen in der Combobox.                                     | Liste oder Tuple, Default: `()`                                | `ttk.Combobox(root, values=(\"Option 1\", \"Option 2\"))`|\n",
    "| `textvariable` | Variable, die den aktuell ausgewählten oder eingegebenen Wert speichert.              | `tk.StringVar`, Default: `None`                               | `ttk.Combobox(root, textvariable=my_var)`           |\n",
    "| `state`        | Bestimmt, ob die Combobox bearbeitbar ist oder nur vorgegebene Werte akzeptiert.      | `\"normal\"`, `\"readonly\"`, `\"disabled\"`, Default: `\"normal\"`    | `ttk.Combobox(root, state=\"readonly\")`              |\n",
    "| `postcommand`  | Callback-Funktion, die ausgeführt wird, bevor die Liste angezeigt wird.               | Funktionsname oder Methode, Default: `None`                   | `ttk.Combobox(root, postcommand=update_values)`     |\n",
    "| `width`        | Breite der Combobox in Zeichen.                                                      | Ganze Zahl, Default: Je nach Inhalt                           | `ttk.Combobox(root, width=20)`                      |\n",
    "| `height`       | Anzahl der maximal angezeigten Optionen im Dropdown.                                 | Ganze Zahl, Default: `10`                                     | `ttk.Combobox(root, height=5)`                      |\n",
    "| `style`        | Stil der Combobox, definiert über `ttk.Style`.                                       | Stil-Name als String, Default: `\"\"`                           | `ttk.Combobox(root, style=\"My.TCombobox\")`          |\n",
    "| `cursor`       | Mauszeiger, der angezeigt wird, wenn er über der Combobox ist.                       | `\"arrow\"`, `\"hand2\"`, `\"circle\"`, etc., Default: `None`        | `ttk.Combobox(root, cursor=\"hand2\")`                |\n",
    "| `takefocus`    | Gibt an, ob die Combobox den Fokus bekommen kann.                                    | `True`, `False`, Default: `True`                              | `ttk.Combobox(root, takefocus=False)`               |\n",
    "| `class_`       | Definiert die Widget-Klasse für Styling mit `ttk.Style`.                             | String, Default: `\"TCombobox\"`                                | `ttk.Combobox(root, class_=\"CustomCombobox\")`       |"
   ]
  },
  {
   "cell_type": "markdown",
   "id": "32dbc564-1ea6-4f7a-af4e-76429ada9430",
   "metadata": {},
   "source": [
    "### Combobox-Methoden\n",
    "| **Name**            | **Parameter**                                           | **Beschreibung**                                                     | **Beispiel**                                                                                  |\n",
    "|----------------------|--------------------------------------------------------|-----------------------------------------------------------------------|----------------------------------------------------------------------------------------------|\n",
    "| `set`               | `values`                                               | Setzt den angezeigten Wert der Combobox.                             | `combobox.set(\"Option 1\")`                                                                  |\n",
    "| `get`               | None                                                   | Gibt den aktuellen Wert der Combobox zurück.                         | `combobox.get()`                                                                            |\n",
    "| `current`           | None                                                   | Gibt den Index des aktuell ausgewählten Wertes zurück.               | `combobox.current()`                                                                        |\n",
    "| `bind`              | `event, callback=None`                                 | Bindet ein Event an eine Callback-Funktion.                          | `combobox.bind(\"<<ComboboxSelected>>\", callback)`                                           |\n",
    "| `configure`         | `**options`                                            | Konfiguriert die Eigenschaften der Combobox.                         | `combobox.configure(state=\"readonly\")`                                                     |\n",
    "| `values`            | `list`                                                 | Setzt oder gibt die Liste der verfügbaren Werte zurück.              | `combobox[\"values\"] = [\"Option 1\", \"Option 2\"]`                                             |\n",
    "| `state`             | `string` (z. B. `\"normal\"`, `\"readonly\"`, `\"disabled\"`) | Setzt oder gibt den aktuellen Zustand der Combobox zurück.           | `combobox.configure(state=\"readonly\")`                                                     |"
   ]
  },
  {
   "cell_type": "code",
   "execution_count": 8,
   "id": "8d928483-c9b4-41de-96c9-66bdb0d9e696",
   "metadata": {},
   "outputs": [],
   "source": [
    "import tkinter as tk\n",
    "from tkinter import ttk, messagebox\n",
    "\n",
    "def selection_changed(event):\n",
    "    messagebox.showinfo('Your Choice', f'you selected {combo_var.get()} - great choice sis')\n",
    "\n",
    "def selection_changed_():\n",
    "    print(f'Selected: {combo_var.get()}')\n",
    "\n",
    "root = tk.Tk()\n",
    "root.title(\"Simple Combobox\")\n",
    "root.geometry(\"400x300\")\n",
    "\n",
    "combo_var = tk.StringVar()\n",
    "\n",
    "combobox = ttk.Combobox(\n",
    "    root,\n",
    "    textvariable=combo_var,\n",
    "    values=(\"Tennis\", \"Fußball\", \"Fechten\", \"Basketball\"),\n",
    "    state=\"readonly\",\n",
    "    #postcommand=say_hello\n",
    ")\n",
    "combobox.pack(pady=10)\n",
    "combobox.current(2)\n",
    "combobox.bind(\"<<ComboboxSelected>>\", selection_changed)\n",
    "\n",
    "tk.Button(root, text=\"What's selected bro\", command=selection_changed_).pack()\n",
    "\n",
    "root.mainloop()"
   ]
  },
  {
   "cell_type": "code",
   "execution_count": 15,
   "id": "6761d6b8-3bbb-404d-96f3-4ba9bd884a1b",
   "metadata": {},
   "outputs": [
    {
     "name": "stdout",
     "output_type": "stream",
     "text": [
      "Entered or Selected: Bleach\n"
     ]
    }
   ],
   "source": [
    "import tkinter as tk\n",
    "from tkinter import ttk, messagebox\n",
    "\n",
    "def on_enter_pressed(event):\n",
    "    print(f\"Entered or Selected: {combo_var.get()}\")\n",
    "\n",
    "def say_hello():\n",
    "    combobox[\"values\"] = (\"One Piece\", \"Naruto\", \"Bleach\", \"Sailormoon\", \"Dragonball\")\n",
    "\n",
    "root = tk.Tk()\n",
    "root.title(\"Editierbare Combobox\")\n",
    "root.geometry(\"400x300\")\n",
    "\n",
    "combo_var = tk.StringVar()\n",
    "\n",
    "combobox = ttk.Combobox(\n",
    "    root,\n",
    "    textvariable=combo_var,\n",
    "    values=[],\n",
    "    state=\"normal\",\n",
    "    postcommand=say_hello\n",
    ")\n",
    "combobox.pack(pady=10)\n",
    "\n",
    "combobox.bind(\"<Return>\", on_enter_pressed)\n",
    "combobox.bind(\"<<ComboboxSelected>>\", on_enter_pressed)\n",
    "\n",
    "tk.Button(root, text=\"What's selected bro\", command=selection_changed_).pack()\n",
    "\n",
    "root.mainloop()"
   ]
  },
  {
   "cell_type": "markdown",
   "id": "ea460858-94e3-49fc-9979-fb8d3a9a4d26",
   "metadata": {},
   "source": [
    "## Listbox\n",
    "\n",
    "### Wie funktionieren Listboxes?\n",
    "\n",
    "- **Einzel- oder Mehrfachauswahl**: Die Listbox kann so konfiguriert werden, dass der Benutzer nur ein Element oder mehrere Elemente auswählen kann.\n",
    "- **Index-basierter Zugriff**: Elemente werden in der Listbox nach Index (beginnend bei 0) verwaltet.\n",
    "- **Bindung von Ereignissen**: Aktionen wie das Klicken oder Scrollen können mit Funktionen verbunden werden.\n",
    "- **Scroll-Unterstützung**: Eine Listbox kann leicht mit Scrollbars kombiniert werden.\n",
    "\n",
    "### Listbox Attribute\n",
    "| **Attribut**          | **Beschreibung**                                                                          | **Werte (Default hervorgehoben)**                              | **Beispielcode**                                     |\n",
    "|-----------------------|------------------------------------------------------------------------------------------|----------------------------------------------------------------|------------------------------------------------------|\n",
    "| `height`             | Anzahl der sichtbaren Elemente in der Listbox.                                            | Ganze Zahl, Default: `10`                                     | `tk.Listbox(root, height=5)`                        |\n",
    "| `width`              | Breite der Listbox in Zeichen.                                                            | Ganze Zahl, Default: `20`                                     | `tk.Listbox(root, width=30)`                        |\n",
    "| `selectmode`         | Modus der Auswahl.                                                                        | `\"single\"`, `\"browse\"`, `\"multiple\"`, `\"extended\"`, Default: `\"browse\"` | `tk.Listbox(root, selectmode=\"multiple\")`           |\n",
    "| `listvariable`       | Gebundene Variable, die den Inhalt der Listbox verwaltet.                                 | `tk.StringVar`, Default: `None`                               | `tk.Listbox(root, listvariable=my_var)`             |\n",
    "| `activestyle`        | Darstellung des aktiven Elements in der Listbox.                                          | `\"dotbox\"`, `\"underline\"`, `\"none\"`, Default: `\"dotbox\"`      | `tk.Listbox(root, activestyle=\"underline\")`         |\n",
    "| `exportselection`    | Bestimmt, ob die Auswahl in der Listbox exportiert wird (z. B. für die Zwischenablage).    | `True`, `False`, Default: `True`                              | `tk.Listbox(root, exportselection=False)`           |\n",
    "| `bg`                 | Hintergrundfarbe der Listbox.                                                             | Farbname oder Hex-Wert, Default: System-Theme                 | `tk.Listbox(root, bg=\"lightblue\")`                  |\n",
    "| `fg`                 | Schriftfarbe der Listbox.                                                                 | Farbname oder Hex-Wert, Default: System-Theme                 | `tk.Listbox(root, fg=\"darkred\")`                    |\n",
    "| `selectbackground`   | Hintergrundfarbe der ausgewählten Elemente.                                               | Farbname oder Hex-Wert, Default: System-Theme                 | `tk.Listbox(root, selectbackground=\"yellow\")`       |\n",
    "| `selectforeground`   | Schriftfarbe der ausgewählten Elemente.                                                   | Farbname oder Hex-Wert, Default: System-Theme                 | `tk.Listbox(root, selectforeground=\"black\")`        |\n",
    "| `yscrollcommand`     | Scroll-Funktion für die vertikale Scrollbar.                                              | Scrollbar-Methode, Default: `None`                           | `tk.Listbox(root, yscrollcommand=scrollbar.set)`    |"
   ]
  },
  {
   "cell_type": "markdown",
   "id": "cfe69b28-af3a-4d1a-a3dc-f39e679f7b3d",
   "metadata": {},
   "source": [
    "### Listbox-Methoden\n",
    "| **Name**            | **Parameter**                                           | **Beschreibung**                                                     | **Beispiel**                                                                                  |\n",
    "|----------------------|--------------------------------------------------------|-----------------------------------------------------------------------|----------------------------------------------------------------------------------------------|\n",
    "| `insert`            | `index, element`                                       | Fügt ein Element an einer bestimmten Position ein.                   | `listbox.insert(0, \"Item\")`                                                                 |\n",
    "| `delete`            | `startindex, endindex=None`                            | Löscht Elemente zwischen `startindex` und `endindex`.                | `listbox.delete(0, \"end\")`                                                                  |\n",
    "| `get`               | `startindex, endindex=None`                            | Ruft Elemente zwischen den Indizes ab.                               | `listbox.get(0)`                                                                            |\n",
    "| `curselection`      | None                                                   | Gibt die Indizes der ausgewählten Elemente zurück.                   | `listbox.curselection()`                                                                    |\n",
    "| `size`              | None                                                   | Gibt die Anzahl der Elemente in der Listbox zurück.                  | `listbox.size()`                                                                            |\n",
    "| `activate`          | `index`                                                | Markiert ein Element als aktiv, ohne es auszuwählen.                 | `listbox.activate(1)`                                                                       |\n",
    "| `see`               | `index`                                                | Scrollt die Listbox, sodass der Index sichtbar wird.                 | `listbox.see(5)`                                                                            |\n",
    "| `selection_set`     | `startindex, endindex=None`                            | Wählt Elemente zwischen den Indizes aus.                             | `listbox.selection_set(0, 2)`                                                               |\n",
    "| `selection_clear`   | `startindex, endindex=None`                            | Hebt die Auswahl für Elemente zwischen den Indizes auf.              | `listbox.selection_clear(0, \"end\")`                                                         |\n",
    "| `selection_includes`| `index`                                                | Prüft, ob ein Element ausgewählt ist.                                | `listbox.selection_includes(1)`                                                             |\n",
    "| `index`             | `index`                                                | Gibt den tatsächlichen Index für einen relativen Wert zurück.        | `listbox.index(1)`                                                                          |\n",
    "| `xview`             | `*args`                                                | Verschiebt die horizontale Scrollposition.                           | `listbox.xview(\"moveto\", 0.5)`                                                              |\n",
    "| `yview`             | `*args`                                                | Verschiebt die vertikale Scrollposition.                             | `listbox.yview(\"moveto\", 0.5)`                                                              |\n",
    "| `bind`              | `event, callback=None`                                 | Bindet ein Event an eine Callback-Funktion.                          | `listbox.bind(\"<Button-1>\", callback)`                                                      |\n",
    "| `configure`         | `**options`                                            | Konfiguriert die Eigenschaften der Listbox.                          | `listbox.configure(bg=\"white\", fg=\"black\")`                                                 |\n"
   ]
  },
  {
   "cell_type": "code",
   "execution_count": 24,
   "id": "510f567a-7b0d-4cba-a13f-b9f806717ebc",
   "metadata": {},
   "outputs": [
    {
     "name": "stdout",
     "output_type": "stream",
     "text": [
      "(1,)\n",
      "Erdbeere\n",
      "(3,)\n",
      "Apfel\n",
      "(3,)\n",
      "Apfel\n"
     ]
    }
   ],
   "source": [
    "import tkinter as tk\n",
    "\n",
    "def get_selection():\n",
    "    print(listbox.curselection())\n",
    "    print(f'{listbox.get(listbox.curselection())}')\n",
    "\n",
    "def show_selection(event):\n",
    "    print(listbox.curselection())\n",
    "    print(f'{listbox.get(listbox.curselection())}')\n",
    "    \n",
    "\n",
    "root = tk.Tk()\n",
    "root.title(\"Simple Listbox\")\n",
    "root.geometry(\"400x300\")\n",
    "\n",
    "listbox = tk.Listbox(root, height=7, selectmode=\"single\")\n",
    "listbox.pack(pady=10)\n",
    "\n",
    "for fruit in [\"Mango\", \"Erdbeere\", \"Banane\", \"Apfel\"]:\n",
    "    listbox.insert(tk.END, fruit)\n",
    "\n",
    "tk.Button(root, text=\"Hol Früchte\", command=get_selection).pack()\n",
    "\n",
    "listbox.bind(\"<<ListboxSelect>>\", show_selection)\n",
    "\n",
    "root.mainloop()"
   ]
  },
  {
   "cell_type": "code",
   "execution_count": 22,
   "id": "76bd109d-b1a1-4ba0-ad3d-c293419a6e40",
   "metadata": {},
   "outputs": [
    {
     "name": "stdout",
     "output_type": "stream",
     "text": [
      "Selected: ['Option 1', 'Option 3']\n",
      "Selected: ['Option 3']\n",
      "Selected: ['Option 3', 'Option 5']\n",
      "Selected: ['Option 1', 'Option 2', 'Option 3', 'Option 4', 'Option 5']\n"
     ]
    }
   ],
   "source": [
    "import tkinter as tk\n",
    "\n",
    "def show_selection():\n",
    "    selected_indices = listbox.curselection()  # Liste der ausgewählten Indizes\n",
    "    selected_values = [listbox.get(i) for i in selected_indices]  # Werte der ausgewählten Indizes\n",
    "    print(f\"Selected: {selected_values}\")\n",
    "    \n",
    "root = tk.Tk()\n",
    "root.title(\"Multi-Select Listbox\")\n",
    "\n",
    "# Listbox mit Mehrfachauswahl\n",
    "listbox = tk.Listbox(root, height=5, selectmode=\"multiple\")\n",
    "listbox.pack(pady=10)\n",
    "\n",
    "# Elemente hinzufügen\n",
    "for item in [\"Option 1\", \"Option 2\", \"Option 3\", \"Option 4\", \"Option 5\"]:\n",
    "    listbox.insert(\"end\", item)\n",
    "\n",
    "# Button zur Anzeige der Auswahl\n",
    "tk.Button(root, text=\"Show Selection\", command=show_selection).pack(pady=10)\n",
    "\n",
    "root.mainloop()"
   ]
  },
  {
   "cell_type": "code",
   "execution_count": 38,
   "id": "267fb004-dcf9-442d-8b67-12cf4e3df697",
   "metadata": {},
   "outputs": [],
   "source": [
    "import tkinter as tk\n",
    "\n",
    "def update_list():\n",
    "    items = [\"Vaccuum Cleaner\", \"Blender\", \"Toaster\", \"Washing-Machine\", \"Vaccuum Cleaner\", \"Blender\", \"Toaster\", \"Washing-Machine\"]\n",
    "    list_var.set(items)\n",
    "\n",
    "root = tk.Tk()\n",
    "root.title(\"Dynamic Listbox\")\n",
    "#root.geometry(\"400x300\")\n",
    "\n",
    "frame = tk.Frame(root)\n",
    "frame.pack(pady=10, fill=\"x\")\n",
    "\n",
    "list_var = tk.StringVar(value=(\"Motherboard\", \"CPU\", \"GPU\", \"DDR4 RAM\", \"SSD\"))\n",
    "\n",
    "scrollbar = tk.Scrollbar(frame)\n",
    "scrollbar.pack(side='right', fill=\"y\", pady=10)\n",
    "\n",
    "listbox = tk.Listbox(\n",
    "    frame,\n",
    "    listvariable=list_var,\n",
    "    height=5,\n",
    "    yscrollcommand=scrollbar.set\n",
    ")\n",
    "listbox.pack(side=\"left\", pady=10)\n",
    "\n",
    "scrollbar.configure(command=listbox.yview)\n",
    "\n",
    "tk.Button(root, text=\"Update List\", command=update_list).pack(side=\"bottom\")\n",
    "\n",
    "root.mainloop()"
   ]
  },
  {
   "cell_type": "markdown",
   "id": "4d875bef-5ea8-4ca1-922e-c96e59dfd8ce",
   "metadata": {},
   "source": [
    "## Methoden für TkInter Variablen (StringVar, IntVar)\n",
    "\n",
    "| **Methode**    | **Parameter**           | **Beschreibung**                                                                                   | **Beispiel**                          |\n",
    "|--------------------------|-------------------------|---------------------------------------------------------------------------------------------------|----------------------------------------|\n",
    "| `get()`                 | Keine                  | Gibt den aktuellen Wert der Variable zurück.                                                     | `value = var.get()`                   |\n",
    "| `set(value)`            | `value`                | Setzt den Wert der Variable auf `value`.                                                          | `var.set(\"Neuer Wert\")`               |\n",
    "| `trace_add(mode, callback)` | `mode`, `callback`      | Fügt einen Callback hinzu, der ausgeführt wird, wenn die Variable geändert wird. Modi: `\"write\"`, `\"read\"`, `\"unset\"`. | `var.trace_add(\"write\", callback)`    |\n",
    "| `trace_remove(mode, callback_name)` | `mode`, `callback_name` | Entfernt einen zuvor hinzugefügten Callback.                                                     | `var.trace_remove(\"write\", callback_name)` |\n",
    "| `trace_info()`          | Keine                  | Gibt Informationen zu den registrierten Trace-Callbacks zurück.                                  | `info = var.trace_info()`             |\n",
    "| `initialize(value)`     | `value`                | Setzt die Variable auf `value`, ohne Traces oder Events auszulösen.                              | `var.initialize(\"Initialwert\")`       |"
   ]
  },
  {
   "cell_type": "code",
   "execution_count": null,
   "id": "3a956b09-f97b-43c8-8667-e5801384f539",
   "metadata": {},
   "outputs": [],
   "source": []
  }
 ],
 "metadata": {
  "kernelspec": {
   "display_name": "Python 3 (ipykernel)",
   "language": "python",
   "name": "python3"
  },
  "language_info": {
   "codemirror_mode": {
    "name": "ipython",
    "version": 3
   },
   "file_extension": ".py",
   "mimetype": "text/x-python",
   "name": "python",
   "nbconvert_exporter": "python",
   "pygments_lexer": "ipython3",
   "version": "3.12.8"
  }
 },
 "nbformat": 4,
 "nbformat_minor": 5
}
