{
 "cells": [
  {
   "cell_type": "code",
   "execution_count": 2,
   "id": "4006c39e-e979-444d-b609-9cb9bcb5ff84",
   "metadata": {},
   "outputs": [],
   "source": [
    "import requests\n",
    "import tkinter as tk\n",
    "from tkinter import ttk, messagebox\n",
    "\n",
    "# Globale Variablen\n",
    "api_key = \"55d50301c8add778a9ca4369\"\n",
    "url = f\"https://v6.exchangerate-api.com/v6/{api_key}/latest/\"\n",
    "currencies_dict = {\n",
    "    \"USD\": \"United States Dollar\",\n",
    "    \"EUR\": \"Euro\",\n",
    "    \"JPY\": \"Japanese Yen\",\n",
    "    \"GBP\": \"British Pound Sterling\",\n",
    "    \"AUD\": \"Australian Dollar\",\n",
    "    \"CAD\": \"Canadian Dollar\",\n",
    "    \"CHF\": \"Swiss Franc\",\n",
    "    \"CNY\": \"Chinese Yuan\",\n",
    "    \"SEK\": \"Swedish Krona\",\n",
    "    \"NZD\": \"New Zealand Dollar\",\n",
    "    \"MXN\": \"Mexican Peso\",\n",
    "    \"SGD\": \"Singapore Dollar\",\n",
    "    \"HKD\": \"Hong Kong Dollar\",\n",
    "    \"NOK\": \"Norwegian Krone\",\n",
    "    \"KRW\": \"South Korean Won\",\n",
    "    \"TRY\": \"Turkish Lira\",\n",
    "    \"INR\": \"Indian Rupee\",\n",
    "    \"RUB\": \"Russian Ruble\",\n",
    "    \"BRL\": \"Brazilian Real\",\n",
    "    \"ZAR\": \"South African Rand\",\n",
    "    \"DKK\": \"Danish Krone\",\n",
    "    \"PLN\": \"Polish Zloty\",\n",
    "    \"TWD\": \"New Taiwan Dollar\",\n",
    "    \"THB\": \"Thai Baht\",\n",
    "    \"IDR\": \"Indonesian Rupiah\",\n",
    "    \"HUF\": \"Hungarian Forint\",\n",
    "    \"CZK\": \"Czech Koruna\",\n",
    "    \"ILS\": \"Israeli New Shekel\",\n",
    "    \"CLP\": \"Chilean Peso\",\n",
    "    \"PHP\": \"Philippine Peso\",\n",
    "    \"AED\": \"United Arab Emirates Dirham\",\n",
    "    \"SAR\": \"Saudi Riyal\",\n",
    "    \"MYR\": \"Malaysian Ringgit\",\n",
    "    \"RON\": \"Romanian Leu\"\n",
    "}\n",
    "\n",
    "abbriviation_currencies_dict = {f'{abbr} - {name}': abbr for abbr, name in currencies_dict.items()}\n",
    "\n",
    "#def add_currencies():\n",
    "#    response = requests.get(url+\"EUR\")\n",
    "#    data = response.json()\n",
    "#    currencies = list(data[\"conversion_rates\"].keys())\n",
    "#    from_box['values'] = currencies\n",
    "#    to_box['values'] = currencies\n",
    "\n",
    "def get_exchange_rate(from_value_abbr, to_value_abbr):\n",
    "    try:\n",
    "        response = requests.get(url+from_value_abbr)\n",
    "        data = response.json()\n",
    "        if data[\"result\"] != \"error\" and data[\"conversion_rates\"][to_value_abbr]:\n",
    "            return data[\"conversion_rates\"][to_value_abbr]\n",
    "        else:\n",
    "            messagebox.showwarning(\"Fehler\", \"Diese Währung wird nicht unterstützt\")\n",
    "    except:\n",
    "        messagebox.showwarning(\"Anfrage Fehler\", \"Deine Anfrage konnte nicht verarbeitet werden\")\n",
    "\n",
    "def convert_currency():\n",
    "    try:\n",
    "        amount = float(amount_entry.get())\n",
    "        from_value = from_box.get()\n",
    "        to_value = to_box.get()\n",
    "        from_value_abbr = abbriviation_currencies_dict[from_value]\n",
    "        to_value_abbr = abbriviation_currencies_dict[to_value]\n",
    "        rate = get_exchange_rate(from_value_abbr, to_value_abbr)\n",
    "        result = amount * rate\n",
    "        # result_label = tk.Label(frame, text=f'{result:.2f} {to_value}', font=(\"Arial\", 15), fg=\"green\")\n",
    "        # result_label.grid(row=2, column=0, sticky=\"w\", pady=10)\n",
    "        result_label.configure(text=f'{result:.2f} {to_value}', font=(\"Arial\", 15), fg=\"green\")\n",
    "        messagebox.showinfo(\"Erfolg\", f\"{amount} {from_value} sind {result:.2f} {to_value}\")\n",
    "    except ValueError:\n",
    "        messagebox.showerror(\"Eingabefehler\", \"Bitte eine Zahl als Nummer eingeben\")\n",
    "\n",
    "root = tk.Tk()\n",
    "root.title(\"Währungsumrechner\")\n",
    "root.geometry(\"800x160\")\n",
    "root.resizable(False, False)\n",
    "\n",
    "frame = tk.Frame(root)\n",
    "frame.pack(fill=\"both\", expand=True, pady=15, padx=15)\n",
    "\n",
    "amount_label = tk.Label(frame, text=\"Betrag\", font=(\"Arial\", 14))\n",
    "amount_entry = tk.Entry(frame, font=(\"Arial\", 14))\n",
    "\n",
    "from_label = tk.Label(frame, text=\"Von\", font=(\"Arial\", 14))\n",
    "from_box = ttk.Combobox(frame, state=\"readonly\", font=(\"Arial\", 14), values=list(abbriviation_currencies_dict.keys()))\n",
    "from_box.set(\"EUR - Euro\")\n",
    "\n",
    "to_label = tk.Label(frame, text=\"in\", font=(\"Arial\", 14))\n",
    "to_box = ttk.Combobox(frame, state=\"readonly\", font=(\"Arial\", 14), values=list(abbriviation_currencies_dict.keys()))\n",
    "to_box.set(\"USD - United States Dollar\")\n",
    "\n",
    "# Layout\n",
    "amount_label.grid(row=0, column=0, sticky=\"w\")\n",
    "amount_entry.grid(row=1, column=0, sticky=\"we\")\n",
    "from_label.grid(row=0, column=1, sticky=\"w\")\n",
    "from_box.grid(row=1, column=1, sticky=\"we\")\n",
    "to_label.grid(row=0, column=2, sticky=\"w\")\n",
    "to_box.grid(row=1, column=2, sticky=\"we\")\n",
    "\n",
    "result_label = tk.Label(frame, text=\"Ergebnis...\", font=(\"Arial\", 12))\n",
    "result_label.grid(row=2, column=0, sticky=\"w\", columnspan=2, pady=(20,10))\n",
    "\n",
    "ttk.Button(frame, text=\"Umrechnen\", command=convert_currency).grid(row=2, column=2, sticky=\"ew\", pady=(20,10))\n",
    "\n",
    "frame.columnconfigure((0,1,2), weight=1)\n",
    "\n",
    "root.mainloop()"
   ]
  },
  {
   "cell_type": "code",
   "execution_count": 3,
   "id": "8ad51bfe-6084-43d7-9ac8-ecb94049de0c",
   "metadata": {},
   "outputs": [],
   "source": [
    "def get_currencies():\n",
    "    response = requests.get(f\"https://v6.exchangerate-api.com/v6/{api_key}/codes\")\n",
    "    data = response.json()\n",
    "    currencies = data[\"supported_codes\"]\n",
    "    return {f'{abbr} - {name}': abbr for abbr, name in currencies}"
   ]
  },
  {
   "cell_type": "code",
   "execution_count": 5,
   "id": "0e2e0962-07d8-43ac-ab70-6e45dc9e2504",
   "metadata": {},
   "outputs": [
    {
     "data": {
      "text/plain": [
       "{'AED - UAE Dirham': 'AED',\n",
       " 'AFN - Afghan Afghani': 'AFN',\n",
       " 'ALL - Albanian Lek': 'ALL',\n",
       " 'AMD - Armenian Dram': 'AMD',\n",
       " 'ANG - Netherlands Antillian Guilder': 'ANG',\n",
       " 'AOA - Angolan Kwanza': 'AOA',\n",
       " 'ARS - Argentine Peso': 'ARS',\n",
       " 'AUD - Australian Dollar': 'AUD',\n",
       " 'AWG - Aruban Florin': 'AWG',\n",
       " 'AZN - Azerbaijani Manat': 'AZN',\n",
       " 'BAM - Bosnia and Herzegovina Convertible Mark': 'BAM',\n",
       " 'BBD - Barbados Dollar': 'BBD',\n",
       " 'BDT - Bangladeshi Taka': 'BDT',\n",
       " 'BGN - Bulgarian Lev': 'BGN',\n",
       " 'BHD - Bahraini Dinar': 'BHD',\n",
       " 'BIF - Burundian Franc': 'BIF',\n",
       " 'BMD - Bermudian Dollar': 'BMD',\n",
       " 'BND - Brunei Dollar': 'BND',\n",
       " 'BOB - Bolivian Boliviano': 'BOB',\n",
       " 'BRL - Brazilian Real': 'BRL',\n",
       " 'BSD - Bahamian Dollar': 'BSD',\n",
       " 'BTN - Bhutanese Ngultrum': 'BTN',\n",
       " 'BWP - Botswana Pula': 'BWP',\n",
       " 'BYN - Belarusian Ruble': 'BYN',\n",
       " 'BZD - Belize Dollar': 'BZD',\n",
       " 'CAD - Canadian Dollar': 'CAD',\n",
       " 'CDF - Congolese Franc': 'CDF',\n",
       " 'CHF - Swiss Franc': 'CHF',\n",
       " 'CLP - Chilean Peso': 'CLP',\n",
       " 'CNY - Chinese Renminbi': 'CNY',\n",
       " 'COP - Colombian Peso': 'COP',\n",
       " 'CRC - Costa Rican Colon': 'CRC',\n",
       " 'CUP - Cuban Peso': 'CUP',\n",
       " 'CVE - Cape Verdean Escudo': 'CVE',\n",
       " 'CZK - Czech Koruna': 'CZK',\n",
       " 'DJF - Djiboutian Franc': 'DJF',\n",
       " 'DKK - Danish Krone': 'DKK',\n",
       " 'DOP - Dominican Peso': 'DOP',\n",
       " 'DZD - Algerian Dinar': 'DZD',\n",
       " 'EGP - Egyptian Pound': 'EGP',\n",
       " 'ERN - Eritrean Nakfa': 'ERN',\n",
       " 'ETB - Ethiopian Birr': 'ETB',\n",
       " 'EUR - Euro': 'EUR',\n",
       " 'FJD - Fiji Dollar': 'FJD',\n",
       " 'FKP - Falkland Islands Pound': 'FKP',\n",
       " 'FOK - Faroese Króna': 'FOK',\n",
       " 'GBP - Pound Sterling': 'GBP',\n",
       " 'GEL - Georgian Lari': 'GEL',\n",
       " 'GGP - Guernsey Pound': 'GGP',\n",
       " 'GHS - Ghanaian Cedi': 'GHS',\n",
       " 'GIP - Gibraltar Pound': 'GIP',\n",
       " 'GMD - Gambian Dalasi': 'GMD',\n",
       " 'GNF - Guinean Franc': 'GNF',\n",
       " 'GTQ - Guatemalan Quetzal': 'GTQ',\n",
       " 'GYD - Guyanese Dollar': 'GYD',\n",
       " 'HKD - Hong Kong Dollar': 'HKD',\n",
       " 'HNL - Honduran Lempira': 'HNL',\n",
       " 'HRK - Croatian Kuna': 'HRK',\n",
       " 'HTG - Haitian Gourde': 'HTG',\n",
       " 'HUF - Hungarian Forint': 'HUF',\n",
       " 'IDR - Indonesian Rupiah': 'IDR',\n",
       " 'ILS - Israeli New Shekel': 'ILS',\n",
       " 'IMP - Manx Pound': 'IMP',\n",
       " 'INR - Indian Rupee': 'INR',\n",
       " 'IQD - Iraqi Dinar': 'IQD',\n",
       " 'IRR - Iranian Rial': 'IRR',\n",
       " 'ISK - Icelandic Króna': 'ISK',\n",
       " 'JEP - Jersey Pound': 'JEP',\n",
       " 'JMD - Jamaican Dollar': 'JMD',\n",
       " 'JOD - Jordanian Dinar': 'JOD',\n",
       " 'JPY - Japanese Yen': 'JPY',\n",
       " 'KES - Kenyan Shilling': 'KES',\n",
       " 'KGS - Kyrgyzstani Som': 'KGS',\n",
       " 'KHR - Cambodian Riel': 'KHR',\n",
       " 'KID - Kiribati Dollar': 'KID',\n",
       " 'KMF - Comorian Franc': 'KMF',\n",
       " 'KRW - South Korean Won': 'KRW',\n",
       " 'KWD - Kuwaiti Dinar': 'KWD',\n",
       " 'KYD - Cayman Islands Dollar': 'KYD',\n",
       " 'KZT - Kazakhstani Tenge': 'KZT',\n",
       " 'LAK - Lao Kip': 'LAK',\n",
       " 'LBP - Lebanese Pound': 'LBP',\n",
       " 'LKR - Sri Lanka Rupee': 'LKR',\n",
       " 'LRD - Liberian Dollar': 'LRD',\n",
       " 'LSL - Lesotho Loti': 'LSL',\n",
       " 'LYD - Libyan Dinar': 'LYD',\n",
       " 'MAD - Moroccan Dirham': 'MAD',\n",
       " 'MDL - Moldovan Leu': 'MDL',\n",
       " 'MGA - Malagasy Ariary': 'MGA',\n",
       " 'MKD - Macedonian Denar': 'MKD',\n",
       " 'MMK - Burmese Kyat': 'MMK',\n",
       " 'MNT - Mongolian Tögrög': 'MNT',\n",
       " 'MOP - Macanese Pataca': 'MOP',\n",
       " 'MRU - Mauritanian Ouguiya': 'MRU',\n",
       " 'MUR - Mauritian Rupee': 'MUR',\n",
       " 'MVR - Maldivian Rufiyaa': 'MVR',\n",
       " 'MWK - Malawian Kwacha': 'MWK',\n",
       " 'MXN - Mexican Peso': 'MXN',\n",
       " 'MYR - Malaysian Ringgit': 'MYR',\n",
       " 'MZN - Mozambican Metical': 'MZN',\n",
       " 'NAD - Namibian Dollar': 'NAD',\n",
       " 'NGN - Nigerian Naira': 'NGN',\n",
       " 'NIO - Nicaraguan Córdoba': 'NIO',\n",
       " 'NOK - Norwegian Krone': 'NOK',\n",
       " 'NPR - Nepalese Rupee': 'NPR',\n",
       " 'NZD - New Zealand Dollar': 'NZD',\n",
       " 'OMR - Omani Rial': 'OMR',\n",
       " 'PAB - Panamanian Balboa': 'PAB',\n",
       " 'PEN - Peruvian Sol': 'PEN',\n",
       " 'PGK - Papua New Guinean Kina': 'PGK',\n",
       " 'PHP - Philippine Peso': 'PHP',\n",
       " 'PKR - Pakistani Rupee': 'PKR',\n",
       " 'PLN - Polish Złoty': 'PLN',\n",
       " 'PYG - Paraguayan Guaraní': 'PYG',\n",
       " 'QAR - Qatari Riyal': 'QAR',\n",
       " 'RON - Romanian Leu': 'RON',\n",
       " 'RSD - Serbian Dinar': 'RSD',\n",
       " 'RUB - Russian Ruble': 'RUB',\n",
       " 'RWF - Rwandan Franc': 'RWF',\n",
       " 'SAR - Saudi Riyal': 'SAR',\n",
       " 'SBD - Solomon Islands Dollar': 'SBD',\n",
       " 'SCR - Seychellois Rupee': 'SCR',\n",
       " 'SDG - Sudanese Pound': 'SDG',\n",
       " 'SEK - Swedish Krona': 'SEK',\n",
       " 'SGD - Singapore Dollar': 'SGD',\n",
       " 'SHP - Saint Helena Pound': 'SHP',\n",
       " 'SLE - Sierra Leonean Leone': 'SLE',\n",
       " 'SLL - Sierra Leonean Leone': 'SLL',\n",
       " 'SOS - Somali Shilling': 'SOS',\n",
       " 'SRD - Surinamese Dollar': 'SRD',\n",
       " 'SSP - South Sudanese Pound': 'SSP',\n",
       " 'STN - São Tomé and Príncipe Dobra': 'STN',\n",
       " 'SYP - Syrian Pound': 'SYP',\n",
       " 'SZL - Eswatini Lilangeni': 'SZL',\n",
       " 'THB - Thai Baht': 'THB',\n",
       " 'TJS - Tajikistani Somoni': 'TJS',\n",
       " 'TMT - Turkmenistan Manat': 'TMT',\n",
       " 'TND - Tunisian Dinar': 'TND',\n",
       " 'TOP - Tongan Paʻanga': 'TOP',\n",
       " 'TRY - Turkish Lira': 'TRY',\n",
       " 'TTD - Trinidad and Tobago Dollar': 'TTD',\n",
       " 'TVD - Tuvaluan Dollar': 'TVD',\n",
       " 'TWD - New Taiwan Dollar': 'TWD',\n",
       " 'TZS - Tanzanian Shilling': 'TZS',\n",
       " 'UAH - Ukrainian Hryvnia': 'UAH',\n",
       " 'UGX - Ugandan Shilling': 'UGX',\n",
       " 'USD - United States Dollar': 'USD',\n",
       " 'UYU - Uruguayan Peso': 'UYU',\n",
       " \"UZS - Uzbekistani So'm\": 'UZS',\n",
       " 'VES - Venezuelan Bolívar Soberano': 'VES',\n",
       " 'VND - Vietnamese Đồng': 'VND',\n",
       " 'VUV - Vanuatu Vatu': 'VUV',\n",
       " 'WST - Samoan Tālā': 'WST',\n",
       " 'XAF - Central African CFA Franc': 'XAF',\n",
       " 'XCD - East Caribbean Dollar': 'XCD',\n",
       " 'XDR - Special Drawing Rights': 'XDR',\n",
       " 'XOF - West African CFA franc': 'XOF',\n",
       " 'XPF - CFP Franc': 'XPF',\n",
       " 'YER - Yemeni Rial': 'YER',\n",
       " 'ZAR - South African Rand': 'ZAR',\n",
       " 'ZMW - Zambian Kwacha': 'ZMW',\n",
       " 'ZWL - Zimbabwean Dollar': 'ZWL'}"
      ]
     },
     "execution_count": 5,
     "metadata": {},
     "output_type": "execute_result"
    }
   ],
   "source": [
    "get_currencies()"
   ]
  },
  {
   "cell_type": "code",
   "execution_count": 11,
   "id": "760c422d-8fb3-4a36-8f26-8858a4fa214d",
   "metadata": {},
   "outputs": [
    {
     "data": {
      "text/plain": [
       "{'Horst Klein - Berlin': 'Horst Klein',\n",
       " 'Franziska Ohlen - Köln': 'Franziska Ohlen',\n",
       " 'Erika Gummischuh - London': 'Erika Gummischuh'}"
      ]
     },
     "execution_count": 11,
     "metadata": {},
     "output_type": "execute_result"
    }
   ],
   "source": [
    "personen = [\n",
    "    [\"Horst Klein\", \"Berlin\"],\n",
    "    [\"Franziska Ohlen\", \"Köln\"],\n",
    "    [\"Erika Gummischuh\", \"London\"],\n",
    "]\n",
    "way_1 = {f'{person[0]} - {person[1]}': person[0] for person in personen}\n",
    "way_1"
   ]
  },
  {
   "cell_type": "code",
   "execution_count": 12,
   "id": "c039c24d-f84b-4011-9b76-25cb61229260",
   "metadata": {},
   "outputs": [],
   "source": [
    "name, ort = [\"Horst Klein\", \"Berlin\"]"
   ]
  },
  {
   "cell_type": "code",
   "execution_count": 13,
   "id": "d833d0af-0be0-4ddb-a74b-7fca484ef898",
   "metadata": {},
   "outputs": [
    {
     "data": {
      "text/plain": [
       "'Horst Klein'"
      ]
     },
     "execution_count": 13,
     "metadata": {},
     "output_type": "execute_result"
    }
   ],
   "source": [
    "name"
   ]
  },
  {
   "cell_type": "code",
   "execution_count": 14,
   "id": "874fe37b-7daa-4060-92b5-c19639773f92",
   "metadata": {},
   "outputs": [
    {
     "data": {
      "text/plain": [
       "'Berlin'"
      ]
     },
     "execution_count": 14,
     "metadata": {},
     "output_type": "execute_result"
    }
   ],
   "source": [
    "ort"
   ]
  },
  {
   "cell_type": "code",
   "execution_count": 15,
   "id": "b4765d34-b390-4666-b64e-b552fdf15468",
   "metadata": {},
   "outputs": [],
   "source": [
    "currency = [\"ALL\",\"Albanian Lek\"]"
   ]
  },
  {
   "cell_type": "code",
   "execution_count": 16,
   "id": "788db5d5-89af-44ae-ba90-a04240847168",
   "metadata": {},
   "outputs": [
    {
     "data": {
      "text/plain": [
       "'ALL'"
      ]
     },
     "execution_count": 16,
     "metadata": {},
     "output_type": "execute_result"
    }
   ],
   "source": [
    "currency[0] "
   ]
  },
  {
   "cell_type": "code",
   "execution_count": 17,
   "id": "0ed39a77-fcaf-4dda-8b2f-f8f7001a624e",
   "metadata": {},
   "outputs": [
    {
     "data": {
      "text/plain": [
       "'Albanian Lek'"
      ]
     },
     "execution_count": 17,
     "metadata": {},
     "output_type": "execute_result"
    }
   ],
   "source": [
    "currency[1]"
   ]
  },
  {
   "cell_type": "code",
   "execution_count": 18,
   "id": "4fcc6ad5-025c-48ec-a952-2c4dd6480351",
   "metadata": {},
   "outputs": [],
   "source": [
    "abkuerzung, name = [\"ALL\",\"Albanian Lek\"]"
   ]
  },
  {
   "cell_type": "code",
   "execution_count": 19,
   "id": "ce042bc9-1c30-41f3-bdcd-a3b87d1fac1c",
   "metadata": {},
   "outputs": [
    {
     "data": {
      "text/plain": [
       "'ALL'"
      ]
     },
     "execution_count": 19,
     "metadata": {},
     "output_type": "execute_result"
    }
   ],
   "source": [
    "abkuerzung # currency[0]"
   ]
  },
  {
   "cell_type": "code",
   "execution_count": 20,
   "id": "af530076-5664-421e-a359-01001c3a8f86",
   "metadata": {},
   "outputs": [
    {
     "data": {
      "text/plain": [
       "'Albanian Lek'"
      ]
     },
     "execution_count": 20,
     "metadata": {},
     "output_type": "execute_result"
    }
   ],
   "source": [
    "name # currency[1]"
   ]
  },
  {
   "cell_type": "code",
   "execution_count": null,
   "id": "3ebd3e2b-fecf-4c22-8324-079811525479",
   "metadata": {},
   "outputs": [],
   "source": []
  }
 ],
 "metadata": {
  "kernelspec": {
   "display_name": "Python 3 (ipykernel)",
   "language": "python",
   "name": "python3"
  },
  "language_info": {
   "codemirror_mode": {
    "name": "ipython",
    "version": 3
   },
   "file_extension": ".py",
   "mimetype": "text/x-python",
   "name": "python",
   "nbconvert_exporter": "python",
   "pygments_lexer": "ipython3",
   "version": "3.12.8"
  }
 },
 "nbformat": 4,
 "nbformat_minor": 5
}
