{
 "cells": [
  {
   "cell_type": "markdown",
   "id": "dd2cbf34-b253-4452-93b5-d50d10faa2a7",
   "metadata": {},
   "source": [
    "# Taschenrechner App mit TkInter"
   ]
  },
  {
   "cell_type": "code",
   "execution_count": 23,
   "id": "cf285066-4b0a-4a3e-9b9b-7abe537dee82",
   "metadata": {},
   "outputs": [],
   "source": [
    "import tkinter as tk\n",
    "\n",
    "# Globale Variablen für die Berechnung\n",
    "erste_zahl = None\n",
    "operator = None\n",
    "\n",
    "# Funktionen für Button Events\n",
    "def button_click(zahl):\n",
    "    # Füge Ziffer dem Eingabefeld hinzu\n",
    "    entry.insert(tk.END, str(zahl))\n",
    "\n",
    "def button_operator(op):\n",
    "    \"\"\"setze globale Variablen und ändere den Eintrag im Entry Field\n",
    "    \n",
    "    diese Funktion Operator Argument\n",
    "    \"\"\"\n",
    "    global erste_zahl, operator\n",
    "    current_entry = entry.get()\n",
    "    if operator is None:\n",
    "        erste_zahl = float(current_entry)\n",
    "        operator = op\n",
    "        entry.insert(tk.END, op)\n",
    "    \n",
    "\n",
    "def button_gleich():\n",
    "    global erste_zahl, operator\n",
    "    current_entry = entry.get()\n",
    "    zweite_zahl = float(current_entry.split(operator)[1])\n",
    "    if operator == \"+\":\n",
    "        ergebnis = erste_zahl + zweite_zahl\n",
    "    elif operator == \"-\":\n",
    "        ergebnis = erste_zahl - zweite_zahl\n",
    "    elif operator == \"*\":\n",
    "        ergebnis = erste_zahl * zweite_zahl\n",
    "    elif operator == \"/\":\n",
    "        ergebnis = erste_zahl / zweite_zahl\n",
    "\n",
    "    entry.delete(0, tk.END)\n",
    "    entry.insert(0, ergebnis)\n",
    "\n",
    "    # Reset Werte\n",
    "    erste_zahl = None\n",
    "    operator = None\n",
    "\n",
    "def button_clear():\n",
    "    # Setzt das Entry Feld und die globalen Variablen auf Ausgangswert zurück\n",
    "    global erste_zahl, operator\n",
    "    erste_zahl = None\n",
    "    operator = None\n",
    "    entry.delete(0, tk.END)\n",
    "\n",
    "root = tk.Tk()\n",
    "root.title(\"Taschenrechner\")\n",
    "\n",
    "# Eingabefeld\n",
    "entry = tk.Entry(root, font=('Arial', 24), borderwidth=2, relief=\"sunken\", justify=\"right\")\n",
    "entry.grid(row=0, column=0, columnspan=4, padx=10, pady=10)\n",
    "\n",
    "# Tasten erstellen\n",
    "tasten = [\n",
    "    ('7', 1, 0), ('8', 1, 1), ('9', 1, 2), ('/', 1, 3),\n",
    "    ('4', 2, 0), ('5', 2, 1), ('6', 2, 2), ('*', 2, 3),\n",
    "    ('1', 3, 0), ('2', 3, 1), ('3', 3, 2), ('-', 3, 3),\n",
    "    ('C', 4, 0), ('0', 4, 1), ('=', 4, 2), ('+', 4, 3),\n",
    "]\n",
    "\n",
    "for (text, row, col) in tasten:\n",
    "    if text.isdigit():\n",
    "        btn = tk.Button(root, text=text, font=('Arial', 18), command=lambda t=text: button_click(t))\n",
    "    elif text == \"C\":\n",
    "        btn = tk.Button(root, text=text, font=('Arial', 18), command=button_clear)\n",
    "    elif text == \"=\":\n",
    "        btn = tk.Button(root, text=text, font=('Arial', 18), command=button_gleich)\n",
    "    else:\n",
    "        btn = tk.Button(root, text=text, font=('Arial', 18), command=lambda t=text: button_operator(t))\n",
    "    btn.grid(row=row, column=col, padx=5, pady=5, sticky=\"nsew\")\n",
    "\n",
    "# Layout mitwachsen lassen\n",
    "for i in range(5):\n",
    "    root.grid_rowconfigure(i, weight=1)\n",
    "    root.grid_columnconfigure(i, weight=1)\n",
    "\n",
    "root.mainloop()"
   ]
  },
  {
   "cell_type": "code",
   "execution_count": 12,
   "id": "3e7f2a8f-48d9-4b92-9383-bb5ec75b0bba",
   "metadata": {},
   "outputs": [
    {
     "name": "stdout",
     "output_type": "stream",
     "text": [
      "None\n"
     ]
    }
   ],
   "source": [
    "print(erste_zahl)"
   ]
  },
  {
   "cell_type": "code",
   "execution_count": 13,
   "id": "d4631ead-02f0-4575-aa03-c90ce7c31309",
   "metadata": {},
   "outputs": [
    {
     "name": "stdout",
     "output_type": "stream",
     "text": [
      "None\n"
     ]
    }
   ],
   "source": [
    "print(operator)"
   ]
  },
  {
   "cell_type": "code",
   "execution_count": 22,
   "id": "68d384d9-72ab-4b81-9ca6-3af99c8c9623",
   "metadata": {},
   "outputs": [
    {
     "name": "stdout",
     "output_type": "stream",
     "text": [
      "Help on built-in function print in module builtins:\n",
      "\n",
      "print(*args, sep=' ', end='\\n', file=None, flush=False)\n",
      "    Prints the values to a stream, or to sys.stdout by default.\n",
      "\n",
      "    sep\n",
      "      string inserted between values, default a space.\n",
      "    end\n",
      "      string appended after the last value, default a newline.\n",
      "    file\n",
      "      a file-like object (stream); defaults to the current sys.stdout.\n",
      "    flush\n",
      "      whether to forcibly flush the stream.\n",
      "\n"
     ]
    }
   ],
   "source": [
    "help(print)"
   ]
  },
  {
   "cell_type": "code",
   "execution_count": 24,
   "id": "506e715d-03f0-4719-9d0d-43234894335f",
   "metadata": {},
   "outputs": [
    {
     "name": "stdout",
     "output_type": "stream",
     "text": [
      "Help on function button_operator in module __main__:\n",
      "\n",
      "button_operator(op)\n",
      "    setze globale Variablen und ändere den Eintrag im Entry Field\n",
      "\n",
      "    diese Funktion Operator Argument\n",
      "\n"
     ]
    }
   ],
   "source": [
    "help(button_operator)"
   ]
  },
  {
   "cell_type": "code",
   "execution_count": null,
   "id": "69760ac2-b266-4bfa-bc57-38f48e971f70",
   "metadata": {},
   "outputs": [],
   "source": []
  }
 ],
 "metadata": {
  "kernelspec": {
   "display_name": "Python 3 (ipykernel)",
   "language": "python",
   "name": "python3"
  },
  "language_info": {
   "codemirror_mode": {
    "name": "ipython",
    "version": 3
   },
   "file_extension": ".py",
   "mimetype": "text/x-python",
   "name": "python",
   "nbconvert_exporter": "python",
   "pygments_lexer": "ipython3",
   "version": "3.12.8"
  }
 },
 "nbformat": 4,
 "nbformat_minor": 5
}
