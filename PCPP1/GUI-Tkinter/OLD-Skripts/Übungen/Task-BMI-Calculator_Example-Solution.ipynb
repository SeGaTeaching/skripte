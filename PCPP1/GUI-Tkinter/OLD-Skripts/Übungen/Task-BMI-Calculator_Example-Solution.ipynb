{
 "cells": [
  {
   "cell_type": "code",
   "execution_count": 14,
   "id": "221626f3-58f8-4268-9d08-4d337e773d38",
   "metadata": {},
   "outputs": [],
   "source": [
    "import tkinter as tk\n",
    "from tkinter import messagebox"
   ]
  },
  {
   "cell_type": "code",
   "execution_count": 31,
   "id": "6ef82401-203c-4639-8e72-42e48cd72fc0",
   "metadata": {},
   "outputs": [],
   "source": [
    "def calculate_bmi():\n",
    "    try:\n",
    "        weight = float(entry_weight.get())\n",
    "        height = float(entry_height.get())\n",
    "        if weight <= 0 or height <= 0:\n",
    "            raise ValueError('Gewicht und Größe dürfen nicht null sein')\n",
    "        bmi = round(weight / (height**2), 2)\n",
    "\n",
    "        if bmi <= 18.5:\n",
    "            status = \"Untergewicht\"\n",
    "            label_result[\"fg\"] = 'yellow'\n",
    "        elif 18.5 <= bmi <= 24.9:\n",
    "            status = \"Normalgewicht\"\n",
    "            label_result[\"fg\"] = 'green'\n",
    "        else:\n",
    "            status = \"Übergewicht\"\n",
    "            label_result[\"fg\"] = 'red'\n",
    "\n",
    "        label_result['text'] = f' BMI: {bmi}\\nStatus: {status}'\n",
    "        messagebox.showinfo('BMI Ergebnis', f'Hallo Dein BMI ist {bmi}\\n und damit hast Du {status}')\n",
    "    except ValueError:\n",
    "        messagebox.showwarning('Eingabefehler', 'Bitte nur Zahlen größer 0 eingeben')\n",
    "        \n",
    "\n",
    "root = tk.Tk()\n",
    "root.title(\"BMI - Calculator\")\n",
    "root.geometry(\"400x300\")\n",
    "\n",
    "label_weight = tk.Label(root, text=\"Gewicht (kg)\", font=(\"Arial\", 14))\n",
    "entry_weight = tk.Entry(root, width=20, placeholder=\"Gewicht eingeben\", font=(\"Arial\", 14), justify='center')\n",
    "\n",
    "label_height = tk.Label(root, text=\"Größe (m)\", font=(\"Arial\", 14))\n",
    "entry_height = tk.Entry(\n",
    "                        root,\n",
    "                        width=20,\n",
    "                        placeholder=\"Größe in m eingeben\",\n",
    "                        font=(\"Arial\", 14),\n",
    "                        justify='center'\n",
    "                        )\n",
    "\n",
    "button_calculate = tk.Button(root, text=\"BMI berechnen\", command=calculate_bmi, font=(\"Arial\", 14))\n",
    "\n",
    "label_result = tk.Label(root, text=\"\", font=(\"Arial\", 18))\n",
    "\n",
    "label_weight.pack(pady=(15,5))\n",
    "entry_weight.pack()\n",
    "label_height.pack(pady=(15,5))\n",
    "entry_height.pack()\n",
    "button_calculate.pack(pady=(15))\n",
    "label_result.pack()\n",
    "\n",
    "root.mainloop()"
   ]
  },
  {
   "cell_type": "code",
   "execution_count": null,
   "id": "66721ff9-64c2-4ec3-8e76-0fd403ba20ef",
   "metadata": {},
   "outputs": [],
   "source": []
  }
 ],
 "metadata": {
  "kernelspec": {
   "display_name": "Python 3 (ipykernel)",
   "language": "python",
   "name": "python3"
  },
  "language_info": {
   "codemirror_mode": {
    "name": "ipython",
    "version": 3
   },
   "file_extension": ".py",
   "mimetype": "text/x-python",
   "name": "python",
   "nbconvert_exporter": "python",
   "pygments_lexer": "ipython3",
   "version": "3.12.8"
  }
 },
 "nbformat": 4,
 "nbformat_minor": 5
}
